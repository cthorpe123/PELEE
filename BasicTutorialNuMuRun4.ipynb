{
 "cells": [
  {
   "cell_type": "code",
   "execution_count": 1,
   "metadata": {},
   "outputs": [],
   "source": [
    "import localSettings as ls\n",
    "from load_data_run123 import *\n",
    "from unblinding_far_sideband import *\n",
    "from matplotlib import pyplot as plt"
   ]
  },
  {
   "cell_type": "code",
   "execution_count": 4,
   "metadata": {},
   "outputs": [
    {
     "ename": "FileNotFoundError",
     "evalue": "[Errno 2] No such file or directory: '/Users/dcaratelli/data/searchingfornues/v08_00_00_63/run4/1121/nslice/prod_extunbiased_standard_nu_overlay_run4a_reco2_WC_v08_00_00_63_pndr_reco2_reco2_goodruns_goodbeam.root'",
     "output_type": "error",
     "traceback": [
      "\u001b[0;31m---------------------------------------------------------------------------\u001b[0m",
      "\u001b[0;31mFileNotFoundError\u001b[0m                         Traceback (most recent call last)",
      "\u001b[0;32m/tmp/ipykernel_13372/2793106101.py\u001b[0m in \u001b[0;36m<module>\u001b[0;34m\u001b[0m\n\u001b[1;32m     39\u001b[0m \u001b[0;31m#'''\u001b[0m\u001b[0;34m\u001b[0m\u001b[0;34m\u001b[0m\u001b[0;34m\u001b[0m\u001b[0m\n\u001b[1;32m     40\u001b[0m \u001b[0;34m\u001b[0m\u001b[0m\n\u001b[0;32m---> 41\u001b[0;31m \u001b[0munu\u001b[0m   \u001b[0;34m=\u001b[0m \u001b[0muproot\u001b[0m\u001b[0;34m.\u001b[0m\u001b[0mopen\u001b[0m\u001b[0;34m(\u001b[0m\u001b[0mfnu\u001b[0m\u001b[0;34m)\u001b[0m\u001b[0;34m[\u001b[0m\u001b[0mfold\u001b[0m\u001b[0;34m]\u001b[0m\u001b[0;34m[\u001b[0m\u001b[0mtree\u001b[0m\u001b[0;34m]\u001b[0m\u001b[0;34m\u001b[0m\u001b[0;34m\u001b[0m\u001b[0m\n\u001b[0m\u001b[1;32m     42\u001b[0m \u001b[0muext\u001b[0m  \u001b[0;34m=\u001b[0m \u001b[0muproot\u001b[0m\u001b[0;34m.\u001b[0m\u001b[0mopen\u001b[0m\u001b[0;34m(\u001b[0m\u001b[0mfext\u001b[0m\u001b[0;34m)\u001b[0m\u001b[0;34m[\u001b[0m\u001b[0mfold\u001b[0m\u001b[0;34m]\u001b[0m\u001b[0;34m[\u001b[0m\u001b[0mtree\u001b[0m\u001b[0;34m]\u001b[0m\u001b[0;34m\u001b[0m\u001b[0;34m\u001b[0m\u001b[0m\n\u001b[1;32m     43\u001b[0m \u001b[0mudata\u001b[0m \u001b[0;34m=\u001b[0m \u001b[0muproot\u001b[0m\u001b[0;34m.\u001b[0m\u001b[0mopen\u001b[0m\u001b[0;34m(\u001b[0m\u001b[0mfdata\u001b[0m\u001b[0;34m)\u001b[0m\u001b[0;34m[\u001b[0m\u001b[0mfold\u001b[0m\u001b[0;34m]\u001b[0m\u001b[0;34m[\u001b[0m\u001b[0mtree\u001b[0m\u001b[0;34m]\u001b[0m\u001b[0;34m\u001b[0m\u001b[0;34m\u001b[0m\u001b[0m\n",
      "\u001b[0;32m/uboone/app/users/cthorpe/Mambaforge/envs/python3LEE/lib/python3.7/site-packages/uproot/rootio.py\u001b[0m in \u001b[0;36mopen\u001b[0;34m(path, localsource, xrootdsource, httpsource, **options)\u001b[0m\n\u001b[1;32m     52\u001b[0m         \u001b[0;32melse\u001b[0m\u001b[0;34m:\u001b[0m\u001b[0;34m\u001b[0m\u001b[0;34m\u001b[0m\u001b[0m\n\u001b[1;32m     53\u001b[0m             \u001b[0mopenfcn\u001b[0m \u001b[0;34m=\u001b[0m \u001b[0mlocalsource\u001b[0m\u001b[0;34m\u001b[0m\u001b[0;34m\u001b[0m\u001b[0m\n\u001b[0;32m---> 54\u001b[0;31m         \u001b[0;32mreturn\u001b[0m \u001b[0mROOTDirectory\u001b[0m\u001b[0;34m.\u001b[0m\u001b[0mread\u001b[0m\u001b[0;34m(\u001b[0m\u001b[0mopenfcn\u001b[0m\u001b[0;34m(\u001b[0m\u001b[0mpath\u001b[0m\u001b[0;34m)\u001b[0m\u001b[0;34m,\u001b[0m \u001b[0;34m**\u001b[0m\u001b[0moptions\u001b[0m\u001b[0;34m)\u001b[0m\u001b[0;34m\u001b[0m\u001b[0;34m\u001b[0m\u001b[0m\n\u001b[0m\u001b[1;32m     55\u001b[0m \u001b[0;34m\u001b[0m\u001b[0m\n\u001b[1;32m     56\u001b[0m     \u001b[0;32melif\u001b[0m \u001b[0m_bytesid\u001b[0m\u001b[0;34m(\u001b[0m\u001b[0mparsed\u001b[0m\u001b[0;34m.\u001b[0m\u001b[0mscheme\u001b[0m\u001b[0;34m)\u001b[0m \u001b[0;34m==\u001b[0m \u001b[0;34mb\"root\"\u001b[0m\u001b[0;34m:\u001b[0m\u001b[0;34m\u001b[0m\u001b[0;34m\u001b[0m\u001b[0m\n",
      "\u001b[0;32m/uboone/app/users/cthorpe/Mambaforge/envs/python3LEE/lib/python3.7/site-packages/uproot/rootio.py\u001b[0m in \u001b[0;36m<lambda>\u001b[0;34m(path)\u001b[0m\n\u001b[1;32m     49\u001b[0m                 \u001b[0;32mif\u001b[0m \u001b[0mn\u001b[0m \u001b[0;32min\u001b[0m \u001b[0moptions\u001b[0m\u001b[0;34m:\u001b[0m\u001b[0;34m\u001b[0m\u001b[0;34m\u001b[0m\u001b[0m\n\u001b[1;32m     50\u001b[0m                     \u001b[0mkwargs\u001b[0m\u001b[0;34m[\u001b[0m\u001b[0mn\u001b[0m\u001b[0;34m]\u001b[0m \u001b[0;34m=\u001b[0m \u001b[0moptions\u001b[0m\u001b[0;34m.\u001b[0m\u001b[0mpop\u001b[0m\u001b[0;34m(\u001b[0m\u001b[0mn\u001b[0m\u001b[0;34m)\u001b[0m\u001b[0;34m\u001b[0m\u001b[0;34m\u001b[0m\u001b[0m\n\u001b[0;32m---> 51\u001b[0;31m             \u001b[0mopenfcn\u001b[0m \u001b[0;34m=\u001b[0m \u001b[0;32mlambda\u001b[0m \u001b[0mpath\u001b[0m\u001b[0;34m:\u001b[0m \u001b[0mMemmapSource\u001b[0m\u001b[0;34m(\u001b[0m\u001b[0mpath\u001b[0m\u001b[0;34m,\u001b[0m \u001b[0;34m**\u001b[0m\u001b[0mkwargs\u001b[0m\u001b[0;34m)\u001b[0m\u001b[0;34m\u001b[0m\u001b[0;34m\u001b[0m\u001b[0m\n\u001b[0m\u001b[1;32m     52\u001b[0m         \u001b[0;32melse\u001b[0m\u001b[0;34m:\u001b[0m\u001b[0;34m\u001b[0m\u001b[0;34m\u001b[0m\u001b[0m\n\u001b[1;32m     53\u001b[0m             \u001b[0mopenfcn\u001b[0m \u001b[0;34m=\u001b[0m \u001b[0mlocalsource\u001b[0m\u001b[0;34m\u001b[0m\u001b[0;34m\u001b[0m\u001b[0m\n",
      "\u001b[0;32m/uboone/app/users/cthorpe/Mambaforge/envs/python3LEE/lib/python3.7/site-packages/uproot/source/memmap.py\u001b[0m in \u001b[0;36m__init__\u001b[0;34m(self, path)\u001b[0m\n\u001b[1;32m     19\u001b[0m     \u001b[0;32mdef\u001b[0m \u001b[0m__init__\u001b[0m\u001b[0;34m(\u001b[0m\u001b[0mself\u001b[0m\u001b[0;34m,\u001b[0m \u001b[0mpath\u001b[0m\u001b[0;34m)\u001b[0m\u001b[0;34m:\u001b[0m\u001b[0;34m\u001b[0m\u001b[0;34m\u001b[0m\u001b[0m\n\u001b[1;32m     20\u001b[0m         \u001b[0mself\u001b[0m\u001b[0;34m.\u001b[0m\u001b[0mpath\u001b[0m \u001b[0;34m=\u001b[0m \u001b[0mos\u001b[0m\u001b[0;34m.\u001b[0m\u001b[0mpath\u001b[0m\u001b[0;34m.\u001b[0m\u001b[0mexpanduser\u001b[0m\u001b[0;34m(\u001b[0m\u001b[0mpath\u001b[0m\u001b[0;34m)\u001b[0m\u001b[0;34m\u001b[0m\u001b[0;34m\u001b[0m\u001b[0m\n\u001b[0;32m---> 21\u001b[0;31m         \u001b[0mself\u001b[0m\u001b[0;34m.\u001b[0m\u001b[0m_source\u001b[0m \u001b[0;34m=\u001b[0m \u001b[0mnumpy\u001b[0m\u001b[0;34m.\u001b[0m\u001b[0mmemmap\u001b[0m\u001b[0;34m(\u001b[0m\u001b[0mself\u001b[0m\u001b[0;34m.\u001b[0m\u001b[0mpath\u001b[0m\u001b[0;34m,\u001b[0m \u001b[0mdtype\u001b[0m\u001b[0;34m=\u001b[0m\u001b[0mnumpy\u001b[0m\u001b[0;34m.\u001b[0m\u001b[0muint8\u001b[0m\u001b[0;34m,\u001b[0m \u001b[0mmode\u001b[0m\u001b[0;34m=\u001b[0m\u001b[0;34m\"r\"\u001b[0m\u001b[0;34m)\u001b[0m\u001b[0;34m\u001b[0m\u001b[0;34m\u001b[0m\u001b[0m\n\u001b[0m\u001b[1;32m     22\u001b[0m         \u001b[0mself\u001b[0m\u001b[0;34m.\u001b[0m\u001b[0mclosed\u001b[0m \u001b[0;34m=\u001b[0m \u001b[0;32mFalse\u001b[0m\u001b[0;34m\u001b[0m\u001b[0;34m\u001b[0m\u001b[0m\n\u001b[1;32m     23\u001b[0m \u001b[0;34m\u001b[0m\u001b[0m\n",
      "\u001b[0;32m/uboone/app/users/cthorpe/Mambaforge/envs/python3LEE/lib/python3.7/site-packages/numpy/core/memmap.py\u001b[0m in \u001b[0;36m__new__\u001b[0;34m(subtype, filename, dtype, mode, offset, shape, order)\u001b[0m\n\u001b[1;32m    226\u001b[0m             \u001b[0mf_ctx\u001b[0m \u001b[0;34m=\u001b[0m \u001b[0mnullcontext\u001b[0m\u001b[0;34m(\u001b[0m\u001b[0mfilename\u001b[0m\u001b[0;34m)\u001b[0m\u001b[0;34m\u001b[0m\u001b[0;34m\u001b[0m\u001b[0m\n\u001b[1;32m    227\u001b[0m         \u001b[0;32melse\u001b[0m\u001b[0;34m:\u001b[0m\u001b[0;34m\u001b[0m\u001b[0;34m\u001b[0m\u001b[0m\n\u001b[0;32m--> 228\u001b[0;31m             \u001b[0mf_ctx\u001b[0m \u001b[0;34m=\u001b[0m \u001b[0mopen\u001b[0m\u001b[0;34m(\u001b[0m\u001b[0mos_fspath\u001b[0m\u001b[0;34m(\u001b[0m\u001b[0mfilename\u001b[0m\u001b[0;34m)\u001b[0m\u001b[0;34m,\u001b[0m \u001b[0;34m(\u001b[0m\u001b[0;34m'r'\u001b[0m \u001b[0;32mif\u001b[0m \u001b[0mmode\u001b[0m \u001b[0;34m==\u001b[0m \u001b[0;34m'c'\u001b[0m \u001b[0;32melse\u001b[0m \u001b[0mmode\u001b[0m\u001b[0;34m)\u001b[0m\u001b[0;34m+\u001b[0m\u001b[0;34m'b'\u001b[0m\u001b[0;34m)\u001b[0m\u001b[0;34m\u001b[0m\u001b[0;34m\u001b[0m\u001b[0m\n\u001b[0m\u001b[1;32m    229\u001b[0m \u001b[0;34m\u001b[0m\u001b[0m\n\u001b[1;32m    230\u001b[0m         \u001b[0;32mwith\u001b[0m \u001b[0mf_ctx\u001b[0m \u001b[0;32mas\u001b[0m \u001b[0mfid\u001b[0m\u001b[0;34m:\u001b[0m\u001b[0;34m\u001b[0m\u001b[0;34m\u001b[0m\u001b[0m\n",
      "\u001b[0;31mFileNotFoundError\u001b[0m: [Errno 2] No such file or directory: '/Users/dcaratelli/data/searchingfornues/v08_00_00_63/run4/1121/nslice/prod_extunbiased_standard_nu_overlay_run4a_reco2_WC_v08_00_00_63_pndr_reco2_reco2_goodruns_goodbeam.root'"
     ]
    }
   ],
   "source": [
    "fold = \"nuselection\"\n",
    "tree = \"NeutrinoSelectionFilter\"\n",
    "\n",
    "'''\n",
    "# Run 1\n",
    "PATH = \"/Users/dcaratelli/data/searchingfornues/v08_00_00_48/run1/nslice/\"\n",
    "#PATHDATA = \"/Users/dcaratelli/data/searchingfornues/v08_00_00_48/farsidebands/nslice/\"\n",
    "PATHDATA = \"/Users/dcaratelli/data/searchingfornues/v08_00_00_48/run1/nslice/\"\n",
    "fext = PATH+\"data_extbnb_mcc9.1_v08_00_00_25_reco2_C_all_reco2.root\"\n",
    "#fdata = PATHDATA+\"run1_neutrinoselection_filt_numu_ALL.root\"\n",
    "fdata = PATHDATA+'data_bnb_mcc9.1_v08_00_00_25_reco2_C1_beam_good_reco2_5e19.root'\n",
    "fnu = PATH+\"prodgenie_bnb_nu_uboone_overlay_mcc9.1_v08_00_00_26_filter_run1_reco2_reco2.root\"\n",
    "'''\n",
    "\n",
    "'''\n",
    "# Run 2\n",
    "PATH = \"/Users/dcaratelli/data/searchingfornues/v08_00_00_48/run2/nslice/\"\n",
    "PATHDATA = \"/Users/dcaratelli/data/searchingfornues/v08_00_00_48/farsidebands/nslice/\"\n",
    "fext = PATH+\"data_extbnb_mcc9.1_v08_00_00_25_reco2_D_E_all_reco2.root\"\n",
    "fdata = PATHDATA+\"run2_neutrinoselection_filt_numu_ALL.root\"\n",
    "fnu = PATH+\"prodgenie_bnb_nu_uboone_overlay_mcc9.1_v08_00_00_26_filter_run2_reco2_D1D2_reco2.root\"\n",
    "'''\n",
    "\n",
    "'''\n",
    "# Run 3\n",
    "PATH = \"/Users/dcaratelli/data/searchingfornues/v08_00_00_48/run3/nslice/\"\n",
    "PATHDATA = \"/Users/dcaratelli/data/searchingfornues/v08_00_00_48/farsidebands/nslice/\"\n",
    "fext = PATH+\"data_extbnb_mcc9.1_v08_00_00_25_reco2_F_G_all_reco2.root\"\n",
    "fdata = PATHDATA+\"run3_neutrinoselection_filt_numu_ALL.root\"\n",
    "fnu = PATH+\"prodgenie_bnb_nu_uboone_overlay_mcc9.1_v08_00_00_26_filter_run3_reco2_G_reco2.root\"\n",
    "'''\n",
    "\n",
    "#'''\n",
    "# Run 4\n",
    "PATH = \"/Users/dcaratelli/data/searchingfornues/v08_00_00_63/run4/1121/\"\n",
    "fext = PATH+\"bnb_run4a_ext_reco2_v08_00_00_63_run4a_reco2_all.root\"\n",
    "fdata = PATH+\"bnb_on_run4a_reco2_v08_00_00_63_POT_DEBUG_run4a_reco2_beam_good.root\"\n",
    "fnu = PATH+\"nslice/prod_extunbiased_standard_nu_overlay_run4a_reco2_WC_v08_00_00_63_pndr_reco2_reco2_goodruns_goodbeam.root\"\n",
    "#'''\n",
    "\n",
    "unu   = uproot.open(fnu)[fold][tree]\n",
    "uext  = uproot.open(fext)[fold][tree]\n",
    "udata = uproot.open(fdata)[fold][tree]\n",
    "\n",
    "'''\n",
    "vardict = get_variables()\n",
    "variables = ['_opfilter_pe_beam','_opfilter_pe_veto','nslice','selected',\\\n",
    "             'reco_nu_vtx_sce_x','reco_nu_vtx_sce_y','reco_nu_vtx_sce_z',\n",
    "             'trk_theta','trk_phi','trk_len','trk_score',\n",
    "             'n_showers_contained','n_tracks_contained',\n",
    "             \"contained_fraction\",\"sps_contained_fraction\",\"trk_score\",\n",
    "             'topological_score','flash_pe','flash_time','run','shr_energy_tot_cali',\n",
    "             'nu_pdg','ccnc','category']\n",
    "#variables = vardict['VARIABLES']+vardict['NUEVARS']+vardict['RCVRYVARS'] #this adds many more variables...\n",
    "variables = list(set(variables))\n",
    "'''\n",
    "\n",
    "VARDICT = get_variables()\n",
    "variables = VARDICT['VARIABLES']\n",
    "\n",
    "print(\"nu dataframe\")\n",
    "nu   = unu.pandas.df(variables+VARDICT['WEIGHTS']+VARDICT['SYSTVARS'], flatten=False)\n",
    "print(\"ext dataframe\")\n",
    "ext  = uext.pandas.df(variables, flatten=False)\n",
    "print(\"data dataframe\")\n",
    "data = udata.pandas.df(variables, flatten=False)"
   ]
  },
  {
   "cell_type": "code",
   "execution_count": 2,
   "metadata": {},
   "outputs": [
    {
     "ename": "NameError",
     "evalue": "name 'variables' is not defined",
     "output_type": "error",
     "traceback": [
      "\u001b[0;31m---------------------------------------------------------------------------\u001b[0m",
      "\u001b[0;31mNameError\u001b[0m                                 Traceback (most recent call last)",
      "\u001b[0;32m/tmp/ipykernel_13372/1366548419.py\u001b[0m in \u001b[0;36m<module>\u001b[0;34m\u001b[0m\n\u001b[0;32m----> 1\u001b[0;31m \u001b[0mprint\u001b[0m\u001b[0;34m(\u001b[0m\u001b[0mvariables\u001b[0m\u001b[0;34m)\u001b[0m\u001b[0;34m\u001b[0m\u001b[0;34m\u001b[0m\u001b[0m\n\u001b[0m",
      "\u001b[0;31mNameError\u001b[0m: name 'variables' is not defined"
     ]
    }
   ],
   "source": [
    "print(variables)"
   ]
  },
  {
   "cell_type": "code",
   "execution_count": 3,
   "metadata": {},
   "outputs": [
    {
     "ename": "NameError",
     "evalue": "name 'unu' is not defined",
     "output_type": "error",
     "traceback": [
      "\u001b[0;31m---------------------------------------------------------------------------\u001b[0m",
      "\u001b[0;31mNameError\u001b[0m                                 Traceback (most recent call last)",
      "\u001b[0;32m/tmp/ipykernel_13372/146013026.py\u001b[0m in \u001b[0;36m<module>\u001b[0;34m\u001b[0m\n\u001b[0;32m----> 1\u001b[0;31m \u001b[0muproot_v\u001b[0m \u001b[0;34m=\u001b[0m \u001b[0;34m[\u001b[0m\u001b[0munu\u001b[0m\u001b[0;34m,\u001b[0m\u001b[0muext\u001b[0m\u001b[0;34m,\u001b[0m\u001b[0mudata\u001b[0m\u001b[0;34m]\u001b[0m\u001b[0;34m\u001b[0m\u001b[0;34m\u001b[0m\u001b[0m\n\u001b[0m\u001b[1;32m      2\u001b[0m \u001b[0mdf_v\u001b[0m \u001b[0;34m=\u001b[0m \u001b[0;34m[\u001b[0m\u001b[0mnu\u001b[0m\u001b[0;34m,\u001b[0m\u001b[0mext\u001b[0m\u001b[0;34m,\u001b[0m\u001b[0mdata\u001b[0m\u001b[0;34m]\u001b[0m\u001b[0;34m\u001b[0m\u001b[0;34m\u001b[0m\u001b[0m\n",
      "\u001b[0;31mNameError\u001b[0m: name 'unu' is not defined"
     ]
    }
   ],
   "source": [
    "uproot_v = [unu,uext,udata]\n",
    "df_v = [nu,ext,data]"
   ]
  },
  {
   "cell_type": "code",
   "execution_count": 8,
   "metadata": {},
   "outputs": [
    {
     "name": "stderr",
     "output_type": "stream",
     "text": [
      "/Users/dcaratelli/opt/anaconda3/envs/python3/lib/python3.7/site-packages/awkward/array/jagged.py:1043: RuntimeWarning: overflow encountered in power\n",
      "  result = getattr(ufunc, method)(*inputs, **kwargs)\n"
     ]
    }
   ],
   "source": [
    "for i,df in enumerate(df_v):\n",
    "    process_uproot_numu(uproot_v[i],df)"
   ]
  },
  {
   "cell_type": "code",
   "execution_count": 9,
   "metadata": {},
   "outputs": [],
   "source": [
    "# fix weights that are out of scale\n",
    "for i,df in enumerate([nu]):\n",
    "    df.loc[ df['weightSplineTimesTune'] <= 0, 'weightSplineTimesTune' ] = 1.\n",
    "    df.loc[ df['weightSplineTimesTune'] == np.inf, 'weightSplineTimesTune' ] = 1.\n",
    "    df.loc[ df['weightSplineTimesTune'] > 100, 'weightSplineTimesTune' ] = 1.\n",
    "    df.loc[ np.isnan(df['weightSplineTimesTune']) == True, 'weightSplineTimesTune' ] = 1."
   ]
  },
  {
   "cell_type": "code",
   "execution_count": 10,
   "metadata": {},
   "outputs": [],
   "source": [
    "# and a way to filter out data\n",
    "for i,df in enumerate(df_v):\n",
    "    df[\"bnbdata\"] = np.zeros_like(df[\"nslice\"])\n",
    "    df[\"extdata\"] = np.zeros_like(df[\"nslice\"])\n",
    "data[\"bnbdata\"] = np.ones_like(data[\"nslice\"])\n",
    "ext[\"extdata\"] = np.ones_like(ext[\"nslice\"])"
   ]
  },
  {
   "cell_type": "code",
   "execution_count": 11,
   "metadata": {},
   "outputs": [
    {
     "name": "stderr",
     "output_type": "stream",
     "text": [
      "/Users/dcaratelli/Neutrinos/NUE/TUTORIAL/plotter.py:288: UserWarning: Missing dirt sample\n",
      "  warnings.warn(\"Missing dirt sample\")\n"
     ]
    }
   ],
   "source": [
    "import plotter\n",
    "import importlib\n",
    "importlib.reload(plotter)\n",
    "\n",
    "nue = nu.query('abs(nu_pdg) == 12 and ccnc == 0')\n",
    "\n",
    "samples = {'mc': nu, 'nue': nue, 'ext': ext, 'data': data}\n",
    "\n",
    "# run 1\n",
    "#weights = {'mc': 0.123664, 'nue': 0.123664, 'ext': 0.551968}\n",
    "#plotter = plotter.Plotter(samples, weights, pot=1.62e+20)\n",
    "\n",
    "# run 1 5e19\n",
    "#weights = {'mc': 0.033, 'nue': 0.033, 'ext': 0.15}\n",
    "#plotter = plotter.Plotter(samples, weights, pot=0.456e+20)\n",
    "\n",
    "# run 2\n",
    "#weights = {'mc': 0.2568, 'nue': 0.2568, 'ext': 0.4049}\n",
    "#plotter = plotter.Plotter(samples, weights, pot=2.62e+20)\n",
    "\n",
    "# run 3\n",
    "#weights = {'mc': 0.190, 'nue': 0.190, 'ext': 0.296}\n",
    "#plotter = plotter.Plotter(samples, weights, pot=2.55e+20)\n",
    "\n",
    "# run 4 tor 860 w/ full run range\n",
    "#weights = {'mc': 0.129, 'nue': 0.129, 'ext': 0.328}\n",
    "#plotter = plotter.Plotter(samples, weights, pot=0.460e+20)\n",
    "\n",
    "# run 4 tor 875\n",
    "#weights = {'mc': 0.092, 'nue': 0.092, 'ext': 0.318}\n",
    "#plotter = plotter.Plotter(samples, weights, pot=0.305e+20)\n",
    "\n",
    "# run 4 tor 860\n",
    "weights = {'mc': 0.107, 'nue': 0.107, 'ext': 0.318}\n",
    "plotter = plotter.Plotter(samples, weights, pot=0.337e+20)"
   ]
  },
  {
   "cell_type": "code",
   "execution_count": 13,
   "metadata": {},
   "outputs": [],
   "source": [
    "import unblinding_far_sideband\n",
    "QUERY = unblinding_far_sideband.NUMUSEL"
   ]
  },
  {
   "cell_type": "code",
   "execution_count": 16,
   "metadata": {},
   "outputs": [
    {
     "data": {
      "image/png": "[encoded data removed]",
      "text/plain": [
       "<Figure size 576x504 with 2 Axes>"
      ]
     },
     "metadata": {
      "needs_background": "light"
     },
     "output_type": "display_data"
    }
   ],
   "source": [
    "DETSYS = {'mc':False,'nue':False,'ccpi0':False,'ncpi0':False,'dirt':False,\\\n",
    "          'ncnopi':False,'nccpi':False,'ncpi0':False,'ccpi0':False}\n",
    "\n",
    "#SEL = '( (_opfilter_pe_beam > 0 and _opfilter_pe_veto < 20) or bnbdata == 1 or extdata == 1)'\n",
    "#SEL += ' and nslice==1 and trk_theta < 1.0 and topological_score > 0.5'\n",
    "#SEL += ' and (run < 19080 or run > 19420)'\n",
    "#SEL += ' and topological_score > 0.5 and trk_theta < 0.5'\n",
    "#SEL += ' and n_tracks_contained>0'\n",
    "\n",
    "SEL = QUERY\n",
    "\n",
    "#VARIABLE, BINS, RANGE, XTIT = 'flash_pe',1,(0,5000),r\"vtx x [cm]\" \n",
    "#VARIABLE, BINS, RANGE, XTIT = 'run',1,(18800,20000),r\"vtx x [cm]\" \n",
    "#VARIABLE, BINS, RANGE, XTIT = 'reco_nu_vtx_sce_x',20,(0,260),r\"vtx x [cm]\" \n",
    "#VARIABLE, BINS, RANGE, XTIT = 'reco_nu_vtx_sce_y',20,(-120,120),r\"vtx y [cm]\" \n",
    "#VARIABLE, BINS, RANGE, XTIT = 'reco_nu_vtx_sce_z',20,(0,1000),r\"vtx z [cm]\" \n",
    "#VARIABLE, BINS, RANGE, XTIT = 'topological_score',20,(0.,1),r\"topological score\" \n",
    "#VARIABLE, BINS, RANGE, XTIT = 'trk_theta',20,(0,np.pi),r\"track theta\" \n",
    "VARIABLE, BINS, RANGE, XTIT = 'muon_theta',10,(-1,1),r\"track cos-theta\" \n",
    "#VARIABLE, BINS, RANGE, XTIT = 'trk_phi',20,(-np.pi,np.pi),r\"track phi\" \n",
    "#VARIABLE, BINS, RANGE, XTIT = 'trk_len',10,(0,400),r\"track length\" \n",
    "#VARIABLE, BINS, RANGE, XTIT = 'contained_fraction',10,(0,1.0),r\"contained fraction\" \n",
    "#VARIABLE, BINS, RANGE, XTIT = 'trk_score',10,(0.99,1.0),r\"track score\" \n",
    "#VARIABLE, BINS, RANGE, XTIT = 'n_showers_contained',5,(-0.5,4.5),r\"number of contained showers\" \n",
    "#VARIABLE, BINS, RANGE, XTIT = 'n_tracks_contained',5,(-0.5,4.5),r\"number of contained tracks\" \n",
    "#VARIABLE, BINS, RANGE, XTIT = 'dvtx',5,(-0.5,4.5),r\"vertex distance\" \n",
    "#VARIABLE, BINS, RANGE, XTIT = 'shr_energy_tot_cali',20,(0.01,1.0),r\"shower energy [MeV]\" \n",
    "#VARIABLE, BINS, RANGE, XTIT = 'selected',2,(-0.5,1.5),r\"selected\" \n",
    "#VARIABLE, BINS, RANGE, XTIT = 'reco_e',14,(0.15, 1.45),r\"Reconstructed Energy [ GeV ]\" # ~reproduce Fig. 36 of PeLEE TN!\n",
    "#VARIABLE, BINS, RANGE, XTIT = 'reco_e',[0,0.5,0.8,1.5],None,r\"Reconstructed Energy [ GeV ]\"\n",
    "#VARIABLE, BINS, RANGE, XTIT = 'n_tracks_contained',5,(-0.5,4.5),r\"Reconstructed Energy [ GeV ]\"\n",
    "\n",
    "fig, ax1, ax2 = plotter.plot_variable(\n",
    "    VARIABLE,   \n",
    "    query=SEL,\n",
    "    kind=\"event_category\",\n",
    "    draw_sys=False,\n",
    "    detsysdict=DETSYS,\n",
    "    ratio=True,\n",
    "    stacksort=3,\n",
    "    title=XTIT,\n",
    "    bins=BINS,\n",
    "    range=RANGE,\n",
    "    chisq=False,\n",
    ")[0:3]\n",
    "\n",
    "ax1.set_title('', loc='left')\n",
    "#ax1.set_yscale('log')\n",
    "ax1.set_ylim(0, ax1.get_ylim()[1]*1.6)\n",
    "ax2.set_ylim(0.5, 1.5)\n",
    "\n",
    "plt.tight_layout()\n"
   ]
  },
  {
   "cell_type": "code",
   "execution_count": null,
   "metadata": {},
   "outputs": [],
   "source": []
  },
  {
   "cell_type": "code",
   "execution_count": null,
   "metadata": {},
   "outputs": [],
   "source": []
  }
 ],
 "metadata": {
  "kernelspec": {
   "display_name": "Python 3 (ipykernel)",
   "language": "python",
   "name": "python3"
  },
  "language_info": {
   "codemirror_mode": {
    "name": "ipython",
    "version": 3
   },
   "file_extension": ".py",
   "mimetype": "text/x-python",
   "name": "python",
   "nbconvert_exporter": "python",
   "pygments_lexer": "ipython3",
   "version": "3.7.12"
  }
 },
 "nbformat": 4,
 "nbformat_minor": 4
}
