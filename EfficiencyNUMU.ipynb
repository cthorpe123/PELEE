{
 "cells": [
  {
   "cell_type": "code",
   "execution_count": null,
   "metadata": {},
   "outputs": [],
   "source": [
    "import sys\n",
    "import localSettings as ls\n",
    "print(ls.main_path)"
   ]
  },
  {
   "cell_type": "code",
   "execution_count": null,
   "metadata": {
    "colab": {
     "base_uri": "https://localhost:8080/",
     "height": 34
    },
    "colab_type": "code",
    "executionInfo": {
     "elapsed": 517,
     "status": "ok",
     "timestamp": 1560556807118,
     "user": {
      "displayName": "Stefano Roberto Soleti",
      "photoUrl": "https://lh4.googleusercontent.com/-hfLpspJu4Q0/AAAAAAAAAAI/AAAAAAAABmA/2kE4rtj8paU/s64/photo.jpg",
      "userId": "10372352518008961760"
     },
     "user_tz": 240
    },
    "id": "6qsD0G-yYJ9K",
    "outputId": "5d52a3ec-50be-44fc-da44-3c0593e98bc6"
   },
   "outputs": [],
   "source": [
    "main_path = ls.main_path\n",
    "sys.path.append(main_path)"
   ]
  },
  {
   "cell_type": "code",
   "execution_count": null,
   "metadata": {},
   "outputs": [],
   "source": [
    "SHRCALIBFACTOR = 1.00"
   ]
  },
  {
   "cell_type": "code",
   "execution_count": null,
   "metadata": {},
   "outputs": [],
   "source": [
    "# Doing Run3?\n",
    "ISRUN3 = False"
   ]
  },
  {
   "cell_type": "code",
   "execution_count": null,
   "metadata": {},
   "outputs": [],
   "source": [
    "import matplotlib.pyplot as plt\n",
    "plt.rcParams.update({'font.size': 14})"
   ]
  },
  {
   "cell_type": "code",
   "execution_count": null,
   "metadata": {
    "colab": {},
    "colab_type": "code",
    "id": "xGqTJ5JgaDsx"
   },
   "outputs": [],
   "source": [
    "import plotter\n",
    "import importlib\n",
    "importlib.reload(plotter)\n",
    "import uproot\n",
    "import matplotlib.pylab as pylab\n",
    "import numpy as np\n",
    "import math\n",
    "from sklearn.model_selection import train_test_split\n",
    "import pickle\n",
    "import xgboost as xgb\n",
    "import nue_booster \n",
    "importlib.reload(nue_booster)\n",
    "import awkward\n",
    "\n",
    "params = {\n",
    "    'axes.labelsize': 'x-large',\n",
    "    'axes.titlesize': 'x-large',\n",
    "    'xtick.labelsize': 'x-large',\n",
    "    'ytick.labelsize': 'x-large'\n",
    "}\n",
    "pylab.rcParams.update(params)"
   ]
  },
  {
   "cell_type": "code",
   "execution_count": null,
   "metadata": {
    "colab": {},
    "colab_type": "code",
    "id": "iwoCIaigYJ9N"
   },
   "outputs": [],
   "source": [
    "fold = \"nuselection\"\n",
    "tree = \"NeutrinoSelectionFilter\"\n",
    "\n",
    "NUE = \"prodgenie_bnb_nu_uboone_overlay_mcc9.1_v08_00_00_26_filter_run3_reco2_G_reco2\"\n",
    "\n",
    "#if ISRUN3:\n",
    "#    NUE = 'prodgenie_bnb_intrinsice_nue_uboone_overlay_mcc9.1_v08_00_00_26_run3_reco2_reco2'\n",
    "#    \n",
    "#else:\n",
    "#    NUE = 'prodgenie_bnb_intrinsice_nue_uboone_overlay_mcc9.1_v08_00_00_26_run1_reco2_reco2'\n",
    "    \n",
    "UPROOTNUE = uproot.open(ls.ntuple_path+NUE+\".root\")[fold][tree]\n",
    "\n",
    "variables = [\n",
    "    \"shr_dedx_Y\", \"shr_bkt_pdg\", \"selected\", \"nu_pdg\", \"shr_theta\",\n",
    "    \"slpdg\", \"trk_score_v\", \"backtracked_pdg\", # modified from shr_score_v\n",
    "    \"shr_pfp_id_v\", \"category\", \"shr_tkfit_dedx_Y\",\n",
    "    #\"shr_energy_tot\", \n",
    "    \"trk_energy_tot\", \"shr_hits_tot\", \"ccnc\", \"trk_chipr\",\n",
    "    \"trk_bkt_pdg\",  \"n_tracks_contained\", \n",
    "    \"NeutrinoEnergy2\",\n",
    "    \"nu_flashmatch_score\",\n",
    "    \"isVtxInFiducial\",\"truthFiducial\",\"nproton\",\n",
    "    \"elec_e\",\"proton_e\",\"muon_e\",\n",
    "    \"topological_score\",\n",
    "    \"trk_energy_muon\",\n",
    "    \"npion\",\n",
    "    \"shrmoliereavg\",\"shrmoliererms\",\n",
    "    \"shr_tkfit_npointsvalid\",\"shr_tkfit_npoints\", # fitted vs. all hits for shower\n",
    "    \"shrclusfrac0\",\"shrclusfrac1\",\"shrclusfrac2\", # track-fitted hits / all hits\n",
    "    \"trkshrhitdist0\",\"trkshrhitdist1\",\"trkshrhitdist2\", # distance between track and shower in 2D\n",
    "    \"shrsubclusters0\",\"shrsubclusters1\",\"shrsubclusters2\", # number of sub-clusters in shower\n",
    "    \"trk_llr_pid_score_v\", # trk-PID score\n",
    "    \"pi0_gammadot\",\"pi0_mass_Y\",\"pi0_energy2_Y\", # pi0 tagger variables\n",
    "    \"reco_nu_vtx_sce_x\",\"reco_nu_vtx_sce_y\",\"reco_nu_vtx_sce_z\",\n",
    "    \"nproton\", \"nu_e\", \"n_showers_contained\", \"shr_distance\", \"trk_distance\",\n",
    "    \"hits_y\", \"shr_pz\", \"shr_energy\", \"shr_dedx_U\", \"shr_dedx_V\", \"shr_phi\", \"trk_phi\", \"trk_theta\",\n",
    "    \"shr_tkfit_dedx_U\", \"shr_tkfit_dedx_V\", \"run\", \"sub\", \"evt\", \"nproton\", \"trk_pid_chipr_v\",\n",
    "    \"trk_len\", \"mc_pdg\", \"slnunhits\", \n",
    "    \"true_e_visible\", \"matched_E\", \"shr_bkt_E\", \"trk_bkt_E\", \"trk_energy\", \"tksh_distance\", \"tksh_angle\",\n",
    "    \"npi0\",\n",
    "    \"pi0_e\", \"shr_energy_tot_cali\", \"shr_dedx_Y_cali\", \"evnunhits\", \"nslice\", \"interaction\",\n",
    "    \"slclustfrac\", \"reco_nu_vtx_x\", \"reco_nu_vtx_y\", \"reco_nu_vtx_z\",\"contained_fraction\",\n",
    "]\n",
    "\n",
    "nue = UPROOTNUE.pandas.df(variables, flatten=False)"
   ]
  },
  {
   "cell_type": "code",
   "execution_count": null,
   "metadata": {},
   "outputs": [],
   "source": [
    "def EQE(df,elecangle,elecenergy,ke):\n",
    "    mp = 0.998\n",
    "    mn = 0.939\n",
    "    Eb = 0.00987 # see DocDB 26949\n",
    "    theta = df[elecangle]\n",
    "    El = df[elecenergy]\n",
    "    if (ke == True):\n",
    "        El += 0.105\n",
    "    ml = 0.105\n",
    "    num = mp**2 - (mn-Eb)**2 - ml**2 + 2*(mn-Eb)*El\n",
    "    den = 2*(mn-Eb-El + np.sqrt(El**2-ml**2) * np.cos(theta))\n",
    "    return num/den"
   ]
  },
  {
   "cell_type": "code",
   "execution_count": null,
   "metadata": {},
   "outputs": [],
   "source": [
    "# define some energy-related variables\n",
    "# calorimetric energy\n",
    "nue[\"reco_e_calo\"] = nue[\"NeutrinoEnergy2\"]/1000. + 0.105\n",
    "# muon from range + all other tracks as protons from range\n",
    "nue[\"reco_e_range\"] = nue[\"trk_energy_muon\"] + (nue[\"trk_energy_tot\"] - nue[\"trk_energy\"]) + 0.105\n",
    "# CCQE energy\n",
    "nue[\"reco_e_qe\"] = EQE(nue,'trk_theta','trk_energy_muon',1)\n",
    "nue[\"reco_e_qe_truth\"] = EQE(nue,'trk_theta','muon_e',0)"
   ]
  },
  {
   "cell_type": "code",
   "execution_count": null,
   "metadata": {},
   "outputs": [],
   "source": [
    "# energy resolution for calorimetric energy\n",
    "nue['erescalo'] = (nue['reco_e_calo']-nue['nu_e'])/nue['nu_e']\n",
    "# energy resolution for calorimetric energy vs. visible energy\n",
    "nue['erescalovis'] = (nue['reco_e_calo']-nue['true_e_visible']-0.105)/nue['true_e_visible']\n",
    "# energy resolution for calorimetric energy\n",
    "nue['eresrange'] = (nue['reco_e_range']-nue['nu_e'])/nue['nu_e']\n",
    "# energy resolution for calorimetric energy vs. visible energy\n",
    "nue['eresrangevis'] = (nue['reco_e_range']-nue['true_e_visible']-0.105)/nue['true_e_visible']\n",
    "# energy resolution for muon\n",
    "nue['muonres'] = (nue['trk_energy_muon']-(nue['muon_e']-0.105))/(nue['muon_e']-0.105)\n",
    "nue['recores'] = (nue['reco_e_calo']-nue['reco_e_range'])/nue['reco_e_calo']\n",
    "\n",
    "nue['eresqe'] = (nue['reco_e_qe']-nue['nu_e'])/nue['nu_e']\n",
    "nue['eresqetruth'] = (nue['reco_e_qe_truth']-nue['nu_e'])/nue['nu_e']"
   ]
  },
  {
   "cell_type": "code",
   "execution_count": null,
   "metadata": {},
   "outputs": [],
   "source": [
    "trk_llr_pid_v = UPROOTNUE.array('trk_llr_pid_score_v')\n",
    "trk_id = UPROOTNUE.array('trk_id')-1 # I think we need this -1 to get the right result\n",
    "trk_llr_pid_v_sel = awkward.fromiter([pidv[tid] if tid<len(pidv) else 9999. for pidv,tid in zip(trk_llr_pid_v,trk_id)])\n",
    "nue['trkpid'] = trk_llr_pid_v_sel\n",
    "nue['subcluster'] = nue['shrsubclusters0'] + nue['shrsubclusters1'] + nue['shrsubclusters2']\n",
    "nue['trkfit'] = nue['shr_tkfit_npointsvalid'] / nue['shr_tkfit_npoints']"
   ]
  },
  {
   "cell_type": "code",
   "execution_count": null,
   "metadata": {},
   "outputs": [],
   "source": [
    "# muon selection\n",
    "QUERY = 'nslice == 1'\n",
    "#if ISRUN3: QUERY += ' and ((crtveto!=1) or (crthitpe < 100)) and (_closestNuCosmicDist > 20.)'\n",
    "#QUERY += ' and trk_len > 20'\n",
    "QUERY += ' and topological_score > 0.06'\n",
    "QUERY += ' and reco_nu_vtx_sce_x > 5 and reco_nu_vtx_sce_x < 251'\n",
    "QUERY += ' and reco_nu_vtx_sce_y > -110 and reco_nu_vtx_sce_y < 110'\n",
    "QUERY += ' and reco_nu_vtx_sce_z > 20 and reco_nu_vtx_sce_z < 986'\n",
    "QUERY += ' and trkpid > 0.2'\n",
    "\n",
    "QUERY += ' and truthFiducial == 0'\n",
    "\n",
    "print (QUERY)"
   ]
  },
  {
   "cell_type": "code",
   "execution_count": null,
   "metadata": {},
   "outputs": [],
   "source": [
    "nue_SEL = nue.query(QUERY)"
   ]
  },
  {
   "cell_type": "code",
   "execution_count": null,
   "metadata": {},
   "outputs": [],
   "source": [
    "nueRES = nue_SEL.query('interaction == 1')\n",
    "nueQE  = nue_SEL.query('interaction == 0')\n",
    "nueDIS = nue_SEL.query('interaction == 2')\n",
    "nueMEC = nue_SEL.query('interaction == 10')\n",
    "\n",
    "nue0pi = nue_SEL.query('npion == 0 and npi0 == 0')\n",
    "nueNpi = nue_SEL.query('npion != 0 or npi0 != 0')"
   ]
  },
  {
   "cell_type": "code",
   "execution_count": null,
   "metadata": {},
   "outputs": [],
   "source": [
    "fig = plt.figure(figsize=(6,6))\n",
    "BINS2D = (np.linspace(0.15,1.5,50),np.linspace(0.15,1.5,50))\n",
    "plt.hist2d(nue_SEL['nu_e'].values,nue_SEL['reco_e_range'].values,bins=BINS2D)\n",
    "plt.grid()\n",
    "plt.xlabel('True Neutrino Energy [GeV]')\n",
    "plt.ylabel('Reconstructed Range-Based Energy [GeV]')\n",
    "plt.title(r'truth non-contained $\\nu_{\\mu}$ events')\n",
    "plt.show()"
   ]
  },
  {
   "cell_type": "code",
   "execution_count": null,
   "metadata": {
    "scrolled": false
   },
   "outputs": [],
   "source": [
    "ERANGE_V = []\n",
    "\n",
    "ERANGE_V = [0.1,0.2,0.3,0.4,0.5,0.6,0.8,1.0,1.5,2.0]\n",
    "\n",
    "\n",
    "for n in range(len(ERANGE_V)-1):\n",
    "    \n",
    "    EMIN = ERANGE_V[n]\n",
    "    EMAX = ERANGE_V[n+1]\n",
    "    \n",
    "    stacked_v = []\n",
    "    \n",
    "    VAR = 'eresrange'\n",
    "\n",
    "    nueQE_tmp = nueQE.query('nu_e > %f and nu_e < %f'%(EMIN,EMAX))\n",
    "    nueRES_tmp = nueRES.query('nu_e > %f and nu_e < %f'%(EMIN,EMAX))\n",
    "    nueMEC_tmp = nueMEC.query('nu_e > %f and nu_e < %f'%(EMIN,EMAX))\n",
    "    nueDIS_tmp = nueDIS.query('nu_e > %f and nu_e < %f'%(EMIN,EMAX))\n",
    "    \n",
    "    nue0pi_tmp = nue0pi.query('nu_e > %f and nu_e < %f'%(EMIN,EMAX))\n",
    "    nueNpi_tmp = nueNpi.query('nu_e > %f and nu_e < %f'%(EMIN,EMAX))\n",
    "    \n",
    "    stacked_v = [nueDIS_tmp[VAR],nueRES_tmp[VAR],\\\n",
    "                 nueMEC_tmp[VAR],nueQE_tmp[VAR]]\n",
    "\n",
    "    label_v = ['DIS','RES','MEC','QE']\n",
    "    \n",
    "    fig = plt.figure(figsize=(6,6))\n",
    "    BINS = np.linspace(-1,1,30)\n",
    "    plt.hist(stacked_v,bins=BINS,histtype='stepfilled',lw=2,label=label_v,stacked=True,alpha=0.5)\n",
    "    plt.grid()\n",
    "    plt.legend(loc=\"best\",framealpha=1,fontsize=16)\n",
    "    plt.xlabel('[reco - true] / true energy',fontsize=16)\n",
    "    plt.title(r'true $\\nu_{\\mu}$ energy [%.01f, %.01f] GeV'%(EMIN,EMAX),fontsize=16)\n",
    "    plt.show()\n",
    "    \n",
    "    stacked_v = [nueNpi_tmp[VAR],nue0pi_tmp[VAR]]\n",
    "\n",
    "    label_v = ['N pion','0 pion']\n",
    "    \n",
    "    fig = plt.figure(figsize=(6,6))\n",
    "    BINS = np.linspace(-1,1,30)\n",
    "    plt.hist(stacked_v,bins=BINS,histtype='stepfilled',lw=2,label=label_v,stacked=True,alpha=0.5)\n",
    "    plt.grid()\n",
    "    plt.legend(loc=\"best\",framealpha=1,fontsize=16)\n",
    "    plt.xlabel('[calo - range] / calo energy',fontsize=16)\n",
    "    plt.title(r'true $\\nu_{\\mu}$ energy [%.01f, %.01f] GeV'%(EMIN,EMAX),fontsize=16)\n",
    "    plt.show()"
   ]
  },
  {
   "cell_type": "code",
   "execution_count": null,
   "metadata": {
    "scrolled": false
   },
   "outputs": [],
   "source": [
    "ERANGE_V = []\n",
    "\n",
    "ERANGE_V = [0.1,0.2,0.3,0.4,0.5,0.6,0.8,1.0,1.5,2.0]\n",
    "\n",
    "\n",
    "for n in range(len(ERANGE_V)-1):\n",
    "    \n",
    "    EMIN = ERANGE_V[n]\n",
    "    EMAX = ERANGE_V[n+1]\n",
    "\n",
    "    nue_SEL_tmp = nue_SEL.query('nu_e > %f and nu_e < %f'%(EMIN,EMAX))\n",
    "\n",
    "    fig = plt.figure(figsize=(6,6))\n",
    "    BINS = np.linspace(-1,1,30)\n",
    "    #plt.hist(nue_SEL_tmp['eresclo'].values,bins=BINS,histtype='step',lw=2,label='Calorimetric Energy')\n",
    "    #plt.hist(nue_SEL_tmp['eresvis'].values,bins=BINS,histtype='step',lw=2,label='Calorimetric Energy [hermeticity]')\n",
    "    plt.hist(nue_SEL_tmp['eresqe'].values,bins=BINS,histtype='step',lw=2,label='QE Energy')\n",
    "    plt.hist(nue_SEL_tmp['eresqetruth'].values,bins=BINS,histtype='step',lw=2,label='QE Energy - Truth')\n",
    "    plt.grid()\n",
    "    plt.legend(loc=3,framealpha=1,fontsize=16)\n",
    "    plt.xlabel('[reco - true] / true energy',fontsize=16)\n",
    "    plt.title(r'true $\\nu_e$ energy [%.01f, %.01f] GeV'%(EMIN,EMAX),fontsize=16)\n",
    "    plt.show()"
   ]
  },
  {
   "cell_type": "code",
   "execution_count": null,
   "metadata": {
    "scrolled": false
   },
   "outputs": [],
   "source": [
    "ERANGE_V = []\n",
    "\n",
    "ERANGE_V = [0.05,0.1,0.15,0.2,0.25,0.3,0.35,0.5,0.6,0.7,0.8,0.9,1.0]\n",
    "\n",
    "\n",
    "for n in range(len(ERANGE_V)-1):\n",
    "    \n",
    "    EMIN = ERANGE_V[n]\n",
    "    EMAX = ERANGE_V[n+1]\n",
    "\n",
    "    nue_SEL_tmp = nue_SEL.query('muon_e > %.02f and muon_e < %.02f'%(EMIN+0.105,EMAX+0.105))\n",
    "\n",
    "    fig = plt.figure(figsize=(4,4))\n",
    "    BINS = np.linspace(-0.5,0.5,100)\n",
    "    plt.hist(nue_SEL_tmp['muonres'].values,bins=BINS,histtype='step',lw=2)#,label='Calorimetric Energy')\n",
    "    plt.grid()\n",
    "    plt.legend(loc=1)\n",
    "    plt.xlabel('[reco - true] / true energy',fontsize=16)\n",
    "    plt.title('true muon KE [%.02f, %.02f] GeV'%(EMIN,EMAX),fontsize=16)\n",
    "    plt.show()"
   ]
  },
  {
   "cell_type": "code",
   "execution_count": null,
   "metadata": {},
   "outputs": [],
   "source": [
    "def Eff(df,var,query,acceptance,bin_edges,absval=False):\n",
    "    #print acceptance\n",
    "    bin_centers = 0.5*(bin_edges[1:]+bin_edges[:-1])\n",
    "    bins = []\n",
    "    bin_eff = []\n",
    "    bin_err = []\n",
    "    for i in range(len(bin_centers)):\n",
    "        binmin = bin_edges[i]\n",
    "        binmax = bin_edges[i+1]\n",
    "        bincut = '%s > %f and %s < %f'%(var,binmin,var,binmax)\n",
    "        if (absval == True):\n",
    "            bincut = '(%s > %f and %s < %f) or (%s > -%f and %s < -%f)'%(var,binmin,var,binmax,var,binmax,var,binmin)\n",
    "        if (acceptance != ''): bincut += ' and %s'%acceptance\n",
    "        #print bincut\n",
    "        df_tmp =  df.query(bincut) # cut on bin range for desired var.\n",
    "        df_sub = df_tmp.query(query) # apply constrain \n",
    "        if (df_tmp.shape[0] == 0): continue\n",
    "        eff = df_sub.shape[0] / float( df_tmp.shape[0] )\n",
    "        err = np.sqrt( eff*(1-eff)/df_tmp.shape[0] )\n",
    "        bin_eff.append( eff )\n",
    "        bin_err.append( err )\n",
    "        bins.append(bin_centers[i])\n",
    "        #print 'eff = %.02f @ bin = %.02f'%(eff,bin_centers[i])\n",
    "    return np.array(bins),np.array(bin_eff),np.array(bin_err)"
   ]
  },
  {
   "cell_type": "code",
   "execution_count": null,
   "metadata": {},
   "outputs": [],
   "source": [
    "# nue pre-selection\n",
    "BOXCUTS = 'nslice == 1'\n",
    "BOXCUTS += ' and selected == 1'\n",
    "BOXCUTS += ' and n_tracks_contained > 0'\n",
    "BOXCUTS += ' and shr_energy_tot_cali > 0.07'\n",
    "BOXCUTS += ' and n_tracks_contained > 0'\n",
    "# Loose box cuts\n",
    "BOXCUTS += ' and n_showers_contained == 1'\n",
    "BOXCUTS += ' and hits_ratio > 0.5'\n",
    "BOXCUTS += ' and tksh_distance < 6.0'\n",
    "BOXCUTS += ' and shr_tkfit_2cm_dedx_Y < 4.0'\n",
    "BOXCUTS += ' and tksh_angle > -0.9'\n",
    "BOXCUTS += ' and trkpid < 0.1'\n",
    "BOXCUTS += ' and shr_score < 0.30'\n",
    "BOXCUTS += ' and CosmicIP > 20.'\n",
    "# Box cuts\n",
    "BOXCUTS += ' and tksh_distance < 3.5'\n",
    "BOXCUTS += ' and (shr_tkfit_gap10_dedx_Y > 0 and shr_tkfit_gap10_dedx_Y < 4.5 and shr_tkfit_gap10_dedx_U < 4.5 and shr_tkfit_gap10_dedx_V < 4.5)'\n",
    "BOXCUTS += ' and (shr_tkfit_2cm_dedx_Y > 0 and shr_tkfit_2cm_dedx_Y < 4.0 and shr_tkfit_2cm_dedx_U < 4.0 and shr_tkfit_2cm_dedx_V < 4.0)'\n",
    "BOXCUTS += ' and tksh_angle > -0.9 and tksh_angle < 0.7'\n",
    "BOXCUTS += ' and shrmoliereavg > 2 and shrmoliereavg < 9'\n",
    "BOXCUTS += ' and trkpid < -0.02'\n",
    "BOXCUTS += ' and n_showers_contained == 1'\n",
    "BOXCUTS += ' and shr_score < 0.275'\n",
    "BOXCUTS += ' and hits_ratio > 0.60'\n",
    "BOXCUTS += ' and CosmicIP > 20.'\n",
    "BOXCUTS += ' and (secondshower_Y_nhit<=8 or secondshower_Y_dot<=0.8 or anglediff_Y<=40 or secondshower_Y_vtxdist>=100)'\n",
    "BOXCUTS += ' and (trkfit < 0.45 or subcluster > 6)'"
   ]
  },
  {
   "cell_type": "code",
   "execution_count": null,
   "metadata": {},
   "outputs": [],
   "source": [
    "PRESEL = 'nslice == 1'\n",
    "PRESEL += ' and selected == 1'\n",
    "PRESEL += ' and n_tracks_contained > 0'\n",
    "PRESEL += ' and shr_energy_tot_cali > 0.07'\n",
    "PRESEL += ' and trkpid < -0.02'"
   ]
  },
  {
   "cell_type": "code",
   "execution_count": null,
   "metadata": {},
   "outputs": [],
   "source": [
    "# muon selection\n",
    "MUQUERY = 'nslice == 1'\n",
    "#if ISRUN3: MUQUERY += ' and ((crtveto!=1) or (crthitpe < 100)) and (_closestNuCosmicDist > 20.)'\n",
    "#MUQUERY += ' and trk_len > 20'\n",
    "MUQUERY += ' and topological_score > 0.06'\n",
    "MUQUERY += ' and reco_nu_vtx_sce_x > 5 and reco_nu_vtx_sce_x < 251'\n",
    "MUQUERY += ' and reco_nu_vtx_sce_y > -110 and reco_nu_vtx_sce_y < 110'\n",
    "MUQUERY += ' and reco_nu_vtx_sce_z > 20 and reco_nu_vtx_sce_z < 986'\n",
    "#MUQUERY += ' and trkpid > 0.8'"
   ]
  },
  {
   "cell_type": "code",
   "execution_count": null,
   "metadata": {},
   "outputs": [],
   "source": [
    "fig = plt.figure(figsize=(8,6))\n",
    "B = np.linspace(0.1,1.5,15)\n",
    "\n",
    "#ACCEPTANCE = 'isVtxInFiducial == 1 and truthFiducial == 1 and nproton > 0'\n",
    "ACCEPTANCE = 'isVtxInFiducial == 1 and ccnc == 0'\n",
    "#QUERY = SELQUERY\n",
    "VAR = 'nu_e' #'_pi0_e'\n",
    "\n",
    "centers,vals,errs = Eff(nue,VAR,'nslice==1',ACCEPTANCE,B)\n",
    "plt.errorbar(centers,vals,yerr=errs,xerr=0.05,fmt='o'\\\n",
    "             ,color='b',label=r'Neutrino SlideID on $\\nu_{\\mu}$ CC')\n",
    "\n",
    "centers,vals,errs = Eff(nue,VAR,MUQUERY,ACCEPTANCE,B)\n",
    "plt.errorbar(centers,vals,yerr=errs,xerr=0.05,fmt='o',\\\n",
    "             color='m',label=r'$\\nu_{\\mu}$ selection on $\\nu_{\\mu}$ CC')\n",
    "\n",
    "ACCEPTANCE = 'isVtxInFiducial == 1 and ccnc == 1'\n",
    "#QUERY = SELQUERY\n",
    "VAR = 'nu_e' #'_pi0_e'\n",
    "\n",
    "#centers,vals,errs = Eff(nue,VAR,'nslice==1',ACCEPTANCE,B)\n",
    "#plt.errorbar(centers,vals,yerr=errs,fmt='o-',color='r',label='Neutrino SlideID')\n",
    "\n",
    "#centers,vals,errs = Eff(nue,VAR,PRESEL,ACCEPTANCE,B)\n",
    "#plt.errorbar(centers,vals,yerr=errs,fmt='o-',color='r',label='1eNp reconstruction [3.5% purity]')\n",
    "\n",
    "#centers,vals,errs = Eff(nue,VAR,BOXCUTS,ACCEPTANCE,B)\n",
    "#plt.errorbar(centers,vals,yerr=errs,fmt='o-',color='g',label='LEE box-cut selection [91% purity]')\n",
    "\n",
    "plt.xlabel(r'Neutrino Energy [GeV]',fontsize=16)\n",
    "plt.ylabel(r'Efficiency',fontsize=16)\n",
    "plt.grid()\n",
    "plt.ylim([0,1.3])\n",
    "plt.legend(loc=1,fontsize=16,framealpha=1.0)\n",
    "#plt.yscale('log')\n",
    "#plt.title(r'v08_00_00_26 Run1 Samples')\n",
    "#plt.legend(loc=7,fontsize=14)\n",
    "plt.show()"
   ]
  },
  {
   "cell_type": "code",
   "execution_count": null,
   "metadata": {},
   "outputs": [],
   "source": [
    "fig = plt.figure(figsize=(8,6))\n",
    "B = np.linspace(0.0,1.0,50)\n",
    "\n",
    "ACCEPTANCE = 'isVtxInFiducial == 1 and truthFiducial == 1 and nproton > 0'\n",
    "#QUERY = SELQUERY\n",
    "VAR = 'elec_e' #'_pi0_e'\n",
    "\n",
    "centers,vals,errs = Eff(nue,VAR,'nslice==1',ACCEPTANCE,B)\n",
    "plt.errorbar(centers,vals,yerr=errs,fmt='o-',color='b',label='Neutrino SlideID [0.4% purity]')\n",
    "\n",
    "centers,vals,errs = Eff(nue,VAR,PRESEL,ACCEPTANCE,B)\n",
    "plt.errorbar(centers,vals,yerr=errs,fmt='o-',color='r',label='1eNp reconstruction [3.5% purity]')\n",
    "\n",
    "centers,vals,errs = Eff(nue,VAR,BOXCUTS,ACCEPTANCE,B)\n",
    "plt.errorbar(centers,vals,yerr=errs,fmt='o-',color='g',label='LEE box-cut selection [91% purity]')\n",
    "\n",
    "plt.xlabel(r'Electron Energy [GeV]',fontsize=16)\n",
    "plt.ylabel(r'Efficiency',fontsize=16)\n",
    "plt.grid()\n",
    "plt.ylim([0,1.3])\n",
    "plt.legend(loc=9,fontsize=16,framealpha=1.0)\n",
    "#plt.yscale('log')\n",
    "#plt.title(r'v08_00_00_26 Run1 Samples')\n",
    "#plt.legend(loc=7,fontsize=14)\n",
    "plt.show()"
   ]
  },
  {
   "cell_type": "code",
   "execution_count": null,
   "metadata": {},
   "outputs": [],
   "source": [
    "fig = plt.figure(figsize=(8,6))\n",
    "B = np.linspace(0.938,1.4,50)\n",
    "\n",
    "ACCEPTANCE = 'isVtxInFiducial == 1 and truthFiducial == 1 and nproton > 0'\n",
    "#QUERY = SELQUERY\n",
    "VAR = 'proton_e' #'_pi0_e'\n",
    "\n",
    "\n",
    "PRESEL = 'nslice == 1'\n",
    "PRESEL += ' and selected == 1'\n",
    "PRESEL += ' and n_tracks_contained > 0'\n",
    "PRESEL += ' and shr_energy_tot_cali > 0.07'\n",
    "\n",
    "centers,vals,errs = Eff(nue,VAR,PRESEL,ACCEPTANCE,B)\n",
    "centers -= 0.938\n",
    "plt.errorbar(centers,vals,yerr=errs,fmt='o-',color='r',label='1eNp reconstruction')\n",
    "\n",
    "PRESEL = 'nslice == 1'\n",
    "PRESEL += ' and selected == 1'\n",
    "PRESEL += ' and n_tracks_contained > 0'\n",
    "PRESEL += ' and shr_energy_tot_cali > 0.07'\n",
    "PRESEL += ' and trkpid < -0.02'\n",
    "\n",
    "centers,vals,errs = Eff(nue,VAR,PRESEL,ACCEPTANCE,B)\n",
    "centers -= 0.938\n",
    "plt.errorbar(centers,vals,yerr=errs,fmt='o-',color='g',label='1eNp reconstruction [w/ proton PID]')\n",
    "\n",
    "plt.xlabel(r'Proton Kinetic Energy [GeV]',fontsize=16)\n",
    "plt.ylabel(r'Efficiency',fontsize=16)\n",
    "plt.grid()\n",
    "plt.ylim([0,1.0])\n",
    "plt.legend(loc=9,fontsize=16,framealpha=1.0)\n",
    "#plt.yscale('log')\n",
    "#plt.title(r'v08_00_00_26 Run1 Samples')\n",
    "#plt.legend(loc=7,fontsize=14)\n",
    "plt.show()"
   ]
  },
  {
   "cell_type": "code",
   "execution_count": null,
   "metadata": {},
   "outputs": [],
   "source": []
  }
 ],
 "metadata": {
  "accelerator": "GPU",
  "colab": {
   "name": "Plotter.ipynb",
   "provenance": [],
   "version": "0.3.2"
  },
  "kernelspec": {
   "display_name": "Python 3",
   "language": "python",
   "name": "python3"
  },
  "language_info": {
   "codemirror_mode": {
    "name": "ipython",
    "version": 3
   },
   "file_extension": ".py",
   "mimetype": "text/x-python",
   "name": "python",
   "nbconvert_exporter": "python",
   "pygments_lexer": "ipython3",
   "version": "3.7.4"
  }
 },
 "nbformat": 4,
 "nbformat_minor": 1
}
