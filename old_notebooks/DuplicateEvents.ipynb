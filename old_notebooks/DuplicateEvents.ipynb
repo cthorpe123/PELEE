{
 "cells": [
  {
   "cell_type": "code",
   "execution_count": 2,
   "metadata": {},
   "outputs": [
    {
     "name": "stdout",
     "output_type": "stream",
     "text": [
      "/home/david/data/searchingfornues/v08_00_00_33/cc0pinp/0217/\n"
     ]
    }
   ],
   "source": [
    "import sys\n",
    "import localSettings as ls\n",
    "print(ls.main_path)"
   ]
  },
  {
   "cell_type": "code",
   "execution_count": 3,
   "metadata": {
    "colab": {
     "base_uri": "https://localhost:8080/",
     "height": 34
    },
    "colab_type": "code",
    "executionInfo": {
     "elapsed": 517,
     "status": "ok",
     "timestamp": 1560556807118,
     "user": {
      "displayName": "Stefano Roberto Soleti",
      "photoUrl": "https://lh4.googleusercontent.com/-hfLpspJu4Q0/AAAAAAAAAAI/AAAAAAAABmA/2kE4rtj8paU/s64/photo.jpg",
      "userId": "10372352518008961760"
     },
     "user_tz": 240
    },
    "id": "6qsD0G-yYJ9K",
    "outputId": "5d52a3ec-50be-44fc-da44-3c0593e98bc6"
   },
   "outputs": [],
   "source": [
    "main_path = ls.main_path\n",
    "sys.path.append(main_path)"
   ]
  },
  {
   "cell_type": "code",
   "execution_count": 4,
   "metadata": {},
   "outputs": [],
   "source": [
    "SHRCALIBFACTOR = 1.00"
   ]
  },
  {
   "cell_type": "code",
   "execution_count": 5,
   "metadata": {},
   "outputs": [],
   "source": [
    "# Doing Run3?\n",
    "ISRUN3 = False"
   ]
  },
  {
   "cell_type": "code",
   "execution_count": 6,
   "metadata": {
    "colab": {},
    "colab_type": "code",
    "id": "xGqTJ5JgaDsx"
   },
   "outputs": [],
   "source": [
    "import plotter\n",
    "import importlib\n",
    "importlib.reload(plotter)\n",
    "import uproot\n",
    "import matplotlib.pylab as pylab\n",
    "import numpy as np\n",
    "import math\n",
    "from sklearn.model_selection import train_test_split\n",
    "import pickle\n",
    "import xgboost as xgb\n",
    "import nue_booster \n",
    "importlib.reload(nue_booster)\n",
    "import awkward\n",
    "\n",
    "params = {\n",
    "    'axes.labelsize': 'x-large',\n",
    "    'axes.titlesize': 'x-large',\n",
    "    'xtick.labelsize': 'x-large',\n",
    "    'ytick.labelsize': 'x-large'\n",
    "}\n",
    "pylab.rcParams.update(params)"
   ]
  },
  {
   "cell_type": "code",
   "execution_count": 7,
   "metadata": {
    "colab": {},
    "colab_type": "code",
    "id": "iwoCIaigYJ9N"
   },
   "outputs": [],
   "source": [
    "fold = \"nuselection\"\n",
    "tree = \"NeutrinoSelectionFilter\"\n",
    "\n",
    "BNB = \"\"\n",
    "EXT = \"\"\n",
    "NU  = \"\"\n",
    "NUE = \"\"\n",
    "DRT = \"\"\n",
    "NCPI0 = \"\"\n",
    "CCPI0 = \"\"\n",
    "CCNOPI = \"\"\n",
    "NCCPI = \"\"\n",
    "NCNOPI = \"\"\n",
    "\n",
    "if ISRUN3:\n",
    "    BNB = 'data_bnb_mcc9.1_v08_00_00_25_reco2_G1_beam_good_reco2_1e19'\n",
    "    EXT = 'data_extbnb_mcc9.1_v08_00_00_25_reco2_G1_all_reco2'\n",
    "    NU  = 'prodgenie_bnb_nu_uboone_overlay_mcc9.1_v08_00_00_26_filter_run3_reco2_G_reco2'\n",
    "    NUE = 'prodgenie_bnb_intrinsice_nue_uboone_overlay_mcc9.1_v08_00_00_26_run3_reco2_reco2'\n",
    "    DRT = 'prodgenie_bnb_dirt_overlay_mcc9.1_v08_00_00_26_run3_reco2_reco2'\n",
    "    NCPI0 = 'prodgenie_nc_pi0_uboone_overlay_mcc9.1_v08_00_00_26_run3_G_reco2'\n",
    "    CCPI0 = 'prodgenie_cc_pi0_uboone_overlay_v08_00_00_26_run3_G_reco2'\n",
    "    CCNOPI = 'prodgenie_CCmuNoPi_overlay_mcc9_v08_00_00_33_run3_reco2_reco2'\n",
    "    NCCPI = 'prodgenie_NCcPiNoPi0_overlay_mcc9_v08_00_00_33_New_run3_reco2_reco2'\n",
    "    NCNOPI = 'prodgenie_ncnopi_overlay_mcc9_v08_00_00_33_new_run3_reco2_reco2'\n",
    "    \n",
    "else:\n",
    "    BNB = 'data_bnb_mcc9.1_v08_00_00_25_reco2_C1_beam_good_reco2_5e19'\n",
    "    EXT = 'data_extbnb_mcc9.1_v08_00_00_25_reco2_C1_all_reco2'\n",
    "    NU  = 'prodgenie_bnb_nu_uboone_overlay_mcc9.1_v08_00_00_26_filter_run1_reco2_reco2'\n",
    "    NUE = 'prodgenie_bnb_intrinsice_nue_uboone_overlay_mcc9.1_v08_00_00_26_run1_reco2_reco2'\n",
    "    DRT = 'prodgenie_bnb_dirt_overlay_mcc9.1_v08_00_00_26_run1_reco2_reco2'\n",
    "    NCPI0 = 'prodgenie_nc_pi0_uboone_overlay-v08_00_00_26_run1_reco2_reco2'\n",
    "    CCPI0 = 'prodgenie_cc_pi0_uboone_overlay_v08_00_00_26_run1_reco2'\n",
    "    CCNOPI = 'prodgenie_CCmuNoPi_overlay_mcc9_v08_00_00_33_run1_reco2_reco2'\n",
    "    NCCPI = 'prodgenie_NCcPiNoPi0_overlay_mcc9_v08_00_00_33_run1_reco2_reco2'\n",
    "    NCNOPI = 'prodgenie_ncnopi_overlay_mcc9_v08_00_00_33_run1_reco2_reco2'\n",
    "    \n",
    "mc = uproot.open(ls.ntuple_path+NU+\".root\")[fold][tree]\n",
    "ncpi0 = uproot.open(ls.ntuple_path+NCPI0+\".root\")[fold][tree]\n",
    "ccpi0 = uproot.open(ls.ntuple_path+CCPI0+\".root\")[fold][tree]\n",
    "ccnopi = uproot.open(ls.ntuple_path+CCNOPI+\".root\")[fold][tree]\n",
    "nccpi = uproot.open(ls.ntuple_path+NCCPI+\".root\")[fold][tree]\n",
    "ncnopi = uproot.open(ls.ntuple_path+NCNOPI+\".root\")[fold][tree]\n",
    "nue = uproot.open(ls.ntuple_path+NUE+\".root\")[fold][tree]\n",
    "data = uproot.open(ls.ntuple_path+BNB+\".root\")[fold][tree]\n",
    "ext = uproot.open(ls.ntuple_path+EXT+\".root\")[fold][tree]\n",
    "dirt = uproot.open(ls.ntuple_path+DRT+\".root\")[fold][tree]\n",
    "lee = uproot.open(ls.ntuple_path+NUE+\".root\")[fold][tree]\n",
    "\n",
    "uproot_v = [lee,mc,ncpi0,ccpi0,ccnopi,nccpi,ncnopi,nue,ext,data,dirt]\n",
    "\n",
    "variables = [\"nu_e\",\"run\",\"sub\",\"evt\"]\n",
    "\n",
    "nue = nue.pandas.df(variables, flatten=False)\n",
    "mc = mc.pandas.df(variables, flatten=False)\n",
    "ncpi0 = ncpi0.pandas.df(variables, flatten=False)\n",
    "ccpi0 = ccpi0.pandas.df(variables, flatten=False)\n",
    "ccnopi = ccnopi.pandas.df(variables, flatten=False)\n",
    "nccpi = nccpi.pandas.df(variables, flatten=False)\n",
    "ncnopi = ncnopi.pandas.df(variables, flatten=False)\n",
    "data = data.pandas.df(variables, flatten=False)\n",
    "ext = ext.pandas.df(variables, flatten=False)\n",
    "dirt = dirt.pandas.df(variables, flatten=False)\n",
    "lee = lee.pandas.df(variables, flatten=False)"
   ]
  },
  {
   "cell_type": "code",
   "execution_count": 8,
   "metadata": {},
   "outputs": [
    {
     "name": "stdout",
     "output_type": "stream",
     "text": [
      "in sample LEE 0.0 % of entries are duplicate\n",
      "in sample MC 0.0 % of entries are duplicate\n",
      "in sample NCpi0 0.0 % of entries are duplicate\n",
      "in sample CCpi0 0.0 % of entries are duplicate\n",
      "in sample CCnoPi 0.0 % of entries are duplicate\n",
      "in sample NCcPi 0.0 % of entries are duplicate\n",
      "in sample NCnoPi 0.0 % of entries are duplicate\n",
      "in sample nue 0.0 % of entries are duplicate\n",
      "in sample dirt 0.0 % of entries are duplicate\n",
      "in sample data 0.0 % of entries are duplicate\n",
      "in sample ext 0.1 % of entries are duplicate\n"
     ]
    }
   ],
   "source": [
    "df_v   = [lee,mc,ncpi0,ccpi0,ccnopi,nccpi,ncnopi,nue,dirt,data,ext]\n",
    "name_v = ['LEE','MC','NCpi0','CCpi0','CCnoPi','NCcPi','NCnoPi','nue','dirt','data','ext']\n",
    "\n",
    "for i,df in enumerate(df_v):\n",
    "    \n",
    "    groups = df.groupby(['run','sub','evt','nu_e'])\n",
    "    \n",
    "    size = groups.size()\n",
    "    n1 = float(len(np.where(size==1)[0]))\n",
    "    n2 = len(np.where(size>1)[0])\n",
    "    print ('in sample %s %.01f %% of entries are duplicate'%(name_v[i],100.*(n2/n1)) )"
   ]
  },
  {
   "cell_type": "code",
   "execution_count": 9,
   "metadata": {},
   "outputs": [
    {
     "name": "stdout",
     "output_type": "stream",
     "text": [
      "in sample EXT C1 Pi0-filter 0.0 % of entries are duplicate\n",
      "in sample EXT C2 Pi0-filter 0.5 % of entries are duplicate\n",
      "in sample EXT D2 Pi0-filter 0.0 % of entries are duplicate\n",
      "in sample EXT E1 Pi0-filter 0.0 % of entries are duplicate\n",
      "in sample EXT E2 Pi0-filter 0.0 % of entries are duplicate\n",
      "in sample EXT F Pi0-filter 0.0 % of entries are duplicate\n",
      "in sample EXT G1 Pi0-filter 0.2 % of entries are duplicate\n",
      "in sample EXT G2 Pi0-filter 0.0 % of entries are duplicate\n",
      "in sample EXT G2a Pi0-filter 0.0 % of entries are duplicate\n",
      "in sample BNB C1 Pi0-filter 0.0 % of entries are duplicate\n",
      "in sample BNB E1 Pi0-filter 0.7 % of entries are duplicate\n",
      "in sample BNB F Pi0-filter 0.0 % of entries are duplicate\n",
      "in sample BNB G1 Pi0-filter 1.2 % of entries are duplicate\n"
     ]
    }
   ],
   "source": [
    "DEF_V = [\"C1\",\"C2\",\"D2\",\"E1\",\"E2\",\"F\",\"G1\",\"G2\",\"G2a\"]\n",
    "for DEF in DEF_V:\n",
    "    PI0EXT  = ls.main_path+\"pi0/\"+\"data_extbnb_mcc9.1_v08_00_00_25_reco2_%s_pi0_reco2.root\"%(DEF)\n",
    "    pi0_tree = uproot.open(PI0EXT)[fold][tree]\n",
    "    df = pi0_tree.pandas.df([\"run\", \"sub\",\"evt\"])\n",
    "    groups = df.groupby(['run','sub','evt'])\n",
    "    size = groups.size()\n",
    "    n1 = float(len(np.where(size==1)[0]))\n",
    "    n2 = len(np.where(size>1)[0])\n",
    "    print ('in sample EXT %s Pi0-filter %.01f %% of entries are duplicate'%(DEF,100.*(n2/n1)) )    \n",
    "    \n",
    "DEF_V = [\"C1\",\"E1\",\"F\",\"G1\"]\n",
    "for DEF in DEF_V:\n",
    "    PI0EXT  = ls.main_path+\"pi0/\"+\"data_bnb_mcc9.1_v08_00_00_25_reco2_%s_pi0_reco2.root\"%(DEF)\n",
    "    pi0_tree = uproot.open(PI0EXT)[fold][tree]\n",
    "    df = pi0_tree.pandas.df([\"run\", \"sub\",\"evt\"])\n",
    "    groups = df.groupby(['run','sub','evt'])\n",
    "    size = groups.size()\n",
    "    n1 = float(len(np.where(size==1)[0]))\n",
    "    n2 = len(np.where(size>1)[0])\n",
    "    print ('in sample BNB %s Pi0-filter %.01f %% of entries are duplicate'%(DEF,100.*(n2/n1)) )"
   ]
  },
  {
   "cell_type": "code",
   "execution_count": null,
   "metadata": {},
   "outputs": [],
   "source": []
  }
 ],
 "metadata": {
  "accelerator": "GPU",
  "colab": {
   "name": "Plotter.ipynb",
   "provenance": [],
   "version": "0.3.2"
  },
  "kernelspec": {
   "display_name": "Python 3",
   "language": "python",
   "name": "python3"
  },
  "language_info": {
   "codemirror_mode": {
    "name": "ipython",
    "version": 3
   },
   "file_extension": ".py",
   "mimetype": "text/x-python",
   "name": "python",
   "nbconvert_exporter": "python",
   "pygments_lexer": "ipython3",
   "version": "3.7.4"
  }
 },
 "nbformat": 4,
 "nbformat_minor": 1
}
