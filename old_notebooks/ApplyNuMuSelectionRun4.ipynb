{
 "cells": [
  {
   "cell_type": "code",
   "execution_count": null,
   "metadata": {},
   "outputs": [],
   "source": [
    "import sys\n",
    "import localSettings as ls\n",
    "import os\n",
    "print(ls.main_path)"
   ]
  },
  {
   "cell_type": "code",
   "execution_count": null,
   "metadata": {
    "colab": {
     "base_uri": "https://localhost:8080/",
     "height": 34
    },
    "colab_type": "code",
    "executionInfo": {
     "elapsed": 517,
     "status": "ok",
     "timestamp": 1560556807118,
     "user": {
      "displayName": "Stefano Roberto Soleti",
      "photoUrl": "https://lh4.googleusercontent.com/-hfLpspJu4Q0/AAAAAAAAAAI/AAAAAAAABmA/2kE4rtj8paU/s64/photo.jpg",
      "userId": "10372352518008961760"
     },
     "user_tz": 240
    },
    "id": "6qsD0G-yYJ9K",
    "outputId": "5d52a3ec-50be-44fc-da44-3c0593e98bc6"
   },
   "outputs": [],
   "source": [
    "main_path = ls.main_path\n",
    "sys.path.append(main_path)"
   ]
  },
  {
   "cell_type": "code",
   "execution_count": null,
   "metadata": {},
   "outputs": [],
   "source": [
    "from datetime import datetime\n",
    "now = datetime.now()\n",
    "date_time = now.strftime(\"%m%d%Y\")\n",
    "print(\"date and time:\",date_time)"
   ]
  },
  {
   "cell_type": "code",
   "execution_count": null,
   "metadata": {},
   "outputs": [],
   "source": [
    "from scipy.optimize import curve_fit\n",
    "\n",
    "def gauss(x,mu,sigma,A):\n",
    "    norm = A/(np.sqrt(2*np.pi)*sigma)\n",
    "    exp  = np.exp(-((x-mu)**2)/(2*sigma*sigma))\n",
    "    return norm * exp"
   ]
  },
  {
   "cell_type": "code",
   "execution_count": null,
   "metadata": {
    "colab": {},
    "colab_type": "code",
    "id": "xGqTJ5JgaDsx"
   },
   "outputs": [],
   "source": [
    "import plotter\n",
    "import importlib\n",
    "importlib.reload(plotter)\n",
    "import uproot\n",
    "import matplotlib.pylab as pylab\n",
    "import numpy as np\n",
    "import math\n",
    "from sklearn.model_selection import train_test_split\n",
    "import pickle\n",
    "#if USEBDT:\n",
    "import xgboost as xgb\n",
    "import nue_booster \n",
    "importlib.reload(nue_booster)\n",
    "import awkward\n",
    "import pandas as pd\n",
    "\n",
    "params = {\n",
    "    'axes.labelsize': 'x-large',\n",
    "    'axes.titlesize': 'x-large',\n",
    "    'xtick.labelsize': 'x-large',\n",
    "    'ytick.labelsize': 'x-large'\n",
    "}\n",
    "pylab.rcParams.update(params)"
   ]
  },
  {
   "cell_type": "code",
   "execution_count": null,
   "metadata": {},
   "outputs": [],
   "source": [
    "import load_data_run123"
   ]
  },
  {
   "cell_type": "code",
   "execution_count": null,
   "metadata": {},
   "outputs": [],
   "source": [
    "PATHRUN1 = '/Users/dcaratelli/data/searchingfornues/v08_00_00_48/farsidebands/nslice/'\n",
    "PATHRUN2 = '/Users/dcaratelli/data/searchingfornues/v08_00_00_48/farsidebands/nslice/'\n",
    "PATHRUN3 = '/Users/dcaratelli/data/searchingfornues/v08_00_00_48/farsidebands/nslice/'\n",
    "PATHRUN4 = '/Users/dcaratelli/data/searchingfornues/v08_00_00_63/run4/'"
   ]
  },
  {
   "cell_type": "code",
   "execution_count": null,
   "metadata": {},
   "outputs": [],
   "source": [
    "FILERUN1 = 'run1_neutrinoselection_filt_numu_ALL.root'\n",
    "FILERUN2 = 'run2_neutrinoselection_filt_numu_ALL.root'\n",
    "FILERUN3 = 'run3_neutrinoselection_filt_numu_ALL.root'\n",
    "FILERUN4 = 'bnb_on_run4a_reco2_v08_00_00_63_POT_DEBUG_run4a_reco2_beam_good.root'"
   ]
  },
  {
   "cell_type": "code",
   "execution_count": null,
   "metadata": {},
   "outputs": [],
   "source": [
    "fold = 'nuselection'\n",
    "tree = 'NeutrinoSelectionFilter'"
   ]
  },
  {
   "cell_type": "code",
   "execution_count": null,
   "metadata": {},
   "outputs": [],
   "source": [
    "VARDICT = load_data_run123.get_variables()\n",
    "variables = VARDICT['VARIABLES']"
   ]
  },
  {
   "cell_type": "code",
   "execution_count": null,
   "metadata": {},
   "outputs": [],
   "source": [
    "print (\"topological_score\" in variables)"
   ]
  },
  {
   "cell_type": "code",
   "execution_count": null,
   "metadata": {},
   "outputs": [],
   "source": [
    "up1 = uproot.open(PATHRUN1+FILERUN1)[fold][tree]\n",
    "df1 = up1.pandas.df(variables, flatten=False)"
   ]
  },
  {
   "cell_type": "code",
   "execution_count": null,
   "metadata": {},
   "outputs": [],
   "source": [
    "up2 = uproot.open(PATHRUN2+FILERUN2)[fold][tree]\n",
    "df2 = up2.pandas.df(variables, flatten=False)"
   ]
  },
  {
   "cell_type": "code",
   "execution_count": null,
   "metadata": {},
   "outputs": [],
   "source": [
    "up3 = uproot.open(PATHRUN3+FILERUN3)[fold][tree]\n",
    "df3 = up3.pandas.df(variables, flatten=False)"
   ]
  },
  {
   "cell_type": "code",
   "execution_count": null,
   "metadata": {},
   "outputs": [],
   "source": [
    "up4 = uproot.open(PATHRUN4+FILERUN4)[fold][tree]\n",
    "df4 = up4.pandas.df(variables, flatten=False)"
   ]
  },
  {
   "cell_type": "code",
   "execution_count": null,
   "metadata": {},
   "outputs": [],
   "source": [
    "load_data_run123.process_uproot_numu(up1,df1)\n",
    "load_data_run123.process_uproot_numu(up2,df2)\n",
    "load_data_run123.process_uproot_numu(up3,df3)\n",
    "load_data_run123.process_uproot_numu(up4,df4)"
   ]
  },
  {
   "cell_type": "code",
   "execution_count": null,
   "metadata": {},
   "outputs": [],
   "source": [
    "import unblinding_far_sideband"
   ]
  },
  {
   "cell_type": "code",
   "execution_count": null,
   "metadata": {},
   "outputs": [],
   "source": [
    "df1['bnbdata']  = np.ones_like(df1['nslice'])\n",
    "df2['bnbdata']  = np.ones_like(df2['nslice'])\n",
    "df3['bnbdata']  = np.ones_like(df3['nslice'])\n",
    "df4['bnbdata']  = np.ones_like(df4['nslice'])\n",
    "\n",
    "df1['extdata']  = np.zeros_like(df1['nslice'])\n",
    "df2['extdata']  = np.zeros_like(df2['nslice'])\n",
    "df3['extdata']  = np.zeros_like(df3['nslice'])\n",
    "df4['extdata']  = np.zeros_like(df4['nslice'])\n",
    "#df['extdata']  = np.zeros_like(df['nslice'])"
   ]
  },
  {
   "cell_type": "code",
   "execution_count": null,
   "metadata": {},
   "outputs": [],
   "source": [
    "QUERY = unblinding_far_sideband.NUMUPRESEL# + ' and n_muons_tot > 0'\n",
    "QUERY = unblinding_far_sideband.NUMUSEL"
   ]
  },
  {
   "cell_type": "code",
   "execution_count": null,
   "metadata": {},
   "outputs": [],
   "source": [
    "#QUERY = ' topological_score > 0.5 and nslice == 1'"
   ]
  },
  {
   "cell_type": "code",
   "execution_count": null,
   "metadata": {},
   "outputs": [],
   "source": [
    "print (QUERY)"
   ]
  },
  {
   "cell_type": "code",
   "execution_count": null,
   "metadata": {},
   "outputs": [],
   "source": [
    "QUERY += ' and (run < 19080 or run > 19420)'"
   ]
  },
  {
   "cell_type": "code",
   "execution_count": null,
   "metadata": {},
   "outputs": [],
   "source": [
    "dfsel1 = df1.query(QUERY)\n",
    "dfsel2 = df2.query(QUERY)\n",
    "dfsel3 = df3.query(QUERY)\n",
    "dfsel4 = df4.query(QUERY)"
   ]
  },
  {
   "cell_type": "code",
   "execution_count": null,
   "metadata": {},
   "outputs": [],
   "source": [
    "from matplotlib import pyplot as plt"
   ]
  },
  {
   "cell_type": "code",
   "execution_count": null,
   "metadata": {},
   "outputs": [],
   "source": [
    "fig = plt.figure(figsize=(6,6))\n",
    "\n",
    "BINS = np.linspace(0.15,1.55,14)\n",
    "VAR = 'neutrino_energy'\n",
    "\n",
    "plt.hist(dfsel1[VAR].values,bins=BINS,histtype='step',lw=2,density=True,label='Run 1')\n",
    "plt.hist(dfsel2[VAR].values,bins=BINS,histtype='step',lw=2,density=True,label='Run 2')\n",
    "plt.hist(dfsel3[VAR].values,bins=BINS,histtype='step',lw=2,density=True,label='Run 3')\n",
    "plt.hist(dfsel4[VAR].values,bins=BINS,histtype='step',lw=2,density=True,label='Run 4')\n",
    "\n",
    "plt.xlabel('neutrino energy [GeV]')\n",
    "plt.legend(fontsize=14)\n",
    "plt.show()"
   ]
  },
  {
   "cell_type": "code",
   "execution_count": null,
   "metadata": {},
   "outputs": [],
   "source": [
    "fig = plt.figure(figsize=(6,6))\n",
    "\n",
    "BINS = np.linspace(-1,1,20)\n",
    "VAR = 'muon_theta'\n",
    "\n",
    "plt.hist(dfsel1[VAR].values,bins=BINS,histtype='step',lw=2,density=True,label='Run 1')\n",
    "plt.hist(dfsel2[VAR].values,bins=BINS,histtype='step',lw=2,density=True,label='Run 2')\n",
    "plt.hist(dfsel3[VAR].values,bins=BINS,histtype='step',lw=2,density=True,label='Run 3')\n",
    "plt.hist(dfsel4[VAR].values,bins=BINS,histtype='step',lw=2,density=True,label='Run 4')\n",
    "\n",
    "plt.xlabel('muon cos-theta')\n",
    "plt.legend(fontsize=14,loc=2)\n",
    "plt.show()"
   ]
  },
  {
   "cell_type": "code",
   "execution_count": null,
   "metadata": {},
   "outputs": [],
   "source": [
    "fig = plt.figure(figsize=(6,6))\n",
    "\n",
    "BINS = np.linspace(0.15,1.55,14)\n",
    "VAR = 'muon_energy'\n",
    "\n",
    "plt.hist(dfsel1[VAR].values,bins=BINS,histtype='step',lw=2,density=True,label='Run 1')\n",
    "plt.hist(dfsel2[VAR].values,bins=BINS,histtype='step',lw=2,density=True,label='Run 2')\n",
    "plt.hist(dfsel3[VAR].values,bins=BINS,histtype='step',lw=2,density=True,label='Run 3')\n",
    "plt.hist(dfsel4[VAR].values,bins=BINS,histtype='step',lw=2,density=True,label='Run 4')\n",
    "\n",
    "plt.xlabel('muon energy [GeV]')\n",
    "plt.legend(fontsize=14,loc=1)\n",
    "plt.show()"
   ]
  },
  {
   "cell_type": "code",
   "execution_count": null,
   "metadata": {},
   "outputs": [],
   "source": []
  }
 ],
 "metadata": {
  "accelerator": "GPU",
  "colab": {
   "name": "Plotter.ipynb",
   "provenance": [],
   "version": "0.3.2"
  },
  "kernelspec": {
   "display_name": "Python 3 (ipykernel)",
   "language": "python",
   "name": "python3"
  },
  "language_info": {
   "codemirror_mode": {
    "name": "ipython",
    "version": 3
   },
   "file_extension": ".py",
   "mimetype": "text/x-python",
   "name": "python",
   "nbconvert_exporter": "python",
   "pygments_lexer": "ipython3",
   "version": "3.7.9"
  }
 },
 "nbformat": 4,
 "nbformat_minor": 1
}
