{
 "cells": [
  {
   "cell_type": "code",
   "execution_count": 1,
   "metadata": {},
   "outputs": [],
   "source": [
    "import sys\n",
    "try:\n",
    "    from google.colab import drive\n",
    "    drive.mount(\"/content/drive\")\n",
    "    main_path = '/content/drive/My Drive/lee_mcc9/'\n",
    "except:\n",
    "    main_path = ''\n",
    "sys.path.append(main_path)"
   ]
  },
  {
   "cell_type": "code",
   "execution_count": 114,
   "metadata": {},
   "outputs": [],
   "source": [
    "import uproot\n",
    "import numpy as np\n",
    "import math\n",
    "import matplotlib.pyplot as plt\n",
    "\n",
    "fold = \"nuselection\"\n",
    "tree = \"NeutrinoSelectionFilter\"\n",
    "\n",
    "variables = [\n",
    "    \"shr_dedx_Y\", \"shr_bkt_pdg\", \"p\", \"pt\", \"selected\", \"nu_pdg\", \"shr_theta\",\n",
    "    \"slpdg\", \"trk_score_v\", \"shr_theta_v\", \"shr_score_v\",\n",
    "    \"shr_pfp_id_v\", \"category\", \"shr_tkfit_dedx_Y\", \"trk_pfp_id\",\n",
    "    \"shr_energy_tot\", \"trk_energy_tot\", \"shr_hits_tot\", \"ccnc\", \"trk_chipr\",\n",
    "    \"trk_bkt_pdg\", \"hits_ratio\", \"n_tracks_contained\", \"shr_dedx_y_v\",\n",
    "    \"nproton\", \"nu_e\", \"n_showers_contained\", \"shr_distance\", \"trk_distance\",\n",
    "    \"hits_y\", \"shr_pz\", \"shr_energy\", \"shr_dedx_U\", \"shr_dedx_V\", \"shr_phi\", \"trk_phi\", \"trk_theta\",\n",
    "    \"shr_tkfit_dedx_U\", \"shr_tkfit_dedx_V\", \"run\", \"sub\", \"evt\", \"nproton\", \"trk_pid_chipr_v\",\n",
    "    \"trk_len\", \"slnunhits\", \"slnhits\", \"shr_score\", \"trk_score\", \"trk_hits_tot\",\n",
    "    \"true_e_visible\", \"matched_E\", \"shr_bkt_E\", \"trk_bkt_E\", \"trk_energy\", \"tksh_distance\", \"tksh_angle\",\n",
    "    \"trk_chipr_best\", \"trk_chipr_worst\", \"trk_pida\", \"trk_chimu\", \"CosmicIP\", \"trk_bragg_p\", \"trk_bragg_mu\",\n",
    "    \"trk_bragg_mip\", \"shr_chipr\", \"shr_bragg_p\", \"shr_bragg_mu\", \"shr_chimu\",\n",
    "    \"shr_pca_2\", \"shr_pca_0\", \"shr_pca_1\", \"npi0\", \"gamma1_edep\", \"gamma2_edep\", \"topological_score\",\n",
    "    \"pi0_e\", \"shr_energy_tot_cali\", \"shr_dedx_Y_cali\", \"evnunhits\", \"nslice\" #, \"crtveto\", \"crthitpe\",\n",
    "#    \"_closestNuCosmicDist\"\n",
    "]\n",
    "\n",
    "\n",
    "nue = {\n",
    "    r\"$\\nu_e$ + CORSIKA\" : uproot.open(main_path+\"root_files/nue_corsika.root\")[fold][tree].pandas.df(variables, flatten=False),\n",
    "    \"Set A\" :  uproot.open(main_path+\"root_files/seta.root\")[fold][tree].pandas.df(variables, flatten=False),\n",
    "    \"Set B\" :  uproot.open(main_path+\"root_files/setb.root\")[fold][tree].pandas.df(variables, flatten=False),\n",
    "    \"Set C\" :  uproot.open(main_path+\"root_files/setc.root\")[fold][tree].pandas.df(variables, flatten=False),\n",
    "    \"Set D\" :  uproot.open(main_path+\"root_files/setd.root\")[fold][tree].pandas.df(variables, flatten=False),\n",
    "    \"Set E\" :  uproot.open(main_path+\"root_files/setd.root\")[fold][tree].pandas.df(variables, flatten=False)\n",
    "}"
   ]
  },
  {
   "cell_type": "code",
   "execution_count": 119,
   "metadata": {},
   "outputs": [
    {
     "data": {
      "image/png": "[encoded data removed]",
      "text/plain": [
       "<Figure size 432x288 with 1 Axes>"
      ]
     },
     "metadata": {
      "needs_background": "light"
     },
     "output_type": "display_data"
    }
   ],
   "source": [
    "x_range = 0,1\n",
    "n_bins = 20\n",
    "var_name = \"shr_energy_tot_cali\"\n",
    "n_nue = {}\n",
    "\n",
    "for sample in nue:\n",
    "    nue[sample][\"reco_e\"] = (nue[sample][\"shr_energy_tot_cali\"] + 0.030) / 0.79 + nue[sample][\"trk_energy_tot\"]\n",
    "\n",
    "    nue_tree = nue[sample]\n",
    "\n",
    "    nue_queried_tree = nue_tree.query(\"selected==1 & nu_e < 0.4\")\n",
    "    nue_variable = nue_queried_tree[var_name]\n",
    "\n",
    "    n, bins = np.histogram(\n",
    "        nue_variable,\n",
    "        range=x_range,\n",
    "        bins=n_bins,\n",
    "        density=True,\n",
    "    )\n",
    "    \n",
    "    n_nue[sample] = n\n",
    "\n",
    "for sample in nue:\n",
    "    left,right = bins[:-1],bins[1:]\n",
    "    X = np.array([left,right]).T.flatten()\n",
    "    Y = np.array([n_nue[sample],n_nue[sample]]).T.flatten()\n",
    "    if sample == r\"$\\nu_e$ + CORSIKA\":\n",
    "        plt.plot(X,Y,label=sample, color=\"r\")\n",
    "    else:\n",
    "        plt.plot(X,Y,label=sample)\n",
    "\n",
    "plt.xlabel(r\"Track-shower distance [cm]\")\n",
    "plt.xlim(x_range[0],x_range[1])\n",
    "plt.ylim(ymin=0)\n",
    "plt.legend()\n",
    "plt.tight_layout()\n",
    "plt.savefig(\"plots/cheated.pdf\")"
   ]
  },
  {
   "cell_type": "code",
   "execution_count": null,
   "metadata": {},
   "outputs": [],
   "source": []
  },
  {
   "cell_type": "code",
   "execution_count": null,
   "metadata": {},
   "outputs": [],
   "source": []
  }
 ],
 "metadata": {
  "kernelspec": {
   "display_name": "Python 3",
   "language": "python",
   "name": "python3"
  },
  "language_info": {
   "codemirror_mode": {
    "name": "ipython",
    "version": 3
   },
   "file_extension": ".py",
   "mimetype": "text/x-python",
   "name": "python",
   "nbconvert_exporter": "python",
   "pygments_lexer": "ipython3",
   "version": "3.7.4"
  }
 },
 "nbformat": 4,
 "nbformat_minor": 2
}
