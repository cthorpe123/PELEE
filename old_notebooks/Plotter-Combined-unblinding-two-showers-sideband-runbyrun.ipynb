{
 "cells": [
  {
   "cell_type": "markdown",
   "metadata": {},
   "source": [
    "# Two showers sideband run by run"
   ]
  },
  {
   "cell_type": "code",
   "execution_count": null,
   "metadata": {},
   "outputs": [],
   "source": [
    "%load_ext autoreload\n",
    "%autoreload 2"
   ]
  },
  {
   "cell_type": "code",
   "execution_count": null,
   "metadata": {},
   "outputs": [],
   "source": [
    "#pi0scaling = {\"val\": 0, \"suffix\": \"\", \"title\": \"No pi0 Scaling\"} #no scaling\n",
    "#pi0scaling = {\"val\": 1, \"suffix\": \"_pi0flat\", \"title\": \"0.759 pi0 Scaling\"} #flat scaling\n",
    "pi0scaling = {\"val\": 2, \"suffix\": \"_pi0e035\", \"title\": \"Energy-dependent pi0 Scaling\"} #energy-dependent\n"
   ]
  },
  {
   "cell_type": "code",
   "execution_count": null,
   "metadata": {},
   "outputs": [],
   "source": [
    "from matplotlib import pyplot as plt\n",
    "\n",
    "params = {\n",
    "    'axes.labelsize': 'x-large',\n",
    "    'axes.titlesize': 'x-large',\n",
    "    'xtick.labelsize': 'x-large',\n",
    "    'ytick.labelsize': 'x-large'\n",
    "}\n",
    "plt.rcParams.update(params)\n",
    "\n",
    "from load_data_run123 import *\n",
    "from unblinding_far_sideband import *"
   ]
  },
  {
   "cell_type": "code",
   "execution_count": null,
   "metadata": {},
   "outputs": [],
   "source": [
    "import sys\n",
    "import localSettings as ls\n",
    "print(ls.main_path)\n",
    "main_path = ls.main_path\n",
    "sys.path.append(main_path)"
   ]
  },
  {
   "cell_type": "code",
   "execution_count": null,
   "metadata": {},
   "outputs": [],
   "source": [
    "samples = load_data_run123(which_sideband='2plus_showers', return_plotter=False, pi0scaling=pi0scaling[\"val\"])"
   ]
  },
  {
   "cell_type": "code",
   "execution_count": null,
   "metadata": {},
   "outputs": [],
   "source": [
    "plotter_runbyrun = {}\n",
    "for run in [1, 2, 3, 123, 12]:\n",
    "    this_weights, this_pot = get_weights(run)\n",
    "    plotter_runbyrun[run] = plotter.Plotter(samples, this_weights, pot=this_pot)"
   ]
  },
  {
   "cell_type": "code",
   "execution_count": null,
   "metadata": {},
   "outputs": [],
   "source": [
    "TRAINVAR = [\"shr_score\",\"tksh_distance\",\"tksh_angle\",\n",
    "            \"shr_tkfit_dedx_max\",\n",
    "            \"trkfit\",\"trkpid\",\n",
    "            \"subcluster\",\"shrmoliereavg\",\n",
    "            \"trkshrhitdist2\",\"hits_ratio\",\n",
    "            \"secondshower_Y_nhit\",\"secondshower_Y_vtxdist\",\"secondshower_Y_dot\",\"anglediff_Y\",\n",
    "            \"CosmicIPAll3D\",\"CosmicDirAll3D\"]\n",
    "\n",
    "pvaluetypes = ['pvalue','pvaluediag','pvaluestatonly']"
   ]
  },
  {
   "cell_type": "markdown",
   "metadata": {},
   "source": [
    "# Study Np selection on the 2+ shower sideband, after unblinding"
   ]
  },
  {
   "cell_type": "code",
   "execution_count": null,
   "metadata": {
    "scrolled": false
   },
   "outputs": [],
   "source": [
    "from unblinding_far_sideband import *\n",
    "for run in [1, 2, 3, 12, 123]:\n",
    "#for run in [3,12,123]:\n",
    "    for stage in [1,3,4,5,6,7,8,9]:\n",
    "    #for stage in [0]:\n",
    "        print('\\nRun %i, Stage %i'%(run, stage))\n",
    "        this_folder = ls.plots_path+'PELEE_two_showers_sideband_np_selection_runbyrun/'\n",
    "        this_folder += 'run_{}/'.format(run)\n",
    "        this_folder += 'stage_{}'.format(stage)\n",
    "        this_folder += (pi0scaling[\"suffix\"]+'/')\n",
    "        !mkdir -p $this_folder\n",
    "\n",
    "        this_query = stages_queries_two_plus_showers[stage]\n",
    "        if run in [1, 2, 3, 12]:\n",
    "            this_query += f' and run{run}==True'\n",
    "        this_title = f'Two+ showers sideband - run {run} - ' + pi0scaling[\"title\"] + '\\n' +\\\n",
    "                       stages_titles_two_plus_showers[stage]\n",
    "\n",
    "        pvalues = [[] for _ in range(len(pvaluetypes))]\n",
    "\n",
    "        for plot_variable in plot_variables:\n",
    "            VARIABLE, BINS, RANGE, XTIT = plot_variable[0:4]\n",
    "            #if VARIABLE != 'n_showers_contained':\n",
    "            #if VARIABLE != 'n_tracks_contained':\n",
    "            #if len(plot_variable)>4 or VARIABLE not in TRAINVAR:\n",
    "            #if XTIT != 'normalization':\n",
    "            #    continue\n",
    "            print(VARIABLE, BINS, RANGE, XTIT)\n",
    "            fig, ax1, ax2 = plotter_runbyrun[run].plot_variable(\n",
    "                VARIABLE,   \n",
    "                query=this_query,\n",
    "                kind=\"event_category\",\n",
    "                draw_sys=True,\n",
    "                stacksort=3,\n",
    "                title=XTIT,\n",
    "                bins=BINS,\n",
    "                range=RANGE,\n",
    "            )[0:3]\n",
    "\n",
    "            if len(plot_variable) == 6:\n",
    "                if plot_variable[5] is True:\n",
    "                    ax1.set_yscale('log')\n",
    "            else:\n",
    "                ax1.set_ylim(0, ax1.get_ylim()[1]*1.8)\n",
    "\n",
    "            ax1.set_title(this_title, loc='left')\n",
    "\n",
    "            plt.tight_layout()\n",
    "            save_path = this_folder+VARIABLE\n",
    "            if len(plot_variable) >= 5:\n",
    "                save_path += ('_' + plot_variable[4])\n",
    "            fig.savefig(save_path + '.png', dpi=250)    \n",
    "            plt.close()\n",
    "            \n",
    "            # store pvalues\n",
    "            if len(plot_variable)==4 and VARIABLE in TRAINVAR:\n",
    "                for idx, pvt in enumerate(pvaluetypes):\n",
    "                    pvalues[idx].append(plotter_runbyrun[run].stats[pvt])\n",
    "        # make pvalue plots\n",
    "        #print(pvalues)\n",
    "        for idx, pvt in enumerate(pvaluetypes):\n",
    "            if len(pvalues[idx])!=16: continue\n",
    "            plt.figure(figsize=(9, 7))\n",
    "            plt.hist(pvalues[idx], bins=10, range=(0,1))\n",
    "            plt.title(this_title, loc='left')\n",
    "            plt.xlabel(pvt)\n",
    "            plt.ylabel(\"number of BDT input variables\")\n",
    "            plt.savefig(this_folder + pvt + '.png', dpi=250)\n",
    "            plt.close()"
   ]
  },
  {
   "cell_type": "code",
   "execution_count": null,
   "metadata": {},
   "outputs": [],
   "source": [
    "#samples['data'].query(BDTCQ)[[\"run\",\"sub\",\"evt\",\"reco_e\",\"pi0_score\",\"nonpi0_score\",\"n_showers_contained\",\"n_tracks_contained\"]]\n",
    "samples['data'].query(BDTCQ)[[\"run\",\"sub\",\"evt\",\"reco_e\",\"pi0_score\",\"nonpi0_score\",\"n_showers_contained\",\"n_tracks_contained\",\"reco_nu_vtx_sce_x\",\"reco_nu_vtx_sce_y\",\"reco_nu_vtx_sce_z\"]]"
   ]
  },
  {
   "cell_type": "code",
   "execution_count": null,
   "metadata": {},
   "outputs": [],
   "source": [
    "from unblinding_far_sideband import *\n",
    "for run in [3]:\n",
    "    for stage in [4, 5]:            \n",
    "        this_folder = ls.plots_path+'PELEE_two_showers_sideband_np_selection_runbyrun/'\n",
    "        this_folder += 'run_{}/'.format(run)\n",
    "        this_folder += 'stage_{}/'.format(stage)\n",
    "        !mkdir -p $this_folder\n",
    "\n",
    "        this_query = stages_queries_two_plus_showers[stage]\n",
    "        if run in [1, 2, 3]:\n",
    "            this_query += f' and run{run}==True'\n",
    "        this_title = f'Two+ showers sideband - run {run}\\n' +\\\n",
    "                        r'$\\nu_e$ preselection and N-showers contained >= 2' +\\\n",
    "                        '\\n' + stages_titles_two_plus_showers[stage]\n",
    "\n",
    "        for plot_variable in plot_variables:\n",
    "            VARIABLE, BINS, RANGE, XTIT = plot_variable[0:4]\n",
    "            print(VARIABLE, BINS, RANGE, XTIT)\n",
    "            fig, ax1, ax2 = plotter_runbyrun[run].plot_variable(\n",
    "                VARIABLE,   \n",
    "                query=this_query,\n",
    "                kind=\"event_category\",\n",
    "                draw_sys=True,\n",
    "                stacksort=3,\n",
    "                title=XTIT,\n",
    "                bins=BINS,\n",
    "                range=RANGE,\n",
    "            )[0:3]\n",
    "\n",
    "            if len(plot_variable) == 6:\n",
    "                if plot_variable[5] is True:\n",
    "                    ax1.set_yscale('log')\n",
    "            else:\n",
    "                ax1.set_ylim(0, ax1.get_ylim()[1]*1.6)\n",
    "\n",
    "            ax1.set_title(this_title, loc='left')\n",
    "\n",
    "            plt.tight_layout()\n",
    "            save_path = this_folder+VARIABLE\n",
    "            if len(plot_variable) >= 5:\n",
    "                save_path += ('_' + plot_variable[4])\n",
    "            fig.savefig(save_path + '.png', dpi=250)    \n",
    "            plt.close()"
   ]
  },
  {
   "cell_type": "markdown",
   "metadata": {},
   "source": [
    "# Study Np selection low-medium energy on the 2+ shower sideband, after unblinding"
   ]
  },
  {
   "cell_type": "code",
   "execution_count": null,
   "metadata": {},
   "outputs": [],
   "source": [
    "from unblinding_far_sideband import *\n",
    "for run in [1, 2, 3, 123]:\n",
    "    for stage in [0]:        \n",
    "        this_folder = ls.plots_path+'PELEE_two_showers_sideband_np_selection_low_medium_energy_runbyrun/'\n",
    "        this_folder += 'run_{}/'.format(run)\n",
    "        this_folder += 'stage_{}/'.format(stage)\n",
    "        !mkdir -p $this_folder\n",
    "\n",
    "        this_query = stages_queries_two_plus_showers_low_medium_energy[stage]\n",
    "        if run in [1, 2, 3]:\n",
    "            this_query += f' and run{run}==True'\n",
    "        this_title = f'Two+ showers sideband - run {run}\\n' +\\\n",
    "                        r'$\\nu_e$ preselection and N-showers contained >= 2' +\\\n",
    "                        '\\n' + stages_titles_two_plus_showers_low_medium_energy[stage]\n",
    "\n",
    "        for plot_variable in plot_variables:\n",
    "            VARIABLE, BINS, RANGE, XTIT = plot_variable[0:4]\n",
    "            print(VARIABLE, BINS, RANGE, XTIT)\n",
    "            fig, ax1, ax2 = plotter_runbyrun[run].plot_variable(\n",
    "                VARIABLE,   \n",
    "                query=this_query,\n",
    "                kind=\"event_category\",\n",
    "                draw_sys=True,\n",
    "                stacksort=3,\n",
    "                title=XTIT,\n",
    "                bins=BINS,\n",
    "                range=RANGE,\n",
    "            )[0:3]\n",
    "\n",
    "            if len(plot_variable) == 6:\n",
    "                if plot_variable[5] is True:\n",
    "                    ax1.set_yscale('log')\n",
    "            else:\n",
    "                ax1.set_ylim(0, ax1.get_ylim()[1]*1.6)\n",
    "\n",
    "            ax1.set_title(this_title, loc='left')\n",
    "\n",
    "            plt.tight_layout()\n",
    "            save_path = this_folder+VARIABLE\n",
    "            if len(plot_variable) >= 5:\n",
    "                save_path += ('_' + plot_variable[4])\n",
    "            fig.savefig(save_path + '.png', dpi=250)    \n",
    "            plt.close()"
   ]
  },
  {
   "cell_type": "code",
   "execution_count": null,
   "metadata": {},
   "outputs": [],
   "source": []
  }
 ],
 "metadata": {
  "accelerator": "GPU",
  "colab": {
   "name": "Plotter.ipynb",
   "provenance": [],
   "version": "0.3.2"
  },
  "kernelspec": {
   "display_name": "Python 3",
   "language": "python",
   "name": "python3"
  },
  "language_info": {
   "codemirror_mode": {
    "name": "ipython",
    "version": 3
   },
   "file_extension": ".py",
   "mimetype": "text/x-python",
   "name": "python",
   "nbconvert_exporter": "python",
   "pygments_lexer": "ipython3",
   "version": "3.7.4"
  }
 },
 "nbformat": 4,
 "nbformat_minor": 4
}
