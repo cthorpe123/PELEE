{
 "cells": [
  {
   "cell_type": "code",
   "execution_count": null,
   "metadata": {},
   "outputs": [],
   "source": [
    "import matplotlib.pyplot as plt\n",
    "import numpy as np"
   ]
  },
  {
   "cell_type": "code",
   "execution_count": null,
   "metadata": {},
   "outputs": [],
   "source": [
    "plt.rcParams.update({'font.size': 18})"
   ]
  },
  {
   "cell_type": "code",
   "execution_count": null,
   "metadata": {},
   "outputs": [],
   "source": [
    "epoch_v = ['C1','C2','D2','E1','E2','F','G1','G2','G2a']\n",
    "x_v = [1,2,3,4,5,6,7,8,9]\n",
    "offbeam_rate_v = [.99,.87,.85,.91,.97,.97,.94,.90,.76]\n",
    "offbeam_rate_e = [.054,.053,.060,.081,.078,.089,.041,.068,.065]\n",
    "onbeam_rate_v = [1.08,-1,1.10,1.21,-1,1.07,1.08,-1,-1]\n",
    "onbeam_rate_e = [0.027,-1,0.024,0.052,-1,0.055,0.026,-1,-1]\n",
    "onoff_rate_v = [0.861,-1,0.910,0.694,-1,0.847,0.858,-1,-1]\n",
    "onoff_rate_e = [.0519,-1,.0676,.0686,-1,.0885,.0431,-1,-1]"
   ]
  },
  {
   "cell_type": "code",
   "execution_count": null,
   "metadata": {},
   "outputs": [],
   "source": [
    "fig, ax = plt.subplots(figsize=(10,6))\n",
    "plt.errorbar(x_v,offbeam_rate_v,yerr=offbeam_rate_e,fmt='o',markersize=8,\\\n",
    "             color='b',label=r'off-beam $\\pi^0$/1e5 triggers')\n",
    "plt.errorbar(x_v,onbeam_rate_v,yerr=onbeam_rate_e,fmt='o',markersize=8,\\\n",
    "             color='r',label=r'on-beam $\\pi^0$/1E17 POT')\n",
    "plt.errorbar(x_v,onoff_rate_v,yerr=onoff_rate_e,fmt='o',markersize=8,\\\n",
    "             color='k',label=r'(on-off) beam $\\pi^0$/1E17 POT')\n",
    "plt.ylim([0.5,1.7])\n",
    "plt.legend(loc=1,fontsize=16)\n",
    "ax.set_xticks([1,2,3,4,5,6,7,8,9])\n",
    "ax.set_xticklabels(epoch_v)\n",
    "plt.grid()\n",
    "plt.show()"
   ]
  },
  {
   "cell_type": "code",
   "execution_count": null,
   "metadata": {},
   "outputs": [],
   "source": []
  }
 ],
 "metadata": {
  "kernelspec": {
   "display_name": "Python 3",
   "language": "python",
   "name": "python3"
  },
  "language_info": {
   "codemirror_mode": {
    "name": "ipython",
    "version": 3
   },
   "file_extension": ".py",
   "mimetype": "text/x-python",
   "name": "python",
   "nbconvert_exporter": "python",
   "pygments_lexer": "ipython3",
   "version": "3.7.4"
  }
 },
 "nbformat": 4,
 "nbformat_minor": 2
}
