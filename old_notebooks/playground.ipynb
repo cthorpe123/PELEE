{
 "cells": [
  {
   "cell_type": "code",
   "execution_count": 1,
   "metadata": {},
   "outputs": [
    {
     "data": {
      "text/plain": [
       "<module 'data_loading' from '/uboone/app/users/cthorpe/RefactoredPELEE/data_loading.py'>"
      ]
     },
     "execution_count": 1,
     "metadata": {},
     "output_type": "execute_result"
    }
   ],
   "source": [
    "%load_ext autoreload\n",
    "%autoreload 2\n",
    "\n",
    "import data_loading as dl\n",
    "from importlib import reload\n",
    "reload(dl)"
   ]
  },
  {
   "cell_type": "code",
   "execution_count": 2,
   "metadata": {},
   "outputs": [],
   "source": [
    "pot_data_unblinded = {\n",
    "    # v47 NTuples\n",
    "    # 0304 samples\n",
    "    #    \"opendata\" : {\n",
    "    #        1: (4.08E+19, 9028010),\n",
    "    #        2: (1.00E+01, 1),\n",
    "    #        3: (7.63E+18, 1838700), },\n",
    "    # 0628 samples\n",
    "    \"fulldata\": {\n",
    "        1: (1.67e20, 37094101),\n",
    "        2: (2.62e20, 62168648),\n",
    "        3: (2.57e20, 61381194),\n",
    "    },\n",
    "    # 1: (4.54E+19, 10080350),\n",
    "    # 2: (9.43E+18, 2271036),\n",
    "    # 3: (9.43E+18, 2271036),},\n",
    "    \"opendata\": {\n",
    "        1: (4.54e19, 10080350),\n",
    "        2: (1.00e01, 1),\n",
    "        3: (9.43e18, 2271036),\n",
    "    },\n",
    "    \"pi0\": {\n",
    "        1: (1.509e20, 33582996),\n",
    "        2: (2.411e20, 56116016),\n",
    "        3: (1.971e20, 47133521),\n",
    "    },\n",
    "}\n",
    "\n",
    "pot_mc_samples = {}\n",
    "\n",
    "# v48\n",
    "pot_mc_samples[30] = {\n",
    "    \"mc\": 1.34e21,  # 1.33E+21,\n",
    "    \"nue\": 7.75e22,  # 7.73E+22,\n",
    "    \"lee\": 7.75e22,  # 7.73E+22,\n",
    "    \"ncpi0\": 2.31e21,  # 2.29E+21,\n",
    "    \"ccpi0\": (6.43e21),  # /2., # (6.40E+21)/2.,\n",
    "    \"dirt\": 3.28e20,  # 3.20E+20,\n",
    "    \"ncnopi\": 7.14e21,  # 7.23E+21,\n",
    "    \"nccpi\": 1.82e22,  # 1.80E+22,\n",
    "    \"ccnopi\": 5.51e21,  # 5.51E+21,\n",
    "    \"cccpi\": 5.18e21,  # 5.19E+21,\n",
    "    \"ext\": 198642758,  # 30 -> Run3 G-only\n",
    "}\n",
    "\n",
    "pot_mc_samples[3] = {\n",
    "    \"mc\": 1.34e21,  # 1.33E+21,\n",
    "    #'mc': 19.68E+20, # DETVAR\n",
    "    \"nue\": 7.75e22,  # 7.73E+22,\n",
    "    \"lee\": 7.75e22,  # 7.73E+22,\n",
    "    \"ncpi0\": 2.31e21,  # 2.29E+21,\n",
    "    \"ccpi0\": (6.43e21) / 2.0,  # (6.40E+21)/2.,\n",
    "    \"dirt\": 3.28e20,  # 3.20E+20,\n",
    "    \"ncnopi\": 1.59e22,  # 7.23E+21,\n",
    "    \"nccpi\": 3.63e22,  # 1.80E+22,\n",
    "    \"ccnopi\": 1.11e22,  # 5.51E+21,\n",
    "    \"cccpi\": 1.48e22,  # 5.19E+21,\n",
    "    \"eta\": 2.41e22,\n",
    "    \"ext\": 205802114,  # OLD: 214555174\n",
    "}\n",
    "\n",
    "pot_mc_samples[2] = {\n",
    "    \"mc\": 1.02e21,  # 1.01E+21,\n",
    "    \"nue\": 6.32e22,  # 6.41E+22,\n",
    "    \"lee\": 6.32e22,  # 6.41E+22,\n",
    "    \"ext\": 153236385,  # OLD: 152404980\n",
    "    \"dirt\": 9.50e20,\n",
    "}\n",
    "\n",
    "pot_mc_samples[1] = {\n",
    "    \"mc\": 1.31e21,  # 1.30E+21,\n",
    "    #'mc': 18.93E+20, #DETVAR\n",
    "    \"nue\": 5.25e22,  # 5.25E+22,\n",
    "    \"lee\": 5.25e22,  # 5.25E+22,\n",
    "    \"ncpi0\": 1.16e22,  # 2.66E+21, # 2.63E+21,\n",
    "    \"ccpi0\": 3.48e21,  # 3.45E+21,\n",
    "    \"dirt\": 3.23e20,  # 3.21E+20,\n",
    "    \"ncnopi\": 1.31e22,  # 4.24E+21,\n",
    "    \"nccpi\": 2.76e22,  # 8.93E+21,\n",
    "    \"ccnopi\": 1.14e22,  # 5.81E+21,\n",
    "    \"cccpi\": 1.55e22,  # 6.04E+21,\n",
    "    \"eta\": 1.03e0,\n",
    "    \"ext\": 65473410,  # OLD: 65498807\n",
    "}"
   ]
  },
  {
   "cell_type": "code",
   "execution_count": 3,
   "metadata": {},
   "outputs": [
    {
     "name": "stdout",
     "output_type": "stream",
     "text": [
      "/uboone/data/users/cthorpe/PELEE/run1/nuepresel/run1_nuepresel.root\n"
     ]
    },
    {
     "name": "stderr",
     "output_type": "stream",
     "text": [
      "/uboone/app/users/cthorpe/RefactoredPELEE/data_loading.py:1014: RuntimeWarning: overflow encountered in multiply\n",
      "  mc_Q2 = -1 * (mc_q_E * mc_q_E - mc_q_px * mc_q_px - mc_q_py * mc_q_py - mc_q_pz * mc_q_pz)\n",
      "/uboone/app/users/cthorpe/RefactoredPELEE/data_loading.py:1014: RuntimeWarning: invalid value encountered in subtract\n",
      "  mc_Q2 = -1 * (mc_q_E * mc_q_E - mc_q_px * mc_q_px - mc_q_py * mc_q_py - mc_q_pz * mc_q_pz)\n",
      "/uboone/app/users/cthorpe/RefactoredPELEE/data_loading.py:533: RuntimeWarning: invalid value encountered in sqrt\n",
      "  return np.sqrt(2 * e1 * e2 * (1 - px1 * px2 - py1 * py2 - pz1 * pz2))\n",
      "/uboone/app/users/cthorpe/RefactoredPELEE/data_loading.py:533: RuntimeWarning: overflow encountered in float_scalars\n",
      "  return np.sqrt(2 * e1 * e2 * (1 - px1 * px2 - py1 * py2 - pz1 * pz2))\n",
      "/uboone/app/users/cthorpe/Mambaforge/envs/python3LEE/lib/python3.7/site-packages/pandas/core/series.py:679: RuntimeWarning: invalid value encountered in sqrt\n",
      "  result = getattr(ufunc, method)(*inputs, **kwargs)\n"
     ]
    },
    {
     "name": "stdout",
     "output_type": "stream",
     "text": [
      "/uboone/data/users/cthorpe/PELEE/run1/nuepresel/data_extbnb_mcc9.1_v08_00_00_25_reco2_C_all_reco2.root\n",
      "/uboone/data/users/cthorpe/PELEE/run1/nuepresel/prodgenie_bnb_nu_uboone_overlay_mcc9.1_v08_00_00_26_filter_run1_reco2_reco2.root\n"
     ]
    },
    {
     "name": "stderr",
     "output_type": "stream",
     "text": [
      "/uboone/app/users/cthorpe/RefactoredPELEE/data_loading.py:696: RuntimeWarning: invalid value encountered in true_divide\n",
      "  df[\"proton_pz\"] = np.where((mc_E_prot > 0), mc_pz_prot / mc_p_prot, np.nan)\n"
     ]
    },
    {
     "name": "stdout",
     "output_type": "stream",
     "text": [
      "/uboone/data/users/cthorpe/PELEE/run1/nuepresel/prodgenie_bnb_intrinsice_nue_uboone_overlay_mcc9.1_v08_00_00_26_run1_reco2_reco2.root\n",
      "/uboone/data/users/cthorpe/PELEE/run1/nuepresel/prodgenie_bnb_intrinsice_nue_uboone_overlay_mcc9.1_v08_00_00_26_run1_reco2_reco2.root\n",
      "/uboone/data/users/cthorpe/PELEE/run1/nuepresel/prodgenie_bnb_dirt_overlay_mcc9.1_v08_00_00_26_run1_reco2_reco2.root\n"
     ]
    }
   ],
   "source": [
    "RUN = 1\n",
    "reload(dl)\n",
    "df_bnb = dl.load_sample(RUN, \"runs\", \"bnb\", loadpi0variables=True, loadshowervariables=True, loadrecoveryvars=True,loadsystematics=True)\n",
    "df_ext = dl.load_sample(RUN, \"runs\", \"ext\", loadpi0variables=True, loadshowervariables=True, loadrecoveryvars=True,loadsystematics=True)\n",
    "df_nu = dl.load_sample(RUN, \"runs\", \"nu\", loadpi0variables=True, loadshowervariables=True, loadrecoveryvars=True,loadsystematics=True)\n",
    "df_nue = dl.load_sample(RUN,\"runs\",\"nue\",loadpi0variables=True, loadshowervariables=True, loadrecoveryvars=True,loadsystematics=True)\n",
    "df_lee = dl.load_sample(RUN,\"runs\",\"nue\",loadpi0variables=True, loadshowervariables=True, loadrecoveryvars=True,loadsystematics=True,use_lee_weights=True)\n",
    "df_dirt = dl.load_sample(RUN,\"runs\",\"drt\",loadpi0variables=True, loadshowervariables=True, loadrecoveryvars=True,loadsystematics=True)"
   ]
  },
  {
   "cell_type": "code",
   "execution_count": 4,
   "metadata": {},
   "outputs": [],
   "source": [
    "# For now, cut the numus from the nue file, and vice versa for the numu file\n",
    "#df_nu = df_nu.query(\"nu_pdg == 14 or nu_pdg == -14\")\n",
    "#df_nue = df_nue.query(\"nu_pdg == 12 or nu_pdg == -12\")"
   ]
  },
  {
   "cell_type": "code",
   "execution_count": 6,
   "metadata": {},
   "outputs": [],
   "source": [
    "import pandas as pd\n",
    "\n",
    "data_pot, data_trig = pot_data_unblinded[\"fulldata\"][RUN]\n",
    "ext_trig = pot_mc_samples[RUN][\"ext\"]\n",
    "mc_pot = pot_mc_samples[RUN][\"mc\"]\n",
    "nue_mc_pot = pot_mc_samples[RUN][\"nue\"]\n",
    "dirt_pot = pot_mc_samples[RUN][\"dirt\"]\n",
    "\n",
    "# concatenate nu and ext and add a label column\n",
    "# df_bnb[\"label\"] = \"bnb\"  # not this one, because this is the data we want to overlay\n",
    "df_ext[\"label\"] = \"ext\"\n",
    "# Because ext is derived from real data (with the beam turned off), the weights are all \n",
    "# one.\n",
    "df_ext[\"weights\"] = 1.0\n",
    "# Normalize the ext to the data TRIG\n",
    "df_ext[\"weights\"] *= data_trig / ext_trig\n",
    "\n",
    "df_nu[\"label\"] = \"nu\"\n",
    "df_nue[\"label\"] = \"nue\"\n",
    "df_lee[\"label\"] = \"lee\"\n",
    "\n",
    "# The \"nu\" weights are normalized to the same POT as the data\n",
    "df_nu[\"weights\"] = df_nu[\"weightSplineTimesTune\"] * data_pot / mc_pot\n",
    "df_nue[\"weights\"] = df_nue[\"weightSplineTimesTune\"] * data_pot/ nue_mc_pot\n",
    "df_lee[\"weights\"] = df_lee[\"weightSplineTimesTune\"] * data_pot/ nue_mc_pot\n",
    "df_dirt[\"weights\"] = df_lee[\"weightSplineTimesTune\"] * data_pot/ dirt_pot\n",
    "\n",
    "\n",
    "df = pd.concat([df_nu, df_ext,df_nue,df_lee,df_dirt])\n",
    "\n",
    "# make label a categorical variable\n",
    "df[\"label\"] = df[\"label\"].astype(\"category\")\n"
   ]
  },
  {
   "cell_type": "code",
   "execution_count": 7,
   "metadata": {},
   "outputs": [],
   "source": [
    "from unblinding_far_sideband import *\n",
    "import localSettings as ls"
   ]
  },
  {
   "cell_type": "code",
   "execution_count": null,
   "metadata": {},
   "outputs": [],
   "source": [
    "import matplotlib as mpl\n",
    "import matplotlib.pyplot as plt\n",
    "import numpy as np\n",
    "\n",
    "VARIABLE, BINS, RANGE, XTIT = \"reco_e\", 17, (0.01, 2.39), r\"Reconstructed Energy [ GeV ]\"\n",
    "labels = df[\"label\"].unique()\n",
    "\n",
    "selection = \"None\"\n",
    "preselection = \"NP\"\n",
    "\n",
    "presel_query = preselection_categories[preselection][\"query\"]\n",
    "presel_title = preselection_categories[preselection][\"title\"]\n",
    "\n",
    "sel_query = selection_categories[selection][\"query\"]\n",
    "sel_title = selection_categories[selection][\"title\"]\n",
    "\n",
    "if presel_query is None:\n",
    "    query = sel_query\n",
    "    presel_title = \"No Presel.\"\n",
    "elif sel_query is None:\n",
    "    query = presel_query\n",
    "    sel_title = \"No Sel.\"\n",
    "else:\n",
    "    query = f\"{presel_query} and {sel_query}\"\n",
    "\n",
    "fig, ax = plt.subplots(figsize=(5, 4))\n",
    "\n",
    "bnb_filtered = df_bnb.query(query)\n",
    "\n",
    "# Plot the beam-on data (bnb) on top as points with error bars\n",
    "hist, bin_edges = np.histogram(bnb_filtered[VARIABLE], bins=BINS, range=RANGE)\n",
    "hist_err = np.sqrt(hist)\n",
    "bin_centers = (bin_edges[1:] + bin_edges[:-1]) / 2.0\n",
    "bin_width = (bin_edges[1:] - bin_edges[:-1])[0]\n",
    "entries = np.sum(hist)\n",
    "ax.errorbar(bin_centers, hist, yerr=hist_err, fmt=\".\", color=\"black\", label=f\"fulldata bnb ({entries:.0f} entries)\")\n",
    "\n",
    "print(f\"Data bin counts: {hist}\")\n",
    "\n",
    "# Plot the MC as a stacked histogram\n",
    "data = [df.query(query).loc[df.query(query)[\"label\"] == lbl, VARIABLE] for lbl in labels]\n",
    "weights = [df.query(query).loc[df.query(query)[\"label\"] == lbl, \"weights\"] for lbl in labels]\n",
    "\n",
    "ax.hist(data, bins=BINS, range=RANGE, stacked=True, label=labels, weights=weights)\n",
    "\n",
    "ax.legend()\n",
    "\n",
    "ax.set_xlabel(r\"$E_\\mathrm{reco}$ (GeV)\")\n",
    "ax.set_ylabel(f\"Count / {bin_width:.2f} GeV\")\n",
    "ax.set_title(f\"Run {RUN}, {presel_title}, {sel_title}\")\n",
    "\n",
    "fig.tight_layout()\n",
    "\n",
    "fig.savefig(f\"run{RUN}_{presel_title.replace(' ', '_').lower()}_{sel_title.replace(' ', '_').lower()}.pdf\")"
   ]
  },
  {
   "cell_type": "code",
   "execution_count": null,
   "metadata": {
    "scrolled": false
   },
   "outputs": [],
   "source": [
    "import plotter\n",
    "samples = {\"data\": df_bnb, \"ext\": df_ext, \"mc\": df_nu, \"nue\": df_nue,\"lee\":df_lee}\n",
    "weights = {\"data\": 1.0, \"ext\": data_trig / ext_trig, \"mc\": data_pot / mc_pot, \"nue\": data_pot / nue_mc_pot,\"lee\": data_pot / nue_mc_pot }\n",
    "pl = plotter.Plotter(samples,weights,data_pot)"
   ]
  },
  {
   "cell_type": "code",
   "execution_count": null,
   "metadata": {
    "scrolled": false
   },
   "outputs": [],
   "source": [
    "# choose sideband, preselection, and selection\n",
    "# find defintions in unblinding_far_sideband.py\n",
    "sdb_key = 'None' #'None'\n",
    "pre_key = 'NP'\n",
    "sel_key = 'None'\n",
    "#sdb_key = 'TwoPShr'\n",
    "#pre_key = 'NP'\n",
    "#sel_key = 'NPBDTAllShr' #'None' 'NPVLAllShr' 'NPLAllShr' 'NPBDTAllShr' 'NPTAllShr'\n",
    "run = 1\n",
    "\n",
    "sideband = sideband_categories[sdb_key]\n",
    "preselection = preselection_categories[pre_key]\n",
    "sel =  selection_categories[sel_key]\n",
    "\n",
    "DETSYSPATH = ls.ntuple_path+'/detsys/{}_{}_{}/'.format(sideband['dir'], preselection['dir'], sel['dir'])\n",
    "DETSYS = {'mc':False,'nue':False,'ccpi0':False,'ncpi0':False,'dirt':False,\\\n",
    "          'ncnopi':False,'nccpi':False,'ncpi0':False,'ccpi0':False}\n",
    "\n",
    "\n",
    "QUERY = \"\"\n",
    "for query in [sideband['query'],preselection['query'],sel['query']]:\n",
    "    if query is None: continue\n",
    "    if QUERY: QUERY += ' and '\n",
    "    QUERY += query\n",
    "    if run in [1, 2, 3, 12]:\n",
    "        QUERY += f' and run{run}==True'\n",
    "\n",
    "#QUERY += ' and (bnbdata==0 or reco_e>0.85)'\n",
    "#QUERY += ' and (bnbdata==0)'\n",
    "#print(QUERY)\n",
    "        \n",
    "#formatting can be improved..\n",
    "TITLE = \"\"\n",
    "#for text in [f'Run {run}',' - ',sideband['title'],' - ',preselection['title'],'\\n',sel['title'],' - ',pi0scaling[\"title\"]]:\n",
    "#    if text is None: continue\n",
    "#    TITLE += text\n",
    "\n",
    "# Reproducing Alex's plot\n",
    "VARIABLE, BINS, RANGE, XTIT = 'reco_e',18,(0.01, 2.50),r\"Reconstructed Energy [ GeV ]\"\n",
    "\n",
    "print(VARIABLE, BINS, RANGE, XTIT)\n",
    "\n",
    "fig, ax1, ax2 = pl.plot_variable(\n",
    "    VARIABLE,   \n",
    "    query=QUERY,\n",
    "    kind=\"event_category\",\n",
    "    #kind=\"paper_category\",\n",
    "    draw_sys=True,\n",
    "    detsysdict=DETSYS,\n",
    "    DETSYSPATH=DETSYSPATH,\n",
    "    COVMATRIX=\"\",#'cov_matrix_Enu_reco_1eNp.txt',\n",
    "    ratio=True,\n",
    "    stacksort=3,\n",
    "    title=XTIT,\n",
    "    bins=BINS,\n",
    "    range=RANGE,\n",
    "    chisq=True,\n",
    "    draw_data=True\n",
    "    #asymErrs=True\n",
    ")[0:3]\n",
    "\n",
    "ax1.set_title(TITLE, loc='left')\n",
    "ax1.set_ylim(0., ax1.get_ylim()[1]*1.4)"
   ]
  },
  {
   "cell_type": "code",
   "execution_count": null,
   "metadata": {},
   "outputs": [],
   "source": []
  },
  {
   "cell_type": "code",
   "execution_count": null,
   "metadata": {},
   "outputs": [],
   "source": []
  }
 ],
 "metadata": {
  "kernelspec": {
   "display_name": "Python 3 (ipykernel)",
   "language": "python",
   "name": "python3"
  },
  "language_info": {
   "codemirror_mode": {
    "name": "ipython",
    "version": 3
   },
   "file_extension": ".py",
   "mimetype": "text/x-python",
   "name": "python",
   "nbconvert_exporter": "python",
   "pygments_lexer": "ipython3",
   "version": "3.7.12"
  }
 },
 "nbformat": 4,
 "nbformat_minor": 2
}
