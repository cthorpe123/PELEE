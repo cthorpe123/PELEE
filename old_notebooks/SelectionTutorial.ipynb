{
 "cells": [
  {
   "cell_type": "code",
   "execution_count": null,
   "metadata": {},
   "outputs": [],
   "source": [
    "import localSettings as ls\n",
    "from load_data_run123 import *\n",
    "from unblinding_far_sideband import *\n",
    "from matplotlib import pyplot as plt"
   ]
  },
  {
   "cell_type": "code",
   "execution_count": null,
   "metadata": {},
   "outputs": [],
   "source": [
    "fold = \"nuselection\"\n",
    "tree = \"NeutrinoSelectionFilter\"\n",
    "\n",
    "PATH = \"/Users/dcaratelli/data/searchingfornues/v08_00_00_48/run1/nslice/\"\n",
    "fext = PATH+\"data_extbnb_mcc9.1_v08_00_00_25_reco2_C_all_reco2.root\"\n",
    "fdata = PATH+'data_bnb_mcc9.1_v08_00_00_25_reco2_C1_beam_good_reco2_5e19.root'\n",
    "fmc = PATH+\"prodgenie_bnb_nu_uboone_overlay_mcc9.1_v08_00_00_26_filter_run1_reco2_reco2.root\"\n",
    "fdirt = PATH+\"prodgenie_bnb_dirt_overlay_mcc9.1_v08_00_00_26_run1_reco2_reco2.root\""
   ]
  },
  {
   "cell_type": "code",
   "execution_count": null,
   "metadata": {},
   "outputs": [],
   "source": [
    "uext  = uproot.open(fext)[fold][tree]\n",
    "udata = uproot.open(fdata)[fold][tree]\n",
    "umc   = uproot.open(fmc)[fold][tree]\n",
    "udirt = uproot.open(fdirt)[fold][tree]"
   ]
  },
  {
   "cell_type": "code",
   "execution_count": null,
   "metadata": {},
   "outputs": [],
   "source": [
    "VARDICT = get_variables()\n",
    "variables = VARDICT['VARIABLES']\n",
    "#variables += VARDICT['NUEVARS']"
   ]
  },
  {
   "cell_type": "code",
   "execution_count": null,
   "metadata": {},
   "outputs": [],
   "source": [
    "print(\"MC dataframe\")\n",
    "mc   = umc.pandas.df(variables+VARDICT['WEIGHTS']+VARDICT['SYSTVARS'], flatten=False)\n",
    "print(\"DIRT dataframe\")\n",
    "dirt = udirt.pandas.df(variables+VARDICT['WEIGHTS']+VARDICT['SYSTVARS'], flatten=False)\n",
    "print(\"EXT dataframe\")\n",
    "ext  = uext.pandas.df(variables, flatten=False)\n",
    "print(\"BNB dataframe\")\n",
    "data = udata.pandas.df(variables, flatten=False)\n"
   ]
  },
  {
   "cell_type": "code",
   "execution_count": null,
   "metadata": {},
   "outputs": [],
   "source": [
    "print(variables)"
   ]
  },
  {
   "cell_type": "code",
   "execution_count": null,
   "metadata": {},
   "outputs": [],
   "source": [
    "uproot_v = [umc,udirt,uext,udata]\n",
    "df_v = [mc,dirt,ext,data]"
   ]
  },
  {
   "cell_type": "code",
   "execution_count": null,
   "metadata": {},
   "outputs": [],
   "source": [
    "for i,df in enumerate(df_v):\n",
    "    process_uproot_numu(uproot_v[i],df)"
   ]
  },
  {
   "cell_type": "code",
   "execution_count": null,
   "metadata": {},
   "outputs": [],
   "source": [
    "#for i,df in enumerate(df_v):\n",
    "#    process_uproot(uproot_v[i],df)"
   ]
  },
  {
   "cell_type": "code",
   "execution_count": null,
   "metadata": {},
   "outputs": [],
   "source": [
    "# fix weights that are out of scale\n",
    "for i,df in enumerate([mc,dirt]):\n",
    "    df.loc[ df['weightSplineTimesTune'] <= 0, 'weightSplineTimesTune' ] = 1.\n",
    "    df.loc[ df['weightSplineTimesTune'] == np.inf, 'weightSplineTimesTune' ] = 1.\n",
    "    df.loc[ df['weightSplineTimesTune'] > 100, 'weightSplineTimesTune' ] = 1.\n",
    "    df.loc[ np.isnan(df['weightSplineTimesTune']) == True, 'weightSplineTimesTune' ] = 1."
   ]
  },
  {
   "cell_type": "code",
   "execution_count": null,
   "metadata": {},
   "outputs": [],
   "source": [
    "# and a way to filter out data\n",
    "for i,df in enumerate(df_v):\n",
    "    df[\"bnbdata\"] = np.zeros_like(df[\"nslice\"])\n",
    "    df[\"extdata\"] = np.zeros_like(df[\"nslice\"])\n",
    "data[\"bnbdata\"] = np.ones_like(data[\"nslice\"])\n",
    "ext[\"extdata\"] = np.ones_like(ext[\"nslice\"])"
   ]
  },
  {
   "cell_type": "code",
   "execution_count": null,
   "metadata": {},
   "outputs": [],
   "source": [
    "import plotter\n",
    "import importlib\n",
    "importlib.reload(plotter)\n",
    "\n",
    "nue = mc.query('abs(nu_pdg) == 12 and ccnc == 0')\n",
    "\n",
    "samples = {'mc': mc, 'dirt': dirt, 'nue': nue, 'ext': ext, 'data': data}\n",
    "\n",
    "# run 1 5e19\n",
    "weights = {'mc': 0.033, 'dirt': 0.141,'nue': 0.033, 'ext': 0.15}\n",
    "plotter = plotter.Plotter(samples, weights, pot=0.456e+20)"
   ]
  },
  {
   "cell_type": "code",
   "execution_count": null,
   "metadata": {},
   "outputs": [],
   "source": [
    "DETSYS = {'mc':False,'nue':False,'ccpi0':False,'ncpi0':False,'dirt':False,\\\n",
    "          'ncnopi':False,'nccpi':False,'ncpi0':False,'ccpi0':False}"
   ]
  },
  {
   "cell_type": "code",
   "execution_count": null,
   "metadata": {},
   "outputs": [],
   "source": [
    "QUERY = 'nslice == 1'"
   ]
  },
  {
   "cell_type": "code",
   "execution_count": null,
   "metadata": {},
   "outputs": [],
   "source": [
    "SEL = QUERY\n",
    "print(QUERY)\n",
    "#SEL += ' and run == 19425'\n",
    "\n",
    "VARIABLE, BINS, RANGE, XTIT = 'topological_score',21,(0.,1),r\"topological score\" \n",
    "\n",
    "fig, ax1, ax2 = plotter.plot_variable(\n",
    "    VARIABLE,   \n",
    "    query=SEL,\n",
    "    kind=\"event_category\",\n",
    "    draw_sys=False,\n",
    "    detsysdict=DETSYS,\n",
    "    ratio=True,\n",
    "    stacksort=3,\n",
    "    title=XTIT,\n",
    "    bins=BINS,\n",
    "    range=RANGE,\n",
    "    chisq=False,\n",
    ")[0:3]\n",
    "\n",
    "#ax1.set_title('Run 1 5e19 - '+QUERY, loc='left',fontsize=10)\n",
    "#ax1.set_yscale('log')\n",
    "ax1.set_ylim(0, ax1.get_ylim()[1]*1.1)\n",
    "#ax2.set_ylim(0.5, 1.5)\n",
    "\n",
    "plt.tight_layout()\n",
    "\n"
   ]
  },
  {
   "cell_type": "code",
   "execution_count": null,
   "metadata": {},
   "outputs": [],
   "source": [
    "SEL = QUERY\n",
    "print(QUERY)\n",
    "#SEL += ' and run == 19425'\n",
    "\n",
    "\n",
    "VARIABLE, BINS, RANGE, XTIT = 'reco_nu_vtx_sce_x',20,(0,260),r\"vtx x [cm]\" \n",
    "\n",
    "\n",
    "fig, ax1, ax2 = plotter.plot_variable(\n",
    "    VARIABLE,   \n",
    "    query=SEL,\n",
    "    kind=\"event_category\",\n",
    "    draw_sys=False,\n",
    "    detsysdict=DETSYS,\n",
    "    ratio=True,\n",
    "    stacksort=3,\n",
    "    title=XTIT,\n",
    "    bins=BINS,\n",
    "    range=RANGE,\n",
    "    chisq=False,\n",
    ")[0:3]\n",
    "\n",
    "#ax1.set_title('Run 1 5e19 - '+QUERY, loc='left',fontsize=10)\n",
    "#ax1.set_yscale('log')\n",
    "ax1.set_ylim(0, ax1.get_ylim()[1]*1.1)\n",
    "#ax2.set_ylim(0.5, 1.5)\n",
    "\n",
    "plt.tight_layout()"
   ]
  },
  {
   "cell_type": "code",
   "execution_count": null,
   "metadata": {},
   "outputs": [],
   "source": [
    "QUERY = 'nslice == 1 and topological_score > 0.5'"
   ]
  },
  {
   "cell_type": "code",
   "execution_count": null,
   "metadata": {},
   "outputs": [],
   "source": [
    "SEL = QUERY\n",
    "print(QUERY)\n",
    "#SEL += ' and run == 19425'\n",
    "\n",
    "\n",
    "VARIABLE, BINS, RANGE, XTIT = 'reco_nu_vtx_sce_x',20,(0,260),r\"vtx x [cm]\" \n",
    "\n",
    "\n",
    "fig, ax1, ax2 = plotter.plot_variable(\n",
    "    VARIABLE,   \n",
    "    query=SEL,\n",
    "    kind=\"event_category\",\n",
    "    draw_sys=False,\n",
    "    detsysdict=DETSYS,\n",
    "    ratio=True,\n",
    "    stacksort=3,\n",
    "    title=XTIT,\n",
    "    bins=BINS,\n",
    "    range=RANGE,\n",
    "    chisq=False,\n",
    ")[0:3]\n",
    "\n",
    "#ax1.set_title('Run 1 5e19 - '+QUERY, loc='left',fontsize=10)\n",
    "#ax1.set_yscale('log')\n",
    "ax1.set_ylim(0, ax1.get_ylim()[1]*1.6)\n",
    "#ax2.set_ylim(0.5, 1.5)\n",
    "\n",
    "plt.tight_layout()"
   ]
  },
  {
   "cell_type": "code",
   "execution_count": null,
   "metadata": {},
   "outputs": [],
   "source": [
    "SEL = QUERY\n",
    "print(QUERY)\n",
    "#SEL += ' and run == 19425'\n",
    "\n",
    "\n",
    "VARIABLE, BINS, RANGE, XTIT = 'reco_nu_vtx_sce_x',20,(0,260),r\"vtx x [cm]\" \n",
    "\n",
    "\n",
    "fig, ax1, ax2 = plotter.plot_variable(\n",
    "    VARIABLE,   \n",
    "    query=SEL,\n",
    "    kind=\"event_category\",\n",
    "    draw_sys=True,\n",
    "    detsysdict=DETSYS,\n",
    "    ratio=True,\n",
    "    stacksort=3,\n",
    "    title=XTIT,\n",
    "    bins=BINS,\n",
    "    range=RANGE,\n",
    "    chisq=False,\n",
    ")[0:3]\n",
    "\n",
    "#ax1.set_title('Run 1 5e19 - '+QUERY, loc='left',fontsize=10)\n",
    "#ax1.set_yscale('log')\n",
    "ax1.set_ylim(0, ax1.get_ylim()[1]*1.6)\n",
    "#ax2.set_ylim(0.5, 1.5)\n",
    "\n",
    "plt.tight_layout()"
   ]
  },
  {
   "cell_type": "code",
   "execution_count": null,
   "metadata": {},
   "outputs": [],
   "source": [
    "QUERY = 'nslice == 1'\n",
    "print(QUERY)\n",
    "#SEL += ' and run == 19425'\n",
    "\n",
    "VARIABLE, BINS, RANGE, XTIT = 'muon_candidate_length',26,(0,450),r\"muon candidate length [cm]\" \n",
    "\n",
    "\n",
    "fig, ax1, ax2 = plotter.plot_variable(\n",
    "    VARIABLE,   \n",
    "    query=SEL,\n",
    "    kind=\"event_category\",\n",
    "    draw_sys=False,\n",
    "    detsysdict=DETSYS,\n",
    "    ratio=True,\n",
    "    stacksort=3,\n",
    "    title=XTIT,\n",
    "    bins=BINS,\n",
    "    range=RANGE,\n",
    "    chisq=False,\n",
    ")[0:3]\n",
    "\n",
    "#ax1.set_title('Run 1 5e19 - '+QUERY, loc='left',fontsize=10)\n",
    "#ax1.set_yscale('log')\n",
    "ax1.set_ylim(0, ax1.get_ylim()[1]*1.6)\n",
    "#ax2.set_ylim(0.5, 1.5)\n",
    "\n",
    "plt.tight_layout()\n",
    "\n",
    "print ('values are ',plotter.data)"
   ]
  },
  {
   "cell_type": "code",
   "execution_count": null,
   "metadata": {},
   "outputs": [],
   "source": [
    "QUERY = 'nslice == 1'\n",
    "print(QUERY)\n",
    "#SEL += ' and run == 19425'\n",
    "\n",
    "VARIABLE, BINS, RANGE, XTIT = 'muon_candidate_pid',26,(-1,1),r\"muon candidate PID score\" \n",
    "\n",
    "\n",
    "fig, ax1, ax2 = plotter.plot_variable(\n",
    "    VARIABLE,   \n",
    "    query=SEL,\n",
    "    kind=\"event_category\",\n",
    "    draw_sys=False,\n",
    "    detsysdict=DETSYS,\n",
    "    ratio=True,\n",
    "    stacksort=3,\n",
    "    title=XTIT,\n",
    "    bins=BINS,\n",
    "    range=RANGE,\n",
    "    chisq=False,\n",
    ")[0:3]\n",
    "\n",
    "#ax1.set_title('Run 1 5e19 - '+QUERY, loc='left',fontsize=10)\n",
    "ax1.set_yscale('log')\n",
    "ax1.set_ylim(1, ax1.get_ylim()[1]*1.6)\n",
    "#ax2.set_ylim(0.5, 1.5)\n",
    "\n",
    "plt.tight_layout()\n",
    "\n",
    "print ('values are ',plotter.data)"
   ]
  },
  {
   "cell_type": "code",
   "execution_count": null,
   "metadata": {},
   "outputs": [],
   "source": [
    "import unblinding_far_sideband\n",
    "QUERY = unblinding_far_sideband.NUMUSEL"
   ]
  },
  {
   "cell_type": "code",
   "execution_count": null,
   "metadata": {},
   "outputs": [],
   "source": [
    "print(QUERY)\n",
    "#SEL += ' and run == 19425'\n",
    "\n",
    "VARIABLE, BINS, RANGE, XTIT = 'muon_theta',26,(-1,1),r\"muon $\\cos\\theta$\" \n",
    "\n",
    "\n",
    "fig, ax1, ax2 = plotter.plot_variable(\n",
    "    VARIABLE,   \n",
    "    query=SEL,\n",
    "    kind=\"event_category\",\n",
    "    draw_sys=True,\n",
    "    detsysdict=DETSYS,\n",
    "    ratio=True,\n",
    "    stacksort=3,\n",
    "    title=XTIT,\n",
    "    bins=BINS,\n",
    "    range=RANGE,\n",
    "    chisq=True,\n",
    ")[0:3]\n",
    "\n",
    "#ax1.set_title('Run 1 5e19 - '+QUERY, loc='left',fontsize=10)\n",
    "#ax1.set_yscale('log')\n",
    "ax1.set_ylim(0, ax1.get_ylim()[1]*2.0)\n",
    "ax2.set_ylim(0., 2.0)\n",
    "\n",
    "plt.tight_layout()\n",
    "\n",
    "print ('values are ',plotter.data)"
   ]
  },
  {
   "cell_type": "code",
   "execution_count": null,
   "metadata": {},
   "outputs": [],
   "source": [
    "print(QUERY)\n",
    "#SEL += ' and run == 19425'\n",
    "\n",
    "VARIABLE, BINS, RANGE, XTIT = 'muon_theta',26,(-1,1),r\"muon $\\cos\\theta$\" \n",
    "\n",
    "fig, ax1, ax2 = plotter.plot_variable(\n",
    "    VARIABLE,   \n",
    "    query=SEL,\n",
    "    kind=\"interaction\",\n",
    "    draw_sys=False,\n",
    "    detsysdict=DETSYS,\n",
    "    ratio=True,\n",
    "    stacksort=3,\n",
    "    title=XTIT,\n",
    "    bins=BINS,\n",
    "    range=RANGE,\n",
    "    chisq=False,\n",
    ")[0:3]\n",
    "\n",
    "#ax1.set_title('Run 1 5e19 - '+QUERY, loc='left',fontsize=10)\n",
    "#ax1.set_yscale('log')\n",
    "ax1.set_ylim(0, ax1.get_ylim()[1]*2.0)\n",
    "ax2.set_ylim(0., 2.0)\n",
    "\n",
    "plt.tight_layout()\n",
    "\n",
    "print ('values are ',plotter.data)"
   ]
  },
  {
   "cell_type": "code",
   "execution_count": null,
   "metadata": {},
   "outputs": [],
   "source": []
  }
 ],
 "metadata": {
  "kernelspec": {
   "display_name": "Python 3 (ipykernel)",
   "language": "python",
   "name": "python3"
  },
  "language_info": {
   "codemirror_mode": {
    "name": "ipython",
    "version": 3
   },
   "file_extension": ".py",
   "mimetype": "text/x-python",
   "name": "python",
   "nbconvert_exporter": "python",
   "pygments_lexer": "ipython3",
   "version": "3.7.9"
  }
 },
 "nbformat": 4,
 "nbformat_minor": 4
}
