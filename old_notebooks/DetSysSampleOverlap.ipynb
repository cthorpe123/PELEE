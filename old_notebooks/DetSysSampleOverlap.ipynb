{
 "cells": [
  {
   "cell_type": "code",
   "execution_count": null,
   "metadata": {},
   "outputs": [],
   "source": [
    "import sys\n",
    "import localSettings as ls\n",
    "print(ls.main_path)"
   ]
  },
  {
   "cell_type": "code",
   "execution_count": null,
   "metadata": {
    "colab": {
     "base_uri": "https://localhost:8080/",
     "height": 34
    },
    "colab_type": "code",
    "executionInfo": {
     "elapsed": 517,
     "status": "ok",
     "timestamp": 1560556807118,
     "user": {
      "displayName": "Stefano Roberto Soleti",
      "photoUrl": "https://lh4.googleusercontent.com/-hfLpspJu4Q0/AAAAAAAAAAI/AAAAAAAABmA/2kE4rtj8paU/s64/photo.jpg",
      "userId": "10372352518008961760"
     },
     "user_tz": 240
    },
    "id": "6qsD0G-yYJ9K",
    "outputId": "5d52a3ec-50be-44fc-da44-3c0593e98bc6"
   },
   "outputs": [],
   "source": [
    "main_path = ls.main_path\n",
    "sys.path.append(main_path)"
   ]
  },
  {
   "cell_type": "code",
   "execution_count": null,
   "metadata": {},
   "outputs": [],
   "source": [
    "SHRCALIBFACTOR = 1.00"
   ]
  },
  {
   "cell_type": "code",
   "execution_count": null,
   "metadata": {},
   "outputs": [],
   "source": [
    "# Doing Run3?\n",
    "ISRUN3 = False"
   ]
  },
  {
   "cell_type": "code",
   "execution_count": null,
   "metadata": {
    "colab": {},
    "colab_type": "code",
    "id": "xGqTJ5JgaDsx"
   },
   "outputs": [],
   "source": [
    "import plotter\n",
    "import importlib\n",
    "importlib.reload(plotter)\n",
    "import uproot\n",
    "import matplotlib.pylab as pylab\n",
    "import numpy as np\n",
    "import math\n",
    "from sklearn.model_selection import train_test_split\n",
    "import pickle\n",
    "import xgboost as xgb\n",
    "import nue_booster \n",
    "importlib.reload(nue_booster)\n",
    "import awkward\n",
    "import pandas as pd\n",
    "\n",
    "params = {\n",
    "    'axes.labelsize': 'x-large',\n",
    "    'axes.titlesize': 'x-large',\n",
    "    'xtick.labelsize': 'x-large',\n",
    "    'ytick.labelsize': 'x-large'\n",
    "}\n",
    "pylab.rcParams.update(params)"
   ]
  },
  {
   "cell_type": "code",
   "execution_count": null,
   "metadata": {
    "colab": {},
    "colab_type": "code",
    "id": "iwoCIaigYJ9N"
   },
   "outputs": [],
   "source": [
    "fold = \"nuselection\"\n",
    "tree = \"NeutrinoSelectionFilter\"\n",
    "\n",
    "BNB = \"\"\n",
    "EXT = \"\"\n",
    "NU  = \"\"\n",
    "NUE = \"\"\n",
    "DRT = \"\"\n",
    "NCPI0 = \"\"\n",
    "CCPI0 = \"\"\n",
    "CCNOPI = \"\"\n",
    "NCCPI = \"\"\n",
    "NCNOPI = \"\"\n",
    "\n",
    "#NUMUCV = \"prodgenie_bnb_nu_uboone_overlay_mcc9.1_det_var_v08_00_00_26_CV_run1_reco2_reco2.root\"\n",
    "NUMUCV = \"/home/david/data/searchingfornues/v08_00_00_33/cc0pinp/0218/run1/prodgenie_bnb_nu_uboone_overlay_mcc9.1_v08_00_00_26_filter_run1_reco2_reco2.root\"\n",
    "NUMULY = \"prodgenie_bnb_nu_uboone_overlay_mcc9_reco2_LYdown_v08_00_00_32_run1_reco2_reco2.root\"\n",
    "NUMURY = \"prodgenie_bnb_nu_uboone_overlay_mcc9_reco2_LYRayleigh_v08_00_00_32_run1_reco2_reco2.root\"\n",
    "NUMUSCE = \"prodgenie_bnb_nu_uboone_overlay_mcc9_SCE_v08_00_00_34_run1_reco2_reco2.root\"\n",
    "NUMUR1 = \"prodgenie_bnb_nu_uboone_overlay_mcc9_recombination_v08_00_00_33_recomb1_reco2_reco2.root\"\n",
    "NUMUR2 = \"prodgenie_bnb_nu_uboone_overlay_mcc9_recombination_v08_00_00_33_recomb2_reco2_reco2.root\"\n",
    "NUMUR3 = \"prodgenie_bnb_nu_uboone_overlay_mcc9_recombination_v08_00_00_33_recomb3_reco2_reco2.root\"\n",
    "NUMUWA = \"prodgenie_bnb_nu_uboone_overlay_wiremodangle_mcc9.1_v08_00_00_30_run1_reco2_reco2.root\"\n",
    "NUMUWX = \"prodgenie_bnb_nu_uboone_overlay_wiremodx_mcc9.1_v08_00_00_30_run1_reco2_reco2.root\"\n",
    "NUMUWYZ = \"prodgenie_bnb_nu_uboone_overlay_wiremodyz_mcc9.1_v08_00_00_31_run1_reco2_reco2.root\"\n",
    "    \n",
    "DETVAR_N_V = ['LY','Rayleigh','SCE','Recomb 1','Recomb 2','Recomb 3','WireMod angle',\\\n",
    "             'WireMod X','WireMod YZ']\n",
    "\n",
    "DETVAR_S_V = [NUMULY,NUMURY,NUMUSCE,NUMUR1,NUMUR2,NUMUR3,NUMUWA,NUMUWX,NUMUWYZ]\n",
    "    \n",
    "#CV = uproot.open(ls.ntuple_path+NUMUCV)[fold][tree]\n",
    "CV = uproot.open(NUMUCV)[fold][tree]\n",
    "variables = [\"nu_e\",\"run\",\"sub\",\"evt\"]\n",
    "\n",
    "CV  = CV.pandas.df(variables, flatten=False)\n",
    "\n",
    "CV_E_v = CV['nu_e'].values\n",
    "\n",
    "nCV = CV.shape[0]\n",
    "\n",
    "for i,N in enumerate(DETVAR_N_V):\n",
    "    VAR = uproot.open(ls.ntuple_path+DETVAR_S_V[i])[fold][tree]\n",
    "    VAR = VAR.pandas.df(variables, flatten=False)\n",
    "    \n",
    "    nVAR = VAR.shape[0]\n",
    "    \n",
    "    #print (\"entries CV : %i. Entries VAR %s : %i\"%(nCV,N,nVAR))\n",
    "    #continue\n",
    "    \n",
    "    VAR_E_v = VAR['nu_e'].values\n",
    "    \n",
    "    intersection = np.intersect1d(VAR_E_v,CV_E_v)\n",
    "    \n",
    "    nINT = float(len(intersection))\n",
    "    \n",
    "    #INT = pd.merge(CV, VAR, how='inner', on=['nu_e'])#,'run','sub','evt'])\n",
    "    \n",
    "    #nINT = float(INT.shape[0])\n",
    "    \n",
    "    print ('fraction of events from %15s in CV is %.02f'%(N,(nINT/nVAR)))"
   ]
  },
  {
   "cell_type": "code",
   "execution_count": null,
   "metadata": {
    "scrolled": false
   },
   "outputs": [],
   "source": [
    "fold = \"nuselection\"\n",
    "tree = \"NeutrinoSelectionFilter\"\n",
    "\n",
    "#NUECV = \"prodgenie_bnb_nu_uboone_overlay_mcc9.1_det_var_v08_00_00_26_CV_run1_reco2_reco2.root\"\n",
    "NUECV = \"/home/david/data/searchingfornues/v08_00_00_33/cc0pinp/0218/run1/prodgenie_bnb_intrinsice_nue_uboone_overlay_mcc9.1_v08_00_00_26_run1_reco2_reco2.root\"\n",
    "NUELY = \"prodgenie_bnb_intrinsic_nue_uboone_overlay_mcc9_reco2_LYdown_v08_00_00_32_run1_reco2_reco2.root\"\n",
    "NUEWA = \"prodgenie_bnb_intrinsic_nue_uboone_overlay_wiremodangle_mcc9.1_v08_00_00_30_run1_reco2_reco2.root\"\n",
    "NUEWX = \"prodgenie_bnb_intrinsic_nue_uboone_overlay_wiremodx_mcc9.1_v08_00_00_30_run1_reco2_reco2.root\"\n",
    "NUEWYZ = \"prodgenie_bnb_intrinsic_nue_uboone_overlay_wiremodyz_mcc9.1_v08_00_00_31_run1_reco2_reco2.root\"\n",
    "    \n",
    "DETVAR_N_V = ['LY','WireMod angle','WireMod X','WireMod YZ']\n",
    "\n",
    "DETVAR_S_V = [NUELY,NUEWA,NUEWX,NUEWYZ]\n",
    "    \n",
    "#CV = uproot.open(ls.ntuple_path+NUECV)[fold][tree]\n",
    "CV = uproot.open(NUECV)[fold][tree]\n",
    "variables = [\"nu_e\",\"run\",\"sub\",\"evt\"]\n",
    "\n",
    "CV  = CV.pandas.df(variables+[\"reco_nu_vtx_sce_y\"], flatten=False)\n",
    "\n",
    "CV['identifier'] = CV['run']*100000 + CV['evt']\n",
    "\n",
    "CV_E_v = CV['identifier'].values\n",
    "\n",
    "nCV = CV.shape[0]\n",
    "\n",
    "for i,N in enumerate(DETVAR_N_V):\n",
    "    VAR = uproot.open(ls.ntuple_path+DETVAR_S_V[i])[fold][tree]\n",
    "    VAR = VAR.pandas.df(variables+[\"reco_nu_vtx_sce_x\"], flatten=False)\n",
    "    \n",
    "    VAR['identifier'] = VAR['run']*100000 + VAR['evt']\n",
    "    \n",
    "    nVAR = VAR.shape[0]\n",
    "    \n",
    "    #print (\"entries CV : %i. Entries VAR %s : %i\"%(nCV,N,nVAR))\n",
    "    #continue\n",
    "    \n",
    "    VAR_E_v = VAR['identifier'].values\n",
    "    \n",
    "    intersection = np.intersect1d(VAR_E_v,CV_E_v)\n",
    "    \n",
    "    nINT = float(len(intersection))\n",
    "    \n",
    "    merged = pd.merge(CV,VAR, how='inner',on=[\"run\",\"sub\",\"evt\"])\n",
    "    \n",
    "    #print (VAR.query('run == 7012'))\n",
    "    \n",
    "    #INT.dropna(inplace=True)\n",
    "    INT = pd.merge(CV, VAR, how='inner', on=['identifier'],suffixes=('_CV', '_VAR'))#,'run','sub','evt'])\n",
    "    \n",
    "    nINT2 = float(INT.shape[0])\n",
    "     \n",
    "    print ('nINT : %i. nINT2 : %i'%(nINT,nINT2))\n",
    "        \n",
    "    print ('CV events : %06i. VAR events : %06i'%(nCV,nVAR))\n",
    "    print ('fraction of events from %15s in CV is %.02f'%(N,(nINT/nCV)))\n",
    "    print ('df CV :')\n",
    "    print (CV)\n",
    "    print ('df VAR :')\n",
    "    print (VAR)\n",
    "    print ('df INT :')\n",
    "    print (INT)\n",
    "    \n",
    "    #break"
   ]
  },
  {
   "cell_type": "code",
   "execution_count": null,
   "metadata": {},
   "outputs": [],
   "source": [
    "print ((VAR.query('run == 7055 and sub == 324 and evt == 16234')).shape)"
   ]
  },
  {
   "cell_type": "code",
   "execution_count": null,
   "metadata": {},
   "outputs": [],
   "source": []
  }
 ],
 "metadata": {
  "accelerator": "GPU",
  "colab": {
   "name": "Plotter.ipynb",
   "provenance": [],
   "version": "0.3.2"
  },
  "kernelspec": {
   "display_name": "Python 3",
   "language": "python",
   "name": "python3"
  },
  "language_info": {
   "codemirror_mode": {
    "name": "ipython",
    "version": 3
   },
   "file_extension": ".py",
   "mimetype": "text/x-python",
   "name": "python",
   "nbconvert_exporter": "python",
   "pygments_lexer": "ipython3",
   "version": "3.7.4"
  }
 },
 "nbformat": 4,
 "nbformat_minor": 1
}
