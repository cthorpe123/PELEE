{
 "cells": [
  {
   "cell_type": "markdown",
   "metadata": {},
   "source": [
    "# Unified Plotting for NuMu Selection"
   ]
  },
  {
   "cell_type": "code",
   "execution_count": null,
   "metadata": {},
   "outputs": [],
   "source": [
    "%load_ext autoreload\n",
    "%autoreload 2"
   ]
  },
  {
   "cell_type": "code",
   "execution_count": null,
   "metadata": {},
   "outputs": [],
   "source": [
    "pi0scaling = {\"val\": 0, \"suffix\": \"\", \"title\": \"No pi0 Scaling\"} #no scaling\n",
    "\n",
    "GENIEtune = \"updated GENIE tune\""
   ]
  },
  {
   "cell_type": "code",
   "execution_count": null,
   "metadata": {},
   "outputs": [],
   "source": [
    "from matplotlib import pyplot as plt\n",
    "\n",
    "params = {\n",
    "    'axes.labelsize': 'x-large',\n",
    "    'axes.titlesize': 'x-large',\n",
    "    'xtick.labelsize': 'x-large',\n",
    "    'ytick.labelsize': 'x-large'\n",
    "}\n",
    "plt.rcParams.update(params)\n",
    "\n",
    "from load_data_run123 import *\n",
    "from unblinding_far_sideband import *"
   ]
  },
  {
   "cell_type": "code",
   "execution_count": null,
   "metadata": {},
   "outputs": [],
   "source": [
    "import sys\n",
    "import localSettings as ls\n",
    "print(ls.main_path)\n",
    "main_path = ls.main_path\n",
    "sys.path.append(main_path)"
   ]
  },
  {
   "cell_type": "code",
   "execution_count": null,
   "metadata": {},
   "outputs": [],
   "source": [
    "import scipy.stats"
   ]
  },
  {
   "cell_type": "code",
   "execution_count": null,
   "metadata": {},
   "outputs": [],
   "source": [
    "which_sideband = ['numu',\"numu\"]"
   ]
  },
  {
   "cell_type": "code",
   "execution_count": null,
   "metadata": {
    "scrolled": true
   },
   "outputs": [],
   "source": [
    "samples = load_data_run123(which_sideband=which_sideband[0],\n",
    "                           return_plotter=False,\n",
    "                           pi0scaling=pi0scaling[\"val\"],\n",
    "                           loadpi0variables=False,\n",
    "                           loadtruthfilters=False,\n",
    "                           loadshowervariables=False,\n",
    "                           loadnumuntuples=True,\n",
    "                           loadnumuvariables=True,\n",
    "                           loadnumucrtonly=True, # use CRT\n",
    "                           loadfakedata=0,\n",
    "                           USEBDT=False,\n",
    "                           loadsystematics=True,\n",
    "                           loadrecoveryvars=False)"
   ]
  },
  {
   "cell_type": "code",
   "execution_count": null,
   "metadata": {},
   "outputs": [],
   "source": [
    "import plotter\n",
    "import unblinding_far_sideband\n",
    "import importlib\n",
    "import load_data_run123\n",
    "importlib.reload(plotter)\n",
    "importlib.reload(unblinding_far_sideband)\n",
    "importlib.reload(load_data_run123)"
   ]
  },
  {
   "cell_type": "code",
   "execution_count": null,
   "metadata": {},
   "outputs": [],
   "source": [
    "plotter_runbyrun = {}\n",
    "for run in [1, 2, 3, 123, 12, 30]:\n",
    "    this_weights, this_pot = get_weights(run,dataset=which_sideband[1])\n",
    "    if (run == 30):\n",
    "        print (this_weights)\n",
    "    plotter_runbyrun[run] = plotter.Plotter(samples, this_weights, pot=this_pot)"
   ]
  },
  {
   "cell_type": "code",
   "execution_count": null,
   "metadata": {},
   "outputs": [],
   "source": [
    "DETSYS = {'mc':True,'nue':False,'ccpi0':False,'ncpi0':False,'dirt':False,\\\n",
    "          'ncnopi':False,'nccpi':False,'ncpi0':False,'ccpi0':False}"
   ]
  },
  {
   "cell_type": "markdown",
   "metadata": {},
   "source": [
    "# Fig. 4 $\\nu_{\\mu}$ CC Ereco Spectrum"
   ]
  },
  {
   "cell_type": "markdown",
   "metadata": {},
   "source": [
    "# Single Variable Plotter"
   ]
  },
  {
   "cell_type": "code",
   "execution_count": null,
   "metadata": {
    "scrolled": false
   },
   "outputs": [],
   "source": [
    "from unblinding_far_sideband import *\n",
    "\n",
    "sdb_key = 'None' #'None' #'HiEZP' #'None' #'None'\n",
    "pre_key = 'NUMU' #'HiEZP' #'NP'\n",
    "sel_key = 'NUMUCRT' #'NPBDT'\n",
    "\n",
    "run = 30\n",
    "\n",
    "sideband = sideband_categories[sdb_key]\n",
    "preselection = preselection_categories[pre_key]\n",
    "sel =  selection_categories[sel_key]\n",
    "\n",
    "DETSYSPATH = ls.ntuple_path+'/detsys/{}_{}_{}/'.format('None', preselection['dir'], sel['dir'])\n",
    "print (DETSYSPATH)\n",
    "QUERY = \"\"\n",
    "ctr = 0\n",
    "for query in [sideband['query'],preselection['query'],sel['query']]:\n",
    "    ctr += 1\n",
    "    if query is None: continue\n",
    "    if QUERY: \n",
    "        if (ctr == 2):\n",
    "            QUERY += ' and '\n",
    "        if (ctr == 3):\n",
    "            QUERY += ' and '# ~('\n",
    "    QUERY += query\n",
    "    #if (ctr == 3): QUERY += ')'\n",
    "    if run in [1, 2, 3, 12]:\n",
    "        QUERY += f' and run{run}==True'\n",
    "\n",
    "TITLE = \"\"\n",
    "for text in [f'Run {run}',' - ',sideband['title'],' - ',preselection['title'],'\\n',sel['title'],' - ',pi0scaling[\"title\"] + ' and ' + GENIEtune]:\n",
    "    if text is None: continue\n",
    "    TITLE += text\n",
    "TITLE = r'$\\nu_{\\mu}$ selection'\n",
    "\n",
    "#VARIABLE, BINS, RANGE, XTIT = 'muon_energy',14,(0.15,1.55),\"muon candidate reconstructed energy [GeV]\"\n",
    "#VARIABLE, BINS, RANGE, XTIT = 'muon_theta',20,(-1,1),r\"muon $\\cos\\theta$\"\n",
    "#VARIABLE, BINS, RANGE, XTIT = 'proton_range_energy',30,(0,0.3),\"proton kinetic energy [GeV]\" # proton_KE\n",
    "VARIABLE, BINS, RANGE, XTIT = 'neutrino_energy',14,(0.15,1.55),\"Reconstructed Neutrino Energy [GeV]\"\n",
    "#VARIABLE, BINS, RANGE, XTIT = 'neutrino_energy',24,(0.15,2.55),\"Reconstructed Neutrino Energy [GeV]\"\n",
    "\n",
    "KIND = 'paper_category_numu'\n",
    "\n",
    "fig, ax1, ax2 = plotter_runbyrun[run].plot_variable(\n",
    "    VARIABLE,   \n",
    "    query=QUERY,\n",
    "    figtitle=\"MicroBooNE\",\n",
    "    #labeldecimals=0,\n",
    "    predictedevents=False,\n",
    "    kind =KIND,\n",
    "    #kind=\"interaction\",\n",
    "    draw_sys=True,\n",
    "    detsysdict=DETSYS,\n",
    "    DETSYSPATH=DETSYSPATH,\n",
    "    #genieweight=\"weightSpline\",\n",
    "    COVMATRIX=\"\",\n",
    "    ratio=False,\n",
    "    fullcov=False,\n",
    "    stacksort=3,\n",
    "    title=XTIT,\n",
    "    bins=BINS,\n",
    "    range=RANGE,\n",
    "    chisq=False,\n",
    "    #asymErrs=True\n",
    ")[0:3]\n",
    "\n",
    "\n",
    "ax1.set_title(TITLE, loc='left')\n",
    "\n",
    "#ax1.set_yscale('log')\n",
    "#ax1.set_ylim(0, ax1.get_ylim()[1]*1.35)\n",
    "ax1.set_ylim(0,3000)\n",
    "#ax2.set_ylim(0.5,1.5)\n",
    "\n",
    "plt.tight_layout()\n",
    "fig.show()\n",
    "SELNAME = '_{}_{}_{}_'.format(sideband['dir'], preselection['dir'], sel['dir'])\n",
    "save_path = '/Users/davidc-local/Neutrinos/NUE/PRD/' + SELNAME + VARIABLE\n",
    "#fig.savefig(save_path + '.pdf', dpi=250)    "
   ]
  }
 ],
 "metadata": {
  "accelerator": "GPU",
  "colab": {
   "name": "Plotter.ipynb",
   "provenance": [],
   "version": "0.3.2"
  },
  "kernelspec": {
   "display_name": "Python 3",
   "language": "python",
   "name": "python3"
  },
  "language_info": {
   "codemirror_mode": {
    "name": "ipython",
    "version": 3
   },
   "file_extension": ".py",
   "mimetype": "text/x-python",
   "name": "python",
   "nbconvert_exporter": "python",
   "pygments_lexer": "ipython3",
   "version": "3.7.9"
  }
 },
 "nbformat": 4,
 "nbformat_minor": 4
}
