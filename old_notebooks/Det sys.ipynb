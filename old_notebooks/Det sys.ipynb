{
 "cells": [
  {
   "cell_type": "code",
   "execution_count": 1,
   "metadata": {},
   "outputs": [],
   "source": [
    "import sys\n",
    "try:\n",
    "    from google.colab import drive\n",
    "    drive.mount(\"/content/drive\")\n",
    "    main_path = '/content/drive/My Drive/lee_mcc9/'\n",
    "except:\n",
    "    main_path = ''\n",
    "sys.path.append(main_path)"
   ]
  },
  {
   "cell_type": "code",
   "execution_count": 2,
   "metadata": {},
   "outputs": [],
   "source": [
    "import uproot\n",
    "import numpy as np\n",
    "import math\n",
    "import matplotlib.pyplot as plt\n",
    "\n",
    "fold = \"nuselection\"\n",
    "tree = \"NeutrinoSelectionFilter\"\n",
    "\n",
    "variables = [\n",
    "    \"shr_dedx_Y\", \"shr_bkt_pdg\", \"p\", \"pt\", \"selected\", \"nu_pdg\", \"shr_theta\",\n",
    "    \"slpdg\", \"trk_score_v\", \"shr_theta_v\", \"shr_score_v\",\n",
    "    \"shr_pfp_id_v\", \"category\", \"shr_tkfit_dedx_Y\", \"trk_pfp_id\",\n",
    "    \"shr_energy_tot\", \"trk_energy_tot\", \"shr_hits_tot\", \"ccnc\", \"trk_chipr\",\n",
    "    \"trk_bkt_pdg\", \"hits_ratio\", \"n_tracks_contained\", \"shr_dedx_y_v\",\n",
    "    \"nproton\", \"nu_e\", \"n_showers_contained\", \"shr_distance\", \"trk_distance\",\n",
    "    \"hits_y\", \"shr_pz\", \"shr_energy\", \"shr_dedx_U\", \"shr_dedx_V\", \"shr_phi\", \"trk_phi\", \"trk_theta\",\n",
    "    \"shr_tkfit_dedx_U\", \"shr_tkfit_dedx_V\", \"run\", \"sub\", \"evt\", \"nproton\", \"trk_pid_chipr_v\",\n",
    "    \"trk_len\", \"slnunhits\", \"slnhits\", \"shr_score\", \"trk_score\", \"trk_hits_tot\",\n",
    "    \"true_e_visible\", \"matched_E\", \"shr_bkt_E\", \"trk_bkt_E\", \"trk_energy\", \"tksh_distance\", \"tksh_angle\",\n",
    "    \"trk_chipr_best\", \"trk_chipr_worst\", \"trk_pida\", \"trk_chimu\", \"CosmicIP\", \"trk_bragg_p\", \"trk_bragg_mu\",\n",
    "    \"trk_bragg_mip\", \"shr_chipr\", \"shr_bragg_p\", \"shr_bragg_mu\", \"shr_chimu\",\n",
    "    \"shr_pca_2\", \"shr_pca_0\", \"shr_pca_1\", \"npi0\", \"gamma1_edep\", \"gamma2_edep\", \"topological_score\",\n",
    "    \"pi0_e\", \"shr_energy_tot_cali\", \"shr_dedx_Y_cali\", \"evnunhits\", \"nslice\", \"weightSpline\" #, \"crtveto\", \"crthitpe\",\n",
    "#    \"_closestNuCosmicDist\"\n",
    "]\n",
    "\n",
    "weights = {\n",
    "    \"mc\": 0.040061,\n",
    "    \"nue\": 0.0004442,\n",
    "}\n",
    "\n",
    "mc_det = {\n",
    "    \"cv\": uproot.open(main_path+\"root_files/det_sys/prodgenie_bnb_nu_uboone_overlay_det_var_run1_mcc9.1_cv_reco2.root\")[fold][tree].pandas.df(variables, flatten=False),\n",
    "    \"dlup\": uproot.open(main_path+\"root_files/det_sys/prodgenie_bnb_nu_uboone_overlay_det_var_run1_mcc9.1_dlup_reco2.root\")[fold][tree].pandas.df(variables, flatten=False)\n",
    "}\n",
    "\n",
    "nue_det = {\n",
    "    \"cv\": uproot.open(main_path+\"root_files/det_sys/prodgenie_bnb_intrinsic_nue_uboone_overlay_detvar_mcc9.1_run1_CV_reco2.root\")[fold][tree].pandas.df(variables, flatten=False),\n",
    "    \"dlup\": uproot.open(main_path+\"root_files/det_sys/prodgenie_bnb_intrinsic_nue_uboone_overlay_detvar_mcc9.1_run1_DLup_reco2.root\")[fold][tree].pandas.df(variables, flatten=False)\n",
    "}\n",
    "\n",
    "mc_weight = {\n",
    "    \"cv\": 4.5e19/1.13302e+20,\n",
    "    \"dlup\": 4.5e19/1.14551e+20\n",
    "}\n",
    "\n",
    "nue_weight = {\n",
    "    \"cv\": 4.5e19/2.55306e+22,\n",
    "    \"dlup\": 4.5e19/2.46239e+22\n",
    "}"
   ]
  },
  {
   "cell_type": "code",
   "execution_count": 45,
   "metadata": {},
   "outputs": [
    {
     "name": "stdout",
     "output_type": "stream",
     "text": [
      "[0.09205744 0.03151802 0.15164212 0.02018007 0.06637916 0.06855351\n",
      " 0.07694425 0.07276595 0.0063131  0.03030477 0.02135144 0.09169938\n",
      " 0.06840748 0.05409349 0.08051799 0.13666272 0.08099508 0.04661208\n",
      " 0.24508419 0.18729581]\n"
     ]
    },
    {
     "data": {
      "image/png": "[encoded data removed]",
      "text/plain": [
       "<Figure size 432x288 with 1 Axes>"
      ]
     },
     "metadata": {
      "needs_background": "light"
     },
     "output_type": "display_data"
    }
   ],
   "source": [
    "x_range = 0,math.pi\n",
    "n_bins = 20\n",
    "var_name = \"shr_theta\"\n",
    "n_tot = {}\n",
    "\n",
    "for det in mc_det:\n",
    "    mc_det[det][\"reco_e\"] = (mc_det[det][\"shr_energy_tot_cali\"] + 0.030) / 0.79 + mc_det[det][\"trk_energy_tot\"]\n",
    "    nue_det[det][\"reco_e\"] = (nue_det[det][\"shr_energy_tot_cali\"] + 0.030) / 0.79 + nue_det[det][\"trk_energy_tot\"]\n",
    "\n",
    "    mc_tree = mc_det[det]\n",
    "\n",
    "    mc_queried_tree = mc_tree.query(\"selected==1 & nu_pdg != 12\")\n",
    "    mc_variable = mc_queried_tree[var_name]\n",
    "    mc_spline_fix = mc_queried_tree[\"weightSpline\"]*mc_weight[det]\n",
    "\n",
    "    n_mc, bins = np.histogram(\n",
    "        mc_variable,\n",
    "        range=x_range,\n",
    "        bins=n_bins,\n",
    "        weights=mc_spline_fix\n",
    "    )\n",
    "    \n",
    "    nue_tree = nue_det[det]\n",
    "\n",
    "    nue_queried_tree = nue_tree.query(\"selected==1\")\n",
    "    nue_variable = nue_queried_tree[var_name]\n",
    "    nue_spline_fix = nue_queried_tree[\"weightSpline\"]*nue_weight[det]\n",
    "\n",
    "    n_nue, bins = np.histogram(\n",
    "        nue_variable,\n",
    "        range=x_range,\n",
    "        bins=n_bins,\n",
    "        weights=nue_spline_fix\n",
    "    )\n",
    "    \n",
    "    n_tot[det] = n_nue + n_mc  \n",
    "\n",
    "cov = np.empty([len(n_tot[\"cv\"]), len(n_tot[\"cv\"])])\n",
    "cov.fill(0)\n",
    "\n",
    "for det in mc_det:\n",
    "    if det == \"cv\":\n",
    "        continue\n",
    "    for i in range(len(n_tot[\"cv\"])):\n",
    "        for j in range(len(n_tot[\"cv\"])):\n",
    "            cov[i][j] += (n_tot[det][i] - n_tot[\"cv\"][i])*(n_tot[det][j] - n_tot[\"cv\"][j])\n",
    "\n",
    "frac_cov = np.empty([len(n_tot[\"cv\"]), len(n_tot[\"cv\"])])\n",
    "corr = np.empty([len(n_tot[\"cv\"]), len(n_tot[\"cv\"])])\n",
    "\n",
    "for i in range(len(n_tot[\"cv\"])):\n",
    "    for j in range(len(n_tot[\"cv\"])):\n",
    "        frac_cov[i][j] = cov[i][j] / (n_tot[\"cv\"][i] * n_tot[\"cv\"][j])\n",
    "        corr[i][j] = cov[i][j] / np.sqrt(cov[i][i] * cov[j][j])\n",
    "            \n",
    "for det in n_tot:\n",
    "    left,right = bins[:-1],bins[1:]\n",
    "    X = np.array([left,right]).T.flatten()\n",
    "    Y = np.array([n_tot[det],n_tot[det]]).T.flatten()\n",
    "    if det == \"cv\":\n",
    "        plt.plot(X,Y,label=det, color=\"r\")\n",
    "    else:\n",
    "        plt.plot(X,Y,label=det)\n",
    "        \n",
    "bincenters = 0.5 * (bins[1:] + bins[:-1])\n",
    "    \n",
    "plt.errorbar(\n",
    "    bincenters, \n",
    "    n_tot[\"cv\"],\n",
    "    yerr=np.sqrt(np.diag(cov)), \n",
    "    fmt='none', \n",
    "    ecolor='r',\n",
    "    linewidth=2,\n",
    "    label='Det. sys. uncertainties')\n",
    "    \n",
    "print(np.sqrt(np.diag(cov))/n_tot[\"cv\"])\n",
    "    \n",
    "plt.xlabel(r\"Shower $\\phi$\")\n",
    "plt.xlim(x_range[0],x_range[1])\n",
    "plt.ylim(ymin=0)\n",
    "plt.legend()\n",
    "plt.tight_layout()\n",
    "plt.savefig(\"plots/det.pdf\")"
   ]
  },
  {
   "cell_type": "code",
   "execution_count": 41,
   "metadata": {},
   "outputs": [
    {
     "data": {
      "text/plain": [
       "<matplotlib.colorbar.Colorbar at 0x11d1b6f50>"
      ]
     },
     "execution_count": 41,
     "metadata": {},
     "output_type": "execute_result"
    },
    {
     "data": {
      "image/png": "[encoded data removed]",
      "text/plain": [
       "<Figure size 432x288 with 2 Axes>"
      ]
     },
     "metadata": {
      "needs_background": "light"
     },
     "output_type": "display_data"
    }
   ],
   "source": [
    "fig, ax = plt.subplots(1, 1)\n",
    "pos = ax.imshow(frac_cov, origin='lower', cmap='viridis')\n",
    "ax.set_title(\"Fractional covariance matrix\")\n",
    "ax.set_ylabel(\"Bin number\")\n",
    "ax.set_xlabel(\"Bin number\")\n",
    "fig.colorbar(pos)"
   ]
  },
  {
   "cell_type": "code",
   "execution_count": 42,
   "metadata": {},
   "outputs": [
    {
     "data": {
      "text/plain": [
       "<matplotlib.colorbar.Colorbar at 0x11a104e90>"
      ]
     },
     "execution_count": 42,
     "metadata": {},
     "output_type": "execute_result"
    },
    {
     "data": {
      "image/png": "[encoded data removed]",
      "text/plain": [
       "<Figure size 432x288 with 2 Axes>"
      ]
     },
     "metadata": {
      "needs_background": "light"
     },
     "output_type": "display_data"
    }
   ],
   "source": [
    "fig, ax = plt.subplots(1, 1)\n",
    "ax.set_title(\"Correlation matrix\")\n",
    "pos = ax.imshow(corr, origin='lower')\n",
    "ax.set_ylabel(\"Bin number\")\n",
    "ax.set_xlabel(\"Bin number\")\n",
    "fig.colorbar(pos)"
   ]
  },
  {
   "cell_type": "code",
   "execution_count": null,
   "metadata": {},
   "outputs": [],
   "source": []
  }
 ],
 "metadata": {
  "kernelspec": {
   "display_name": "Python 3",
   "language": "python",
   "name": "python3"
  },
  "language_info": {
   "codemirror_mode": {
    "name": "ipython",
    "version": 3
   },
   "file_extension": ".py",
   "mimetype": "text/x-python",
   "name": "python",
   "nbconvert_exporter": "python",
   "pygments_lexer": "ipython3",
   "version": "3.7.4"
  }
 },
 "nbformat": 4,
 "nbformat_minor": 2
}
