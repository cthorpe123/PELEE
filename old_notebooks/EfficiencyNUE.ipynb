{
 "cells": [
  {
   "cell_type": "code",
   "execution_count": null,
   "metadata": {},
   "outputs": [],
   "source": [
    "import sys\n",
    "import localSettings as ls\n",
    "print(ls.main_path)"
   ]
  },
  {
   "cell_type": "code",
   "execution_count": null,
   "metadata": {
    "colab": {
     "base_uri": "https://localhost:8080/",
     "height": 34
    },
    "colab_type": "code",
    "executionInfo": {
     "elapsed": 517,
     "status": "ok",
     "timestamp": 1560556807118,
     "user": {
      "displayName": "Stefano Roberto Soleti",
      "photoUrl": "https://lh4.googleusercontent.com/-hfLpspJu4Q0/AAAAAAAAAAI/AAAAAAAABmA/2kE4rtj8paU/s64/photo.jpg",
      "userId": "10372352518008961760"
     },
     "user_tz": 240
    },
    "id": "6qsD0G-yYJ9K",
    "outputId": "5d52a3ec-50be-44fc-da44-3c0593e98bc6"
   },
   "outputs": [],
   "source": [
    "main_path = ls.main_path\n",
    "sys.path.append(main_path)"
   ]
  },
  {
   "cell_type": "code",
   "execution_count": null,
   "metadata": {},
   "outputs": [],
   "source": [
    "SHRCALIBFACTOR = 1.00"
   ]
  },
  {
   "cell_type": "code",
   "execution_count": null,
   "metadata": {},
   "outputs": [],
   "source": [
    "# Doing Run3?\n",
    "ISRUN3 = False"
   ]
  },
  {
   "cell_type": "code",
   "execution_count": null,
   "metadata": {},
   "outputs": [],
   "source": [
    "import matplotlib.pyplot as plt\n",
    "plt.rcParams.update({'font.size': 14})"
   ]
  },
  {
   "cell_type": "code",
   "execution_count": null,
   "metadata": {
    "colab": {},
    "colab_type": "code",
    "id": "xGqTJ5JgaDsx"
   },
   "outputs": [],
   "source": [
    "import plotter\n",
    "import importlib\n",
    "importlib.reload(plotter)\n",
    "import uproot\n",
    "import matplotlib.pylab as pylab\n",
    "import numpy as np\n",
    "import math\n",
    "from sklearn.model_selection import train_test_split\n",
    "import pickle\n",
    "import xgboost as xgb\n",
    "import nue_booster \n",
    "importlib.reload(nue_booster)\n",
    "import awkward\n",
    "\n",
    "params = {\n",
    "    'axes.labelsize': 'x-large',\n",
    "    'axes.titlesize': 'x-large',\n",
    "    'xtick.labelsize': 'x-large',\n",
    "    'ytick.labelsize': 'x-large'\n",
    "}\n",
    "pylab.rcParams.update(params)"
   ]
  },
  {
   "cell_type": "code",
   "execution_count": null,
   "metadata": {
    "colab": {},
    "colab_type": "code",
    "id": "iwoCIaigYJ9N"
   },
   "outputs": [],
   "source": [
    "fold = \"nuselection\"\n",
    "tree = \"NeutrinoSelectionFilter\"\n",
    "\n",
    "NUE = \"allnues\"\n",
    "\n",
    "#if ISRUN3:\n",
    "#    NUE = 'prodgenie_bnb_intrinsice_nue_uboone_overlay_mcc9.1_v08_00_00_26_run3_reco2_reco2'\n",
    "#    \n",
    "#else:\n",
    "#    NUE = 'prodgenie_bnb_intrinsice_nue_uboone_overlay_mcc9.1_v08_00_00_26_run1_reco2_reco2'\n",
    "    \n",
    "UPROOTNUE = uproot.open(ls.ntuple_path+NUE+\".root\")[fold][tree]\n",
    "\n",
    "variables = [\n",
    "    \"shr_dedx_Y\", \"shr_bkt_pdg\", \"p\", \"pt\", \"selected\", \"nu_pdg\", \"shr_theta\",\n",
    "    \"slpdg\", \"trk_score_v\", \"backtracked_pdg\", # modified from shr_score_v\n",
    "    \"shr_pfp_id_v\", \"category\", \"shr_tkfit_dedx_Y\",\n",
    "    #\"shr_energy_tot\", \n",
    "    \"trk_energy_tot\", \"shr_hits_tot\", \"ccnc\", \"trk_chipr\",\n",
    "    \"trk_bkt_pdg\", \"hits_ratio\", \"n_tracks_contained\", \n",
    "    \"NeutrinoEnergy2\",\n",
    "    \"run\",\"sub\",\"evt\",\n",
    "    \"CosmicIP\",\n",
    "    \"nu_flashmatch_score\",\n",
    "    \"isVtxInFiducial\",\"truthFiducial\",\"nproton\",\n",
    "    \"elec_e\",\"proton_e\",\n",
    "    \"nu_purity_from_pfp\",\n",
    "    #\"trk_pfp_id\",\n",
    "    \"shrmoliereavg\",\"shrmoliererms\",\n",
    "    \"shr_tkfit_npointsvalid\",\"shr_tkfit_npoints\", # fitted vs. all hits for shower\n",
    "    \"shrclusfrac0\",\"shrclusfrac1\",\"shrclusfrac2\", # track-fitted hits / all hits\n",
    "    \"trkshrhitdist0\",\"trkshrhitdist1\",\"trkshrhitdist2\", # distance between track and shower in 2D\n",
    "    \"shrsubclusters0\",\"shrsubclusters1\",\"shrsubclusters2\", # number of sub-clusters in shower\n",
    "    \"trk_llr_pid_score_v\", # trk-PID score\n",
    "    \"pi0_gammadot\",\"pi0_mass_Y\",\"pi0_energy2_Y\", # pi0 tagger variables\n",
    "    \"reco_nu_vtx_sce_x\",\"reco_nu_vtx_sce_y\",\"reco_nu_vtx_sce_z\",\n",
    "    \"nu_e\", \"n_showers_contained\", \"shr_distance\", \"trk_distance\",\n",
    "    \"hits_y\", \"shr_pz\", \"shr_energy\", \"shr_dedx_U\", \"shr_dedx_V\", \"shr_phi\", \"trk_phi\", \"trk_theta\",\n",
    "    \"shr_tkfit_dedx_U\", \"shr_tkfit_dedx_V\", \"run\", \"sub\", \"evt\",  \"trk_pid_chipr_v\",\n",
    "    \"trk_len\", \"mc_pdg\", \"slnunhits\", \"slnhits\", \"shr_score\", \"trk_score\", \"trk_hits_tot\",\n",
    "    \"true_e_visible\", \"matched_E\", \"shr_bkt_E\", \"trk_bkt_E\", \"trk_energy\", \"tksh_distance\", \"tksh_angle\",\n",
    "    \"npi0\",\"npion\",\n",
    "    \"pi0_e\", \"shr_energy_tot_cali\", \"shr_dedx_Y_cali\", \"evnunhits\", \"nslice\", \"interaction\",\n",
    "    \"slclustfrac\", \"reco_nu_vtx_x\", \"reco_nu_vtx_y\", \"reco_nu_vtx_z\",\"contained_fraction\",\n",
    "    \"pi0_mass_Y\", \"pi0_gammadot\",\n",
    "    # second-shower tagging variables\n",
    "    \"secondshower_Y_nhit\",\"secondshower_Y_vtxdist\",\"secondshower_Y_dot\",\"secondshower_Y_dir\",\"shrclusdir2\",\n",
    "    \"secondshower_V_nhit\",\"secondshower_V_vtxdist\",\"secondshower_V_dot\",\"secondshower_V_dir\",\"shrclusdir1\",\n",
    "    \"secondshower_U_nhit\",\"secondshower_U_vtxdist\",\"secondshower_U_dot\",\"secondshower_U_dir\",\"shrclusdir0\",\n",
    "    #\n",
    "    \"shr_tkfit_gap10_dedx_U\",\"shr_tkfit_gap10_dedx_V\",\"shr_tkfit_gap10_dedx_Y\",# gap10 dedx\n",
    "    \"shr_tkfit_2cm_dedx_U\",\"shr_tkfit_2cm_dedx_V\",\"shr_tkfit_2cm_dedx_Y\"# 2cm dedx\n",
    "]\n",
    "\n",
    "nue = UPROOTNUE.pandas.df(variables, flatten=False)"
   ]
  },
  {
   "cell_type": "code",
   "execution_count": null,
   "metadata": {},
   "outputs": [],
   "source": [
    "def EQE(df,elecangle,elecenergy,corr):\n",
    "    mp = 0.998\n",
    "    mn = 0.939\n",
    "    Eb = 0.00987 # see DocDB 26949\n",
    "    theta = df[elecangle]\n",
    "    El = df[elecenergy]/corr\n",
    "    num = mp**2 - (mn-Eb)**2 + 2*(mn-Eb)*El\n",
    "    den = 2*(mn-Eb-El*(1-np.cos(theta)))\n",
    "    return num/den"
   ]
  },
  {
   "cell_type": "code",
   "execution_count": null,
   "metadata": {},
   "outputs": [],
   "source": [
    "# define some energy-related variables\n",
    "# calorimetric energy [shower + all tracks as protons]\n",
    "nue[\"reco_e_calo\"] = (nue[\"shr_energy_tot_cali\"]) / 0.79 + nue[\"trk_energy_tot\"]\n",
    "# calorimetric energy using truth-level information\n",
    "nue[\"reco_e_calo_truth\"] = nue[\"elec_e\"] + nue[\"trk_energy_tot\"]\n",
    "# CCQE energy with lepton\n",
    "nue['reco_e_qe'] = EQE(nue,'shr_theta','shr_energy_tot_cali',0.8)\n",
    "# CCQE energy with truth lepton information\n",
    "nue['reco_e_qe_truth'] = EQE(nue,'shr_theta','elec_e',1.0)\n",
    "#nue[\"reco_e_qe\"] = 0.938*((nue[\"shr_energy_tot_cali\"])/0.79)/(0.938 - ((nue[\"shr_energy_tot_cali\"]+0.030)/0.79)*(1-np.cos(nue[\"shr_theta\"])))\n",
    "#nue[\"reco_e_rqe\"] = nue[\"reco_e_qe\"]/nue[\"reco_e\"]"
   ]
  },
  {
   "cell_type": "code",
   "execution_count": null,
   "metadata": {},
   "outputs": [],
   "source": [
    "nue['anglediff_Y'] = np.abs(nue['secondshower_Y_dir']-nue['shrclusdir2'])\n",
    "nue['anglediff_V'] = np.abs(nue['secondshower_V_dir']-nue['shrclusdir1'])\n",
    "nue['anglediff_U'] = np.abs(nue['secondshower_U_dir']-nue['shrclusdir0'])"
   ]
  },
  {
   "cell_type": "code",
   "execution_count": null,
   "metadata": {},
   "outputs": [],
   "source": [
    "trk_llr_pid_v = UPROOTNUE.array('trk_llr_pid_score_v')\n",
    "trk_id = UPROOTNUE.array('trk_id')-1 # I think we need this -1 to get the right result\n",
    "trk_llr_pid_v_sel = awkward.fromiter([pidv[tid] if tid<len(pidv) else 9999. for pidv,tid in zip(trk_llr_pid_v,trk_id)])\n",
    "nue['trkpid'] = trk_llr_pid_v_sel\n",
    "nue['subcluster'] = nue['shrsubclusters0'] + nue['shrsubclusters1'] + nue['shrsubclusters2']\n",
    "nue['trkfit'] = nue['shr_tkfit_npointsvalid'] / nue['shr_tkfit_npoints']"
   ]
  },
  {
   "cell_type": "code",
   "execution_count": null,
   "metadata": {},
   "outputs": [],
   "source": [
    "#mc_px_v = UPROOTNUE.array('mc_px')\n",
    "#mc_py_v = UPROOTNUE.array('mc_py')\n",
    "#mc_pz_v = UPROOTNUE.array('mc_pz')\n",
    "#mc_pdg = UPROOTNUE.array('mc_pdg')-1 # I think we need this -1 to get the right result\n",
    "#mc_px_elec = awkward.fromiter([mcv[tid] if tid<len(mcv) else 9999. for mcv,tid in zip(mc_px_v,mc_pdg)])\n",
    "#nue['trkpid'] = trk_llr_pid_v_sel\n",
    "#nue['subcluster'] = nue['shrsubclusters0'] + nue['shrsubclusters1'] + nue['shrsubclusters2']\n",
    "#nue['trkfit'] = nue['shr_tkfit_npointsvalid'] / nue['shr_tkfit_npoints']"
   ]
  },
  {
   "cell_type": "code",
   "execution_count": null,
   "metadata": {},
   "outputs": [],
   "source": [
    "nue[\"is_signal\"] = nue[\"category\"] == 11"
   ]
  },
  {
   "cell_type": "code",
   "execution_count": null,
   "metadata": {},
   "outputs": [],
   "source": [
    "# energy resolution for calorimetric energy\n",
    "nue['erescalo'] = (nue['reco_e_calo']-nue['nu_e'])/nue['nu_e']\n",
    "# energy resolution for calorimetric energy vs. visible energy\n",
    "nue['erescalovis'] = (nue['reco_e_calo']-nue['true_e_visible'])/nue['true_e_visible']\n",
    "# energy resolution for QE energy\n",
    "nue['eresqe'] = (nue['reco_e_qe']-nue['nu_e'])/nue['nu_e']\n",
    "nue['eresqetruth'] = (nue['reco_e_qe_truth']-nue['nu_e'])/nue['nu_e']\n",
    "# energy resolution for QE energy vs. visible energy\n",
    "nue['eresqevis'] = (nue['reco_e_qe']-nue['true_e_visible'])/nue['true_e_visible']\n",
    "# energy resolution for shower\n",
    "nue['shrres'] = (((nue['shr_energy_tot_cali'])/0.79)-nue['elec_e'])/nue['elec_e']\n",
    "# energy resolution for proton\n",
    "nue['protonres'] = (nue['trk_energy']-(nue['proton_e']-0.938))/(nue['proton_e']-0.938)"
   ]
  },
  {
   "cell_type": "code",
   "execution_count": null,
   "metadata": {},
   "outputs": [],
   "source": [
    "# from Giuseppe's BNL BDT\n",
    "TRAINVAR = [\"shr_score\",\"tksh_distance\",\"tksh_angle\",\n",
    "            \"shr_tkfit_gap10_dedx_Y\",\"shr_tkfit_gap10_dedx_U\",\"shr_tkfit_gap10_dedx_V\",\n",
    "            \"shr_tkfit_2cm_dedx_Y\",\"shr_tkfit_2cm_dedx_U\",\"shr_tkfit_2cm_dedx_V\",\n",
    "            \"trkfit\",\"trkpid\",\"subcluster\",\"shrmoliereavg\",#\"shrmoliererms\",\n",
    "             \"trkshrhitdist2\",\"hits_ratio\",\"secondshower_Y_nhit\",\"secondshower_Y_vtxdist\",\\\n",
    "            \"secondshower_Y_dot\",\"anglediff_Y\"\n",
    "           ]"
   ]
  },
  {
   "cell_type": "code",
   "execution_count": null,
   "metadata": {},
   "outputs": [],
   "source": [
    "LABELS = ['pi0','nonpi0']\n",
    "USEBDT = True\n",
    "if (USEBDT == True):\n",
    "    #for label, bkg_query in zip(nue_booster.labels, nue_booster.bkg_queries):\n",
    "    for label, bkg_query in zip(LABELS, nue_booster.bkg_queries):\n",
    "        with open(ls.pickle_path+'booster_%s.pickle' % label, 'rb') as booster_file:\n",
    "            booster = pickle.load(booster_file)\n",
    "            nue[label+\"_score\"] = booster.predict(\n",
    "                xgb.DMatrix(nue[TRAINVAR]),\n",
    "                ntree_limit=booster.best_iteration)\n",
    "    TRAINVAR = [\"%s_score\" % l for l in nue_booster.labels]\n"
   ]
  },
  {
   "cell_type": "code",
   "execution_count": null,
   "metadata": {},
   "outputs": [],
   "source": [
    "QUERY = 'nslice == 1'\n",
    "QUERY += ' and selected == 1'\n",
    "QUERY += ' and n_tracks_contained > 0'\n",
    "QUERY += ' and shr_energy_tot_cali > 0.07'\n",
    "QUERY += ' and trkpid < -0.02'\n",
    "\n",
    "print (QUERY)"
   ]
  },
  {
   "cell_type": "code",
   "execution_count": null,
   "metadata": {},
   "outputs": [],
   "source": [
    "nue_SEL = nue.query(QUERY)"
   ]
  },
  {
   "cell_type": "code",
   "execution_count": null,
   "metadata": {},
   "outputs": [],
   "source": [
    "nueRES = nue_SEL.query('interaction == 1')\n",
    "nueQE  = nue_SEL.query('interaction == 0')\n",
    "nueDIS = nue_SEL.query('interaction == 2')\n",
    "nueMEC = nue_SEL.query('interaction == 10')"
   ]
  },
  {
   "cell_type": "code",
   "execution_count": null,
   "metadata": {},
   "outputs": [],
   "source": [
    "nue1e0pi0p = nue_SEL.query('nproton == 0 and npion == 0')\n",
    "nue1e0piNp = nue_SEL.query('nproton > 0 and npion == 0')"
   ]
  },
  {
   "cell_type": "code",
   "execution_count": null,
   "metadata": {
    "scrolled": false
   },
   "outputs": [],
   "source": [
    "ERANGE_V = []\n",
    "\n",
    "ERANGE_V = [0.1,0.2,0.3,0.4,0.5,0.6,0.8,1.0,1.5,2.0]\n",
    "\n",
    "\n",
    "for n in range(len(ERANGE_V)-1):\n",
    "    \n",
    "    EMIN = ERANGE_V[n]\n",
    "    EMAX = ERANGE_V[n+1]\n",
    "    \n",
    "    stacked_v = []\n",
    "    \n",
    "    VAR = 'eresqe'\n",
    "\n",
    "    nueQE_tmp = nueQE.query('nu_e > %f and nu_e < %f'%(EMIN,EMAX))\n",
    "    nueRES_tmp = nueRES.query('nu_e > %f and nu_e < %f'%(EMIN,EMAX))\n",
    "    nueMEC_tmp = nueMEC.query('nu_e > %f and nu_e < %f'%(EMIN,EMAX))\n",
    "    nueDIS_tmp = nueDIS.query('nu_e > %f and nu_e < %f'%(EMIN,EMAX))\n",
    "    \n",
    "    stacked_v = [nueDIS_tmp[VAR],nueRES_tmp[VAR],\\\n",
    "                 nueMEC_tmp[VAR],nueQE_tmp[VAR]]\n",
    "\n",
    "    label_v = ['DIS','RES','MEC','QE']\n",
    "    \n",
    "    fig = plt.figure(figsize=(6,6))\n",
    "    BINS = np.linspace(-1,1,30)\n",
    "    plt.hist(stacked_v,bins=BINS,histtype='stepfilled',lw=2,label=label_v,stacked=True,alpha=0.5)\n",
    "    plt.grid()\n",
    "    plt.legend(loc=\"best\",framealpha=1,fontsize=16)\n",
    "    plt.xlabel('[reco - true] / true energy',fontsize=16)\n",
    "    plt.title(r'true $\\nu_e$ energy [%.01f, %.01f] GeV'%(EMIN,EMAX),fontsize=16)\n",
    "    plt.show()"
   ]
  },
  {
   "cell_type": "code",
   "execution_count": null,
   "metadata": {
    "scrolled": false
   },
   "outputs": [],
   "source": [
    "ERANGE_V = []\n",
    "\n",
    "ERANGE_V = [0.1,0.2,0.3,0.4,0.5,0.6,0.8,1.0,1.5,2.0]\n",
    "\n",
    "\n",
    "for n in range(len(ERANGE_V)-1):\n",
    "    \n",
    "    EMIN = ERANGE_V[n]\n",
    "    EMAX = ERANGE_V[n+1]\n",
    "\n",
    "    nue_SEL_tmp = nue_SEL.query('nu_e > %f and nu_e < %f'%(EMIN,EMAX))\n",
    "\n",
    "    fig = plt.figure(figsize=(6,6))\n",
    "    BINS = np.linspace(-1,1,30)\n",
    "    plt.hist(nue_SEL_tmp['erescalo'].values,bins=BINS,histtype='stepfilled',\\\n",
    "             lw=2,label='calo E vs. truth',alpha=0.5)\n",
    "    plt.hist(nue_SEL_tmp['erescalovis'].values,bins=BINS,histtype='stepfilled',\\\n",
    "             lw=2,label='calo E vs. visible',alpha=0.5)\n",
    "    #plt.hist(nue_SEL_tmp['erescalo'].values,bins=BINS,histtype='stepfill',\\\n",
    "    #         lw=2,label='',alpha=0.5)\n",
    "    #plt.hist(nue_SEL_tmp['erescalovis'].values,bins=BINS,histtype='stepfill',lw=2,label='QE Energy - Truth')\n",
    "    plt.grid()\n",
    "    plt.legend(loc=\"best\",framealpha=1,fontsize=16)\n",
    "    plt.xlabel('[reco - true] / true energy',fontsize=16)\n",
    "    plt.title(r'true $\\nu_e$ energy [%.01f, %.01f] GeV'%(EMIN,EMAX),fontsize=16)\n",
    "    plt.show()"
   ]
  },
  {
   "cell_type": "code",
   "execution_count": null,
   "metadata": {
    "scrolled": false
   },
   "outputs": [],
   "source": [
    "ERANGE_V = []\n",
    "\n",
    "ERANGE_V = [0.1,0.2,0.3,0.4,0.5,0.6,0.8,1.0,1.5,2.0]\n",
    "\n",
    "\n",
    "for n in range(len(ERANGE_V)-1):\n",
    "    \n",
    "    EMIN = ERANGE_V[n]\n",
    "    EMAX = ERANGE_V[n+1]\n",
    "\n",
    "    nue_SEL_tmp = nue_SEL.query('elec_e > %f and elec_e < %f'%(EMIN,EMAX))\n",
    "\n",
    "    fig = plt.figure(figsize=(4,4))\n",
    "    BINS = np.linspace(-1,1,30)\n",
    "    plt.hist(nue_SEL_tmp['shrres'].values,bins=BINS,histtype='step',lw=2)#,label='Calorimetric Energy')\n",
    "    plt.grid()\n",
    "    plt.legend(loc=1)\n",
    "    plt.xlabel('[reco - true] / true energy',fontsize=16)\n",
    "    plt.title('true shower energy [%.01f, %.01f] GeV'%(EMIN,EMAX),fontsize=16)\n",
    "    plt.show()"
   ]
  },
  {
   "cell_type": "code",
   "execution_count": null,
   "metadata": {
    "scrolled": false
   },
   "outputs": [],
   "source": [
    "ERANGE_V = []\n",
    "\n",
    "ERANGE_V = [0.05,0.1,0.15,0.2,0.25,0.3,0.35,0.5]\n",
    "\n",
    "\n",
    "for n in range(len(ERANGE_V)-1):\n",
    "    \n",
    "    EMIN = ERANGE_V[n]\n",
    "    EMAX = ERANGE_V[n+1]\n",
    "\n",
    "    nue_SEL_tmp = nue_SEL.query('proton_e > %.02f and proton_e < %.02f'%(EMIN+0.938,EMAX+0.938))\n",
    "\n",
    "    fig = plt.figure(figsize=(4,4))\n",
    "    BINS = np.linspace(-1,1,100)\n",
    "    plt.hist(nue_SEL_tmp['protonres'].values,bins=BINS,histtype='step',lw=2)#,label='Calorimetric Energy')\n",
    "    plt.grid()\n",
    "    plt.legend(loc=1)\n",
    "    plt.xlabel('[reco - true] / true energy',fontsize=16)\n",
    "    plt.title('true proton energy [%.02f, %.02f] GeV'%(EMIN,EMAX),fontsize=16)\n",
    "    plt.show()"
   ]
  },
  {
   "cell_type": "code",
   "execution_count": null,
   "metadata": {},
   "outputs": [],
   "source": [
    "def Eff(df,var,query,acceptance,bin_edges,absval=False):\n",
    "    #print acceptance\n",
    "    bin_centers = 0.5*(bin_edges[1:]+bin_edges[:-1])\n",
    "    bins = []\n",
    "    bin_eff = []\n",
    "    bin_err = []\n",
    "    for i in range(len(bin_centers)):\n",
    "        binmin = bin_edges[i]\n",
    "        binmax = bin_edges[i+1]\n",
    "        bincut = '%s > %f and %s < %f'%(var,binmin,var,binmax)\n",
    "        if (absval == True):\n",
    "            bincut = '(%s > %f and %s < %f) or (%s > -%f and %s < -%f)'%(var,binmin,var,binmax,var,binmax,var,binmin)\n",
    "        if (acceptance != ''): bincut += ' and %s'%acceptance\n",
    "        #print bincut\n",
    "        df_tmp =  df.query(bincut) # cut on bin range for desired var.\n",
    "        df_sub = df_tmp.query(query) # apply constrain \n",
    "        if (df_tmp.shape[0] == 0): continue\n",
    "        eff = df_sub.shape[0] / float( df_tmp.shape[0] )\n",
    "        err = np.sqrt( eff*(1-eff)/df_tmp.shape[0] )\n",
    "        bin_eff.append( eff )\n",
    "        bin_err.append( err )\n",
    "        bins.append(bin_centers[i])\n",
    "        #print 'eff = %.02f @ bin = %.02f'%(eff,bin_centers[i])\n",
    "    return np.array(bins),np.array(bin_eff),np.array(bin_err)"
   ]
  },
  {
   "cell_type": "code",
   "execution_count": null,
   "metadata": {},
   "outputs": [],
   "source": [
    "# nue pre-selection\n",
    "BOXCUTS = 'nslice == 1'\n",
    "BOXCUTS += ' and selected == 1'\n",
    "BOXCUTS += ' and n_tracks_contained > 0'\n",
    "BOXCUTS += ' and shr_energy_tot_cali > 0.07'\n",
    "BOXCUTS += ' and n_tracks_contained > 0'\n",
    "# Loose box cuts\n",
    "BOXCUTS += ' and n_showers_contained == 1'\n",
    "BOXCUTS += ' and hits_ratio > 0.5'\n",
    "BOXCUTS += ' and tksh_distance < 6.0'\n",
    "BOXCUTS += ' and shr_tkfit_2cm_dedx_Y < 4.0'\n",
    "BOXCUTS += ' and tksh_angle > -0.9'\n",
    "BOXCUTS += ' and trkpid < 0.1'\n",
    "BOXCUTS += ' and shr_score < 0.30'\n",
    "BOXCUTS += ' and CosmicIP > 20.'\n",
    "# Box cuts\n",
    "BOXCUTS += ' and tksh_distance < 3.5'\n",
    "BOXCUTS += ' and (shr_tkfit_gap10_dedx_Y > 0 and shr_tkfit_gap10_dedx_Y < 4.5 and shr_tkfit_gap10_dedx_U < 4.5 and shr_tkfit_gap10_dedx_V < 4.5)'\n",
    "BOXCUTS += ' and (shr_tkfit_2cm_dedx_Y > 0 and shr_tkfit_2cm_dedx_Y < 4.0 and shr_tkfit_2cm_dedx_U < 4.0 and shr_tkfit_2cm_dedx_V < 4.0)'\n",
    "BOXCUTS += ' and tksh_angle > -0.9 and tksh_angle < 0.7'\n",
    "BOXCUTS += ' and shrmoliereavg > 2 and shrmoliereavg < 9'\n",
    "BOXCUTS += ' and trkpid < -0.02'\n",
    "BOXCUTS += ' and n_showers_contained == 1'\n",
    "BOXCUTS += ' and shr_score < 0.275'\n",
    "BOXCUTS += ' and hits_ratio > 0.60'\n",
    "BOXCUTS += ' and CosmicIP > 20.'\n",
    "BOXCUTS += ' and (secondshower_Y_nhit<=8 or secondshower_Y_dot<=0.8 or anglediff_Y<=40 or secondshower_Y_vtxdist>=100)'\n",
    "BOXCUTS += ' and (trkfit < 0.45 or subcluster > 6)'"
   ]
  },
  {
   "cell_type": "code",
   "execution_count": null,
   "metadata": {},
   "outputs": [],
   "source": [
    "PRESELNp = 'nslice == 1'\n",
    "PRESELNp += ' and selected == 1'\n",
    "PRESELNp += ' and n_tracks_contained > 0'\n",
    "PRESELNp += ' and shr_energy_tot_cali > 0.07'\n",
    "PRESELNp += ' and trkpid < 0.1'"
   ]
  },
  {
   "cell_type": "code",
   "execution_count": null,
   "metadata": {},
   "outputs": [],
   "source": [
    "PRESEL = 'nslice == 1'\n",
    "PRESEL += ' and selected == 1'\n",
    "#PRESEL += ' and n_tracks_contained > 0'\n",
    "PRESEL += ' and shr_energy_tot_cali > 0.07'\n",
    "#PRESEL += ' and trkpid < -0.02'"
   ]
  },
  {
   "cell_type": "code",
   "execution_count": null,
   "metadata": {},
   "outputs": [],
   "source": [
    "# 1eNp BDT\n",
    "BDTCUT = 'nslice == 1'\n",
    "BDTCUT += ' and selected == 1'\n",
    "BDTCUT += ' and n_tracks_contained > 0'\n",
    "BDTCUT += ' and shr_energy_tot_cali > 0.07'\n",
    "BDTCUT += ' and n_tracks_contained > 0'\n",
    "if ISRUN3: BDTCUT += ' and (crtveto!=1) and (_closestNuCosmicDist > 20.)'\n",
    "    \n",
    "# Loose box cuts\n",
    "BDTCUT += ' and n_showers_contained == 1'\n",
    "BDTCUT += ' and hits_ratio > 0.5'\n",
    "BDTCUT += ' and tksh_distance < 6.0'\n",
    "BDTCUT += ' and shr_tkfit_2cm_dedx_Y < 4.0'\n",
    "BDTCUT += ' and tksh_angle > -0.9'\n",
    "BDTCUT += ' and trkpid < 0.1'\n",
    "BDTCUT += ' and shr_score < 0.30'\n",
    "BDTCUT += ' and CosmicIP > 20.'    \n",
    "    \n",
    "# and BDT    \n",
    "BDTCUT += ' and pi0_score > 0.995 and nonpi0_score > 0.9984'"
   ]
  },
  {
   "cell_type": "code",
   "execution_count": null,
   "metadata": {},
   "outputs": [],
   "source": [
    "fig = plt.figure(figsize=(8,6))\n",
    "START = 0.\n",
    "B = np.linspace(START,1.5,20)\n",
    "\n",
    "VAR = 'nu_e' #'_pi0_e'\n",
    "\n",
    "#EFFICIENCY =  BDTCUT #'nslice==1 and nu_purity_from_pfp > 0.5'\n",
    "\n",
    "ACCEPTANCE = 'isVtxInFiducial == 1 and truthFiducial == 1'\n",
    "centers,vals,errs = Eff(nue,VAR,\"nslice == 1 and nu_purity_from_pfp > 0.99\",ACCEPTANCE,B)\n",
    "plt.errorbar(centers-START,vals,yerr=errs,fmt='o-',color='k',label=r'SliceID')\n",
    "\n",
    "\n",
    "'''\n",
    "ACCEPTANCE = 'isVtxInFiducial == 1 and truthFiducial == 1'\n",
    "centers,vals,errs = Eff(nue,VAR,EFFICIENCY,ACCEPTANCE,B)\n",
    "plt.errorbar(centers-START,vals,yerr=errs,fmt='o-',color='b',label=r'1eNp BDT')\n",
    "\n",
    "\n",
    "\n",
    "ACCEPTANCE = 'isVtxInFiducial == 1 and truthFiducial == 1'\n",
    "centers,vals,errs = Eff(nue,VAR,BOXCUTS,ACCEPTANCE,B)\n",
    "plt.errorbar(centers-START,vals,yerr=errs,fmt='o-',color='m',label=r'1eNp box-cuts')\n",
    "\n",
    "ACCEPTANCE = 'isVtxInFiducial == 1 and truthFiducial == 1'\n",
    "centers,vals,errs = Eff(nue,VAR,PRESEL,ACCEPTANCE,B)\n",
    "plt.errorbar(centers-START,vals,yerr=errs,fmt='o-',color='orange',label=r'$\\nu_e$ pre-selection')\n",
    "\n",
    "ACCEPTANCE = 'isVtxInFiducial == 1 and truthFiducial == 1'\n",
    "centers,vals,errs = Eff(nue,VAR,PRESELNp,ACCEPTANCE,B)\n",
    "plt.errorbar(centers-START,vals,yerr=errs,fmt='o-',color='c',label=r'1eNp pre-selection')\n",
    "\n",
    "ACCEPTANCE = 'isVtxInFiducial == 1 and truthFiducial == 1'\n",
    "centers,vals,errs = Eff(nue,VAR,\"nslice == 1 and nu_purity_from_pfp > 0.5\",ACCEPTANCE,B)\n",
    "plt.errorbar(centers-START,vals,yerr=errs,fmt='o-',color='k',label=r'SliceID')\n",
    "\n",
    "\n",
    "\n",
    "\n",
    "ACCEPTANCE = 'isVtxInFiducial == 1 and truthFiducial == 1 and nproton > 0 and npion == 0'\n",
    "centers,vals,errs = Eff(nue,VAR,EFFICIENCY,ACCEPTANCE,B)\n",
    "plt.errorbar(centers-START,vals,yerr=errs,fmt='o-',color='m',label=r'$\\nu_e$ 1eNp0$\\pi$')\n",
    "\n",
    "\n",
    "ACCEPTANCE = 'isVtxInFiducial == 1 and truthFiducial == 1 and nproton == 0 and npion == 0'\n",
    "centers,vals,errs = Eff(nue,VAR,EFFICIENCY,ACCEPTANCE,B)\n",
    "plt.errorbar(centers-START,vals,yerr=errs,fmt='o-',color='c',label=r'$\\nu_e$ 1e0p0$\\pi$')\n",
    "\n",
    "\n",
    "ACCEPTANCE = 'isVtxInFiducial == 1 and truthFiducial == 1 and interaction == 0'\n",
    "centers,vals,errs = Eff(nue,VAR,EFFICIENCY,ACCEPTANCE,B)\n",
    "plt.errorbar(centers-START,vals,yerr=errs,fmt='--',color='r',label=r'$\\nu_e$ CCQE')\n",
    "\n",
    "ACCEPTANCE = 'isVtxInFiducial == 1 and truthFiducial == 1 and interaction == 10'\n",
    "centers,vals,errs = Eff(nue,VAR,EFFICIENCY,ACCEPTANCE,B)\n",
    "plt.errorbar(centers-START,vals,yerr=errs,fmt='--',color='orange',label=r'$\\nu_e$ MEC')\n",
    "'''\n",
    "\n",
    "#centers,vals,errs = Eff(nue,VAR,PRESEL,ACCEPTANCE,B)\n",
    "#plt.errorbar(centers,vals,yerr=errs,fmt='o-',color='r',label='1eNp reconstruction [3.5% purity]')\n",
    "\n",
    "#centers,vals,errs = Eff(nue,VAR,BOXCUTS,ACCEPTANCE,B)\n",
    "#plt.errorbar(centers,vals,yerr=errs,fmt='o-',color='g',label='LEE box-cut selection [91% purity]')\n",
    "\n",
    "plt.title(r'$\\nu_e$ 1eNp efficiency',fontsize=16)\n",
    "#plt.xlabel(r'Neutrino Energy [GeV]',fontsize=16)\n",
    "plt.xlabel(r'Neutrino Energy [GeV]',fontsize=16)\n",
    "plt.ylabel(r'Efficiency',fontsize=16)\n",
    "plt.grid()\n",
    "plt.ylim([0,1.2])\n",
    "plt.legend(loc=2,fontsize=14,framealpha=1.0)\n",
    "#plt.yscale('log')\n",
    "#plt.title(r'v08_00_00_26 Run1 Samples')\n",
    "#plt.legend(loc=7,fontsize=14)\n",
    "plt.show()"
   ]
  },
  {
   "cell_type": "code",
   "execution_count": null,
   "metadata": {},
   "outputs": [],
   "source": [
    "fig = plt.figure(figsize=(8,6))\n",
    "B = np.linspace(0.0,1.0,50)\n",
    "\n",
    "ACCEPTANCE = 'isVtxInFiducial == 1 and truthFiducial == 1 and nproton > 0'\n",
    "#QUERY = SELQUERY\n",
    "VAR = 'elec_e' #'_pi0_e'\n",
    "\n",
    "centers,vals,errs = Eff(nue,VAR,'nslice==1',ACCEPTANCE,B)\n",
    "plt.errorbar(centers,vals,yerr=errs,fmt='o-',color='b',label='Neutrino SlideID [0.4% purity]')\n",
    "\n",
    "centers,vals,errs = Eff(nue,VAR,PRESEL,ACCEPTANCE,B)\n",
    "plt.errorbar(centers,vals,yerr=errs,fmt='o-',color='r',label='1eNp reconstruction [3.5% purity]')\n",
    "\n",
    "centers,vals,errs = Eff(nue,VAR,BOXCUTS,ACCEPTANCE,B)\n",
    "plt.errorbar(centers,vals,yerr=errs,fmt='o-',color='g',label='LEE box-cut selection [91% purity]')\n",
    "\n",
    "plt.xlabel(r'Electron Energy [GeV]',fontsize=16)\n",
    "plt.ylabel(r'Efficiency',fontsize=16)\n",
    "plt.grid()\n",
    "plt.ylim([0,1.3])\n",
    "plt.legend(loc=9,fontsize=16,framealpha=1.0)\n",
    "#plt.yscale('log')\n",
    "#plt.title(r'v08_00_00_26 Run1 Samples')\n",
    "#plt.legend(loc=7,fontsize=14)\n",
    "plt.show()"
   ]
  },
  {
   "cell_type": "code",
   "execution_count": null,
   "metadata": {},
   "outputs": [],
   "source": [
    "fig = plt.figure(figsize=(8,6))\n",
    "B = np.linspace(0.938,1.4,50)\n",
    "\n",
    "ACCEPTANCE = 'isVtxInFiducial == 1 and truthFiducial == 1 and nproton > 0'\n",
    "#QUERY = SELQUERY\n",
    "VAR = 'proton_e' #'_pi0_e'\n",
    "\n",
    "\n",
    "PRESEL = 'nslice == 1'\n",
    "PRESEL += ' and selected == 1'\n",
    "PRESEL += ' and n_tracks_contained > 0'\n",
    "PRESEL += ' and shr_energy_tot_cali > 0.07'\n",
    "\n",
    "centers,vals,errs = Eff(nue,VAR,PRESEL,ACCEPTANCE,B)\n",
    "centers -= 0.938\n",
    "plt.errorbar(centers,vals,yerr=errs,fmt='o-',color='r',label='1eNp reconstruction')\n",
    "\n",
    "PRESEL = 'nslice == 1'\n",
    "PRESEL += ' and selected == 1'\n",
    "PRESEL += ' and n_tracks_contained > 0'\n",
    "PRESEL += ' and shr_energy_tot_cali > 0.07'\n",
    "PRESEL += ' and trkpid < -0.02'\n",
    "\n",
    "centers,vals,errs = Eff(nue,VAR,PRESEL,ACCEPTANCE,B)\n",
    "centers -= 0.938\n",
    "plt.errorbar(centers,vals,yerr=errs,fmt='o-',color='g',label='1eNp reconstruction [w/ proton PID]')\n",
    "\n",
    "plt.xlabel(r'Proton Kinetic Energy [GeV]',fontsize=16)\n",
    "plt.ylabel(r'Efficiency',fontsize=16)\n",
    "plt.grid()\n",
    "plt.ylim([0,1.0])\n",
    "plt.legend(loc=9,fontsize=16,framealpha=1.0)\n",
    "#plt.yscale('log')\n",
    "#plt.title(r'v08_00_00_26 Run1 Samples')\n",
    "#plt.legend(loc=7,fontsize=14)\n",
    "plt.show()"
   ]
  },
  {
   "cell_type": "code",
   "execution_count": null,
   "metadata": {},
   "outputs": [],
   "source": []
  }
 ],
 "metadata": {
  "accelerator": "GPU",
  "colab": {
   "name": "Plotter.ipynb",
   "provenance": [],
   "version": "0.3.2"
  },
  "kernelspec": {
   "display_name": "Python 3",
   "language": "python",
   "name": "python3"
  },
  "language_info": {
   "codemirror_mode": {
    "name": "ipython",
    "version": 3
   },
   "file_extension": ".py",
   "mimetype": "text/x-python",
   "name": "python",
   "nbconvert_exporter": "python",
   "pygments_lexer": "ipython3",
   "version": "3.7.4"
  }
 },
 "nbformat": 4,
 "nbformat_minor": 1
}
