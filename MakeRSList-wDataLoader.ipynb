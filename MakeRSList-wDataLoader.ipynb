{
 "cells": [
  {
   "cell_type": "markdown",
   "metadata": {},
   "source": [
    "# Use Data Loader to Get Sample, Apply Selection and Make RSE List "
   ]
  },
  {
   "cell_type": "markdown",
   "metadata": {},
   "source": [
    "##### Set the run and sample you wish to look at"
   ]
  },
  {
   "cell_type": "code",
   "execution_count": 1,
   "metadata": {},
   "outputs": [],
   "source": [
    "import sys\n",
    "import os\n",
    "#sys.path.append(\"old_notebooks/\")\n",
    "Run = \"3\"\n",
    "SampleType = \"bnb\" # Choose from bnb, ext, nu, nue, drt\n",
    "SampleCategory=\"runs\"\n",
    "Variation=\"\"\n",
    "\n",
    "# Set if you want to load a file not found in the data_path.yml\n",
    "filename = \"/pnfs/uboone/persistent/users/cthorpe/PELEE_2023/run3/bnb_beam_on_peleeTuple_uboone_v08_00_00_70_run3.root\""
   ]
  },
  {
   "cell_type": "markdown",
   "metadata": {},
   "source": [
    "##### Import the data loader"
   ]
  },
  {
   "cell_type": "code",
   "execution_count": 2,
   "metadata": {},
   "outputs": [],
   "source": [
    "# Import the data loader\n",
    "%load_ext autoreload\n",
    "%autoreload 2\n",
    "import data_loading as dl\n",
    "from importlib import reload\n",
    "reload(dl)\n",
    "import os"
   ]
  },
  {
   "cell_type": "markdown",
   "metadata": {},
   "source": [
    "##### Load the sample with the new data loader"
   ]
  },
  {
   "cell_type": "code",
   "execution_count": 3,
   "metadata": {
    "scrolled": false
   },
   "outputs": [
    {
     "name": "stdout",
     "output_type": "stream",
     "text": [
      "Loading file /pnfs/uboone/persistent/users/cthorpe/PELEE_2023/run3/bnb_beam_on_peleeTuple_uboone_v08_00_00_70_run3.root instead of using data_paths.yml\n"
     ]
    },
    {
     "name": "stderr",
     "output_type": "stream",
     "text": [
      "/uboone/app/users/cthorpe/RefactoredPELEE/data_loading.py:1077: RuntimeWarning: overflow encountered in multiply\n",
      "  mc_Q2 = -1 * (mc_q_E * mc_q_E - mc_q_px * mc_q_px - mc_q_py * mc_q_py - mc_q_pz * mc_q_pz)\n",
      "/uboone/app/users/cthorpe/RefactoredPELEE/data_loading.py:1077: RuntimeWarning: invalid value encountered in subtract\n",
      "  mc_Q2 = -1 * (mc_q_E * mc_q_E - mc_q_px * mc_q_px - mc_q_py * mc_q_py - mc_q_pz * mc_q_pz)\n",
      "/uboone/app/users/cthorpe/RefactoredPELEE/data_loading.py:1105: RuntimeWarning: overflow encountered in multiply\n",
      "  reco_px_hadsum = leadP_P * leadP_dirx + pi0_energy1_Y * pi0_dir1_x + pi0_energy2_Y * pi0_dir2_x\n",
      "/uboone/app/users/cthorpe/RefactoredPELEE/data_loading.py:1105: RuntimeWarning: invalid value encountered in multiply\n",
      "  reco_px_hadsum = leadP_P * leadP_dirx + pi0_energy1_Y * pi0_dir1_x + pi0_energy2_Y * pi0_dir2_x\n",
      "/uboone/app/users/cthorpe/RefactoredPELEE/data_loading.py:1106: RuntimeWarning: overflow encountered in multiply\n",
      "  reco_py_hadsum = leadP_P * leadP_diry + pi0_energy1_Y * pi0_dir1_y + pi0_energy2_Y * pi0_dir2_y\n",
      "/uboone/app/users/cthorpe/RefactoredPELEE/data_loading.py:1106: RuntimeWarning: invalid value encountered in multiply\n",
      "  reco_py_hadsum = leadP_P * leadP_diry + pi0_energy1_Y * pi0_dir1_y + pi0_energy2_Y * pi0_dir2_y\n",
      "/uboone/app/users/cthorpe/RefactoredPELEE/data_loading.py:1107: RuntimeWarning: overflow encountered in multiply\n",
      "  reco_pz_hadsum = leadP_P * leadP_dirz + pi0_energy1_Y * pi0_dir1_z + pi0_energy2_Y * pi0_dir2_z\n",
      "/uboone/app/users/cthorpe/RefactoredPELEE/data_loading.py:1112: RuntimeWarning: invalid value encountered in sqrt\n",
      "  - reco_pz_hadsum * reco_pz_hadsum\n",
      "/uboone/app/users/cthorpe/RefactoredPELEE/data_loading.py:593: RuntimeWarning: invalid value encountered in sqrt\n",
      "  return np.sqrt(2 * e1 * e2 * (1 - px1 * px2 - py1 * py2 - pz1 * pz2))\n",
      "/uboone/app/users/cthorpe/RefactoredPELEE/data_loading.py:593: RuntimeWarning: overflow encountered in float_scalars\n",
      "  return np.sqrt(2 * e1 * e2 * (1 - px1 * px2 - py1 * py2 - pz1 * pz2))\n",
      "/uboone/app/users/cthorpe/Mambaforge/envs/python3LEE/lib/python3.7/site-packages/pandas/core/series.py:679: RuntimeWarning: invalid value encountered in sqrt\n",
      "  result = getattr(ufunc, method)(*inputs, **kwargs)\n"
     ]
    }
   ],
   "source": [
    "reload(dl)\n",
    "df_bnb = dl.load_sample(\n",
    "    Run,\n",
    "    SampleCategory, \n",
    "    SampleType, \n",
    "    variation=Variation,\n",
    "    loadpi0variables=True, \n",
    "    loadshowervariables=True, \n",
    "    loadrecoveryvars=True,\n",
    "    loadsystematics=False,\n",
    "    use_bdt=True,\n",
    "    full_path=filename\n",
    ")"
   ]
  },
  {
   "cell_type": "markdown",
   "metadata": {},
   "source": [
    "##### Configure the path to the file we're looking at"
   ]
  },
  {
   "cell_type": "code",
   "execution_count": 4,
   "metadata": {},
   "outputs": [
    {
     "name": "stdout",
     "output_type": "stream",
     "text": [
      "/pnfs/uboone/persistent/users/cthorpe/PELEE_2023/run3\n",
      "bnb_beam_on_peleeTuple_uboone_v08_00_00_70_run3.root\n"
     ]
    }
   ],
   "source": [
    "if filename != \"\":\n",
    "    path = os.path.dirname(os.path.abspath(filename))\n",
    "    filename = os.path.basename(filename)\n",
    "else:\n",
    "    path = dl.get_path(run_number=Run,category=SampleCategory,dataset=SampleType)\n",
    "    filename = dl.get_filename(run_number=Run,category=SampleCategory,dataset=SampleType)\n",
    "print(path)\n",
    "print(filename)"
   ]
  },
  {
   "cell_type": "markdown",
   "metadata": {},
   "source": [
    "##### Prepare the selection query"
   ]
  },
  {
   "cell_type": "code",
   "execution_count": 7,
   "metadata": {
    "scrolled": false
   },
   "outputs": [
    {
     "name": "stdout",
     "output_type": "stream",
     "text": [
      "Selection Query:\n",
      "(pi0_score < 0.67 or nonpi0_score < 0.70) and bkg_score < 0.72\n"
     ]
    }
   ],
   "source": [
    "import localSettings as ls\n",
    "from microfit import selections\n",
    "selection = \"BDT_SIDEBAND\"\n",
    "query = selections.selection_categories[selection][\"query\"]\n",
    "print(\"Selection Query:\")\n",
    "print(query)"
   ]
  },
  {
   "cell_type": "markdown",
   "metadata": {},
   "source": [
    "##### Write the rse list of selected events to the file"
   ]
  },
  {
   "cell_type": "code",
   "execution_count": 8,
   "metadata": {},
   "outputs": [
    {
     "name": "stdout",
     "output_type": "stream",
     "text": [
      "Output file is: /pnfs/uboone/persistent/users/cthorpe/PELEE_2023/run3/BDT_SIDEBAND/rse_bnb_beam_on_peleeTuple_uboone_v08_00_00_70_run3.root.txt\n"
     ]
    }
   ],
   "source": [
    "# Make a subdirectory of the one containing the samples\n",
    "os.system(\"mkdir -p \" + path + \"/\" + selection)\n",
    "\n",
    "# Format the name of the new file\n",
    "new_filename = path + \"/\" + selection + \"/rse_\" + filename + \".txt\"\n",
    "print(\"Output file is:\",new_filename)\n",
    "\n",
    "# Write the rse list to the output file\n",
    "df_sel = df_bnb.query(query,engine=\"python\")\n",
    "outfile = open(new_filename,'w')\n",
    "outfile.write(df_sel[['run','sub','evt']].to_string(index=False,header=False))\n",
    "outfile.close()"
   ]
  },
  {
   "cell_type": "code",
   "execution_count": null,
   "metadata": {},
   "outputs": [],
   "source": []
  }
 ],
 "metadata": {
  "kernelspec": {
   "display_name": "Python 3 (ipykernel)",
   "language": "python",
   "name": "python3"
  },
  "language_info": {
   "codemirror_mode": {
    "name": "ipython",
    "version": 3
   },
   "file_extension": ".py",
   "mimetype": "text/x-python",
   "name": "python",
   "nbconvert_exporter": "python",
   "pygments_lexer": "ipython3",
   "version": "3.7.12"
  }
 },
 "nbformat": 4,
 "nbformat_minor": 2
}
