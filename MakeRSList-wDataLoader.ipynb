{
 "cells": [
  {
   "cell_type": "markdown",
   "metadata": {},
   "source": [
    "# Use Data Loader to Get Sample, Apply Selection and Make RSE List "
   ]
  },
  {
   "cell_type": "markdown",
   "metadata": {},
   "source": [
    "##### Set the run and sample you wish to look at"
   ]
  },
  {
   "cell_type": "code",
   "execution_count": 7,
   "metadata": {},
   "outputs": [],
   "source": [
    "import sys\n",
    "sys.path.append(\"old_notebooks/\")\n",
    "Run = 1\n",
    "SampleType = \"mc\" # Choose from bnb, ext, nu, nue, drt\n",
    "SampleCategory=\"runs\"\n",
    "Variation=\"\""
   ]
  },
  {
   "cell_type": "markdown",
   "metadata": {},
   "source": [
    "##### Import the data loader"
   ]
  },
  {
   "cell_type": "code",
   "execution_count": 8,
   "metadata": {},
   "outputs": [
    {
     "name": "stdout",
     "output_type": "stream",
     "text": [
      "The autoreload extension is already loaded. To reload it, use:\n",
      "  %reload_ext autoreload\n"
     ]
    }
   ],
   "source": [
    "# Import the data loader\n",
    "%load_ext autoreload\n",
    "%autoreload 2\n",
    "import data_loading as dl\n",
    "from importlib import reload\n",
    "reload(dl)\n",
    "import os"
   ]
  },
  {
   "cell_type": "markdown",
   "metadata": {},
   "source": [
    "##### Load the sample with the new data loader"
   ]
  },
  {
   "cell_type": "code",
   "execution_count": 9,
   "metadata": {},
   "outputs": [
    {
     "name": "stdout",
     "output_type": "stream",
     "text": [
      "Loaded rundict\n",
      "data_path= /uboone/data/users/cthorpe/PELEE/run1/nuepresel/prodgenie_bnb_nu_uboone_overlay_mcc9.1_v08_00_00_26_filter_run1_reco2_reco2.root\n"
     ]
    }
   ],
   "source": [
    "reload(dl)\n",
    "df_bnb = dl.load_sample(Run,SampleCategory, SampleType, variation=Variation, loadpi0variables=True, loadshowervariables=True, loadrecoveryvars=True,loadsystematics=True)"
   ]
  },
  {
   "cell_type": "markdown",
   "metadata": {},
   "source": [
    "##### Configure the path to the file we're looking at"
   ]
  },
  {
   "cell_type": "code",
   "execution_count": 10,
   "metadata": {},
   "outputs": [
    {
     "name": "stdout",
     "output_type": "stream",
     "text": [
      "path= /uboone/data/users/cthorpe/PELEE/run1/nuepresel/\n",
      "filename= prodgenie_bnb_nu_uboone_overlay_mcc9.1_v08_00_00_26_filter_run1_reco2_reco2.root\n"
     ]
    }
   ],
   "source": [
    "path = dl.get_path(run_number=Run,category=SampleCategory,dataset=SampleType)\n",
    "filename = dl.get_filename(run_number=Run,category=SampleCategory,dataset=SampleType)\n",
    "print(\"path=\",path)\n",
    "print(\"filename=\",filename)"
   ]
  },
  {
   "cell_type": "markdown",
   "metadata": {},
   "source": [
    "##### Import the selection algorithms and plotter objects"
   ]
  },
  {
   "cell_type": "code",
   "execution_count": 11,
   "metadata": {},
   "outputs": [],
   "source": [
    "from unblinding_far_sideband import *\n",
    "import localSettings as ls"
   ]
  },
  {
   "cell_type": "markdown",
   "metadata": {},
   "source": [
    "##### Prepare the selection query"
   ]
  },
  {
   "cell_type": "code",
   "execution_count": 15,
   "metadata": {
    "scrolled": false
   },
   "outputs": [],
   "source": [
    "# choose sideband, preselection, and selection\n",
    "# find defintions in unblinding_far_sideband.py\n",
    "sdb_key = 'None' #'None'\n",
    "pre_key = 'ZP'\n",
    "sel_key = 'ZPBDT'\n",
    "#sdb_key = 'TwoPShr'\n",
    "#pre_key = 'NP'\n",
    "#sel_key = 'NPBDTAllShr' #'None' 'NPVLAllShr' 'NPLAllShr' 'NPBDTAllShr' 'NPTAllShr'\n",
    "run = 1\n",
    "\n",
    "sideband = sideband_categories[sdb_key]\n",
    "preselection = preselection_categories[pre_key]\n",
    "sel =  selection_categories[sel_key]\n",
    "\n",
    "DETSYSPATH = ls.ntuple_path+'/detsys/{}_{}_{}/'.format(sideband['dir'], preselection['dir'], sel['dir'])\n",
    "DETSYS = {'mc':False,'nue':False,'ccpi0':False,'ncpi0':False,'dirt':False,\\\n",
    "          'ncnopi':False,'nccpi':False,'ncpi0':False,'ccpi0':False}\n",
    "\n",
    "\n",
    "QUERY = \"\"\n",
    "for query in [sideband['query'],preselection['query'],sel['query']]:\n",
    "    if query is None: continue\n",
    "    if QUERY: QUERY += ' and '\n",
    "    QUERY += query\n",
    "    if run in [1, 2, 3, 12]:\n",
    "        QUERY += f' and run{run}==True'\n",
    "\n",
    "#print(\"Selection Used:\",sdb_key+\"_\"+pre_key+\"_\"+sel_key)"
   ]
  },
  {
   "cell_type": "markdown",
   "metadata": {},
   "source": [
    "##### Write the rse list of selected events to the file"
   ]
  },
  {
   "cell_type": "code",
   "execution_count": 17,
   "metadata": {},
   "outputs": [
    {
     "name": "stdout",
     "output_type": "stream",
     "text": [
      "Output file is: /uboone/data/users/cthorpe/PELEE/run1/nuepresel//None_ZP_ZPBDT/rse_prodgenie_bnb_nu_uboone_overlay_mcc9.1_v08_00_00_26_filter_run1_reco2_reco2.root.txt\n"
     ]
    }
   ],
   "source": [
    "# Format the name of the output file\n",
    "selection=sdb_key + \"_\" + pre_key + \"_\" + sel_key\n",
    "\n",
    "# Make a subdirectory of the one containing the samples\n",
    "os.system(\"mkdir -p \" + path + \"/\" + selection)\n",
    "\n",
    "# Format the name of the new file\n",
    "new_filename = path + \"/\" + selection + \"/rse_\" + filename + \".txt\"\n",
    "print(\"Output file is:\",new_filename)\n",
    "\n",
    "# Write the rse list to the output file\n",
    "df_bnb_sel = df_bnb.query(QUERY,engine=\"python\")\n",
    "outfile = open(new_filename,'w')\n",
    "outfile.write(df_bnb_sel[['run','sub','evt','reco_e']].to_string(index=False,header=False))\n",
    "outfile.close()"
   ]
  },
  {
   "cell_type": "code",
   "execution_count": null,
   "metadata": {},
   "outputs": [],
   "source": []
  }
 ],
 "metadata": {
  "kernelspec": {
   "display_name": "Python 3 (ipykernel)",
   "language": "python",
   "name": "python3"
  },
  "language_info": {
   "codemirror_mode": {
    "name": "ipython",
    "version": 3
   },
   "file_extension": ".py",
   "mimetype": "text/x-python",
   "name": "python",
   "nbconvert_exporter": "python",
   "pygments_lexer": "ipython3",
   "version": "3.7.12"
  }
 },
 "nbformat": 4,
 "nbformat_minor": 2
}
