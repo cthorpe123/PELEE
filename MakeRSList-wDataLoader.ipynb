{
 "cells": [
  {
   "cell_type": "markdown",
   "metadata": {},
   "source": [
    "# Use Data Loader to Get Sample, Apply Selection and Make RSE List "
   ]
  },
  {
   "cell_type": "markdown",
   "metadata": {},
   "source": [
    "##### Set the run and sample you wish to look at"
   ]
  },
  {
   "cell_type": "code",
   "execution_count": 1,
   "metadata": {},
   "outputs": [],
   "source": [
    "Run = 1\n",
    "SampleType = \"bnb\" # Choose from bnb, ext, nu, nue, drt"
   ]
  },
  {
   "cell_type": "markdown",
   "metadata": {},
   "source": [
    "##### Import the data loader"
   ]
  },
  {
   "cell_type": "code",
   "execution_count": 2,
   "metadata": {},
   "outputs": [],
   "source": [
    "# Import the data loader\n",
    "%load_ext autoreload\n",
    "%autoreload 2\n",
    "import data_loading as dl\n",
    "from importlib import reload\n",
    "reload(dl)\n",
    "import os"
   ]
  },
  {
   "cell_type": "markdown",
   "metadata": {},
   "source": [
    "##### Load the sample with the new data loader"
   ]
  },
  {
   "cell_type": "code",
   "execution_count": 3,
   "metadata": {},
   "outputs": [
    {
     "name": "stderr",
     "output_type": "stream",
     "text": [
      "/uboone/app/users/cthorpe/RefactoredPELEE/data_loading.py:1015: RuntimeWarning: overflow encountered in multiply\n",
      "  mc_Q2 = -1 * (mc_q_E * mc_q_E - mc_q_px * mc_q_px - mc_q_py * mc_q_py - mc_q_pz * mc_q_pz)\n",
      "/uboone/app/users/cthorpe/RefactoredPELEE/data_loading.py:1015: RuntimeWarning: invalid value encountered in subtract\n",
      "  mc_Q2 = -1 * (mc_q_E * mc_q_E - mc_q_px * mc_q_px - mc_q_py * mc_q_py - mc_q_pz * mc_q_pz)\n",
      "/uboone/app/users/cthorpe/RefactoredPELEE/data_loading.py:534: RuntimeWarning: invalid value encountered in sqrt\n",
      "  return np.sqrt(2 * e1 * e2 * (1 - px1 * px2 - py1 * py2 - pz1 * pz2))\n",
      "/uboone/app/users/cthorpe/RefactoredPELEE/data_loading.py:534: RuntimeWarning: overflow encountered in float_scalars\n",
      "  return np.sqrt(2 * e1 * e2 * (1 - px1 * px2 - py1 * py2 - pz1 * pz2))\n",
      "/uboone/app/users/cthorpe/Mambaforge/envs/python3LEE/lib/python3.7/site-packages/pandas/core/series.py:679: RuntimeWarning: invalid value encountered in sqrt\n",
      "  result = getattr(ufunc, method)(*inputs, **kwargs)\n"
     ]
    }
   ],
   "source": [
    "reload(dl)\n",
    "df_bnb = dl.load_sample(Run, \"runs\", SampleType, loadpi0variables=True, loadshowervariables=True, loadrecoveryvars=True,loadsystematics=True)"
   ]
  },
  {
   "cell_type": "markdown",
   "metadata": {},
   "source": [
    "##### Configure the path to the file we're looking at"
   ]
  },
  {
   "cell_type": "code",
   "execution_count": 6,
   "metadata": {},
   "outputs": [
    {
     "name": "stdout",
     "output_type": "stream",
     "text": [
      "path= /uboone/data/users/cthorpe/PELEE/run1/nuepresel/\n",
      "filename= run1_nuepresel.root\n"
     ]
    }
   ],
   "source": [
    "path = dl.get_path(run_number=Run,category=\"runs\",dataset=SampleType)\n",
    "filename = dl.get_filename(run_number=Run,category=\"runs\",dataset=SampleType)\n",
    "print(\"path=\",path)\n",
    "print(\"filename=\",filename)"
   ]
  },
  {
   "cell_type": "markdown",
   "metadata": {},
   "source": [
    "##### Import the selection algorithms and plotter objects"
   ]
  },
  {
   "cell_type": "code",
   "execution_count": 7,
   "metadata": {},
   "outputs": [],
   "source": [
    "from unblinding_far_sideband import *\n",
    "import localSettings as ls"
   ]
  },
  {
   "cell_type": "markdown",
   "metadata": {},
   "source": [
    "##### Prepare the selection query"
   ]
  },
  {
   "cell_type": "code",
   "execution_count": 8,
   "metadata": {
    "scrolled": false
   },
   "outputs": [],
   "source": [
    "# choose sideband, preselection, and selection\n",
    "# find defintions in unblinding_far_sideband.py\n",
    "sdb_key = 'None' #'None'\n",
    "pre_key = 'ZP'\n",
    "sel_key = 'ZPBDT'\n",
    "#sdb_key = 'TwoPShr'\n",
    "#pre_key = 'NP'\n",
    "#sel_key = 'NPBDTAllShr' #'None' 'NPVLAllShr' 'NPLAllShr' 'NPBDTAllShr' 'NPTAllShr'\n",
    "run = 1\n",
    "\n",
    "sideband = sideband_categories[sdb_key]\n",
    "preselection = preselection_categories[pre_key]\n",
    "sel =  selection_categories[sel_key]\n",
    "\n",
    "DETSYSPATH = ls.ntuple_path+'/detsys/{}_{}_{}/'.format(sideband['dir'], preselection['dir'], sel['dir'])\n",
    "DETSYS = {'mc':False,'nue':False,'ccpi0':False,'ncpi0':False,'dirt':False,\\\n",
    "          'ncnopi':False,'nccpi':False,'ncpi0':False,'ccpi0':False}\n",
    "\n",
    "\n",
    "QUERY = \"\"\n",
    "for query in [sideband['query'],preselection['query'],sel['query']]:\n",
    "    if query is None: continue\n",
    "    if QUERY: QUERY += ' and '\n",
    "    QUERY += query\n",
    "    if run in [1, 2, 3, 12]:\n",
    "        QUERY += f' and run{run}==True'\n",
    "\n",
    "#print(\"Selection Used:\",sdb_key+\"_\"+pre_key+\"_\"+sel_key)"
   ]
  },
  {
   "cell_type": "markdown",
   "metadata": {},
   "source": [
    "##### Write the rse list of selected events to the file"
   ]
  },
  {
   "cell_type": "code",
   "execution_count": 9,
   "metadata": {},
   "outputs": [
    {
     "name": "stdout",
     "output_type": "stream",
     "text": [
      "Output file is: /uboone/data/users/cthorpe/PELEE/run1/nuepresel//None_ZP_ZPBDT/rse_run1_nuepresel.root.txt\n"
     ]
    }
   ],
   "source": [
    "# Format the name of the output file\n",
    "selection=sdb_key + \"_\" + pre_key + \"_\" + sel_key\n",
    "\n",
    "# Make a subdirectory of the one containing the samples\n",
    "os.system(\"mkdir -p \" + path + \"/\" + selection)\n",
    "\n",
    "# Format the name of the new file\n",
    "new_filename = path + \"/\" + selection + \"/rse_\" + filename + \".txt\"\n",
    "print(\"Output file is:\",new_filename)\n",
    "\n",
    "# Write the rse list to the output file\n",
    "df_bnb_sel = df_bnb.query(QUERY)\n",
    "outfile = open(new_filename,'a')\n",
    "outfile.write(df_bnb_sel[['run','sub','evt']].to_string(index=False,header=False))\n",
    "outfile.close()"
   ]
  },
  {
   "cell_type": "code",
   "execution_count": null,
   "metadata": {},
   "outputs": [],
   "source": []
  }
 ],
 "metadata": {
  "kernelspec": {
   "display_name": "Python 3 (ipykernel)",
   "language": "python",
   "name": "python3"
  },
  "language_info": {
   "codemirror_mode": {
    "name": "ipython",
    "version": 3
   },
   "file_extension": ".py",
   "mimetype": "text/x-python",
   "name": "python",
   "nbconvert_exporter": "python",
   "pygments_lexer": "ipython3",
   "version": "3.7.12"
  }
 },
 "nbformat": 4,
 "nbformat_minor": 2
}
