{
 "cells": [
  {
   "cell_type": "markdown",
   "metadata": {},
   "source": [
    "# Unblinding 1e0p"
   ]
  },
  {
   "cell_type": "code",
   "execution_count": 1,
   "metadata": {},
   "outputs": [],
   "source": [
    "%load_ext autoreload\n",
    "%autoreload 2"
   ]
  },
  {
   "cell_type": "code",
   "execution_count": 2,
   "metadata": {},
   "outputs": [],
   "source": [
    "pi0scaling = {\"val\": 0, \"suffix\": \"\", \"title\": \"No pi0 Scaling\"}"
   ]
  },
  {
   "cell_type": "code",
   "execution_count": 3,
   "metadata": {},
   "outputs": [],
   "source": [
    "from matplotlib import pyplot as plt\n",
    "\n",
    "params = {\n",
    "    'axes.labelsize': 'x-large',\n",
    "    'axes.titlesize': 'x-large',\n",
    "    'xtick.labelsize': 'x-large',\n",
    "    'ytick.labelsize': 'x-large'\n",
    "}\n",
    "plt.rcParams.update(params)\n",
    "\n",
    "from load_data_run123 import *\n",
    "from unblinding_far_sideband import *"
   ]
  },
  {
   "cell_type": "code",
   "execution_count": 4,
   "metadata": {},
   "outputs": [],
   "source": [
    "import sys\n",
    "import localSettings as ls\n",
    "main_path = ls.main_path\n",
    "sys.path.append(main_path)"
   ]
  },
  {
   "cell_type": "code",
   "execution_count": 5,
   "metadata": {},
   "outputs": [],
   "source": [
    "import scipy.stats\n",
    "import warnings\n",
    "warnings.filterwarnings('ignore')"
   ]
  },
  {
   "cell_type": "code",
   "execution_count": 6,
   "metadata": {},
   "outputs": [],
   "source": [
    "which_sideband = ['fulldata'     ,'fulldata'] "
   ]
  },
  {
   "cell_type": "code",
   "execution_count": 7,
   "metadata": {
    "scrolled": false
   },
   "outputs": [
    {
     "name": "stdout",
     "output_type": "stream",
     "text": [
      "Loading uproot files\n",
      "Loading Run3 dataframes\n",
      "r3data has shape :  (12875, 154)\n",
      "Loading Run1 dataframes\n",
      "r1data has shape :  (8451, 154)\n",
      "Loading Run2 dataframes\n",
      "r2data has shape :  (13276, 154)\n",
      "Concatenate dataframes\n",
      "opendata dataset has shape :  (34602, 204)\n",
      "Add derived variables\n",
      "Add BDT scores\n"
     ]
    }
   ],
   "source": [
    "samples = load_data_run123(which_sideband=which_sideband[0],\n",
    "                           return_plotter=False,\n",
    "                           pi0scaling=pi0scaling[\"val\"],\n",
    "                           loadpi0variables=False,\n",
    "                           loadtruthfilters=True,\n",
    "                           loadshowervariables=True,\n",
    "                           loadnumuntuples=False,\n",
    "                           loadnumuvariables=False,\n",
    "                           loadfakedata=0,\n",
    "                           USEBDT=True,\n",
    "                           loadsystematics=True,\n",
    "                           loadrecoveryvars=False)"
   ]
  },
  {
   "cell_type": "code",
   "execution_count": 27,
   "metadata": {},
   "outputs": [
    {
     "data": {
      "text/plain": [
       "<module 'unblinding_far_sideband' from '/Users/davidc-local/Neutrinos/NUE/PELEE/unblinding_far_sideband.py'>"
      ]
     },
     "execution_count": 27,
     "metadata": {},
     "output_type": "execute_result"
    }
   ],
   "source": [
    "import plotter\n",
    "import unblinding_far_sideband\n",
    "import importlib\n",
    "importlib.reload(plotter)\n",
    "importlib.reload(unblinding_far_sideband)"
   ]
  },
  {
   "cell_type": "code",
   "execution_count": 28,
   "metadata": {},
   "outputs": [],
   "source": [
    "plotter_runbyrun = {}\n",
    "for run in [1, 2, 3, 123, 12]:\n",
    "    this_weights, this_pot = get_weights(run,dataset=which_sideband[1])\n",
    "    plotter_runbyrun[run] = plotter.Plotter(samples, this_weights, pot=this_pot)"
   ]
  },
  {
   "cell_type": "code",
   "execution_count": 29,
   "metadata": {},
   "outputs": [],
   "source": [
    "DETSYS = {'mc':False,'nue':False,'ccpi0':False,'ncpi0':False,'dirt':False,\\\n",
    "          'ncnopi':False,'nccpi':False,'ncpi0':False,'ccpi0':False}"
   ]
  },
  {
   "cell_type": "code",
   "execution_count": null,
   "metadata": {},
   "outputs": [],
   "source": [
    "#Test plot: Reco_E >0.65 GeV\n",
    "\n",
    "from unblinding_far_sideband import *\n",
    "\n",
    "sdb_key = 'None' \n",
    "pre_key = 'ZP'\n",
    "sel_key = 'ZPBDT'\n",
    "run = 123\n",
    "\n",
    "sideband = sideband_categories[sdb_key]\n",
    "preselection = preselection_categories[pre_key]\n",
    "sel =  selection_categories[sel_key]\n",
    "\n",
    "DETSYSPATH = ls.ntuple_path+'/detsys/{}_{}_{}/'.format(sideband['dir'], preselection['dir'], sel['dir'])\n",
    "\n",
    "QUERY = \"\"\n",
    "for query in [sideband['query'],preselection['query'],sel['query']]:\n",
    "    if query is None: continue\n",
    "    if QUERY: QUERY += ' and '\n",
    "    QUERY += query\n",
    "    if run in [1, 2, 3, 12]:\n",
    "        QUERY += f' and run{run}==True'\n",
    "\n",
    "QUERY += ' and (bnbdata==0 or reco_e>0.65)'\n",
    "\n",
    "TITLE = \"\"\n",
    "for text in [f'Run {run}',' - ',sideband['title'],' - ',preselection['title'],'\\n',sel['title'],' - ',pi0scaling[\"title\"]]:\n",
    "    if text is None: continue\n",
    "    TITLE += text\n",
    "\n",
    "VARIABLE, BINS, RANGE, XTIT = 'reco_e',10,(0.15, 1.55),r\"Reconstructed Energy [ GeV ]\"\n",
    "\n",
    "fig, ax1, ax2 = plotter_runbyrun[run].plot_variable(\n",
    "    VARIABLE,   \n",
    "    query=QUERY,\n",
    "    kind=\"paper_category\",\n",
    "    draw_sys=True,\n",
    "    detsysdict=DETSYS,\n",
    "    DETSYSPATH=DETSYSPATH,\n",
    "    COVMATRIX=\"\",\n",
    "    ratio=False,\n",
    "    stacksort=3,\n",
    "    title=XTIT,\n",
    "    bins=BINS,\n",
    "    range=RANGE,\n",
    "    chisq=False,\n",
    ")[0:3]\n",
    "\n",
    "ax1.set_title(TITLE, loc='left')\n",
    "ax1.set_ylim(0., ax1.get_ylim()[1]*1.4)\n",
    "\n",
    "plt.tight_layout()\n",
    "fig.show()\n",
    "save_path = ls.plots_path\n",
    "fig.savefig(ls.plots_path+VARIABLE+\"_1.pdf\") "
   ]
  },
  {
   "cell_type": "code",
   "execution_count": null,
   "metadata": {},
   "outputs": [],
   "source": [
    "#Test plot: n_showers_contained, all energies, loose selection\n",
    "\n",
    "from unblinding_far_sideband import *\n",
    "\n",
    "sdb_key = 'None' \n",
    "pre_key = 'ZP'\n",
    "sel_key = 'ZPLOOSESEL'\n",
    "run = 123\n",
    "\n",
    "sideband = sideband_categories[sdb_key]\n",
    "preselection = preselection_categories[pre_key]\n",
    "sel =  selection_categories[sel_key]\n",
    "\n",
    "DETSYSPATH = ls.ntuple_path+'/detsys/{}_{}_{}/'.format(sideband['dir'], preselection['dir'], sel['dir'])\n",
    "\n",
    "QUERY = \"\"\n",
    "for query in [sideband['query'],preselection['query'],sel['query']]:\n",
    "    if query is None: continue\n",
    "    if QUERY: QUERY += ' and '\n",
    "    QUERY += query\n",
    "    if run in [1, 2, 3, 12]:\n",
    "        QUERY += f' and run{run}==True'\n",
    "        \n",
    "TITLE = \"\"\n",
    "for text in [f'Run {run}',' - ',sideband['title'],' - ',preselection['title'],'\\n',sel['title'],' - ',pi0scaling[\"title\"]]:\n",
    "    if text is None: continue\n",
    "    TITLE += text\n",
    "\n",
    "VARIABLE, BINS, RANGE, XTIT = 'n_showers_contained',10,(-0.5, 9.5),\"n showers contained\"\n",
    "\n",
    "fig, ax1, ax2 = plotter_runbyrun[run].plot_variable(\n",
    "    VARIABLE,   \n",
    "    query=QUERY,\n",
    "    kind=\"paper_category\",\n",
    "    draw_sys=True,\n",
    "    detsysdict=DETSYS,\n",
    "    DETSYSPATH=DETSYSPATH,\n",
    "    COVMATRIX=\"\",\n",
    "    ratio=False,\n",
    "    stacksort=3,\n",
    "    title=XTIT,\n",
    "    bins=BINS,\n",
    "    range=RANGE,\n",
    "    chisq=False,\n",
    ")[0:3]\n",
    "\n",
    "ax1.set_title(TITLE, loc='left')\n",
    "ax1.set_ylim(0., ax1.get_ylim()[1]*1.4)\n",
    "\n",
    "plt.tight_layout()\n",
    "fig.show()\n",
    "save_path = ls.plots_path\n",
    "fig.savefig(ls.plots_path+VARIABLE+\"_2.pdf\") "
   ]
  },
  {
   "cell_type": "code",
   "execution_count": null,
   "metadata": {},
   "outputs": [],
   "source": [
    "#Test plot: n_showers_contained, all energies, BDT selection\n",
    "\n",
    "from unblinding_far_sideband import *\n",
    "\n",
    "sdb_key = 'None' \n",
    "pre_key = 'ZP'\n",
    "sel_key = 'ZPBDT'\n",
    "run = 123\n",
    "\n",
    "sideband = sideband_categories[sdb_key]\n",
    "preselection = preselection_categories[pre_key]\n",
    "sel =  selection_categories[sel_key]\n",
    "\n",
    "DETSYSPATH = ls.ntuple_path+'/detsys/{}_{}_{}/'.format(sideband['dir'], preselection['dir'], sel['dir'])\n",
    "\n",
    "QUERY = \"\"\n",
    "for query in [sideband['query'],preselection['query'],sel['query']]:\n",
    "    if query is None: continue\n",
    "    if QUERY: QUERY += ' and '\n",
    "    QUERY += query\n",
    "    if run in [1, 2, 3, 12]:\n",
    "        QUERY += f' and run{run}==True'\n",
    "        \n",
    "TITLE = \"\"\n",
    "for text in [f'Run {run}',' - ',sideband['title'],' - ',preselection['title'],'\\n',sel['title'],' - ',pi0scaling[\"title\"]]:\n",
    "    if text is None: continue\n",
    "    TITLE += text\n",
    "\n",
    "VARIABLE, BINS, RANGE, XTIT = 'n_showers_contained',10,(-0.5, 9.5),\"n showers contained\"\n",
    "\n",
    "fig, ax1, ax2 = plotter_runbyrun[run].plot_variable(\n",
    "    VARIABLE,   \n",
    "    query=QUERY,\n",
    "    kind=\"paper_category\",\n",
    "    draw_sys=True,\n",
    "    detsysdict=DETSYS,\n",
    "    DETSYSPATH=DETSYSPATH,\n",
    "    COVMATRIX=\"\",\n",
    "    ratio=False,\n",
    "    stacksort=3,\n",
    "    title=XTIT,\n",
    "    bins=BINS,\n",
    "    range=RANGE,\n",
    "    chisq=False,\n",
    ")[0:3]\n",
    "\n",
    "ax1.set_title(TITLE, loc='left')\n",
    "ax1.set_ylim(0., ax1.get_ylim()[1]*1.4)\n",
    "\n",
    "plt.tight_layout()\n",
    "fig.show()\n",
    "save_path = ls.plots_path\n",
    "fig.savefig(ls.plots_path+VARIABLE+\"_3.pdf\") "
   ]
  },
  {
   "cell_type": "markdown",
   "metadata": {},
   "source": [
    "# 1e0p Selection"
   ]
  },
  {
   "cell_type": "code",
   "execution_count": 35,
   "metadata": {},
   "outputs": [],
   "source": [
    "from unblinding_far_sideband import *\n",
    "\n",
    "sdb_key = 'None'\n",
    "pre_key = 'ZP'\n",
    "sel_key = 'ZPBDT'\n",
    "run = 123\n",
    "\n",
    "sideband = sideband_categories[sdb_key]\n",
    "preselection = preselection_categories[pre_key]\n",
    "sel =  selection_categories[sel_key]\n",
    "\n",
    "DETSYS = {'mc':True,'nue':True,'ccpi0':True,'ncpi0':True,'dirt':True,\\\n",
    "          'ncnopi':True,'nccpi':True,'ncpi0':True,'ccpi0':True}\n",
    "\n",
    "DETSYSPATH = ls.ntuple_path+'/detsys/{}_{}_{}/'.format(sideband['dir'], preselection['dir'], sel['dir'])\n",
    "\n",
    "QUERY = \"\"\n",
    "for query in [sideband['query'],preselection['query'],sel['query']]:\n",
    "    if query is None: continue\n",
    "    if QUERY: QUERY += ' and '\n",
    "    QUERY += query\n",
    "    if run in [1, 2, 3, 12]:\n",
    "        QUERY += f' and run{run}==True'\n",
    "        \n",
    "SELQUERY = '{}_{}_{}_'.format(sideband['dir'], preselection['dir'], sel['dir'])\n",
    "        \n",
    "TITLE = \"\"\n",
    "for text in [f'Run {run}',' - ',sideband['title'],' - ',preselection['title'],'\\n',sel['title'],' - ',pi0scaling[\"title\"]]:\n",
    "    if text is None: continue\n",
    "    TITLE += text"
   ]
  },
  {
   "cell_type": "markdown",
   "metadata": {},
   "source": [
    "Reconstructed Neutrino Energy"
   ]
  },
  {
   "cell_type": "code",
   "execution_count": null,
   "metadata": {},
   "outputs": [],
   "source": [
    "#VARIABLE, BINS, RANGE, XTIT = 'reco_e',10,(0.15, 1.55),r\"Reconstructed Energy [ GeV ]\"\n",
    "#VARIABLE, BINS, RANGE, XTIT = 'reco_e',8,(0.15, 2.39),r\"Reconstructed Energy [ GeV ]\"\n",
    "VARIABLE, BINS, RANGE, XTIT = 'reco_e',17,(0.01, 2.39),r\"Reconstructed Energy [ GeV ]\"\n",
    "\n",
    "fig, ax1, ax2 = plotter_runbyrun[run].plot_variable(\n",
    "    VARIABLE,   \n",
    "    query=QUERY,\n",
    "    kind=\"paper_category\",\n",
    "    draw_sys=True,\n",
    "    detsysdict=DETSYS,\n",
    "    DETSYSPATH=DETSYSPATH,\n",
    "    COVMATRIX=\"\",\n",
    "    ratio=False,\n",
    "    stacksort=3,\n",
    "    title=XTIT,\n",
    "    bins=BINS,\n",
    "    range=RANGE,\n",
    "    chisq=True,\n",
    ")[0:3]\n",
    "\n",
    "ax1.set_title(TITLE, loc='left')\n",
    "ax1.set_ylim(0., ax1.get_ylim()[1]*1.4)\n",
    "\n",
    "print ('prediction : ', plotter_runbyrun[run].prediction)\n",
    "print ('errors     : ', np.sqrt(np.diagonal(plotter_runbyrun[run].cov)))\n",
    "\n",
    "plt.tight_layout()\n",
    "fig.show() \n",
    "\n",
    "save_path = ls.plots_path\n",
    "#fig.savefig(ls.plots_path+VARIABLE+\"_gof_2390MeV.pdf\") "
   ]
  },
  {
   "cell_type": "markdown",
   "metadata": {},
   "source": [
    "Shower Angle"
   ]
  },
  {
   "cell_type": "code",
   "execution_count": null,
   "metadata": {},
   "outputs": [],
   "source": [
    "VARIABLE, BINS, RANGE, XTIT = 'shr_theta',11,(0,3.14),r\"Shower $\\theta$ [rad]\" \n",
    "\n",
    "fig, ax1, ax2 = plotter_runbyrun[run].plot_variable(\n",
    "    VARIABLE,   \n",
    "    query=QUERY,\n",
    "    figtitle=\"MicroBooNE\",\n",
    "    #labeldecimals=0,\n",
    "    predictedevents=False,\n",
    "    kind=\"paper_category\",\n",
    "    draw_sys=True,\n",
    "    detsysdict=DETSYS,\n",
    "    DETSYSPATH=DETSYSPATH,\n",
    "    COVMATRIX=\"\",\n",
    "    ratio=False,\n",
    "    stacksort=3,\n",
    "    title=XTIT,\n",
    "    bins=BINS,\n",
    "    range=RANGE,\n",
    "    chisq=False,\n",
    ")[0:3]\n",
    "\n",
    "ax1.set_title(TITLE, loc='left')\n",
    "ax1.set_ylim(0., ax1.get_ylim()[1]*1.4)\n",
    "\n",
    "plt.tight_layout()\n",
    "fig.show() \n",
    "save_path = ls.plots_path\n",
    "fig.savefig(ls.plots_path+VARIABLE+\".pdf\") "
   ]
  },
  {
   "cell_type": "markdown",
   "metadata": {},
   "source": [
    "# PRD Plots"
   ]
  },
  {
   "cell_type": "code",
   "execution_count": 16,
   "metadata": {},
   "outputs": [
    {
     "data": {
      "image/png": "[encoded data removed]",
      "text/plain": [
       "<Figure size 504x360 with 1 Axes>"
      ]
     },
     "metadata": {
      "needs_background": "light"
     },
     "output_type": "display_data"
    }
   ],
   "source": [
    "BINSIZE = 0.14\n",
    "#BINSIZE = 280\n",
    "\n",
    "if (BINSIZE == 0.14):\n",
    "    # full-bin\n",
    "    VARIABLE, BINS, RANGE, XTIT = 'reco_e',17,(0.01, 2.39),r\"Reconstructed $E_{\\nu}$ [GeV]\"\n",
    "else:\n",
    "    # half-bin\n",
    "    VARIABLE, BINS, RANGE, XTIT = 'reco_e_mev',8,(150, 2390),r\"Reconstructed $E_{\\nu}$ [MeV]\"\n",
    "    \n",
    "SELQUERY = '{}_{}_{}_'.format(sideband['dir'], preselection['dir'], sel['dir'])\n",
    "\n",
    "\n",
    "DETSYS = {'mc':False,'nue':False,'ccpi0':False,'ncpi0':False,'dirt':False,\\\n",
    "          'ncnopi':False,'nccpi':False,'ncpi0':False,'ccpi0':False}\n",
    "\n",
    "fig, ax1, ax2 = plotter_runbyrun[run].plot_variable(\n",
    "    VARIABLE,   \n",
    "    query=QUERY,\n",
    "    kind=\"paper_category\",\n",
    "    draw_sys=True,\n",
    "    detsysdict=DETSYS,\n",
    "    DETSYSPATH=DETSYSPATH,\n",
    "    COVMATRIX=\"\",\n",
    "    predictedevents=False,\n",
    "    figtitle=\"MicroBooNE\",\n",
    "    drawsystematics=False,\n",
    "    labeldecimals=2,\n",
    "    ratio=False,\n",
    "    stacksort=3,\n",
    "    title=XTIT,\n",
    "    bins=BINS,\n",
    "    range=RANGE,\n",
    "    chisq=False,\n",
    ")[0:3]\n",
    "\n",
    "n_tot =  plotter_runbyrun[run].prediction\n",
    "exp_err = np.sqrt(np.diagonal(plotter_runbyrun[run].cov))\n",
    "\n",
    "n_constrained = n_tot\n",
    "\n",
    "LEE = np.zeros(len(n_constrained))\n",
    "\n",
    "if (BINSIZE == 0.14):\n",
    "    n_constrained = np.array([1.40,6.74,6.19,4.43,2.08,2.70,1.81,1.26,0.82,\\\n",
    "                             0.97,0.42,0.38,0.27,0.30,0.15,0.07,0.07])\n",
    "    exp_err = np.array([0.61,1.33,1.21,0.94,0.77,0.70,0.54,\\\n",
    "                      0.61,0.56,0.44,0.54,0.39,0.36,0.26,0.28,0.14,0.07])\n",
    "    LEE = np.array([0.00,1.90,1.00,0.36,0.09,0.02,0.01,0.00,\\\n",
    "                   0.00,0.00,0.00,0.00,0.00,0.00,0.00,0.00,0.00])\n",
    "    \n",
    "'''\n",
    "else:\n",
    "    # half binning\n",
    "    n_constrained[0] = 6.74+6.19\n",
    "    n_constrained[1] = 4.43+2.08\n",
    "    n_constrained[2] = 2.70+1.81\n",
    "    n_constrained[3] = 1.26+0.82\n",
    "    n_constrained[4] = 0.97+0.42\n",
    "    LEE[0] += 1.90+1.00\n",
    "    LEE[1] += 0.36+0.09\n",
    "    LEE[2] += 0.02+0.01\n",
    "    exp_err[0] = np.sqrt(1.33**2+1.21**2)\n",
    "    exp_err[1] = np.sqrt(0.94**2+0.77**2)\n",
    "    exp_err[2] = np.sqrt(0.70**2+0.54**2)\n",
    "    exp_err[3] = np.sqrt(0.61**2+0.56**2)\n",
    "    exp_err[4] = np.sqrt(0.44**2+0.54**2)\n",
    "'''\n",
    "\n",
    "n_lee = n_constrained + LEE\n",
    "#exp_err = np.sqrt(np.diagonal(plotter_runbyrun[run].cov))\n",
    "\n",
    "if (BINSIZE == 0.14):\n",
    "    # full binning\n",
    "    LEE_err = np.sqrt(exp_err**2 + np.array([0.00,0.67,0.29,0.11,0.03,0.01,0,0,0,0,0,0,0,0,0,0,0])**2 ) \n",
    "else:\n",
    "    # half binning\n",
    "    LEE_err = np.sqrt(exp_err**2 + np.array([np.sqrt(0.67**2+0.29**2),np.sqrt(0.11**2+0.03**2),\\\n",
    "                                             np.sqrt(0.01**2+0**2),0,0,0,0,0])**2 )\n",
    "\n",
    "bin_size = np.ones(len(exp_err)) * (BINSIZE)/2.\n",
    "bincenters = np.linspace(RANGE[0],RANGE[1]-(BINSIZE),BINS) + bin_size\n",
    "\n",
    "\n",
    "ax1.bar(bincenters, exp_err*2,width=[n*2 for n in bin_size],\\\n",
    "        facecolor='k',alpha=0.2,bottom=(n_constrained-exp_err))\n",
    "\n",
    "ax1.step(bincenters-(BINSIZE)/2.,n_constrained,color='k',lw=1.5,where='post',label=r'constrained prediction')\n",
    "ax1.step(bincenters-(BINSIZE)/2.,n_lee,color='red',lw=2,linestyle='--',where='post',label=r'eLEE model ($x = 1$)')\n",
    "ax1.step(bincenters-(BINSIZE)/2.,n_constrained,color='k',lw=1.5,where='post')\n",
    "\n",
    "plt.rcParams['legend.title_fontsize'] = 14\n",
    "\n",
    "leg = ax1.legend(frameon=False, ncol=2,\\\n",
    "                 title=r'MicroBooNE %.2f $\\times 10^{20}$ POT' % (plotter_runbyrun[run].pot/1e20),\\\n",
    "                 fontsize=11)\n",
    "leg._legend_box.align = \"center\"\n",
    "plt.setp(leg.get_title(), fontweight='normal')\n",
    "\n",
    "TITLE = r'1$e$0$p$0$\\pi$ $\\nu_e$ selection'\n",
    "ax1.set_title(TITLE, loc='left',fontsize=14)\n",
    "\n",
    "plt.tight_layout()\n",
    "fig.show() \n",
    "\n",
    "save_path = ls.plots_path\n",
    "SELQUERY = '{}_{}_{}_'.format(sideband['dir'], preselection['dir'], sel['dir'])\n",
    "fig.savefig('/Users/davidc-local/Neutrinos/NUE/PRD/'+SELQUERY+VARIABLE+'_run%i'%run+\"_PRD.pdf\") "
   ]
  },
  {
   "cell_type": "code",
   "execution_count": 17,
   "metadata": {},
   "outputs": [],
   "source": [
    "DETSYS = {'mc':True,'nue':True,'ccpi0':True,'ncpi0':True,'dirt':True,\\\n",
    "          'ncnopi':True,'nccpi':True,'ncpi0':True,'ccpi0':True}"
   ]
  },
  {
   "cell_type": "code",
   "execution_count": 20,
   "metadata": {},
   "outputs": [
    {
     "name": "stdout",
     "output_type": "stream",
     "text": [
      "mc : frac. detsys matrix is : \n",
      " [0.2 0.2 0.2 0.2 0.2]\n",
      "nue : frac. detsys matrix is : \n",
      " [0.148 0.259 0.373 0.106 0.042]\n",
      "dirt : frac. detsys matrix is : \n",
      " [0.2 0.2 0.2 0.2 0.2]\n",
      "ncpi0 : frac. detsys matrix is : \n",
      " [0.2 0.2 0.2 0.2 0.2]\n",
      "ccpi0 : frac. detsys matrix is : \n",
      " [0.2 0.2 0.2 0.2 0.2]\n",
      "nccpi : frac. detsys matrix is : \n",
      " [0.2 0.2 0.2 0.2 0.2]\n",
      "ncnopi : frac. detsys matrix is : \n",
      " [0.2 0.2 0.2 0.2 0.2]\n"
     ]
    },
    {
     "data": {
      "image/png": "[encoded data removed]",
      "text/plain": [
       "<Figure size 504x360 with 1 Axes>"
      ]
     },
     "metadata": {
      "needs_background": "light"
     },
     "output_type": "display_data"
    }
   ],
   "source": [
    "VARIABLE, BINS, RANGE, XTIT = 'cos_shr_theta',5,(-1,1),r\"Reconstructed Electron $\\cos\\left(\\theta\\right)$\"\n",
    "\n",
    "fig, ax1, ax2 = plotter_runbyrun[run].plot_variable(\n",
    "    VARIABLE,   \n",
    "    query=QUERY + ' and reco_e > 0.01 and reco_e < 2.39',\n",
    "    figtitle=\"MicroBooNE\",\n",
    "    #labeldecimals=0,\n",
    "    predictedevents=False,\n",
    "    kind=\"paper_category\",\n",
    "    draw_sys=True,\n",
    "    detsysdict=DETSYS,\n",
    "    DETSYSPATH=DETSYSPATH,\n",
    "    COVMATRIX=\"\",\n",
    "    ratio=False,\n",
    "    stacksort=3,\n",
    "    title=XTIT,\n",
    "    bins=BINS,\n",
    "    range=RANGE,\n",
    "    chisq=False,\n",
    ")[0:3]\n",
    "\n",
    "TITLE = r'1$e$0$p$0$\\pi$ $\\nu_e$ selection'\n",
    "ax1.set_title(TITLE, loc='left')\n",
    "ax1.set_ylim(0., ax1.get_ylim()[1]*1.1)\n",
    "\n",
    "plt.tight_layout()\n",
    "fig.show() \n",
    "save_path = ls.plots_path\n",
    "fig.savefig('/Users/davidc-local/Neutrinos/NUE/PRD/'+SELQUERY+VARIABLE+\"_PRD.pdf\") "
   ]
  },
  {
   "cell_type": "code",
   "execution_count": 36,
   "metadata": {},
   "outputs": [
    {
     "name": "stdout",
     "output_type": "stream",
     "text": [
      "mc : frac. detsys matrix is : \n",
      " [0.2 0.2 0.2 0.2 0.2]\n",
      "nue : frac. detsys matrix is : \n",
      " [0.148 0.259 0.373 0.106 0.042]\n",
      "dirt : frac. detsys matrix is : \n",
      " [0.2 0.2 0.2 0.2 0.2]\n",
      "ncpi0 : frac. detsys matrix is : \n",
      " [0.2 0.2 0.2 0.2 0.2]\n",
      "ccpi0 : frac. detsys matrix is : \n",
      " [0.2 0.2 0.2 0.2 0.2]\n",
      "nccpi : frac. detsys matrix is : \n",
      " [0.2 0.2 0.2 0.2 0.2]\n",
      "ncnopi : frac. detsys matrix is : \n",
      " [0.2 0.2 0.2 0.2 0.2]\n"
     ]
    },
    {
     "data": {
      "image/png": "[encoded data removed]",
      "text/plain": [
       "<Figure size 504x360 with 1 Axes>"
      ]
     },
     "metadata": {
      "needs_background": "light"
     },
     "output_type": "display_data"
    }
   ],
   "source": [
    "VARIABLE, BINS, RANGE, XTIT = 'cos_shr_theta',5,(-1,1),r\"Reconstructed Electron $\\cos\\left(\\theta\\right)$\"\n",
    "\n",
    "fig, ax1, ax2 = plotter_runbyrun[run].plot_variable(\n",
    "    VARIABLE,   \n",
    "    query=QUERY + ' and reco_e > 0.15 and reco_e < 0.43',\n",
    "    figtitle=\"MicroBooNE\",\n",
    "    #labeldecimals=0,\n",
    "    legendloc=2,\n",
    "    predictedevents=False,\n",
    "    kind=\"paper_category\",\n",
    "    draw_sys=True,\n",
    "    detsysdict=DETSYS,\n",
    "    DETSYSPATH=DETSYSPATH,\n",
    "    COVMATRIX=\"\",\n",
    "    ratio=False,\n",
    "    stacksort=3,\n",
    "    title=XTIT,\n",
    "    bins=BINS,\n",
    "    range=RANGE,\n",
    "    chisq=False,\n",
    ")[0:3]\n",
    "\n",
    "TITLE = r'1$e$0$p$0$\\pi$ $\\nu_e$ selection $E_{\\rm reco}$ [0.15 - 0.43] GeV'\n",
    "ax1.set_title(TITLE, loc='left')\n",
    "ax1.set_ylim(0., ax1.get_ylim()[1]*1.1)\n",
    "\n",
    "plt.tight_layout()\n",
    "fig.show() \n",
    "save_path = ls.plots_path\n",
    "fig.savefig('/Users/davidc-local/Neutrinos/NUE/PRD/'+SELQUERY+VARIABLE+\"_PRD_LowE.pdf\") "
   ]
  },
  {
   "cell_type": "markdown",
   "metadata": {},
   "source": [
    "# Loose Selection"
   ]
  },
  {
   "cell_type": "code",
   "execution_count": 31,
   "metadata": {},
   "outputs": [],
   "source": [
    "from unblinding_far_sideband import *\n",
    "\n",
    "sdb_key = 'None'\n",
    "pre_key = 'ZP'\n",
    "sel_key = 'ZPLOOSESEL'\n",
    "run = 123\n",
    "\n",
    "sideband = sideband_categories[sdb_key]\n",
    "preselection = preselection_categories[pre_key]\n",
    "sel =  selection_categories[sel_key]\n",
    "\n",
    "DETSYS = {'mc':True,'nue':True,'ccpi0':True,'ncpi0':True,'dirt':True,\\\n",
    "          'ncnopi':True,'nccpi':True,'ncpi0':True,'ccpi0':True}\n",
    "\n",
    "DETSYSPATH = ls.ntuple_path+'/detsys/{}_{}_{}/'.format(sideband['dir'], preselection['dir'], sel['dir'])\n",
    "\n",
    "QUERY = \"\"\n",
    "for query in [sideband['query'],preselection['query'],sel['query']]:\n",
    "    if query is None: continue\n",
    "    if QUERY: QUERY += ' and '\n",
    "    QUERY += query\n",
    "    if run in [1, 2, 3, 12]:\n",
    "        QUERY += f' and run{run}==True'\n",
    "        \n",
    "SELQUERY = '{}_{}_{}_'.format(sideband['dir'], preselection['dir'], sel['dir'])\n",
    "        \n",
    "TITLE = \"\"\n",
    "for text in [f'Run {run}',' - ',sideband['title'],' - ',preselection['title'],'\\n',sel['title'],' - ',pi0scaling[\"title\"]]:\n",
    "    if text is None: continue\n",
    "    TITLE += text"
   ]
  },
  {
   "cell_type": "code",
   "execution_count": 32,
   "metadata": {},
   "outputs": [
    {
     "name": "stdout",
     "output_type": "stream",
     "text": [
      "mc : frac. detsys matrix is : \n",
      " [0.2 0.2 0.2 0.2 0.2 0.2 0.2 0.2 0.2 0.2]\n",
      "nue : frac. detsys matrix is : \n",
      " [0.645 0.243 0.199 0.215 0.065 0.161 0.117 0.068 0.093 0.054]\n",
      "dirt : frac. detsys matrix is : \n",
      " [0.2 0.2 0.2 0.2 0.2 0.2 0.2 0.2 0.2 0.2]\n",
      "ncpi0 : frac. detsys matrix is : \n",
      " [0.2 0.2 0.2 0.2 0.2 0.2 0.2 0.2 0.2 0.2]\n",
      "ccpi0 : frac. detsys matrix is : \n",
      " [0.2 0.2 0.2 0.2 0.2 0.2 0.2 0.2 0.2 0.2]\n",
      "nccpi : frac. detsys matrix is : \n",
      " [0.2 0.2 0.2 0.2 0.2 0.2 0.2 0.2 0.2 0.2]\n",
      "ncnopi : frac. detsys matrix is : \n",
      " [0.2 0.2 0.2 0.2 0.2 0.2 0.2 0.2 0.2 0.2]\n"
     ]
    },
    {
     "data": {
      "image/png": "[encoded data removed]",
      "text/plain": [
       "<Figure size 504x360 with 1 Axes>"
      ]
     },
     "metadata": {
      "needs_background": "light"
     },
     "output_type": "display_data"
    }
   ],
   "source": [
    "VARIABLE, BINS, RANGE, XTIT = 'bkg_score',10,(0,1),r\"Background BDT Score\"\n",
    "\n",
    "fig, ax1, ax2 = plotter_runbyrun[run].plot_variable(\n",
    "    VARIABLE,   \n",
    "    query=QUERY + ' and reco_e > 0.15 and reco_e < 2.39',\n",
    "    figtitle=\"MicroBooNE\",\n",
    "    #labeldecimals=0,\n",
    "    predictedevents=False,\n",
    "    kind=\"paper_category\",\n",
    "    draw_sys=True,\n",
    "    detsysdict=DETSYS,\n",
    "    DETSYSPATH=DETSYSPATH,\n",
    "    COVMATRIX=\"\",\n",
    "    ratio=False,\n",
    "    stacksort=3,\n",
    "    title=XTIT,\n",
    "    bins=BINS,\n",
    "    range=RANGE,\n",
    "    chisq=False,\n",
    ")[0:3]\n",
    "\n",
    "TITLE = r'1$e$0$p$0$\\pi$ $\\nu_e$ loose selection'\n",
    "ax1.set_title(TITLE, loc='left')\n",
    "ax1.set_ylim(0., ax1.get_ylim()[1]*1.1)\n",
    "\n",
    "plt.tight_layout()\n",
    "fig.show() \n",
    "save_path = ls.plots_path\n",
    "fig.savefig('/Users/davidc-local/Neutrinos/NUE/PRD/'+SELQUERY+VARIABLE+\"_PRD.pdf\") "
   ]
  },
  {
   "cell_type": "markdown",
   "metadata": {},
   "source": [
    "# Loose Selection in 2-Dhower Sideband"
   ]
  },
  {
   "cell_type": "code",
   "execution_count": 37,
   "metadata": {},
   "outputs": [],
   "source": [
    "from unblinding_far_sideband import *\n",
    "\n",
    "sdb_key = 'None'\n",
    "pre_key = 'ZPTwoShr'\n",
    "sel_key = 'ZPLOOSETWOSHR'\n",
    "run = 123\n",
    "\n",
    "sideband = sideband_categories[sdb_key]\n",
    "preselection = preselection_categories[pre_key]\n",
    "sel =  selection_categories[sel_key]\n",
    "\n",
    "DETSYS = {'mc':True,'nue':True,'ccpi0':True,'ncpi0':True,'dirt':True,\\\n",
    "          'ncnopi':True,'nccpi':True,'ncpi0':True,'ccpi0':True}\n",
    "\n",
    "DETSYSPATH = ls.ntuple_path+'/detsys/{}_{}_{}/'.format(sideband['dir'], preselection['dir'], sel['dir'])\n",
    "\n",
    "QUERY = \"\"\n",
    "for query in [sideband['query'],preselection['query'],sel['query']]:\n",
    "    if query is None: continue\n",
    "    if QUERY: QUERY += ' and '\n",
    "    QUERY += query\n",
    "    if run in [1, 2, 3, 12]:\n",
    "        QUERY += f' and run{run}==True'\n",
    "        \n",
    "SELQUERY = '{}_{}_{}_'.format(sideband['dir'], preselection['dir'], sel['dir'])\n",
    "        \n",
    "TITLE = \"\"\n",
    "for text in [f'Run {run}',' - ',sideband['title'],' - ',preselection['title'],'\\n',sel['title'],' - ',pi0scaling[\"title\"]]:\n",
    "    if text is None: continue\n",
    "    TITLE += text"
   ]
  },
  {
   "cell_type": "code",
   "execution_count": 43,
   "metadata": {},
   "outputs": [
    {
     "data": {
      "image/png": "[encoded data removed]",
      "text/plain": [
       "<Figure size 504x360 with 1 Axes>"
      ]
     },
     "metadata": {
      "needs_background": "light"
     },
     "output_type": "display_data"
    }
   ],
   "source": [
    "VARIABLE, BINS, RANGE, XTIT = 'shrmoliereavg',15,(0,15),\"Shower Transverse Development [degrees]\"\n",
    "\n",
    "DETSYS = {'mc':False,'nue':False,'ccpi0':False,'ncpi0':False,'dirt':False,\\\n",
    "          'ncnopi':False,'nccpi':False,'ncpi0':False,'ccpi0':False}\n",
    "\n",
    "fig, ax1, ax2 = plotter_runbyrun[run].plot_variable(\n",
    "    VARIABLE,   \n",
    "    query=QUERY,\n",
    "    figtitle=\"MicroBooNE\",\n",
    "    #labeldecimals=0,\n",
    "    legendloc=2,\n",
    "    predictedevents=False,\n",
    "    kind=\"paper_category\",\n",
    "    draw_sys=True,\n",
    "    detsysdict=DETSYS,\n",
    "    DETSYSPATH=DETSYSPATH,\n",
    "    COVMATRIX=\"\",\n",
    "    ratio=False,\n",
    "    stacksort=3,\n",
    "    title=XTIT,\n",
    "    bins=BINS,\n",
    "    range=RANGE,\n",
    "    chisq=False,\n",
    ")[0:3]\n",
    "\n",
    "TITLE = r'1$e$0$p$0$\\pi$ loose selection, two-shower sideband'\n",
    "ax1.set_title(TITLE, loc='left')\n",
    "ax1.set_ylim(0., ax1.get_ylim()[1]*1.5)\n",
    "\n",
    "plt.tight_layout()\n",
    "fig.show() \n",
    "save_path = ls.plots_path\n",
    "fig.savefig('/Users/davidc-local/Neutrinos/NUE/PRD/'+SELQUERY+VARIABLE+\"_PRD.pdf\") "
   ]
  },
  {
   "cell_type": "code",
   "execution_count": null,
   "metadata": {},
   "outputs": [],
   "source": []
  }
 ],
 "metadata": {
  "accelerator": "GPU",
  "colab": {
   "name": "Plotter.ipynb",
   "provenance": [],
   "version": "0.3.2"
  },
  "kernelspec": {
   "display_name": "Python 3",
   "language": "python",
   "name": "python3"
  },
  "language_info": {
   "codemirror_mode": {
    "name": "ipython",
    "version": 3
   },
   "file_extension": ".py",
   "mimetype": "text/x-python",
   "name": "python",
   "nbconvert_exporter": "python",
   "pygments_lexer": "ipython3",
   "version": "3.7.9"
  }
 },
 "nbformat": 4,
 "nbformat_minor": 4
}
