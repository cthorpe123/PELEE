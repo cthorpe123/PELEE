{
 "cells": [
  {
   "cell_type": "markdown",
   "metadata": {},
   "source": [
    "# Apply PeLEE Selection to NTuples"
   ]
  },
  {
   "cell_type": "code",
   "execution_count": null,
   "metadata": {},
   "outputs": [],
   "source": [
    "import sys\n",
    "import localSettings as ls\n",
    "import os\n",
    "print(ls.main_path)"
   ]
  },
  {
   "cell_type": "code",
   "execution_count": null,
   "metadata": {
    "colab": {
     "base_uri": "https://localhost:8080/",
     "height": 34
    },
    "colab_type": "code",
    "executionInfo": {
     "elapsed": 517,
     "status": "ok",
     "timestamp": 1560556807118,
     "user": {
      "displayName": "Stefano Roberto Soleti",
      "photoUrl": "https://lh4.googleusercontent.com/-hfLpspJu4Q0/AAAAAAAAAAI/AAAAAAAABmA/2kE4rtj8paU/s64/photo.jpg",
      "userId": "10372352518008961760"
     },
     "user_tz": 240
    },
    "id": "6qsD0G-yYJ9K",
    "outputId": "5d52a3ec-50be-44fc-da44-3c0593e98bc6"
   },
   "outputs": [],
   "source": [
    "main_path = ls.main_path\n",
    "sys.path.append(main_path)"
   ]
  },
  {
   "cell_type": "code",
   "execution_count": null,
   "metadata": {},
   "outputs": [],
   "source": [
    "from datetime import datetime\n",
    "now = datetime.now()\n",
    "date_time = now.strftime(\"%m%d%Y\")\n",
    "print(\"date and time:\",date_time)"
   ]
  },
  {
   "cell_type": "code",
   "execution_count": null,
   "metadata": {},
   "outputs": [],
   "source": [
    "from scipy.optimize import curve_fit\n",
    "\n",
    "def gauss(x,mu,sigma,A):\n",
    "    norm = A/(np.sqrt(2*np.pi)*sigma)\n",
    "    exp  = np.exp(-((x-mu)**2)/(2*sigma*sigma))\n",
    "    return norm * exp"
   ]
  },
  {
   "cell_type": "code",
   "execution_count": null,
   "metadata": {
    "colab": {},
    "colab_type": "code",
    "id": "xGqTJ5JgaDsx"
   },
   "outputs": [],
   "source": [
    "import plotter\n",
    "import importlib\n",
    "importlib.reload(plotter)\n",
    "import uproot\n",
    "import matplotlib.pylab as pylab\n",
    "import numpy as np\n",
    "import math\n",
    "from sklearn.model_selection import train_test_split\n",
    "import pickle\n",
    "#if USEBDT:\n",
    "import xgboost as xgb\n",
    "import nue_booster \n",
    "importlib.reload(nue_booster)\n",
    "import awkward\n",
    "import pandas as pd\n",
    "\n",
    "params = {\n",
    "    'axes.labelsize': 'x-large',\n",
    "    'axes.titlesize': 'x-large',\n",
    "    'xtick.labelsize': 'x-large',\n",
    "    'ytick.labelsize': 'x-large'\n",
    "}\n",
    "pylab.rcParams.update(params)"
   ]
  },
  {
   "cell_type": "markdown",
   "metadata": {},
   "source": [
    "### import module responsible for loading NTuples"
   ]
  },
  {
   "cell_type": "code",
   "execution_count": null,
   "metadata": {},
   "outputs": [],
   "source": [
    "import load_data_run123"
   ]
  },
  {
   "cell_type": "code",
   "execution_count": null,
   "metadata": {},
   "outputs": [],
   "source": [
    "PATH = '/Users/davidc-local/data/searchingfornues/v08_00_00_48//run1/noweights/'\n",
    "FILE = 'prodgenie_bnb_intrinsice_nue_uboone_overlay_mcc9.1_v08_00_00_26_run1_reco2_reco2.root'"
   ]
  },
  {
   "cell_type": "code",
   "execution_count": null,
   "metadata": {},
   "outputs": [],
   "source": [
    "PATH1 = '/Users/davidc-local/data/searchingfornues/v08_00_00_48//run1/nuepresel/'\n",
    "FILE1 = 'prodgenie_bnb_intrinsice_nue_uboone_overlay_mcc9.1_v08_00_00_26_run1_reco2_reco2.root'\n",
    "\n",
    "PATH2 = '/Users/davidc-local/data/searchingfornues/v08_00_00_48//run2/nuepresel/'\n",
    "FILE2 = 'prodgenie_bnb_intrinsic_nue_overlay_run2_v08_00_00_35_run2a_reco2_reco2.root'\n",
    "\n",
    "PATH3 = '/Users/davidc-local/data/searchingfornues/v08_00_00_48//run3/nuepresel/'\n",
    "FILE3 = 'prodgenie_bnb_intrinsice_nue_uboone_overlay_mcc9.1_v08_00_00_26_run3_reco2_reco2.root'"
   ]
  },
  {
   "cell_type": "code",
   "execution_count": null,
   "metadata": {},
   "outputs": [],
   "source": [
    "fold = 'nuselection'\n",
    "tree = 'NeutrinoSelectionFilter'"
   ]
  },
  {
   "cell_type": "code",
   "execution_count": null,
   "metadata": {},
   "outputs": [],
   "source": [
    "VARDICT = load_data_run123.get_variables()"
   ]
  },
  {
   "cell_type": "markdown",
   "metadata": {},
   "source": [
    "### Load variables needed to apply selections & plot distributions"
   ]
  },
  {
   "cell_type": "code",
   "execution_count": null,
   "metadata": {},
   "outputs": [],
   "source": [
    "variables = VARDICT['VARIABLES'] + VARDICT['NUEVARS']"
   ]
  },
  {
   "cell_type": "code",
   "execution_count": null,
   "metadata": {},
   "outputs": [],
   "source": [
    "variables += ['elec_e','truthFiducial','weightSplineTimesTune','proton_e','leeweight','elec_pz']"
   ]
  },
  {
   "cell_type": "code",
   "execution_count": null,
   "metadata": {},
   "outputs": [],
   "source": [
    "variables = list(set(variables))"
   ]
  },
  {
   "cell_type": "markdown",
   "metadata": {},
   "source": [
    "### Load Pandas DataFrame with NTuple contents"
   ]
  },
  {
   "cell_type": "code",
   "execution_count": null,
   "metadata": {},
   "outputs": [],
   "source": [
    "up = uproot.open(PATH+FILE)[fold][tree]\n",
    "df = up.pandas.df(variables, flatten=False)\n",
    "\n",
    "'''\n",
    "up1 = uproot.open(PATH1+FILE1)[fold][tree]\n",
    "df1 = up1.pandas.df(variables, flatten=False)\n",
    "\n",
    "up2 = uproot.open(PATH2+FILE2)[fold][tree]\n",
    "df2 = up2.pandas.df(variables, flatten=False)\n",
    "\n",
    "up3 = uproot.open(PATH3+FILE3)[fold][tree]\n",
    "df3 = up3.pandas.df(variables, flatten=False)\n",
    "'''"
   ]
  },
  {
   "cell_type": "markdown",
   "metadata": {},
   "source": [
    "### Load variables from Pandas DataFrame"
   ]
  },
  {
   "cell_type": "code",
   "execution_count": null,
   "metadata": {},
   "outputs": [],
   "source": [
    "load_data_run123.process_uproot(up,df)\n",
    "#load_data_run123.process_uproot(up1,df1)\n",
    "#load_data_run123.process_uproot(up2,df2)\n",
    "#load_data_run123.process_uproot(up3,df3)"
   ]
  },
  {
   "cell_type": "code",
   "execution_count": null,
   "metadata": {},
   "outputs": [],
   "source": [
    "#df = pd.concat([df1,df2,df3],ignore_index=True)"
   ]
  },
  {
   "cell_type": "markdown",
   "metadata": {},
   "source": [
    "### Set dummy variables for BNB/EXT data fields "
   ]
  },
  {
   "cell_type": "code",
   "execution_count": null,
   "metadata": {},
   "outputs": [],
   "source": [
    "df['bnbdata']  = np.zeros_like(df['nslice'])\n",
    "df['extdata']  = np.zeros_like(df['nslice'])"
   ]
  },
  {
   "cell_type": "markdown",
   "metadata": {},
   "source": [
    "### Function to calculate efficiency:"
   ]
  },
  {
   "cell_type": "code",
   "execution_count": null,
   "metadata": {},
   "outputs": [],
   "source": [
    "def Eff(df,var,query,acceptance,bin_edges,absval=False):\n",
    "    #print acceptance\n",
    "    bin_centers = 0.5*(bin_edges[1:]+bin_edges[:-1])\n",
    "    bins = []\n",
    "    bin_eff = []\n",
    "    bin_err = []\n",
    "    num_v = []\n",
    "    den_v = []\n",
    "    for i in range(len(bin_centers)):\n",
    "        binmin = bin_edges[i]\n",
    "        binmax = bin_edges[i+1]\n",
    "        bincut = '%s > %f and %s < %f'%(var,binmin,var,binmax)\n",
    "        if (absval == True):\n",
    "            bincut = '(%s > %f and %s < %f) or (%s > -%f and %s < -%f)'%(var,binmin,var,binmax,var,binmax,var,binmin)\n",
    "        if (acceptance != ''): bincut += ' and %s'%acceptance\n",
    "        #print bincut\n",
    "        df_tmp =  df.query(bincut) # cut on bin range for desired var.\n",
    "        df_sub = df_tmp.query(query) # apply constrain \n",
    "        if (df_tmp.shape[0] == 0): continue\n",
    "        num_v.append(df_sub.shape[0])\n",
    "        den_v.append(df_tmp.shape[0])\n",
    "        eff = df_sub.shape[0] / float( df_tmp.shape[0] )\n",
    "        err = np.sqrt( eff*(1-eff)/df_tmp.shape[0] )\n",
    "        bin_eff.append( eff )\n",
    "        bin_err.append( err )\n",
    "        bins.append(bin_centers[i])\n",
    "        #print 'eff = %.02f @ bin = %.02f'%(eff,bin_centers[i])\n",
    "    return np.array(bins),np.array(bin_eff),np.array(bin_err),np.array(num_v),np.array(den_v)"
   ]
  },
  {
   "cell_type": "markdown",
   "metadata": {},
   "source": [
    "### various functions to perform gaussian fits"
   ]
  },
  {
   "cell_type": "code",
   "execution_count": null,
   "metadata": {},
   "outputs": [],
   "source": [
    "import scipy.optimize\n",
    "\n",
    "def gauss_exp(x, n, mu, sigma, k):\n",
    "    sigma = abs(sigma)\n",
    "    condition = (x - mu) / sigma >= -k    \n",
    "    y = np.copy(x)\n",
    "    y[condition] = n * np.exp(-0.5 * ((x[condition] - mu) / sigma)**2)\n",
    "    y[~condition] = n * np.exp(k**2 / 2 + k * ((x[~condition] - mu) / sigma))\n",
    "#     print(x)\n",
    "    return y\n",
    "\n",
    "def get_function_max(f, *args):\n",
    "    def func(x, *arg):\n",
    "        return -f(x, *arg)\n",
    "    return f(scipy.optimize.fmin(func, 0, args=args, disp=False)[0], *args)\n",
    "\n",
    "def find_nearest(array, value):\n",
    "    array = np.asarray(array)\n",
    "    #print (array)\n",
    "    idx = (np.abs(array - value)).argmin()\n",
    "    return idx\n",
    "\n",
    "def mpv(array):\n",
    "    if sum(array) < 5:\n",
    "        return np.median(array)\n",
    "    \n",
    "    n_bins = energy_bins\n",
    "    r = energy_range\n",
    "    hist, bin_edges = np.histogram(array, bins=n_bins, range=r)\n",
    "    \n",
    "    bin_centers = [i*r[1]/n_bins-r[1]/(n_bins*2) for i in range(1,n_bins+1)]\n",
    "    try:\n",
    "        popt, pcov = scipy.optimize.curve_fit(gauss_exp, bin_centers, hist, maxfev=10000)\n",
    "        return scipy.optimize.fmin(lambda x: -gauss_exp(x, *popt), 0)\n",
    "    except RuntimeError:\n",
    "        return np.median(array)\n",
    "    \n",
    "def fwhm(array):\n",
    "    if sum(array) < 5:\n",
    "        return np.std(array)\n",
    "\n",
    "    n_bins = energy_bins\n",
    "    r = energy_range\n",
    "    hist, bin_edges = np.histogram(array, bins=n_bins, range=r)\n",
    "    \n",
    "    bin_centers = [i*r[1]/n_bins-r[1]/(n_bins*2) for i in range(1,n_bins+1)]\n",
    "\n",
    "    try:\n",
    "        popt, pcov = scipy.optimize.curve_fit(gauss_exp, bin_centers, hist, maxfev=10000)\n",
    "        x_values = np.linspace(r[0], r[1], 1000)\n",
    "        y_values = gauss_exp(np.linspace(r[0], r[1], 1000), *popt)\n",
    "        try:\n",
    "            x_max = scipy.optimize.fmin(lambda x: -gauss_exp(x, *popt), 0)\n",
    "        except RuntimeError:\n",
    "            x_max = np.median(array)\n",
    "        y_max = find_nearest(y_values, gauss_exp(x_max, *popt))\n",
    "        y_max_value = y_values[y_max]\n",
    "        fwhm1 = find_nearest(y_values[:y_max], y_max_value/2)\n",
    "        fwhm2 = find_nearest(y_values[y_max:], y_max_value/2)\n",
    "        x_2 = x_values[y_max:][fwhm2]     \n",
    "        x_1 = x_values[:y_max][fwhm1]\n",
    "        return x_2-x_1\n",
    "    except RuntimeError:\n",
    "        return np.std(array)"
   ]
  },
  {
   "cell_type": "markdown",
   "metadata": {},
   "source": [
    "### Load variables needed to apply BDT "
   ]
  },
  {
   "cell_type": "code",
   "execution_count": null,
   "metadata": {},
   "outputs": [],
   "source": [
    "TRAINVAR = [\"shr_score\",\"tksh_distance\",\"tksh_angle\",\n",
    "            \"shr_tkfit_dedx_max\",\n",
    "            \"trkfit\",\"trkpid\",\n",
    "            \"subcluster\",\"shrmoliereavg\",\n",
    "            \"trkshrhitdist2\",\"hits_ratio\",\n",
    "            \"secondshower_Y_nhit\",\"secondshower_Y_vtxdist\",\"secondshower_Y_dot\",\"anglediff_Y\",\n",
    "            \"CosmicIPAll3D\",\"CosmicDirAll3D\"]\n",
    "\n",
    "LABELS =  ['pi0','nonpi0']\n",
    "\n",
    "TRAINVARZP = ['shrmoliereavg','shr_score', \"trkfit\",\"subcluster\",\n",
    "              \"CosmicIPAll3D\",\"CosmicDirAll3D\",\n",
    "              'secondshower_Y_nhit','secondshower_Y_vtxdist','secondshower_Y_dot','anglediff_Y',\n",
    "              'secondshower_V_nhit','secondshower_V_vtxdist','secondshower_V_dot','anglediff_V',\n",
    "              'secondshower_U_nhit','secondshower_U_vtxdist','secondshower_U_dot','anglediff_U',\n",
    "              \"shr_tkfit_2cm_dedx_U\", \"shr_tkfit_2cm_dedx_V\", \"shr_tkfit_2cm_dedx_Y\",\n",
    "              \"shr_tkfit_gap10_dedx_U\", \"shr_tkfit_gap10_dedx_V\", \"shr_tkfit_gap10_dedx_Y\",\n",
    "              \"shrMCSMom\",\"DeltaRMS2h\",\"shrPCA1CMed_5cm\",\"CylFrac2h_1cm\"]\n",
    "\n",
    "LABELSZP = ['bkg']\n",
    "\n",
    "def loadBDT(DF):\n",
    "\n",
    "    for label, bkg_query in zip(LABELS, nue_booster.bkg_queries):\n",
    "        with open(ls.pickle_path+'booster_%s_0304_extnumi.pickle' % label, 'rb') as booster_file:\n",
    "            booster = pickle.load(booster_file)\n",
    "            DF[label+\"_score\"] = booster.predict(xgb.DMatrix(DF[TRAINVAR]),\n",
    "                                                 ntree_limit=booster.best_iteration)\n",
    "\n",
    "    for label, bkg_query in zip(LABELSZP, nue_booster.bkg_queries):\n",
    "        with open(ls.pickle_path+'booster_%s_0304_extnumi_vx.pickle' % label, 'rb') as booster_file:\n",
    "            booster = pickle.load(booster_file)\n",
    "            DF[label+\"_score\"] = booster.predict(xgb.DMatrix(DF[TRAINVARZP]),\n",
    "                                                 ntree_limit=booster.best_iteration)\n",
    "            \n",
    "    return"
   ]
  },
  {
   "cell_type": "markdown",
   "metadata": {},
   "source": [
    "### Compute additional variables for nue selection not stored directly in NTuples"
   ]
  },
  {
   "cell_type": "code",
   "execution_count": null,
   "metadata": {},
   "outputs": [],
   "source": [
    "INTERCEPT = 0.0\n",
    "SLOPE = 0.83\n",
    "\n",
    "df['subcluster'] = df['shrsubclusters0'] + df['shrsubclusters1'] + df['shrsubclusters2']\n",
    "df['trkfit'] = df['shr_tkfit_npointsvalid'] / df['shr_tkfit_npoints']\n",
    "df['anglediff_Y'] = np.abs(df['secondshower_Y_dir']-df['shrclusdir2'])\n",
    "df['anglediff_V'] = np.abs(df['secondshower_V_dir']-df['shrclusdir1'])\n",
    "df['anglediff_U'] = np.abs(df['secondshower_U_dir']-df['shrclusdir0'])                                                                                                                       \n",
    "df[\"ptOverP\"] = df[\"pt\"]/df[\"p\"]\n",
    "df[\"phi1MinusPhi2\"] = df[\"shr_phi\"]-df[\"trk_phi\"]\n",
    "df[\"theta1PlusTheta2\"] = df[\"shr_theta\"]+df[\"trk_theta\"]\n",
    "df['cos_shr_theta'] = np.cos(df['shr_theta'])\n",
    "df['shr_tkfit_nhits_tot'] = (df['shr_tkfit_nhits_Y']+df['shr_tkfit_nhits_U']+df['shr_tkfit_nhits_V'])                                                                                                                                                                                              \n",
    "df['shr_tkfit_2cm_nhits_tot'] = (df['shr_tkfit_2cm_nhits_Y']+df['shr_tkfit_2cm_nhits_U']+df['shr_tkfit_2cm_nhits_V'])                                                                                                                                                              \n",
    "df['shr_tkfit_gap10_nhits_tot'] = (df['shr_tkfit_gap10_nhits_Y']+df['shr_tkfit_gap10_nhits_U']+df['shr_tkfit_gap10_nhits_V'])                                                                                                                             \n",
    "df.loc[:,'shr_tkfit_dedx_max'] = df['shr_tkfit_dedx_Y']\n",
    "#df.loc[(df['shr_tkfit_nhits_U']>df['shr_tkfit_nhits_Y']),'shr_tkfit_dedx_max'] = df['shr_tkfit_dedx_U']\n",
    "df.loc[(df['shr_tkfit_nhits_U']>df['shr_tkfit_nhits_Y']),'shr_tkfit_dedx_max'] = df.loc[(df['shr_tkfit_nhits_U']>df['shr_tkfit_nhits_Y']),'shr_tkfit_dedx_U']\n",
    "#df.loc[(df['shr_tkfit_nhits_V']>df['shr_tkfit_nhits_Y']) & (df['shr_tkfit_nhits_V']>df['shr_tkfit_nhits_U']),'shr_tkfit_dedx_max'] = df['shr_tkfit_dedx_V']\n",
    "df.loc[(df['shr_tkfit_nhits_V']>df['shr_tkfit_nhits_Y']) & (df['shr_tkfit_nhits_V']>df['shr_tkfit_nhits_U']),'shr_tkfit_dedx_max'] = df.loc[(df['shr_tkfit_nhits_V']>df['shr_tkfit_nhits_Y']) & (df['shr_tkfit_nhits_V']>df['shr_tkfit_nhits_U']),'shr_tkfit_dedx_V']\n",
    "df[\"reco_e\"] = (df[\"shr_energy_tot_cali\"] + INTERCEPT) / SLOPE + df[\"trk_energy_tot\"]\n",
    "df['electron_e'] = (df[\"shr_energy_tot_cali\"] + INTERCEPT) / SLOPE\n",
    "df['proton_ke'] = df['proton_e'] - 0.938\n",
    "\n",
    "loadBDT(df)"
   ]
  },
  {
   "cell_type": "markdown",
   "metadata": {},
   "source": [
    "### load pre-determined selections for PeLEE nue/numu cut-flows"
   ]
  },
  {
   "cell_type": "code",
   "execution_count": null,
   "metadata": {},
   "outputs": [],
   "source": [
    "import unblinding_far_sideband"
   ]
  },
  {
   "cell_type": "markdown",
   "metadata": {},
   "source": [
    "### 1eNp BDT selection"
   ]
  },
  {
   "cell_type": "code",
   "execution_count": null,
   "metadata": {},
   "outputs": [],
   "source": [
    "QUERYNPBDT = unblinding_far_sideband.NPPRESQ + ' and ' + unblinding_far_sideband.BDTCQ\n",
    "QUERYZPBDT = unblinding_far_sideband.ZPPRESEL + ' and ' + unblinding_far_sideband.ZPBDT"
   ]
  },
  {
   "cell_type": "markdown",
   "metadata": {},
   "source": [
    "### correct GENIE weights for unphysical values"
   ]
  },
  {
   "cell_type": "code",
   "execution_count": null,
   "metadata": {},
   "outputs": [],
   "source": [
    "df.loc[ df['weightSplineTimesTune'] <= 0, 'weightSplineTimesTune' ] = 1.\n",
    "df.loc[ df['weightSplineTimesTune'] == np.inf, 'weightSplineTimesTune' ] = 1.\n",
    "df.loc[ df['weightSplineTimesTune'] > 100, 'weightSplineTimesTune' ] = 1.\n",
    "df.loc[ np.isnan(df['weightSplineTimesTune']) == True, 'weightSplineTimesTune' ] = 1."
   ]
  },
  {
   "cell_type": "markdown",
   "metadata": {},
   "source": [
    "### import matplotlib for simple plotting"
   ]
  },
  {
   "cell_type": "code",
   "execution_count": null,
   "metadata": {},
   "outputs": [],
   "source": [
    "import matplotlib.pyplot as plt\n",
    "\n",
    "from matplotlib.colors import LogNorm\n",
    "\n",
    "plt.rcParams.update({'font.size': 14})"
   ]
  },
  {
   "cell_type": "markdown",
   "metadata": {},
   "source": [
    "### Truth-based plot: split by true final-state (0pi, 0pi0p, 0piNp)"
   ]
  },
  {
   "cell_type": "code",
   "execution_count": null,
   "metadata": {},
   "outputs": [],
   "source": [
    "dfsub = df.query('(nu_pdg == 12 or nu_pdg == -12) and isVtxInFiducial == 1')"
   ]
  },
  {
   "cell_type": "markdown",
   "metadata": {},
   "source": [
    "# Fig. 2: Truth Ereco Spectrum"
   ]
  },
  {
   "cell_type": "code",
   "execution_count": null,
   "metadata": {},
   "outputs": [],
   "source": [
    "df1eNp0pi = dfsub.query('nproton > 0 and npion == 0 and npi0==0')\n",
    "df1e0p0pi = dfsub.query('nproton == 0 and npion == 0 and npi0==0')\n",
    "df1eXpNpi = dfsub.query('npion > 0 or npi0 > 0')\n",
    "\n",
    "fig = plt.figure(figsize=(6,6))\n",
    "BINS = np.linspace(0.,3.0,16)\n",
    "SAMPLE = r'$\\nu_{\\mu}$'\n",
    "\n",
    "POTTOT = 5.25e22 #7.75e22 # This number should be the POT of the MC Sample\n",
    "\n",
    "vals = dfsub['nu_e']\n",
    "vals1eNp0pi = df1eNp0pi['nu_e']\n",
    "vals1e0p0pi = df1e0p0pi['nu_e']\n",
    "vals1eXpNpi = df1eXpNpi['nu_e']\n",
    "\n",
    "weights = dfsub['weightSplineTimesTune'] * (6.86e20 / POTTOT)\n",
    "weights1eNp0pi = df1eNp0pi['weightSplineTimesTune'] * (6.86e20 / POTTOT)\n",
    "weights1e0p0pi = df1e0p0pi['weightSplineTimesTune'] * (6.86e20 / POTTOT)\n",
    "weights1eXpNpi = df1eXpNpi['weightSplineTimesTune'] * (6.86e20 / POTTOT)\n",
    "weightsLEE = weights * dfsub['leeweight']\n",
    "\n",
    "plt.hist([vals1e0p0pi,vals1eNp0pi,vals1eXpNpi],bins=BINS,\\\n",
    "         weights=[weights1e0p0pi,weights1eNp0pi,weights1eXpNpi],\\\n",
    "         label=['1$e$0$p$0$\\pi$','1$e$N$p$0$\\pi$ (N $> 0$)','1$e$X$p$N$\\pi$ (N $> 0$, X $\\geq 0$)'],\n",
    "         color=['xkcd:lime green','xkcd:green','xkcd:mint green'],stacked=True)\n",
    "\n",
    "lee_tot = np.concatenate([vals,vals])\n",
    "lee_weights_tot = np.concatenate([weights,weightsLEE])\n",
    "\n",
    "plt.hist(lee_tot,bins=BINS,weights=lee_weights_tot,histtype=\"step\",\\\n",
    "         edgecolor=\"red\",linestyle=\"--\",lw=2,label='eLEE model')\n",
    "\n",
    "plt.xlabel(r'True Neutrino Energy [GeV]')\n",
    "plt.ylabel(r'Events / $6.86 \\times 10^20$ POT / 0.2 GeV',fontsize=18)\n",
    "plt.legend(loc=1,fontsize=18)\n",
    "\n",
    "handles, labels = ((fig.axes)[0]).get_legend_handles_labels()\n",
    "plt.legend(handles[::-1], labels[::-1],loc=1,fontsize=14)\n",
    "\n",
    "plt.ylim([0,200])\n",
    "plt.xlim([0,3])\n",
    "#plt.ylim(0., plt.gca().get_ylim()[1]*1.25)\n",
    "plt.title(r'MicroBooNE simulation',fontsize=14,loc='left')\n",
    "plt.tight_layout()\n",
    "#fig.savefig('/Users/davidc-local/Neutrinos/NUE/PRD/' + 'eLEE.pdf', dpi=250)\n",
    "plt.show()"
   ]
  },
  {
   "cell_type": "code",
   "execution_count": null,
   "metadata": {},
   "outputs": [],
   "source": [
    "dfreco = df.query(QUERYZPBDT)"
   ]
  },
  {
   "cell_type": "code",
   "execution_count": null,
   "metadata": {},
   "outputs": [],
   "source": [
    "plt.rcParams.update({'font.size': 14})"
   ]
  },
  {
   "cell_type": "code",
   "execution_count": null,
   "metadata": {},
   "outputs": [],
   "source": [
    "fig = plt.figure(figsize=(6,6))\n",
    "BINS2D = (np.linspace(-1,1,20),np.linspace(0.15,0.65,20))\n",
    "plt.scatter(dfreco['cos_shr_theta'],dfreco['reco_e'],label='true MC 1$e$0$p$0$\\pi$')#,bins=BINS2D)\n",
    "plt.xlim([-1,1])\n",
    "plt.ylim([0.15,0.65])\n",
    "plt.xlabel(r'$\\cos\\theta$',fontsize=16)\n",
    "plt.legend(loc=2)\n",
    "plt.ylabel('Energy [GeV]',fontsize=16)\n",
    "plt.title(r'1$e$0$p$0$\\pi$ events [0.15 - 0.65 GeV]')\n",
    "plt.show()"
   ]
  },
  {
   "cell_type": "markdown",
   "metadata": {},
   "source": [
    "# Energy Resolution"
   ]
  },
  {
   "cell_type": "code",
   "execution_count": null,
   "metadata": {},
   "outputs": [],
   "source": [
    "fig = plt.figure(figsize=(8,6))\n",
    "START = 0.0\n",
    "B = np.linspace(-1,1,100)\n",
    "XBINS = np.linspace(B[0],B[-1],100)\n",
    "\n",
    "# Apply 1eNp BDT selection\n",
    "dfsub = df.query(QUERYNPBDT + ' and nproton > 0 and npion == 0')\n",
    "\n",
    "dfsub_QE = dfsub.query('interaction == 0')\n",
    "dfsub_MEC = dfsub.query('interaction == 10')\n",
    "dfsub_OTR = dfsub.query('interaction != 0 and interaction != 10')\n",
    "\n",
    "#RECOVAR = 'neutrino_energy'\n",
    "RECOVAR = 'reco_e'\n",
    "#TRUEVAR = 'true_e_visible'\n",
    "TRUEVAR = 'nu_e'\n",
    "MASS = 0.00\n",
    "\n",
    "PART = '$\\\\nu_{e}$'\n",
    "\n",
    "var_ALL_v = (dfsub[RECOVAR] - (dfsub[TRUEVAR] + MASS)) / (dfsub[TRUEVAR] + MASS)\n",
    "var_QE_v = (dfsub_QE[RECOVAR] - (dfsub_QE[TRUEVAR] + MASS) ) / (dfsub_QE[TRUEVAR] + MASS)\n",
    "var_MEC_v = (dfsub_MEC[RECOVAR] - (dfsub_MEC[TRUEVAR] + MASS) ) / (dfsub_MEC[TRUEVAR] + MASS)\n",
    "var_OTR_v = (dfsub_OTR[RECOVAR] - (dfsub_OTR[TRUEVAR] + MASS) ) / (dfsub_OTR[TRUEVAR] + MASS)\n",
    "\n",
    "quantile_med = np.quantile(var_ALL_v,0.5)\n",
    "quantile_up  = np.quantile(var_ALL_v,0.5+0.34)\n",
    "quantile_dn  = np.quantile(var_ALL_v,0.5-0.34)\n",
    "quantile_ALL_res = (quantile_up-quantile_dn)/2.\n",
    "\n",
    "quantile_med = np.quantile(var_QE_v,0.5)\n",
    "quantile_up  = np.quantile(var_QE_v,0.5+0.34)\n",
    "quantile_dn  = np.quantile(var_QE_v,0.5-0.34)\n",
    "quantile_QE_res = (quantile_up-quantile_dn)/2.\n",
    "\n",
    "# ALL\n",
    "vals,binedges,s = plt.hist(var_ALL_v ,bins=B,histtype='stepfilled',lw=2,alpha=0.5,\\\n",
    "                           label=r'%s [68%% width: %.01f%%]'%(PART,100.*quantile_ALL_res),color='k')\n",
    "bincenters = 0.5*(binedges[1:]+binedges[:-1])\n",
    "popt, pcov = scipy.optimize.curve_fit(gauss_exp, bincenters, vals, maxfev=10000,\\\n",
    "                                      p0=[np.max(vals),0.0,0.2,0.1],\n",
    "                                     bounds=([0,0,0,0],[1e4,0.1,0.2,1.0]))\n",
    "plt.plot(XBINS,gauss_exp(XBINS,*popt),'--',color='k',lw=2,\\\n",
    "         label='$\\mu$ = %.01f%%, $\\sigma$ = %.01f%%'%(100.*popt[1],100.*popt[2]))\n",
    "\n",
    "plt.title(r'$\\nu_{e}$ energy resolution - 1eNp signal events',fontsize=16)\n",
    "\n",
    "plt.xlabel(r'[Reco - True] / True $\\nu$ Energy',fontsize=16)\n",
    "plt.grid()\n",
    "#plt.ylim([0,1.2])\n",
    "plt.xlim([-1,1])\n",
    "plt.gca().set_yticklabels([])\n",
    "plt.legend(loc=2,fontsize=14,framealpha=0.5)\n",
    "plt.ylim(0, plt.gca().get_ylim()[1]*1.5)\n",
    "#plt.yscale('log')\n",
    "#plt.title(r'v08_00_00_26 Run1 Samples')\n",
    "#plt.legend(loc=7,fontsize=14)\n",
    "plt.show()"
   ]
  },
  {
   "cell_type": "code",
   "execution_count": null,
   "metadata": {},
   "outputs": [],
   "source": [
    "def gauss(x,mu,sigma,A):\n",
    "    norm = A/(np.sqrt(2*np.pi)*sigma)\n",
    "    exp  = np.exp(-((x-mu)**2)/(2*sigma*sigma))\n",
    "    return norm * exp\n",
    "\n",
    "fig = plt.figure(figsize=(8,6))\n",
    "START = 0.0\n",
    "B = np.linspace(-1,1,100)\n",
    "XBINS = np.linspace(B[0],B[-1],100)\n",
    "\n",
    "# Apply 1eNp BDT selection\n",
    "dfsub = df.query(QUERYNPBDT + ' and nproton > 0 and npion == 0')\n",
    "\n",
    "RECOVAR = 'reco_e'\n",
    "TRUEVAR = 'nu_e'\n",
    "MASS = 0.00\n",
    "\n",
    "PART = '$\\\\nu_{e}$'\n",
    "\n",
    "var_ALL_v = (dfsub[RECOVAR] - (dfsub[TRUEVAR] + MASS)) / (dfsub[TRUEVAR] + MASS)\n",
    "\n",
    "# ALL\n",
    "vals,binedges,s = plt.hist(var_ALL_v ,bins=B,histtype='stepfilled',lw=2,alpha=0.5,\\\n",
    "                           label=r'%s [68%% width: %.01f%%]'%(PART,100.*quantile_ALL_res),color='k')\n",
    "bincenters = 0.5*(binedges[1:]+binedges[:-1])\n",
    "popt, pcov = scipy.optimize.curve_fit(gauss, bincenters, vals, maxfev=10000,\\\n",
    "                                      p0=[0.0,0.2,0.1],\n",
    "                                     bounds=([0,0,0],[0.1,0.2,1.0]))\n",
    "plt.plot(XBINS,gauss_exp(XBINS,*popt),'--',color='k',lw=2,\\\n",
    "         label='$\\mu$ = %.01f%%, $\\sigma$ = %.01f%%'%(100.*popt[1],100.*popt[2]))\n",
    "\n",
    "plt.title(r'$\\nu_{e}$ energy resolution - 1eNp signal events',fontsize=16)\n",
    "\n",
    "plt.xlabel(r'[Reco - True] / True $\\nu$ Energy',fontsize=16)\n",
    "plt.grid()\n",
    "plt.xlim([-1,1])\n",
    "plt.gca().set_yticklabels([])\n",
    "plt.legend(loc=2,fontsize=14,framealpha=0.5)\n",
    "plt.ylim(0, plt.gca().get_ylim()[1]*1.5)\n",
    "plt.show()"
   ]
  },
  {
   "cell_type": "markdown",
   "metadata": {},
   "source": [
    "# Efficiency"
   ]
  },
  {
   "cell_type": "code",
   "execution_count": null,
   "metadata": {
    "scrolled": false
   },
   "outputs": [],
   "source": [
    "fig = plt.figure(figsize=(8,6))\n",
    "START = 0.\n",
    "B = np.linspace(0.15,1.55,1)\n",
    "VAR = 'nu_e' \n",
    "\n",
    "ACCEPTANCE = 'isVtxInFiducial == 1 and truthFiducial == 1 and ccnc>=0 and npi0==0 and npion==0'\n",
    "ACCEPTANCENP = ACCEPTANCE + ' and nproton > 0'\n",
    "\n",
    "num_v = []\n",
    "den_v = []\n",
    "\n",
    "centers,vals,errs,num_v,den_v = Eff(df,VAR,QUERYNPBDT,ACCEPTANCENP,B)\n",
    "plt.errorbar(centers-START,vals,yerr=errs,fmt='o-',label=r'1e0p BDT selection')\n",
    "\n",
    "print ('query...')\n",
    "print ('acceptance...')\n",
    "print (ACCEPTANCE)\n",
    "\n",
    "plt.xlabel(r'Neutrino Energy [GeV]',fontsize=16)\n",
    "plt.ylabel(r'Efficiency',fontsize=16)\n",
    "plt.title(r'Efficiency for contained 1eNp $\\nu_e$ interactions',fontsize=14)\n",
    "plt.grid()\n",
    "plt.ylim([0,0.5])\n",
    "plt.legend(loc=2,fontsize=18,framealpha=1.0)\n",
    "plt.show()"
   ]
  },
  {
   "cell_type": "markdown",
   "metadata": {},
   "source": [
    "# Resolution"
   ]
  },
  {
   "cell_type": "code",
   "execution_count": null,
   "metadata": {},
   "outputs": [],
   "source": [
    "dfres = df.query(QUERYNPBDT)"
   ]
  },
  {
   "cell_type": "code",
   "execution_count": null,
   "metadata": {},
   "outputs": [],
   "source": [
    "import matplotlib.gridspec as gridspec\n",
    "\n",
    "energy_range = (0.03,2.03)\n",
    "energy_bins = 25\n",
    "\n",
    "def gauss_exp(x, n, mu, sigma, k):\n",
    "    sigma = abs(sigma)\n",
    "    condition = (x - mu) / sigma >= -k    \n",
    "    y = np.copy(x)\n",
    "    y[condition] = n * np.exp(-0.5 * ((x[condition] - mu) / sigma)**2)\n",
    "    y[~condition] = n * np.exp(k**2 / 2 + k * ((x[~condition] - mu) / sigma))\n",
    "#     print(x)\n",
    "    return y\n",
    "\n",
    "def get_function_max(f, *args):\n",
    "    def func(x, *arg):\n",
    "        return -f(x, *arg)\n",
    "    return f(scipy.optimize.fmin(func, 0, args=args, disp=False)[0], *args)\n",
    "\n",
    "def find_nearest(array, value):\n",
    "    array = np.asarray(array)\n",
    "    #print (array)\n",
    "    idx = (np.abs(array - value)).argmin()\n",
    "    return idx\n",
    "\n",
    "def mpv(array):\n",
    "    if sum(array) < 5:\n",
    "        return np.median(array)\n",
    "    \n",
    "    n_bins = energy_bins\n",
    "    r = energy_range\n",
    "    hist, bin_edges = np.histogram(array, bins=n_bins, range=r)\n",
    "    \n",
    "    bin_centers = [i*r[1]/n_bins-r[1]/(n_bins*2) for i in range(1,n_bins+1)]\n",
    "    try:\n",
    "        popt, pcov = scipy.optimize.curve_fit(gauss_exp, bin_centers, hist, maxfev=10000)\n",
    "        return scipy.optimize.fmin(lambda x: -gauss_exp(x, *popt), 0)\n",
    "    except RuntimeError:\n",
    "        return np.median(array)\n",
    "    \n",
    "def fwhm(array):\n",
    "    if sum(array) < 5:\n",
    "        return np.std(array)\n",
    "\n",
    "    n_bins = energy_bins\n",
    "    r = energy_range\n",
    "    hist, bin_edges = np.histogram(array, bins=n_bins, range=r)\n",
    "    \n",
    "    bin_centers = [i*r[1]/n_bins-r[1]/(n_bins*2) for i in range(1,n_bins+1)]\n",
    "\n",
    "    try:\n",
    "        popt, pcov = scipy.optimize.curve_fit(gauss_exp, bin_centers, hist, maxfev=10000)\n",
    "        x_values = np.linspace(r[0], r[1], 1000)\n",
    "        y_values = gauss_exp(np.linspace(r[0], r[1], 1000), *popt)\n",
    "        try:\n",
    "            x_max = scipy.optimize.fmin(lambda x: -gauss_exp(x, *popt), 0)\n",
    "        except RuntimeError:\n",
    "            x_max = np.median(array)\n",
    "        y_max = find_nearest(y_values, gauss_exp(x_max, *popt))\n",
    "        y_max_value = y_values[y_max]\n",
    "        fwhm1 = find_nearest(y_values[:y_max], y_max_value/2)\n",
    "        fwhm2 = find_nearest(y_values[y_max:], y_max_value/2)\n",
    "        x_2 = x_values[y_max:][fwhm2]     \n",
    "        x_1 = x_values[:y_max][fwhm1]\n",
    "        return x_2-x_1\n",
    "    except RuntimeError:\n",
    "        return np.std(array)"
   ]
  },
  {
   "cell_type": "code",
   "execution_count": null,
   "metadata": {},
   "outputs": [],
   "source": [
    "# define resolution to be measured\n",
    "#RECOVAR = 'electron_e'\n",
    "#TRUEVAR = 'elec_e'\n",
    "#EMIN = 0.07\n",
    "#EMAX = 1.07\n",
    "#NBINS = 10\n",
    "#EBINS = np.linspace(EMIN,EMAX,NBINS+1)\n",
    "#RESLOW = -1\n",
    "#RESHIGH = 1\n",
    "#VARIABLENAME = 'Electron Energy'\n",
    "\n",
    "RECOVAR = 'protonenergy'\n",
    "TRUEVAR = 'proton_ke'\n",
    "EMIN = 0.0\n",
    "EMAX = 1.0\n",
    "NBINS = 3\n",
    "EBINS = np.linspace(EMIN,EMAX,NBINS+1)\n",
    "RESLOW = -0.5\n",
    "RESHIGH = 0.5\n",
    "VARIABLENAME = 'Proton KE'\n",
    "\n",
    "#RECOVAR = 'trk_energy_muon'\n",
    "#TRUEVAR = 'muon_ke'\n",
    "#EMIN = 0.05\n",
    "#EMAX = 1.00\n",
    "#NBINS = 20\n",
    "#EBINS = np.linspace(EMIN,EMAX,NBINS+1)\n",
    "#RESLOW = -0.5\n",
    "#RESHIGH = 0.5\n",
    "#VARIABLENAME = 'Muon KE'\n",
    "\n",
    "'''\n",
    "RECOVAR = 'reco_e'\n",
    "TRUEVAR = 'true_e_visible'\n",
    "EMIN = 0.2\n",
    "EMAX = 1.5\n",
    "NBINS = 14\n",
    "EBINS = np.linspace(EMIN,EMAX,NBINS+1)\n",
    "RESLOW = -1\n",
    "RESHIGH = 1\n",
    "VARIABLENAME = 'Neutrino Energy'\n",
    "'''"
   ]
  },
  {
   "cell_type": "code",
   "execution_count": null,
   "metadata": {},
   "outputs": [],
   "source": [
    "bin_means, bin_edges, binnumber = scipy.stats.binned_statistic(\n",
    "    dfres[TRUEVAR], dfres[RECOVAR], statistic=mpv, range=(EMIN,EMAX), bins=EBINS)\n",
    "\n",
    "#bin_stdev, bin_edges, binnumber = scipy.stats.binned_statistic(\n",
    "#    df[TRUEVAR], df[RECOVAR], statistic=fwhm, range=(EMIN,EMAX), bins=10)"
   ]
  },
  {
   "cell_type": "code",
   "execution_count": null,
   "metadata": {},
   "outputs": [],
   "source": [
    "BINS2D = (np.linspace(EMIN,EMAX,NBINS),np.linspace(EMIN,EMAX,NBINS))\n",
    "heatmap, xedges, yedges = np.histogram2d(dfres[TRUEVAR], dfres[RECOVAR], bins=BINS2D )\n",
    "extent = [xedges[0], xedges[-1], yedges[0], yedges[-1]]\n",
    "fig, ax  = plt.subplots(figsize=(7,7))\n",
    "ax.imshow(heatmap.T, extent=extent, origin='lower')#,norm=LogNorm())\n",
    "bin_centers = (bin_edges + (bin_edges[1]-bin_edges[0])/2)[:-1]\n",
    "#ax.errorbar(\n",
    "#    bin_centers,\n",
    "#    bin_means,\n",
    "#    xerr=0.01,\n",
    "#    #yerr=bin_stdev/2,\n",
    "#    fmt='ko')\n",
    "\n",
    "slope, intercept, r_value, p_value, std_err = scipy.stats.linregress(bin_centers, bin_means)\n",
    "#ax.plot(bin_centers, intercept + slope*bin_centers, 'r', label=r'$E^{\\mathrm{e}}_{\\mathrm{reco}}=%.2f E^{\\mathrm{e}} %.2f$ MeV' % (slope, intercept*1000))\n",
    "#leg = ax.legend(title=r'MicroBooNE Simulation Preliminary')\n",
    "#leg._legend_box.align = \"left\"\n",
    "#plt.setp(leg.get_title(), fontweight='bold')\n",
    "\n",
    "\n",
    "#ax.set_xlabel(r\"$E^{\\mathrm{\\nu_e}}_{\\mathrm{visible}}$  [GeV]\")\n",
    "#ax.set_ylabel(r\"$E^{\\mathrm{\\nu_e}}_{\\mathrm{reco}}$ [GeV]\")\n",
    "#ax.set_xlabel(r\"$E^{\\mathrm{electron}}_{\\mathrm{true}}$  [GeV]\")\n",
    "#ax.set_ylabel(r\"$E^{\\mathrm{electron}}_{\\mathrm{reco}}$ [GeV]\")\n",
    "ax.set_xlabel(r\"$E^{\\mathrm{proton}}_{\\mathrm{true}}$  [GeV]\")\n",
    "ax.set_ylabel(r\"$E^{\\mathrm{proton}}_{\\mathrm{reco}}$ [GeV]\")\n",
    "#ax.set_ylim(EMIN,EMAX)\n",
    "#ax.set_xlim(EMIN,EMAX)\n",
    "fig.tight_layout()\n",
    "\n",
    "#fig.savefig(ls.plots_path+\"p_calib.pdf\")"
   ]
  },
  {
   "cell_type": "code",
   "execution_count": null,
   "metadata": {
    "scrolled": false
   },
   "outputs": [],
   "source": [
    "fig, ax = plt.subplots(figsize=(10, 20))\n",
    "gs = gridspec.GridSpec(int(NBINS/2), 2, hspace=0.8, wspace=0.4)\n",
    "\n",
    "NBINSPLOT = 20\n",
    "\n",
    "params = {\n",
    "    'legend.fontsize': 'large',\n",
    "    'axes.labelsize': 'small',\n",
    "    'axes.titlesize': 'small',\n",
    "    'xtick.labelsize': 'small',\n",
    "    'ytick.labelsize': 'small'\n",
    "}\n",
    "\n",
    "pylab.rcParams.update(params)\n",
    "\n",
    "for i in range(NBINS):\n",
    "    df_bin = dfres.query(\"%f < %s < %f\" % (EBINS[i],TRUEVAR,EBINS[i+1]))\n",
    "    label_true = \"\"\n",
    "    label_reco = \"\"\n",
    "    label_fit = \"\"\n",
    "    if i == 0:\n",
    "        label_true = r\"$E^e$\"\n",
    "        label_reco = r\"$E^e_{reco}$\"\n",
    "        label_fit = r'GaussExp fit'\n",
    "\n",
    "    plt.subplot(gs[i]).hist(\n",
    "        df_bin[TRUEVAR],\n",
    "        linewidth=1.5,\n",
    "        bins=NBINSPLOT,\n",
    "        range=(EMIN,EMAX),\n",
    "        #range=(EBINS[i]*0.3,EBINS[i+1]*1.5),\n",
    "        histtype='step',\n",
    "        color='k',\n",
    "        label=label_true)\n",
    "\n",
    "    hist, bin_edges, patches = plt.subplot(gs[i]).hist(\n",
    "        df_bin[RECOVAR],\n",
    "        linewidth=1.5,\n",
    "        color='b',\n",
    "        histtype='step',\n",
    "        range=(EMIN,EMAX),\n",
    "        #range=(EBINS[i]*0.3,EBINS[i+1]*1.5),\n",
    "        bins=NBINSPLOT,\n",
    "        label=label_reco)\n",
    "\n",
    "    #r = (EBINS[i]*0.3,EBINS[i+1]*1.5) # (EMIN,EMAX)\n",
    "    r = (EMIN,EMAX)\n",
    "    n_bins = NBINSPLOT\n",
    "\n",
    "    bin_centers = [\n",
    "        i * (r[1] - r[0]) / n_bins - (r[1] - r[0]) / (n_bins * 2) + r[0]\n",
    "        for i in range(1, n_bins + 1)\n",
    "    ]\n",
    "    \n",
    "    #print (bin_centers)\n",
    "    \n",
    "    popt, pcov = scipy.optimize.curve_fit(\n",
    "        gauss_exp, bin_centers, hist, maxfev=10000)\n",
    "    x_values = np.linspace(r[0], r[1], 1000)\n",
    "    y_values = gauss_exp(np.linspace(r[0], r[1], 1000), *popt)\n",
    "    plt.plot(x_values, y_values, color='r', label=label_fit)\n",
    "    plt.subplot(gs[i]).set_xlim(EBINS[i]*0.3,EBINS[i+1]*1.5)\n",
    "    plt.subplot(gs[i]).set_title(\n",
    "        \"%g MeV < $E^e$ < %g MeV\" % (EBINS[i] * 1000,EBINS[i+1] * 1000),\n",
    "        fontweight='bold')\n",
    "    plt.subplot(gs[i]).set_xlabel(r\"$E^e$ [GeV]\")\n",
    "    plt.subplot(gs[i]).set_ylabel(r\"N. Entries / 0.02 GeV\")\n",
    "\n",
    "fig.legend(loc='upper center', ncol=3, frameon=False)\n",
    "fig.tight_layout()\n",
    "fig.subplots_adjust(top=0.93)\n",
    "#fig.savefig(ls.plots_path+\"e_spectra.pdf\")"
   ]
  },
  {
   "cell_type": "code",
   "execution_count": null,
   "metadata": {
    "scrolled": false
   },
   "outputs": [],
   "source": [
    "params = {\n",
    "    'legend.fontsize': 'large',\n",
    "    'axes.labelsize': 'small',\n",
    "    'axes.titlesize': 'small',\n",
    "    'xtick.labelsize': 'small',\n",
    "    'ytick.labelsize': 'small'\n",
    "}\n",
    "\n",
    "pylab.rcParams.update(params)\n",
    "\n",
    "fig_res, ax_res = plt.subplots(figsize=(10, 16))\n",
    "gs_res = gridspec.GridSpec(int(NBINS/2), 2, hspace=0.8, wspace=0.4)\n",
    "\n",
    "sigma = np.array([])\n",
    "sigma_err = np.array([])\n",
    "\n",
    "for i in range(NBINS):\n",
    "    df_bin = dfres.query(\"%f < %s < %f\" %(EBINS[i],TRUEVAR,EBINS[i+1]))\n",
    "    label_true = \"\"\n",
    "    label_reco = \"\"\n",
    "    label_fit = \"\"\n",
    "    if i == 0:\n",
    "        label_true = r\"$E^{\\mathrm{electron}}_{\\mathrm{corr}}$\"\n",
    "        label_reco = r\"$E^{\\mathrm{electron}}_{reco}$\"\n",
    "        label_fit = r'GaussExp fit'\n",
    "\n",
    "    #e_res = (df_bin[RECOVAR] - df_bin[TRUEVAR]) / df_bin[TRUEVAR]\n",
    "    # for electrons add slope correction\n",
    "    print ('SLOPE is %s '%slope)\n",
    "    e_res = ( (df_bin[RECOVAR]/slope) - df_bin[TRUEVAR]) / df_bin[TRUEVAR]\n",
    "    n_bins = 25\n",
    "\n",
    "    hist, bin_edges, patches = plt.subplot(gs_res[i]).hist(\n",
    "        e_res,\n",
    "        linewidth=1.5,\n",
    "        bins=n_bins,\n",
    "        range=(RESLOW,RESHIGH),\n",
    "        histtype='step',\n",
    "        color='k',\n",
    "        label=label_true)\n",
    "\n",
    "    r = (RESLOW,RESHIGH)\n",
    "\n",
    "    bin_centers = np.array([\n",
    "        i * (r[1] - r[0]) / len(hist) - (r[1] - r[0]) / (len(hist) * 2) + r[0]\n",
    "        for i in range(1, len(hist) + 1)\n",
    "    ])\n",
    "\n",
    "    #'''\n",
    "    fit_range = np.logical_and(bin_centers < 0.5, bin_centers > -0.5)\n",
    "    # n, mu, sigma, k\n",
    "    popt, pcov = scipy.optimize.curve_fit(\n",
    "        gauss_exp,\n",
    "        bin_centers[fit_range],\n",
    "        hist[fit_range],\n",
    "        maxfev=10000,\n",
    "        p0=(100,0.0,0.2,0.1),\n",
    "        bounds=((0, -0.5, 0, 0), (5e4, 0.1, 1.0, 1)))\n",
    "    \n",
    "    print ('fit-values are ',popt)\n",
    "\n",
    "    x_values = np.linspace(r[0], r[1], 1000)\n",
    "    y_values = gauss_exp(np.linspace(r[0], r[1], 1000), *popt)\n",
    "    sigma = np.append(sigma, popt[2])\n",
    "    sigma_err = np.append(sigma_err, math.sqrt(np.diagonal(pcov)[2]))\n",
    "    plt.plot(x_values, y_values, color='r', label=label_fit)\n",
    "    plt.subplot(gs_res[i]).set_xlim(RESLOW,RESHIGH)\n",
    "    plt.subplot(gs_res[i]).set_title(\n",
    "        r\"[%.0f, %.0f] MeV. $\\mu$ : %.02f $\\sigma$ : %.02f\" % (EBINS[i]*1000.,EBINS[i+1]*1000., popt[1], popt[2]))\n",
    "    #plt.subplot(gs_res[i]).legend(loc=1)\n",
    "    if (i >= (NBINS-2)):\n",
    "        plt.subplot(gs_res[i]).set_xlabel(r\"$(E^{\\mathrm{electron}}_{\\mathrm{corr}}-E^{\\mathrm{electron}}_{\\mathrm{true}})/E^{\\mathrm{electron}}_{\\mathrm{true}}$\")\n",
    "    #plt.subplot(gs_res[i]).set_ylabel(r\"N. Entries / 0.02\")\n",
    "    #'''\n",
    "\n",
    "fig_res.legend(loc='upper center', ncol=2, frameon=False)\n",
    "fig_res.tight_layout()\n",
    "fig_res.subplots_adjust(top=0.93)\n",
    "#fig_res.savefig(ls.plots_path+\"res.pdf\")"
   ]
  },
  {
   "cell_type": "code",
   "execution_count": null,
   "metadata": {},
   "outputs": [],
   "source": [
    "params = {\n",
    "    'legend.fontsize': 'large',\n",
    "    'axes.labelsize': 'x-large',\n",
    "    'axes.titlesize': 'x-large',\n",
    "    'xtick.labelsize': 'x-large',\n",
    "    'ytick.labelsize': 'x-large'\n",
    "}\n",
    "pylab.rcParams.update(params)\n",
    "\n",
    "fig, ax = plt.subplots(figsize=(6, 6))\n",
    "x_centers = np.array([EBINS[i] * 1000 for i in range(NBINS)])\n",
    "\n",
    "\n",
    "def res_fit(x, a, b, c):\n",
    "    return np.sqrt((a / np.sqrt(x))**2 + (b / x)**2 + c**2)\n",
    "\n",
    "\n",
    "print(list(sigma))\n",
    "\n",
    "ax.errorbar(\n",
    "    x_centers / 1000,\n",
    "    sigma * 100,\n",
    "    #xerr=0.1,\n",
    "    yerr=sigma_err[0:] * 100,\n",
    "    fmt='o',\n",
    "    label=r\"\")\n",
    "\n",
    "popt, pcov = scipy.optimize.curve_fit(\n",
    "    res_fit,\n",
    "    x_centers / 1000,\n",
    "    sigma * 100,\n",
    "    maxfev=10000,\n",
    "    bounds=((0, 0, 0), (np.inf, np.inf, np.inf)),\n",
    "    sigma=sigma_err * 100)\n",
    "\n",
    "\n",
    "x_values = np.linspace(0, EMAX, 1000)\n",
    "y_values = res_fit(np.linspace(0, EMAX, 1000), *popt)\n",
    "\n",
    "'''\n",
    "plt.plot(\n",
    "    x_values,\n",
    "    y_values,\n",
    "    linewidth=2,\n",
    "    label=\n",
    "    r'$\\left(\\frac{%.2f}{\\sqrt{E / \\mathrm{GeV}}}\\oplus\\frac{%.2f}{E / \\mathrm{GeV}}\\oplus %.2f\\right)$ %%'\n",
    "    % (popt[0], popt[1], popt[2]))\n",
    "'''\n",
    "\n",
    "ax.set_ylim(0,20)\n",
    "ax.set_xlim(0, EMAX)\n",
    "ax.set_xlabel(r\"%s [GeV]\"%VARIABLENAME,fontsize=22)\n",
    "ax.set_ylabel(r\"Energy Resolution $\\sigma$ [%]\",fontsize=22)\n",
    "#plt.title('Electron Energy Resolution')\n",
    "plt.grid()\n",
    "\n",
    "#fig.legend(frameon=False, loc='best', bbox_to_anchor=(0.45, 0.45, 0.45, 0.45),fontsize=18)\n",
    "fig.tight_layout()\n",
    "#fig.savefig(ls.plots_path+\"p_sigma_res.pdf\")"
   ]
  },
  {
   "cell_type": "code",
   "execution_count": null,
   "metadata": {},
   "outputs": [],
   "source": []
  }
 ],
 "metadata": {
  "accelerator": "GPU",
  "colab": {
   "name": "Plotter.ipynb",
   "provenance": [],
   "version": "0.3.2"
  },
  "kernelspec": {
   "display_name": "Python 3",
   "language": "python",
   "name": "python3"
  },
  "language_info": {
   "codemirror_mode": {
    "name": "ipython",
    "version": 3
   },
   "file_extension": ".py",
   "mimetype": "text/x-python",
   "name": "python",
   "nbconvert_exporter": "python",
   "pygments_lexer": "ipython3",
   "version": "3.7.9"
  }
 },
 "nbformat": 4,
 "nbformat_minor": 1
}
