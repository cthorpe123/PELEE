{
 "cells": [
  {
   "cell_type": "markdown",
   "metadata": {},
   "source": [
    "# Unblinding 1eNp"
   ]
  },
  {
   "cell_type": "code",
   "execution_count": null,
   "metadata": {},
   "outputs": [],
   "source": [
    "%load_ext autoreload\n",
    "%autoreload 2"
   ]
  },
  {
   "cell_type": "code",
   "execution_count": null,
   "metadata": {},
   "outputs": [],
   "source": [
    "pi0scaling = {\"val\": 0, \"suffix\": \"\", \"title\": \"No pi0 Scaling\"}"
   ]
  },
  {
   "cell_type": "code",
   "execution_count": null,
   "metadata": {},
   "outputs": [],
   "source": [
    "from matplotlib import pyplot as plt\n",
    "\n",
    "params = {\n",
    "    'axes.labelsize': 'x-large',\n",
    "    'axes.titlesize': 'x-large',\n",
    "    'xtick.labelsize': 'x-large',\n",
    "    'ytick.labelsize': 'x-large'\n",
    "}\n",
    "plt.rcParams.update(params)\n",
    "\n",
    "from load_data_run123 import *\n",
    "from unblinding_far_sideband import *"
   ]
  },
  {
   "cell_type": "code",
   "execution_count": null,
   "metadata": {},
   "outputs": [],
   "source": [
    "import sys\n",
    "import localSettings as ls\n",
    "main_path = ls.main_path\n",
    "sys.path.append(main_path)"
   ]
  },
  {
   "cell_type": "code",
   "execution_count": null,
   "metadata": {},
   "outputs": [],
   "source": [
    "import scipy.stats\n",
    "import warnings\n",
    "warnings.filterwarnings('ignore')"
   ]
  },
  {
   "cell_type": "code",
   "execution_count": null,
   "metadata": {},
   "outputs": [],
   "source": [
    "which_sideband = ['fulldata'     ,'fulldata'] "
   ]
  },
  {
   "cell_type": "code",
   "execution_count": null,
   "metadata": {
    "scrolled": false
   },
   "outputs": [],
   "source": [
    "samples = load_data_run123(which_sideband=which_sideband[0],\n",
    "                           return_plotter=False,\n",
    "                           pi0scaling=pi0scaling[\"val\"],\n",
    "                           loadpi0variables=False,\n",
    "                           loadtruthfilters=True,\n",
    "                           loadshowervariables=True,\n",
    "                           loadnumuntuples=False,\n",
    "                           loadnumuvariables=False,\n",
    "                           loadfakedata=0,\n",
    "                           USEBDT=True,\n",
    "                           loadsystematics=True,\n",
    "                           loadrecoveryvars=True)"
   ]
  },
  {
   "cell_type": "code",
   "execution_count": null,
   "metadata": {},
   "outputs": [],
   "source": [
    "import plotter\n",
    "import unblinding_far_sideband\n",
    "import importlib\n",
    "importlib.reload(plotter)\n",
    "importlib.reload(unblinding_far_sideband)"
   ]
  },
  {
   "cell_type": "code",
   "execution_count": null,
   "metadata": {},
   "outputs": [],
   "source": [
    "plotter_runbyrun = {}\n",
    "for run in [1, 2, 3, 123, 12]:\n",
    "    this_weights, this_pot = get_weights(run,dataset=which_sideband[1])\n",
    "    plotter_runbyrun[run] = plotter.Plotter(samples, this_weights, pot=this_pot)"
   ]
  },
  {
   "cell_type": "code",
   "execution_count": null,
   "metadata": {},
   "outputs": [],
   "source": [
    "DETSYS = {'mc':False,'nue':False,'ccpi0':False,'ncpi0':False,'dirt':False,\\\n",
    "          'ncnopi':False,'nccpi':False,'ncpi0':False,'ccpi0':False}"
   ]
  },
  {
   "cell_type": "code",
   "execution_count": null,
   "metadata": {},
   "outputs": [],
   "source": [
    "#Test plot: Reco_E >0.65 GeV\n",
    "\n",
    "from unblinding_far_sideband import *\n",
    "\n",
    "sdb_key = 'None' \n",
    "pre_key = 'NP'\n",
    "sel_key = 'NPBDT'\n",
    "run = 123\n",
    "\n",
    "sideband = sideband_categories[sdb_key]\n",
    "preselection = preselection_categories[pre_key]\n",
    "sel =  selection_categories[sel_key]\n",
    "\n",
    "DETSYSPATH = ls.ntuple_path+'/detsys/{}_{}_{}/'.format(sideband['dir'], preselection['dir'], sel['dir'])\n",
    "\n",
    "QUERY = \"\"\n",
    "for query in [sideband['query'],preselection['query'],sel['query']]:\n",
    "    if query is None: continue\n",
    "    if QUERY: QUERY += ' and '\n",
    "    QUERY += query\n",
    "    if run in [1, 2, 3, 12]:\n",
    "        QUERY += f' and run{run}==True'\n",
    "\n",
    "QUERY += ' and (bnbdata==0 or reco_e>0.65)'\n",
    "\n",
    "TITLE = \"\"\n",
    "for text in [f'Run {run}',' - ',sideband['title'],' - ',preselection['title'],'\\n',sel['title'],' - ',pi0scaling[\"title\"]]:\n",
    "    if text is None: continue\n",
    "    TITLE += text\n",
    "\n",
    "VARIABLE, BINS, RANGE, XTIT = 'reco_e',10,(0.15, 1.55),r\"Reconstructed Energy [ GeV ]\"\n",
    "\n",
    "fig, ax1, ax2 = plotter_runbyrun[run].plot_variable(\n",
    "    VARIABLE,   \n",
    "    query=QUERY,\n",
    "    kind=\"paper_category\",\n",
    "    draw_sys=True,\n",
    "    detsysdict=DETSYS,\n",
    "    DETSYSPATH=DETSYSPATH,\n",
    "    COVMATRIX=\"\",\n",
    "    ratio=False,\n",
    "    stacksort=3,\n",
    "    title=XTIT,\n",
    "    bins=BINS,\n",
    "    range=RANGE,\n",
    "    chisq=False,\n",
    ")[0:3]\n",
    "\n",
    "ax1.set_title(TITLE, loc='left')\n",
    "ax1.set_ylim(0., ax1.get_ylim()[1]*1.4)\n",
    "\n",
    "plt.tight_layout()\n",
    "fig.show()\n",
    "save_path = ls.plots_path\n",
    "fig.savefig(ls.plots_path+VARIABLE+\"_1.pdf\") "
   ]
  },
  {
   "cell_type": "code",
   "execution_count": null,
   "metadata": {},
   "outputs": [],
   "source": [
    "#Test plot: n_showers_contained, all energies, loose selection\n",
    "\n",
    "from unblinding_far_sideband import *\n",
    "\n",
    "sdb_key = 'None' \n",
    "pre_key = 'NP'\n",
    "sel_key = 'NPL'\n",
    "run = 123\n",
    "\n",
    "sideband = sideband_categories[sdb_key]\n",
    "preselection = preselection_categories[pre_key]\n",
    "sel =  selection_categories[sel_key]\n",
    "\n",
    "DETSYSPATH = ls.ntuple_path+'/detsys/{}_{}_{}/'.format(sideband['dir'], preselection['dir'], sel['dir'])\n",
    "\n",
    "QUERY = \"\"\n",
    "for query in [sideband['query'],preselection['query'],sel['query']]:\n",
    "    if query is None: continue\n",
    "    if QUERY: QUERY += ' and '\n",
    "    QUERY += query\n",
    "    if run in [1, 2, 3, 12]:\n",
    "        QUERY += f' and run{run}==True'\n",
    "        \n",
    "TITLE = \"\"\n",
    "for text in [f'Run {run}',' - ',sideband['title'],' - ',preselection['title'],'\\n',sel['title'],' - ',pi0scaling[\"title\"]]:\n",
    "    if text is None: continue\n",
    "    TITLE += text\n",
    "\n",
    "VARIABLE, BINS, RANGE, XTIT = 'n_showers_contained',10,(-0.5, 9.5),\"n showers contained\"\n",
    "\n",
    "fig, ax1, ax2 = plotter_runbyrun[run].plot_variable(\n",
    "    VARIABLE,   \n",
    "    query=QUERY,\n",
    "    kind=\"paper_category\",\n",
    "    draw_sys=True,\n",
    "    detsysdict=DETSYS,\n",
    "    DETSYSPATH=DETSYSPATH,\n",
    "    COVMATRIX=\"\",\n",
    "    ratio=False,\n",
    "    stacksort=3,\n",
    "    title=XTIT,\n",
    "    bins=BINS,\n",
    "    range=RANGE,\n",
    "    chisq=False,\n",
    ")[0:3]\n",
    "\n",
    "ax1.set_title(TITLE, loc='left')\n",
    "ax1.set_ylim(0., ax1.get_ylim()[1]*1.4)\n",
    "\n",
    "plt.tight_layout()\n",
    "fig.show()\n",
    "save_path = ls.plots_path\n",
    "fig.savefig(ls.plots_path+VARIABLE+\"_2.pdf\") "
   ]
  },
  {
   "cell_type": "code",
   "execution_count": null,
   "metadata": {},
   "outputs": [],
   "source": [
    "#Test plot: n_showers_contained, all energies, BDT selection\n",
    "\n",
    "from unblinding_far_sideband import *\n",
    "\n",
    "sdb_key = 'None' \n",
    "pre_key = 'NP'\n",
    "sel_key = 'NPBDT'\n",
    "run = 123\n",
    "\n",
    "sideband = sideband_categories[sdb_key]\n",
    "preselection = preselection_categories[pre_key]\n",
    "sel =  selection_categories[sel_key]\n",
    "\n",
    "DETSYSPATH = ls.ntuple_path+'/detsys/{}_{}_{}/'.format(sideband['dir'], preselection['dir'], sel['dir'])\n",
    "\n",
    "QUERY = \"\"\n",
    "for query in [sideband['query'],preselection['query'],sel['query']]:\n",
    "    if query is None: continue\n",
    "    if QUERY: QUERY += ' and '\n",
    "    QUERY += query\n",
    "    if run in [1, 2, 3, 12]:\n",
    "        QUERY += f' and run{run}==True'\n",
    "        \n",
    "TITLE = \"\"\n",
    "for text in [f'Run {run}',' - ',sideband['title'],' - ',preselection['title'],'\\n',sel['title'],' - ',pi0scaling[\"title\"]]:\n",
    "    if text is None: continue\n",
    "    TITLE += text\n",
    "\n",
    "VARIABLE, BINS, RANGE, XTIT = 'n_showers_contained',10,(-0.5, 9.5),\"n showers contained\"\n",
    "\n",
    "fig, ax1, ax2 = plotter_runbyrun[run].plot_variable(\n",
    "    VARIABLE,   \n",
    "    query=QUERY,\n",
    "    kind=\"paper_category\",\n",
    "    draw_sys=True,\n",
    "    detsysdict=DETSYS,\n",
    "    DETSYSPATH=DETSYSPATH,\n",
    "    COVMATRIX=\"\",\n",
    "    ratio=False,\n",
    "    stacksort=3,\n",
    "    title=XTIT,\n",
    "    bins=BINS,\n",
    "    range=RANGE,\n",
    "    chisq=False,\n",
    ")[0:3]\n",
    "\n",
    "ax1.set_title(TITLE, loc='left')\n",
    "ax1.set_ylim(0., ax1.get_ylim()[1]*1.4)\n",
    "\n",
    "plt.tight_layout()\n",
    "fig.show()\n",
    "save_path = ls.plots_path\n",
    "fig.savefig(ls.plots_path+VARIABLE+\"_3.pdf\") "
   ]
  },
  {
   "cell_type": "markdown",
   "metadata": {},
   "source": [
    "# 1eNp Selection"
   ]
  },
  {
   "cell_type": "code",
   "execution_count": null,
   "metadata": {},
   "outputs": [],
   "source": [
    "from unblinding_far_sideband import *\n",
    "\n",
    "sdb_key = 'None'\n",
    "pre_key = 'NP'\n",
    "sel_key = 'NPBDT'\n",
    "run = 123\n",
    "\n",
    "sideband = sideband_categories[sdb_key]\n",
    "preselection = preselection_categories[pre_key]\n",
    "sel =  selection_categories[sel_key]\n",
    "DETSYSPATH = ls.ntuple_path+'/detsys/{}_{}_{}/'.format(sideband['dir'], preselection['dir'], sel['dir'])\n",
    "\n",
    "\n",
    "QUERY = \"\"\n",
    "for query in [sideband['query'],preselection['query'],sel['query']]:\n",
    "    if query is None: continue\n",
    "    if QUERY: QUERY += ' and '\n",
    "    QUERY += query\n",
    "    if run in [1, 2, 3, 12]:\n",
    "        QUERY += f' and run{run}==True'\n",
    "        \n",
    "TITLE = \"\"\n",
    "for text in [f'Run {run}',' - ',sideband['title'],' - ',preselection['title'],'\\n',sel['title'],' - ',pi0scaling[\"title\"]]:\n",
    "    if text is None: continue\n",
    "    TITLE += text"
   ]
  },
  {
   "cell_type": "markdown",
   "metadata": {},
   "source": [
    "Reconstructed Neutrino Energy"
   ]
  },
  {
   "cell_type": "code",
   "execution_count": null,
   "metadata": {},
   "outputs": [],
   "source": [
    "VARIABLE, BINS, RANGE, XTIT = 'reco_e',10,(0.15, 1.55),r\"Reconstructed Energy [ GeV ]\"\n",
    "\n",
    "fig, ax1, ax2 = plotter_runbyrun[run].plot_variable(\n",
    "    VARIABLE,   \n",
    "    query=QUERY,\n",
    "    kind=\"paper_category\",\n",
    "    draw_sys=True,\n",
    "    detsysdict=DETSYS,\n",
    "    DETSYSPATH=DETSYSPATH,\n",
    "    COVMATRIX=\"\",\n",
    "    ratio=False,\n",
    "    stacksort=3,\n",
    "    title=XTIT,\n",
    "    bins=BINS,\n",
    "    range=RANGE,\n",
    "    chisq=False,\n",
    ")[0:3]\n",
    "\n",
    "ax1.set_title(TITLE, loc='left')\n",
    "ax1.set_ylim(0., ax1.get_ylim()[1]*1.4)\n",
    "\n",
    "plt.tight_layout()\n",
    "fig.show() \n",
    "\n",
    "save_path = ls.plots_path\n",
    "fig.savefig(ls.plots_path+VARIABLE+\".pdf\") "
   ]
  },
  {
   "cell_type": "markdown",
   "metadata": {},
   "source": [
    "Shower Angle"
   ]
  },
  {
   "cell_type": "code",
   "execution_count": null,
   "metadata": {
    "scrolled": false
   },
   "outputs": [],
   "source": [
    "VARIABLE, BINS, RANGE, XTIT = 'shr_theta',21,(0,3.14),r\"Shower $\\theta$\" \n",
    "\n",
    "fig, ax1, ax2 = plotter_runbyrun[run].plot_variable(\n",
    "    VARIABLE,   \n",
    "    query=QUERY,\n",
    "    kind=\"paper_category\",\n",
    "    draw_sys=True,\n",
    "    detsysdict=DETSYS,\n",
    "    DETSYSPATH=DETSYSPATH,\n",
    "    COVMATRIX=\"\",\n",
    "    ratio=False,\n",
    "    stacksort=3,\n",
    "    title=XTIT,\n",
    "    bins=BINS,\n",
    "    range=RANGE,\n",
    "    chisq=False,\n",
    ")[0:3]\n",
    "\n",
    "ax1.set_title(TITLE, loc='left')\n",
    "ax1.set_ylim(0., ax1.get_ylim()[1]*1.4)\n",
    "\n",
    "plt.tight_layout()\n",
    "fig.show() \n",
    "\n",
    "save_path = ls.plots_path\n",
    "fig.savefig(ls.plots_path+VARIABLE+\".pdf\") "
   ]
  },
  {
   "cell_type": "markdown",
   "metadata": {},
   "source": [
    "Shower Energy"
   ]
  },
  {
   "cell_type": "code",
   "execution_count": null,
   "metadata": {},
   "outputs": [],
   "source": [
    "VARIABLE, BINS, RANGE, XTIT = 'electron_e',10,(0,2),\"Shower Energy [GeV]\"\n",
    "\n",
    "fig, ax1, ax2 = plotter_runbyrun[run].plot_variable(\n",
    "    VARIABLE,   \n",
    "    query=QUERY,\n",
    "    kind=\"paper_category\",\n",
    "    draw_sys=True,\n",
    "    detsysdict=DETSYS,\n",
    "    DETSYSPATH=DETSYSPATH,\n",
    "    COVMATRIX=\"\",\n",
    "    ratio=False,\n",
    "    stacksort=3,\n",
    "    title=XTIT,\n",
    "    bins=BINS,\n",
    "    range=RANGE,\n",
    "    chisq=False,\n",
    ")[0:3]\n",
    "\n",
    "ax1.set_title(TITLE, loc='left')\n",
    "ax1.set_ylim(0., ax1.get_ylim()[1]*1.4)\n",
    "\n",
    "plt.tight_layout()\n",
    "fig.show() \n",
    "\n",
    "save_path = ls.plots_path\n",
    "fig.savefig(ls.plots_path+VARIABLE+\".pdf\") "
   ]
  },
  {
   "cell_type": "markdown",
   "metadata": {},
   "source": [
    "Leading Track Angle"
   ]
  },
  {
   "cell_type": "code",
   "execution_count": null,
   "metadata": {},
   "outputs": [],
   "source": [
    "VARIABLE, BINS, RANGE, XTIT = 'trk_theta',21,(0,3.14),r\"Leading Track $\\theta$\"\n",
    "\n",
    "fig, ax1, ax2 = plotter_runbyrun[run].plot_variable(\n",
    "    VARIABLE,   \n",
    "    query=QUERY,\n",
    "    kind=\"paper_category\",\n",
    "    draw_sys=True,\n",
    "    detsysdict=DETSYS,\n",
    "    DETSYSPATH=DETSYSPATH,\n",
    "    COVMATRIX=\"\",\n",
    "    ratio=False,\n",
    "    stacksort=3,\n",
    "    title=XTIT,\n",
    "    bins=BINS,\n",
    "    range=RANGE,\n",
    "    chisq=False,\n",
    ")[0:3]\n",
    "\n",
    "ax1.set_title(TITLE, loc='left')\n",
    "ax1.set_ylim(0., ax1.get_ylim()[1]*1.4)\n",
    "\n",
    "plt.tight_layout()\n",
    "fig.show() \n",
    "\n",
    "save_path = ls.plots_path\n",
    "fig.savefig(ls.plots_path+VARIABLE+\".pdf\") "
   ]
  },
  {
   "cell_type": "markdown",
   "metadata": {},
   "source": [
    "Leading Track Energy"
   ]
  },
  {
   "cell_type": "code",
   "execution_count": null,
   "metadata": {
    "scrolled": false
   },
   "outputs": [],
   "source": [
    "VARIABLE, BINS, RANGE, XTIT = 'protonenergy',12,(0,0.6),\"leading proton kinetic energy [GeV]\"\n",
    "\n",
    "fig, ax1, ax2 = plotter_runbyrun[run].plot_variable(\n",
    "    VARIABLE,   \n",
    "    query=QUERY,\n",
    "    kind=\"paper_category\",\n",
    "    draw_sys=True,\n",
    "    detsysdict=DETSYS,\n",
    "    DETSYSPATH=DETSYSPATH,\n",
    "    COVMATRIX=\"\",\n",
    "    ratio=False,\n",
    "    stacksort=3,\n",
    "    title=XTIT,\n",
    "    bins=BINS,\n",
    "    range=RANGE,\n",
    "    chisq=False,\n",
    ")[0:3]\n",
    "\n",
    "ax1.set_title(TITLE, loc='left')\n",
    "ax1.set_ylim(0., ax1.get_ylim()[1]*1.4)\n",
    "\n",
    "plt.tight_layout()\n",
    "fig.show() \n",
    "\n",
    "save_path = ls.plots_path\n",
    "fig.savefig(ls.plots_path+VARIABLE+\".pdf\") "
   ]
  }
 ],
 "metadata": {
  "accelerator": "GPU",
  "colab": {
   "name": "Plotter.ipynb",
   "provenance": [],
   "version": "0.3.2"
  },
  "kernelspec": {
   "display_name": "Python 3",
   "language": "python",
   "name": "python3"
  },
  "language_info": {
   "codemirror_mode": {
    "name": "ipython",
    "version": 3
   },
   "file_extension": ".py",
   "mimetype": "text/x-python",
   "name": "python",
   "nbconvert_exporter": "python",
   "pygments_lexer": "ipython3",
   "version": "3.7.3"
  }
 },
 "nbformat": 4,
 "nbformat_minor": 4
}
