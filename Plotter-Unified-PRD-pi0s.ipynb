{
 "cells": [
  {
   "cell_type": "markdown",
   "metadata": {},
   "source": [
    "# $\\pi^0$ PRD"
   ]
  },
  {
   "cell_type": "code",
   "execution_count": null,
   "metadata": {},
   "outputs": [],
   "source": [
    "%load_ext autoreload\n",
    "%autoreload 2"
   ]
  },
  {
   "cell_type": "code",
   "execution_count": null,
   "metadata": {},
   "outputs": [],
   "source": [
    "#pi0scaling = {\"val\": 0, \"suffix\": \"\", \"title\": \"No pi0 Scaling\"}\n",
    "pi0scaling = {\"val\": 1, \"suffix\": \"_pi0flat\", \"title\": \"0.759 pi0 Scaling\"}"
   ]
  },
  {
   "cell_type": "code",
   "execution_count": null,
   "metadata": {},
   "outputs": [],
   "source": [
    "from matplotlib import pyplot as plt\n",
    "\n",
    "params = {\n",
    "    'axes.labelsize': 'x-large',\n",
    "    'axes.titlesize': 'x-large',\n",
    "    'xtick.labelsize': 'x-large',\n",
    "    'ytick.labelsize': 'x-large'\n",
    "}\n",
    "plt.rcParams.update(params)\n",
    "\n",
    "from load_data_run123 import *\n",
    "from unblinding_far_sideband import *"
   ]
  },
  {
   "cell_type": "code",
   "execution_count": null,
   "metadata": {},
   "outputs": [],
   "source": [
    "import sys\n",
    "import localSettings as ls\n",
    "main_path = ls.main_path\n",
    "sys.path.append(main_path)"
   ]
  },
  {
   "cell_type": "code",
   "execution_count": null,
   "metadata": {},
   "outputs": [],
   "source": [
    "import scipy.stats\n",
    "import warnings\n",
    "warnings.filterwarnings('ignore')"
   ]
  },
  {
   "cell_type": "code",
   "execution_count": null,
   "metadata": {},
   "outputs": [],
   "source": [
    "which_sideband = ['fulldata'     ,'fulldata'] "
   ]
  },
  {
   "cell_type": "code",
   "execution_count": null,
   "metadata": {
    "scrolled": false
   },
   "outputs": [],
   "source": [
    "samples = load_data_run123(which_sideband=which_sideband[0],\n",
    "                           return_plotter=False,\n",
    "                           pi0scaling=pi0scaling[\"val\"],\n",
    "                           loadpi0variables=True,\n",
    "                           loadtruthfilters=True,\n",
    "                           loadshowervariables=True,\n",
    "                           loadnumuntuples=False,\n",
    "                           loadnumuvariables=False,\n",
    "                           loadfakedata=0,\n",
    "                           USEBDT=True,\n",
    "                           loadsystematics=True,\n",
    "                           loadrecoveryvars=False)"
   ]
  },
  {
   "cell_type": "code",
   "execution_count": null,
   "metadata": {},
   "outputs": [],
   "source": [
    "import plotter\n",
    "import unblinding_far_sideband\n",
    "import importlib\n",
    "importlib.reload(plotter)\n",
    "importlib.reload(unblinding_far_sideband)"
   ]
  },
  {
   "cell_type": "code",
   "execution_count": null,
   "metadata": {},
   "outputs": [],
   "source": [
    "plotter_runbyrun = {}\n",
    "for run in [1, 2, 3, 123, 12]:\n",
    "    this_weights, this_pot = get_weights(run,dataset=which_sideband[1])\n",
    "    plotter_runbyrun[run] = plotter.Plotter(samples, this_weights, pot=this_pot)"
   ]
  },
  {
   "cell_type": "markdown",
   "metadata": {},
   "source": [
    "# $\\pi^0$ Selection"
   ]
  },
  {
   "cell_type": "code",
   "execution_count": null,
   "metadata": {},
   "outputs": [],
   "source": [
    "from unblinding_far_sideband import *\n",
    "\n",
    "sdb_key = 'TwoPShr'\n",
    "pre_key = 'NUE'\n",
    "sel_key = 'PI0SEL'\n",
    "run = 123\n",
    "\n",
    "sideband = sideband_categories[sdb_key]\n",
    "preselection = preselection_categories[pre_key]\n",
    "sel =  selection_categories[sel_key]\n",
    "\n",
    "DETSYS = {'mc':True,'nue':True,'ccpi0':True,'ncpi0':True,'dirt':True,\\\n",
    "          'ncnopi':True,'nccpi':True,'ncpi0':True,'ccpi0':True}\n",
    "\n",
    "DETSYSPATH = ls.ntuple_path+'/detsys/{}_{}_{}/'.format(sideband['dir'], preselection['dir'], sel['dir'])\n",
    "\n",
    "QUERY = \"\"\n",
    "for query in [sideband['query'],preselection['query'],sel['query']]:\n",
    "    if query is None: continue\n",
    "    if QUERY: QUERY += ' and '\n",
    "    QUERY += query\n",
    "    if run in [1, 2, 3, 12]:\n",
    "        QUERY += f' and run{run}==True'\n",
    "        \n",
    "SELQUERY = '{}_{}_{}_'.format(sideband['dir'], preselection['dir'], sel['dir'])        \n",
    "\n",
    "TITLE = \"\"\n",
    "for text in [f'Run {run}',' - ',sideband['title'],' - ',preselection['title'],'\\n',sel['title'],' - ',pi0scaling[\"title\"]]:\n",
    "    if text is None: continue\n",
    "    TITLE += text"
   ]
  },
  {
   "cell_type": "markdown",
   "metadata": {},
   "source": [
    "# Fig. 7: $\\pi^0$ Mass Peak"
   ]
  },
  {
   "cell_type": "code",
   "execution_count": null,
   "metadata": {},
   "outputs": [],
   "source": [
    "VARIABLE, BINS, RANGE, XTIT = 'pi0_mass_Y_corr',19,(10,200),r\"$M_{\\gamma\\gamma}$ [MeV/$c^2$]\"\n",
    "\n",
    "fig, ax1, ax2 = plotter_runbyrun[run].plot_variable(\n",
    "    VARIABLE,   \n",
    "    query=QUERY,\n",
    "    figtitle=\"MicroBooNE\",\n",
    "    labeldecimals=0,\n",
    "    predictedevents=False,\n",
    "    kind=\"paper_category\",\n",
    "    draw_sys=True,\n",
    "    detsysdict=DETSYS,\n",
    "    DETSYSPATH=DETSYSPATH,\n",
    "    COVMATRIX=\"\",\n",
    "    ratio=False,\n",
    "    stacksort=3,\n",
    "    title=XTIT,\n",
    "    bins=BINS,\n",
    "    range=RANGE,\n",
    "    chisq=False,\n",
    ")[0:3]\n",
    "\n",
    "TITLE = r'$\\pi^0$ selection'\n",
    "ax1.set_title(TITLE, loc='left')\n",
    "ax1.set_ylim(0., ax1.get_ylim()[1]*1.1)\n",
    "\n",
    "print ('prediction : ', plotter_runbyrun[run].prediction)\n",
    "print ('mc stat diag entries : ', np.sqrt(np.diagonal(plotter_runbyrun[run].cov_mc_stat)))\n",
    "print ('data : ',plotter_runbyrun[run].data)\n",
    "print ('EXT : ',plotter_runbyrun[run].ext)\n",
    "print ('EXT errors : ',plotter_runbyrun[run].ext_err)\n",
    "\n",
    "plt.tight_layout()\n",
    "fig.show() \n",
    "save_path = ls.plots_path\n",
    "#fig.savefig('/Users/davidc-local/Neutrinos/NUE/PRD/'+SELQUERY+VARIABLE+\"_PRD.pdf\") "
   ]
  },
  {
   "cell_type": "markdown",
   "metadata": {},
   "source": [
    "# $\\pi^0$ Mass Fit"
   ]
  },
  {
   "cell_type": "code",
   "execution_count": null,
   "metadata": {},
   "outputs": [],
   "source": [
    "import scipy.optimize\n",
    "from scipy.optimize import curve_fit\n",
    "\n",
    "def gauss(x,A,mu,sigma):\n",
    "    norm = A/(np.sqrt(2*np.pi)*sigma)\n",
    "    exp  = np.exp(-((x-mu)**2)/(2*sigma*sigma))\n",
    "    return norm * exp\n",
    "\n",
    "def gauss_exp(x, n, mu, sigma, k):\n",
    "    sigma = abs(sigma)\n",
    "    condition = (x - mu) / sigma >= -k    \n",
    "    y = np.copy(x)\n",
    "    y[condition] = n * np.exp(-0.5 * ((x[condition] - mu) / sigma)**2)\n",
    "    y[~condition] = n * np.exp(k**2 / 2 + k * ((x[~condition] - mu) / sigma))\n",
    "#     print(x)\n",
    "    return y\n",
    "\n",
    "def get_function_max(f, *args):\n",
    "    def func(x, *arg):\n",
    "        return -f(x, *arg)\n",
    "    return f(scipy.optimize.fmin(func, 0, args=args, disp=False)[0], *args)\n",
    "\n",
    "def find_nearest(array, value):\n",
    "    array = np.asarray(array)\n",
    "    #print (array)\n",
    "    idx = (np.abs(array - value)).argmin()\n",
    "    return idx\n",
    "\n",
    "def mpv(array):\n",
    "    if sum(array) < 5:\n",
    "        return np.median(array)\n",
    "    \n",
    "    n_bins = energy_bins\n",
    "    r = energy_range\n",
    "    hist, bin_edges = np.histogram(array, bins=n_bins, range=r)\n",
    "    \n",
    "    bin_centers = [i*r[1]/n_bins-r[1]/(n_bins*2) for i in range(1,n_bins+1)]\n",
    "    try:\n",
    "        popt, pcov = scipy.optimize.curve_fit(gauss_exp, bin_centers, hist, maxfev=10000)\n",
    "        return scipy.optimize.fmin(lambda x: -gauss_exp(x, *popt), 0)\n",
    "    except RuntimeError:\n",
    "        return np.median(array)\n",
    "    \n",
    "def fwhm(array):\n",
    "    if sum(array) < 5:\n",
    "        return np.std(array)\n",
    "\n",
    "    n_bins = energy_bins\n",
    "    r = energy_range\n",
    "    hist, bin_edges = np.histogram(array, bins=n_bins, range=r)\n",
    "    \n",
    "    bin_centers = [i*r[1]/n_bins-r[1]/(n_bins*2) for i in range(1,n_bins+1)]\n",
    "\n",
    "    try:\n",
    "        popt, pcov = scipy.optimize.curve_fit(gauss_exp, bin_centers, hist, maxfev=10000)\n",
    "        x_values = np.linspace(r[0], r[1], 1000)\n",
    "        y_values = gauss_exp(np.linspace(r[0], r[1], 1000), *popt)\n",
    "        try:\n",
    "            x_max = scipy.optimize.fmin(lambda x: -gauss_exp(x, *popt), 0)\n",
    "        except RuntimeError:\n",
    "            x_max = np.median(array)\n",
    "        y_max = find_nearest(y_values, gauss_exp(x_max, *popt))\n",
    "        y_max_value = y_values[y_max]\n",
    "        fwhm1 = find_nearest(y_values[:y_max], y_max_value/2)\n",
    "        fwhm2 = find_nearest(y_values[y_max:], y_max_value/2)\n",
    "        x_2 = x_values[y_max:][fwhm2]     \n",
    "        x_1 = x_values[:y_max][fwhm1]\n",
    "        return x_2-x_1\n",
    "    except RuntimeError:\n",
    "        return np.std(array)"
   ]
  },
  {
   "cell_type": "code",
   "execution_count": null,
   "metadata": {},
   "outputs": [],
   "source": [
    "BKGD = np.array([ 1.257,4.392,4.372,6.693,9.447,9.73,15.539,19.589,21.453,\\\n",
    "         27.607,30.9,24.214,24.358,22.274,19.015,15.504,14.429,12.097,8.851])\n",
    "\n",
    "DATA = np.array([1,8,13,20,31,44,57,85,101,120,117,137,109,92,54,33,40,\\\n",
    "        22,22])\n",
    "\n",
    "MC = np.array([2.22,7.375,9.468,18.034,28.22,38.831,55.987,79.923,\\\n",
    "         100.817,111.843,127.89,121.022,105.664,83.88,58.787,45.696,32.446,\\\n",
    "         24.482,17.312])\n",
    "\n",
    "\n",
    "MCSGNL = MC - BKGD\n",
    "DATASGNL = DATA - BKGD\n",
    "\n",
    "DATAERR = np.sqrt(DATASGNL)\n",
    "MCERR = np.sqrt(MCSGNL)\n"
   ]
  },
  {
   "cell_type": "code",
   "execution_count": null,
   "metadata": {},
   "outputs": [],
   "source": [
    "fig = plt.figure(figsize=(6,6))\n",
    "#BINC = np.array([0.3,0.4,0.5,0.6,0.7])\n",
    "\n",
    "\n",
    "# pi0s\n",
    "BINC = np.linspace(10,200,19) + 5\n",
    "# gauss\n",
    "#guess = [155,135.,30]\n",
    "#BOUNDS = ([120,100,10],[2e4,150,50])\n",
    "# gauss_exp\n",
    "guess = [155,135.,30,0.8]\n",
    "BOUNDS = ([40,100,10,0.5],[2e4,150,50,0.9])\n",
    "\n",
    "print ('bin centers: ',BINC)\n",
    "\n",
    "BINMIN = 2\n",
    "BINMAX = 18\n",
    "\n",
    "# MC\n",
    "\n",
    "plt.errorbar(BINC,DATASGNL,xerr=10,yerr=MCERR,fmt='o',color='r')\n",
    "\n",
    "popt,popv = curve_fit(gauss_exp,BINC[BINMIN:BINMAX],MCSGNL[BINMIN:BINMAX],\\\n",
    "                      p0=guess,\\\n",
    "                      #method='dogbox',\\\n",
    "                      sigma=MCERR[BINMIN:BINMAX],absolute_sigma=True,\\\n",
    "                     bounds=BOUNDS)\n",
    "perr = np.sqrt(np.diag(popv))\n",
    "print ('popt : ',popt)\n",
    "\n",
    "# gauss_exp\n",
    "mass = popt[1]\n",
    "width = popt[2]\n",
    "masserr = perr[1]\n",
    "# gauss\n",
    "#mass = popt[0]\n",
    "#width = popt[1]\n",
    "#masserr = perr[0]\n",
    "\n",
    "masserr = width / np.sqrt(np.sum(MCSGNL))\n",
    "\n",
    "xvals = np.linspace(0.,200.,100)\n",
    "#xvals = np.linspace(250.,750.,100)\n",
    "plt.plot(xvals,gauss_exp(xvals,*popt),'r--',lw=2,\\\n",
    "         label='$\\mu$ = %.0f $\\pm$ %.0f MeV \\n $\\sigma$ = %.0f MeV'%(mass,masserr,width))\n",
    "\n",
    "# DATA\n",
    "\n",
    "plt.errorbar(BINC,MCSGNL,xerr=10,yerr=MCERR,fmt='o',color='b')\n",
    "\n",
    "popt,popv = curve_fit(gauss_exp,BINC[BINMIN:BINMAX],DATASGNL[BINMIN:BINMAX],\\\n",
    "                      p0=guess,\\\n",
    "                      #method='dogbox',\\\n",
    "                      sigma=DATAERR[BINMIN:BINMAX],absolute_sigma=True,\\\n",
    "                     bounds=BOUNDS)\n",
    "perr = np.sqrt(np.diag(popv))\n",
    "print ('popt : ',popt)\n",
    "\n",
    "# gauss_exp\n",
    "mass = popt[1]\n",
    "width = popt[2]\n",
    "masserr = perr[1]\n",
    "# gauss\n",
    "#mass = popt[0]\n",
    "#width = popt[1]\n",
    "#masserr = perr[0]\n",
    "\n",
    "masserr = width / np.sqrt(np.sum(DATASGNL))\n",
    "\n",
    "xvals = np.linspace(0.,200.,100)\n",
    "#xvals = np.linspace(250.,750.,100)\n",
    "plt.plot(xvals,gauss_exp(xvals,*popt),'b--',lw=2,\\\n",
    "         label='$\\mu$ = %.0f $\\pm$ %.0f MeV \\n $\\sigma$ = %.0f MeV'%(mass,masserr,width))\n",
    "\n",
    "\n",
    "plt.legend(loc=2)\n",
    "#plt.ylim([0,18])\n",
    "plt.xlabel(r'$M_{\\gamma\\gamma}$ [MeV]',\\\n",
    "           fontsize=18)\n",
    "plt.ylabel('background subtracted events',fontsize=18)\n",
    "plt.tight_layout()\n",
    "plt.show()\n",
    "save_path = '/Users/davidc-local/Neutrinos/ETA/TN/reconstruction/'\n",
    "fig.savefig(save_path + \"etamassfit\" + '_v2.pdf', dpi=250)  "
   ]
  },
  {
   "cell_type": "code",
   "execution_count": null,
   "metadata": {},
   "outputs": [],
   "source": []
  },
  {
   "cell_type": "code",
   "execution_count": null,
   "metadata": {},
   "outputs": [],
   "source": []
  }
 ],
 "metadata": {
  "accelerator": "GPU",
  "colab": {
   "name": "Plotter.ipynb",
   "provenance": [],
   "version": "0.3.2"
  },
  "kernelspec": {
   "display_name": "Python 3",
   "language": "python",
   "name": "python3"
  },
  "language_info": {
   "codemirror_mode": {
    "name": "ipython",
    "version": 3
   },
   "file_extension": ".py",
   "mimetype": "text/x-python",
   "name": "python",
   "nbconvert_exporter": "python",
   "pygments_lexer": "ipython3",
   "version": "3.7.9"
  }
 },
 "nbformat": 4,
 "nbformat_minor": 4
}
