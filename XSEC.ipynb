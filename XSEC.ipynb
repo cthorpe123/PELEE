{
 "cells": [
  {
   "cell_type": "code",
   "execution_count": null,
   "metadata": {},
   "outputs": [],
   "source": [
    "import sys\n",
    "import localSettings as ls\n",
    "print(ls.main_path)"
   ]
  },
  {
   "cell_type": "code",
   "execution_count": null,
   "metadata": {
    "colab": {
     "base_uri": "https://localhost:8080/",
     "height": 34
    },
    "colab_type": "code",
    "executionInfo": {
     "elapsed": 517,
     "status": "ok",
     "timestamp": 1560556807118,
     "user": {
      "displayName": "Stefano Roberto Soleti",
      "photoUrl": "https://lh4.googleusercontent.com/-hfLpspJu4Q0/AAAAAAAAAAI/AAAAAAAABmA/2kE4rtj8paU/s64/photo.jpg",
      "userId": "10372352518008961760"
     },
     "user_tz": 240
    },
    "id": "6qsD0G-yYJ9K",
    "outputId": "5d52a3ec-50be-44fc-da44-3c0593e98bc6"
   },
   "outputs": [],
   "source": [
    "main_path = ls.main_path\n",
    "sys.path.append(main_path)"
   ]
  },
  {
   "cell_type": "code",
   "execution_count": null,
   "metadata": {},
   "outputs": [],
   "source": [
    "SHRCALIBFACTOR = 1.00"
   ]
  },
  {
   "cell_type": "code",
   "execution_count": null,
   "metadata": {},
   "outputs": [],
   "source": [
    "# Doing Run3?\n",
    "ISRUN3 = False"
   ]
  },
  {
   "cell_type": "code",
   "execution_count": null,
   "metadata": {
    "colab": {},
    "colab_type": "code",
    "id": "xGqTJ5JgaDsx"
   },
   "outputs": [],
   "source": [
    "import plotter\n",
    "import importlib\n",
    "importlib.reload(plotter)\n",
    "import uproot\n",
    "import matplotlib.pylab as pylab\n",
    "import numpy as np\n",
    "import math\n",
    "from sklearn.model_selection import train_test_split\n",
    "import pickle\n",
    "import xgboost as xgb\n",
    "import nue_booster \n",
    "importlib.reload(nue_booster)\n",
    "import awkward\n",
    "\n",
    "params = {\n",
    "    'axes.labelsize': 'x-large',\n",
    "    'axes.titlesize': 'x-large',\n",
    "    'xtick.labelsize': 'x-large',\n",
    "    'ytick.labelsize': 'x-large'\n",
    "}\n",
    "pylab.rcParams.update(params)"
   ]
  },
  {
   "cell_type": "code",
   "execution_count": null,
   "metadata": {
    "colab": {},
    "colab_type": "code",
    "id": "iwoCIaigYJ9N"
   },
   "outputs": [],
   "source": [
    "fold = \"nuselection\"\n",
    "tree = \"NeutrinoSelectionFilter\"\n",
    "\n",
    "BNB = \"\"\n",
    "EXT = \"\"\n",
    "NU  = \"\"\n",
    "NUE = \"\"\n",
    "DRT = \"\"\n",
    "NCPI0 = \"\"\n",
    "CCPI0 = \"\"\n",
    "CCNOPI = \"\"\n",
    "NCCPI = \"\"\n",
    "NCNOPI = \"\"\n",
    "\n",
    "if ISRUN3:\n",
    "    BNB = 'data_bnb_mcc9.1_v08_00_00_25_reco2_G1_beam_good_reco2_1e19'\n",
    "    EXT = 'data_extbnb_mcc9.1_v08_00_00_25_reco2_G1_all_reco2'\n",
    "    NU  = 'prodgenie_bnb_nu_uboone_overlay_mcc9.1_v08_00_00_26_filter_run3_reco2_G_reco2'\n",
    "    NUE = 'prodgenie_bnb_intrinsice_nue_uboone_overlay_mcc9.1_v08_00_00_26_run3_reco2_reco2'\n",
    "    DRT = 'prodgenie_bnb_dirt_overlay_mcc9.1_v08_00_00_26_run3_reco2_reco2'\n",
    "    NCPI0 = 'prodgenie_nc_pi0_uboone_overlay_mcc9.1_v08_00_00_26_run3_G_reco2'\n",
    "    CCPI0 = 'prodgenie_cc_pi0_uboone_overlay_v08_00_00_26_run3_G_reco2'\n",
    "    CCNOPI = 'prodgenie_CCmuNoPi_overlay_mcc9_v08_00_00_33_run3_reco2_reco2'\n",
    "    NCCPI = 'prodgenie_NCcPiNoPi0_overlay_mcc9_v08_00_00_33_New_run3_reco2_reco2'\n",
    "    NCNOPI = 'prodgenie_ncnopi_overlay_mcc9_v08_00_00_33_new_run3_reco2_reco2'\n",
    "    \n",
    "else:\n",
    "    BNB = 'data_bnb_mcc9.1_v08_00_00_25_reco2_C1_beam_good_reco2_5e19'\n",
    "    EXT = 'data_extbnb_mcc9.1_v08_00_00_25_reco2_C_all_reco2'\n",
    "    NU  = 'prodgenie_bnb_nu_uboone_overlay_mcc9.1_v08_00_00_26_filter_run1_reco2_reco2'\n",
    "    NUE = 'prodgenie_bnb_intrinsice_nue_uboone_overlay_mcc9.1_v08_00_00_26_run1_reco2_reco2'\n",
    "    DRT = 'prodgenie_bnb_dirt_overlay_mcc9.1_v08_00_00_26_run1_reco2_reco2'\n",
    "    NCPI0 = 'prodgenie_nc_pi0_uboone_overlay-v08_00_00_26_run1_reco2_reco2'\n",
    "    CCPI0 = 'prodgenie_cc_pi0_uboone_overlay_v08_00_00_26_run1_reco2'\n",
    "    CCNOPI = 'prodgenie_CCmuNoPi_overlay_mcc9_v08_00_00_33_run1_reco2_reco2'\n",
    "    NCCPI = 'prodgenie_NCcPiNoPi0_overlay_mcc9_v08_00_00_33_run1_reco2_reco2'\n",
    "    NCNOPI = 'prodgenie_ncnopi_overlay_mcc9_v08_00_00_33_run1_reco2_reco2'\n",
    "    \n",
    "mc = uproot.open(ls.ntuple_path+NU+\".root\")[fold][tree]\n",
    "ncpi0 = uproot.open(ls.ntuple_path+NCPI0+\".root\")[fold][tree]\n",
    "ccpi0 = uproot.open(ls.ntuple_path+CCPI0+\".root\")[fold][tree]\n",
    "ccnopi = uproot.open(ls.ntuple_path+CCNOPI+\".root\")[fold][tree]\n",
    "nccpi = uproot.open(ls.ntuple_path+NCCPI+\".root\")[fold][tree]\n",
    "ncnopi = uproot.open(ls.ntuple_path+NCNOPI+\".root\")[fold][tree]\n",
    "nue = uproot.open(ls.ntuple_path+NUE+\".root\")[fold][tree]\n",
    "data = uproot.open(ls.ntuple_path+BNB+\".root\")[fold][tree]\n",
    "ext = uproot.open(ls.ntuple_path+EXT+\".root\")[fold][tree]\n",
    "dirt = uproot.open(ls.ntuple_path+DRT+\".root\")[fold][tree]\n",
    "lee = uproot.open(ls.ntuple_path+NUE+\".root\")[fold][tree]\n",
    "\n",
    "uproot_v = [lee,mc,ncpi0,ccpi0,ccnopi,nccpi,ncnopi,nue,ext,data,dirt]\n",
    "#uproot_v = [lee,mc,ncpi0,ccpi0,nue,ext,data,dirt]\n",
    "\n",
    "variables = [\n",
    "    \"shr_bkt_pdg\", \"p\", \"pt\", \"selected\", \"nu_pdg\",\n",
    "    \"slpdg\", \"trk_score_v\", \"backtracked_pdg\", # modified from shr_score_v\n",
    "    \"category\", \n",
    "    #\"shr_energy_tot\", \n",
    "    \"trk_energy_tot\", \"shr_hits_tot\", \"ccnc\", \"trk_chipr\",\n",
    "    \"trk_bkt_pdg\", \"hits_ratio\", \"n_tracks_contained\", \n",
    "    \"NeutrinoEnergy2\",\n",
    "    \"trk_llr_pid_score_v\", # trk-PID score\n",
    "    #\"pi0_energy2_Y\", # pi0 tagger variables\n",
    "    \"reco_nu_vtx_sce_x\",\"reco_nu_vtx_sce_y\",\"reco_nu_vtx_sce_z\",\n",
    "    \"nproton\", \"nu_e\", \n",
    "    \"hits_y\", \"trk_phi\", \"trk_theta\",\n",
    "    \"run\", \"sub\", \"evt\",\n",
    "    \"nproton\",\n",
    "    \"interaction\",\"topological_score\",\n",
    "    \"trk_len\", \"mc_pdg\", \"slnunhits\", \"slnhits\", \"shr_score\", \"trk_score\", \"trk_hits_tot\",\n",
    "    \"true_e_visible\", \"matched_E\", \"shr_bkt_E\", \"trk_bkt_E\", \"trk_energy\", \n",
    "    \"npi0\",\"npion\",\"pion_e\",\"muon_e\",\"pi0truth_elec_etot\",\n",
    "    \"pi0_e\", \"shr_energy_tot_cali\", \"shr_dedx_Y_cali\", \"evnunhits\", \"nslice\", \"interaction\",\n",
    "    \"slclustfrac\", \"reco_nu_vtx_x\", \"reco_nu_vtx_y\", \"reco_nu_vtx_z\",\"contained_fraction\",\n",
    "    \"secondshower_Y_nhit\",\"secondshower_Y_vtxdist\",\"secondshower_Y_dot\",\"secondshower_Y_dir\",\"shrclusdir2\"\n",
    "]\n",
    "#make the list unique\n",
    "variables = list(set(variables))\n",
    "print(variables)\n",
    "    \n",
    "WEIGHTS = [\"weightSpline\",\"weightTune\",\"weightSplineTimesTune\"]#, \"weightsGenie\", \"weightsFlux\", \"weightsReint\"]\n",
    "WEIGHTSLEE = [\"weightSpline\",\"weightTune\",\"weightSplineTimesTune\", \"leeweight\"]#, \"weightsGenie\", \"weightsFlux\", \"weightsReint\"]\n",
    "MCFVARS = [\"mcf_nu_e\",\"mcf_lep_e\",\"mcf_actvol\",\"mcf_nmm\",\"mcf_nmp\",\"mcf_nem\",\"mcf_nep\",\"mcf_np0\",\"mcf_npp\",\n",
    "           \"mcf_npm\",\"mcf_mcshr_elec_etot\",\"mcf_pass_ccpi0\",\"mcf_pass_ncpi0\",\n",
    "           \"mcf_pass_ccnopi\",\"mcf_pass_ncnopi\",\"mcf_pass_cccpi\",\"mcf_pass_nccpi\"]\n",
    "SYSTEMATICS = ['weightsFlux','weightsGenie']\n",
    "\n",
    "nue = nue.pandas.df(variables + WEIGHTS + SYSTEMATICS, flatten=False)\n",
    "mc = mc.pandas.df(variables + WEIGHTS + MCFVARS  + SYSTEMATICS, flatten=False)\n",
    "ncpi0 = ncpi0.pandas.df(variables + WEIGHTS  + SYSTEMATICS, flatten=False)\n",
    "ccpi0 = ccpi0.pandas.df(variables + WEIGHTS  + SYSTEMATICS, flatten=False)\n",
    "ccnopi = ccnopi.pandas.df(variables + WEIGHTS, flatten=False)\n",
    "nccpi = nccpi.pandas.df(variables + WEIGHTS, flatten=False)\n",
    "ncnopi = ncnopi.pandas.df(variables + WEIGHTS, flatten=False)\n",
    "data = data.pandas.df(variables, flatten=False)\n",
    "ext = ext.pandas.df(variables, flatten=False)\n",
    "dirt = dirt.pandas.df(variables + WEIGHTS + SYSTEMATICS, flatten=False)\n",
    "lee = lee.pandas.df(variables + WEIGHTSLEE + SYSTEMATICS, flatten=False)"
   ]
  },
  {
   "cell_type": "code",
   "execution_count": null,
   "metadata": {},
   "outputs": [],
   "source": [
    "# load XSEC splines\n",
    "spline_energy_v = []\n",
    "spline_xsec_v = []\n",
    "fspline = uproot.open(\"/home/david/Downloads/\"+\"ccqe_spline_ratios.root\")\n",
    "graph = fspline[\"nu_mu_ccqe_v304a\"]\n",
    "print (graph)\n",
    "print (graph.npoints)\n",
    "xspline = graph.xvalues\n",
    "yspline = graph.yvalues\n",
    "for n in range(len(xspline)):\n",
    "    if (n%100 == 0):\n",
    "        spline_energy_v.append(xspline[n])\n",
    "        spline_xsec_v.append(yspline[n])\n",
    "print (\"Energy Bins:\")\n",
    "print (spline_energy_v)"
   ]
  },
  {
   "cell_type": "code",
   "execution_count": null,
   "metadata": {},
   "outputs": [],
   "source": [
    "print (spline_energy_v[1]-spline_energy_v[0])\n",
    "print (spline_energy_v[6]-spline_energy_v[5])\n",
    "print (spline_energy_v[501]-spline_energy_v[500])\n",
    "SPLINEWIDTH = spline_energy_v[1]-spline_energy_v[0]"
   ]
  },
  {
   "cell_type": "code",
   "execution_count": null,
   "metadata": {},
   "outputs": [],
   "source": [
    "import matplotlib.pyplot as plt\n",
    "from scipy.interpolate import interp1d"
   ]
  },
  {
   "cell_type": "code",
   "execution_count": null,
   "metadata": {},
   "outputs": [],
   "source": [
    "spline_interp_func = interp1d(spline_energy_v, spline_xsec_v)"
   ]
  },
  {
   "cell_type": "code",
   "execution_count": null,
   "metadata": {},
   "outputs": [],
   "source": [
    "def spline_interp_func_offset(energy,offset):\n",
    "    return spline_interp_func(energy+offset)\n",
    "spline_interp_func_offset_v = np.vectorize(spline_interp_func_offset)"
   ]
  },
  {
   "cell_type": "code",
   "execution_count": null,
   "metadata": {},
   "outputs": [],
   "source": [
    "def weight_ratio(energy,offset):\n",
    "    return spline_interp_func_offset(energy,offset)/spline_interp_func_offset(energy,0.)\n",
    "weight_ratio_v = np.vectorize(weight_ratio)"
   ]
  },
  {
   "cell_type": "code",
   "execution_count": null,
   "metadata": {},
   "outputs": [],
   "source": [
    "erange_v = np.linspace(0.105,1.5,100)"
   ]
  },
  {
   "cell_type": "code",
   "execution_count": null,
   "metadata": {},
   "outputs": [],
   "source": [
    "fig = plt.figure(figsize=(6,6))\n",
    "#plt.plot(erange_v,spline_xsec_v)\n",
    "plt.plot(erange_v,spline_interp_func(erange_v),color='r',label='CV')\n",
    "plt.plot(erange_v,spline_interp_func_offset_v(erange_v,0.09),color='b',label='90 MeV')\n",
    "#plt.plot(erange_v,spline_interp_func_offset_v(erange_v,-0.09),color='m',label='-90 MeV')\n",
    "plt.xlim([0,1.5])\n",
    "plt.legend(fontsize=16)\n",
    "plt.grid()\n",
    "plt.xlabel('neutrino energy [GeV]',fontsize=16)\n",
    "plt.ylabel('xsec',fontsize=16)\n",
    "plt.show()"
   ]
  },
  {
   "cell_type": "code",
   "execution_count": null,
   "metadata": {},
   "outputs": [],
   "source": [
    "fig = plt.figure(figsize=(6,6))\n",
    "#plt.plot(erange_v,spline_xsec_v)\n",
    "#plt.plot(erange_v,spline_interp_func(erange_v),color='r',label='CV')\n",
    "plt.plot(erange_v,weight_ratio_v(erange_v,0.09),color='b',label='90 MeV offset')\n",
    "#plt.plot(erange_v,weight_ratio_v(erange_v,-0.09),color='m')\n",
    "plt.xlim([0,1.5])\n",
    "plt.legend(fontsize=16)\n",
    "plt.grid()\n",
    "plt.xlabel('neutrino energy [GeV]',fontsize=16)\n",
    "plt.ylabel('xsec ratio',fontsize=16)\n",
    "plt.ylim([0,5])\n",
    "plt.show()"
   ]
  },
  {
   "cell_type": "code",
   "execution_count": null,
   "metadata": {},
   "outputs": [],
   "source": [
    "df_v = [lee,mc,ncpi0,ccpi0,ccnopi,nccpi,ncnopi,nue,dirt]\n",
    "\n",
    "for i,df in enumerate(df_v):\n",
    "    \n",
    "    df.loc[ df['weightTune'] <= 0, 'weightTune' ] = 1.\n",
    "    df.loc[ df['weightTune'] == np.inf, 'weightTune' ] = 1.\n",
    "    df.loc[ df['weightTune'] > 100, 'weightTune' ] = 1.\n",
    "    df.loc[ np.isnan(df['weightTune']) == True, 'weightTune' ] = 1.\n",
    "    df.loc[ df['weightSplineTimesTune'] <= 0, 'weightSplineTimesTune' ] = 1.\n",
    "    df.loc[ df['weightSplineTimesTune'] == np.inf, 'weightSplineTimesTune' ] = 1.\n",
    "    df.loc[ df['weightSplineTimesTune'] > 100, 'weightSplineTimesTune' ] = 1.\n",
    "    df.loc[ np.isnan(df['weightSplineTimesTune']) == True, 'weightSplineTimesTune' ] = 1."
   ]
  },
  {
   "cell_type": "code",
   "execution_count": null,
   "metadata": {},
   "outputs": [],
   "source": [
    "df_v = [lee,mc,ncpi0,ccpi0,ccnopi,nccpi,ncnopi,nue,ext,data,dirt]\n",
    "\n",
    "\n",
    "for i,df in enumerate(df_v):\n",
    "    up = uproot_v[i]\n",
    "    trk_llr_pid_v = up.array('trk_llr_pid_score_v')\n",
    "    trk_id = up.array('trk_id')-1 # I think we need this -1 to get the right result\n",
    "    trk_llr_pid_v_sel = awkward.fromiter([pidv[tid] if tid<len(pidv) else 9999. for pidv,tid in zip(trk_llr_pid_v,trk_id)])\n",
    "    df['trkpid'] = trk_llr_pid_v_sel"
   ]
  },
  {
   "cell_type": "code",
   "execution_count": null,
   "metadata": {},
   "outputs": [],
   "source": [
    "# avoid double-counting of events out of FV in the NC/CC pi0 samples\n",
    "# not needed anymore since we improved matching with filtered samples\n",
    "#ncpi0 = ncpi0.query('category != 5')\n",
    "#ccpi0 = ccpi0.query('category != 5')\n",
    "#ccnopi = ccnopi.query('category != 5')\n",
    "#nccpi = nccpi.query('category != 5')\n",
    "#ncnopi = ncnopi.query('category != 5')\n",
    "\n",
    "# avoid recycling unbiased ext events (i.e. selecting a slice with little nu content from these samples)\n",
    "ccnopi = ccnopi.query('(nslice==0 | (slnunhits/slnhits)>0.2)')\n",
    "nccpi = nccpi.query('(nslice==0 | (slnunhits/slnhits)>0.2)')\n",
    "ncnopi = ncnopi.query('(nslice==0 | (slnunhits/slnhits)>0.2)')\n",
    "\n",
    "# add back the cosmic category, for background only\n",
    "df_v = [lee,mc,ncpi0,ccpi0,ccnopi,nccpi,ncnopi,nue,ext,data,dirt]\n",
    "for i,df in enumerate(df_v):\n",
    "    df.loc[(df['category']!=1)&(df['category']!=10)&(df['category']!=11)&(df['category']!=111)&(df['slnunhits']/df['slnhits']<0.2), 'category'] = 4"
   ]
  },
  {
   "cell_type": "code",
   "execution_count": null,
   "metadata": {},
   "outputs": [],
   "source": [
    "lee[\"is_signal\"] = lee[\"category\"] == 11\n",
    "data[\"is_signal\"] = data[\"category\"] == 11\n",
    "nue[\"is_signal\"] = nue[\"category\"] == 11\n",
    "mc[\"is_signal\"] = mc[\"category\"] == 11\n",
    "dirt[\"is_signal\"] = dirt[\"category\"] == 11\n",
    "ext[\"is_signal\"] = ext[\"category\"] == 11\n",
    "ncpi0[\"is_signal\"] = ncpi0[\"category\"] == 11\n",
    "ccpi0[\"is_signal\"] = ccpi0[\"category\"] == 11\n",
    "ccnopi[\"is_signal\"] = ccnopi[\"category\"] == 11\n",
    "nccpi[\"is_signal\"] = nccpi[\"category\"] == 11\n",
    "ncnopi[\"is_signal\"] = ncnopi[\"category\"] == 11\n",
    "\n",
    "lee.loc[lee['category'] == 1, 'category'] = 111\n",
    "lee.loc[lee['category'] == 10, 'category'] = 111\n",
    "lee.loc[lee['category'] == 11, 'category'] = 111"
   ]
  },
  {
   "cell_type": "code",
   "execution_count": null,
   "metadata": {},
   "outputs": [],
   "source": [
    "df_v = [lee,mc,ncpi0,ccpi0,ccnopi,nccpi,ncnopi,nue,dirt]\n",
    "\n",
    "for i,df in enumerate(df_v):\n",
    "    df.loc[ (df['interaction'] == 0)&(df['nu_pdg']==14)&(df['nu_e']<1.5)&(df['nu_e']>0.105)&(df['ccnc']==0), 'weightXSEC' ] = df['weightSpline'] *  weight_ratio_v(df['nu_e'],0.0)\n",
    "    df.loc[ (df['interaction'] == 0)&(df['nu_pdg']==14)&(df['nu_e']<1.5)&(df['nu_e']>0.105)&(df['ccnc']==0), 'weightSplineTimesTune' ] = df['weightXSEC'] * df['weightTune']\n",
    "    df.loc[ df['weightSplineTimesTune'] <= 0, 'weightSplineTimesTune' ] = 1.\n",
    "    df.loc[ df['weightSplineTimesTune'] == np.inf, 'weightSplineTimesTune' ] = 1.\n",
    "    df.loc[ df['weightSplineTimesTune'] > 100, 'weightSplineTimesTune' ] = 1.\n",
    "    df.loc[ np.isnan(df['weightSplineTimesTune']) == True, 'weightSplineTimesTune' ] = 1."
   ]
  },
  {
   "cell_type": "code",
   "execution_count": null,
   "metadata": {},
   "outputs": [],
   "source": [
    "import plotter\n",
    "import importlib\n",
    "importlib.reload(plotter)"
   ]
  },
  {
   "cell_type": "code",
   "execution_count": null,
   "metadata": {
    "colab": {},
    "colab_type": "code",
    "id": "_pamv0W8YJ9R"
   },
   "outputs": [],
   "source": [
    "samples = {\n",
    "    \"mc\": mc,\n",
    "    \"nue\": nue,\n",
    "    \"data\": data,\n",
    "    \"ext\": ext,\n",
    "    \"dirt\": dirt,\n",
    "    \"ncpi0\": ncpi0,\n",
    "    \"ccpi0\": ccpi0,\n",
    "    \"ccnopi\": ccnopi,\n",
    "    \"nccpi\": nccpi,\n",
    "    \"ncnopi\": ncnopi,\n",
    "    \"lee\": lee\n",
    "}\n",
    "\n",
    "\n",
    "if ISRUN3:\n",
    "    scaling = 101.0/0.865\n",
    "else:\n",
    "    scaling = 101.0/4.07\n",
    "scaling = 1\n",
    "\n",
    "SPLIT = 1.0\n",
    "\n",
    "#''' 0109\n",
    "if ISRUN3:\n",
    "    weights = {\n",
    "        \"mc\": 6.46e-3 * SPLIT * scaling,\n",
    "        \"nue\": 1.19e-4 * SPLIT * scaling,\n",
    "        \"ext\": 2.18e-2 * SPLIT * scaling,\n",
    "        \"dirt\": 2.66e-2 * scaling,\n",
    "        \"lee\": 1.19e-4 * SPLIT * scaling,\n",
    "        \"ncpi0\": 3.79e-3 * SPLIT * scaling,\n",
    "        \"ccpi0\": 1.34e-3 * SPLIT * scaling,\n",
    "        \"ccnopi\": 3.11e-03 * SPLIT * scaling,\n",
    "        \"nccpi\": 8.24e-04 * SPLIT * scaling,\n",
    "        \"ncnopi\": 1.86e-03 * SPLIT * scaling,\n",
    "    }\n",
    "    pot = 0.865e19*scaling\n",
    "else:\n",
    "    weights = {\n",
    "        \"mc\": 4.02e-2 * SPLIT * scaling,\n",
    "        \"nue\": 7.72e-4 * SPLIT * scaling,\n",
    "        \"ext\": 1.39e-1 * SPLIT * scaling,\n",
    "        \"dirt\": 1.26e-1 * scaling,\n",
    "        \"lee\": 7.72e-4 * SPLIT * scaling,\n",
    "        \"ncpi0\": 1.77e-2 * SPLIT * scaling,\n",
    "        \"ccpi0\": 1.17e-2 * SPLIT * scaling,\n",
    "        \"ccnopi\": 1.37e-02 * SPLIT * scaling,\n",
    "        \"nccpi\": 4.55e-03 * SPLIT * scaling,\n",
    "        \"ncnopi\": 9.60e-03 * SPLIT * scaling,\n",
    "    }\n",
    "    pot = 4.07e19*scaling\n",
    "#'''\n",
    "my_plotter = plotter.Plotter(samples, weights, pot=pot)\n",
    "print(weights)"
   ]
  },
  {
   "cell_type": "code",
   "execution_count": null,
   "metadata": {},
   "outputs": [],
   "source": [
    "# muon selection\n",
    "QUERY = 'nslice == 1'\n",
    "#if ISRUN3: QUERY += ' and ((crtveto!=1) or (crthitpe < 100)) and (_closestNuCosmicDist > 20.)'\n",
    "#QUERY += ' and trk_len > 20'\n",
    "QUERY += ' and topological_score > 0.5'\n",
    "QUERY += ' and reco_nu_vtx_sce_x > 5 and reco_nu_vtx_sce_x < 251'\n",
    "QUERY += ' and reco_nu_vtx_sce_y > -110 and reco_nu_vtx_sce_y < 110'\n",
    "QUERY += ' and reco_nu_vtx_sce_z > 20 and reco_nu_vtx_sce_z < 986'\n",
    "QUERY += ' and trkpid > 0.2'\n",
    "\n",
    "print (QUERY)"
   ]
  },
  {
   "cell_type": "code",
   "execution_count": null,
   "metadata": {},
   "outputs": [],
   "source": [
    "from datetime import datetime\n",
    "now = datetime.now()\n",
    "date_time = now.strftime(\"%m%d%Y\")\n",
    "print(\"date and time:\",date_time)"
   ]
  },
  {
   "cell_type": "code",
   "execution_count": null,
   "metadata": {
    "colab": {
     "base_uri": "https://localhost:8080/",
     "height": 561
    },
    "colab_type": "code",
    "executionInfo": {
     "elapsed": 2342,
     "status": "ok",
     "timestamp": 1560557343774,
     "user": {
      "displayName": "Stefano Roberto Soleti",
      "photoUrl": "https://lh4.googleusercontent.com/-hfLpspJu4Q0/AAAAAAAAAAI/AAAAAAAABmA/2kE4rtj8paU/s64/photo.jpg",
      "userId": "10372352518008961760"
     },
     "user_tz": 240
    },
    "id": "b93hN-pGYJ9T",
    "outputId": "17e7c7ed-3f12-4b03-805c-6698f1617878",
    "scrolled": false
   },
   "outputs": [],
   "source": [
    "VARIABLE, BINS, RANGE, XTIT = 'trk_len',25,(10,250),\"Track Length [cm]\"\n",
    "\n",
    "fig, ax1, ax2 = my_plotter.plot_variable(\n",
    "    VARIABLE,   \n",
    "    query=QUERY,\n",
    "    kind=\"event_category\",\n",
    "    #kind=\"interaction\",\n",
    "    #kind=\"sample\",\n",
    "    #kind='particle_pdg',\n",
    "    draw_sys=True,\n",
    "    title=XTIT,\n",
    "    #bins=asymm_bins,\n",
    "    bins=BINS,\n",
    "    range=RANGE,\n",
    ")\n",
    "\n",
    "#print(\"Profile likelihood: %.2f sigma @ 1.32e21 POT\" % my_plotter.significance_likelihood)\n",
    "#print(\"s/sqrt(b): %.2f sigma @ 1.32e21 POT\" % my_plotter.significance)\n",
    "\n",
    "#ax1.set_ylim(0,1200)\n",
    "#ax1.set_yscale(\"log\")\n",
    "#ax1.set_ylim(0,0.25)\n",
    "ax2.set_ylim(0.5,1.5)\n",
    "ax1.set_ylim(0,400)\n",
    "#ax1.set_ylim(0.,ax1.get_ylim()[1]*1.5)\n",
    "fig.savefig(ls.plots_path+VARIABLE+\"_\"+date_time+\"_000MeV.pdf\")"
   ]
  }
 ],
 "metadata": {
  "accelerator": "GPU",
  "colab": {
   "name": "Plotter.ipynb",
   "provenance": [],
   "version": "0.3.2"
  },
  "kernelspec": {
   "display_name": "Python 3",
   "language": "python",
   "name": "python3"
  },
  "language_info": {
   "codemirror_mode": {
    "name": "ipython",
    "version": 3
   },
   "file_extension": ".py",
   "mimetype": "text/x-python",
   "name": "python",
   "nbconvert_exporter": "python",
   "pygments_lexer": "ipython3",
   "version": "3.7.4"
  }
 },
 "nbformat": 4,
 "nbformat_minor": 1
}
