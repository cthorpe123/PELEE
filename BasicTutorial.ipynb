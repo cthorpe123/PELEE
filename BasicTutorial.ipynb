{
 "cells": [
  {
   "cell_type": "code",
   "execution_count": null,
   "metadata": {},
   "outputs": [],
   "source": [
    "import localSettings as ls\n",
    "from load_data_run123 import *\n",
    "from unblinding_far_sideband import *\n",
    "from matplotlib import pyplot as plt"
   ]
  },
  {
   "cell_type": "code",
   "execution_count": null,
   "metadata": {},
   "outputs": [],
   "source": [
    "fold = \"nuselection\"\n",
    "tree = \"NeutrinoSelectionFilter\"\n",
    "\n",
    "fnu   = \"root_files/tutorial/prodgenie_bnb_nu_uboone_overlay_mcc9.1_v08_00_00_26_filter_run1_reco2_reco2.root\"\n",
    "fext  = \"root_files/tutorial/data_extbnb_mcc9.1_v08_00_00_25_reco2_C_all_reco2.root\"\n",
    "fdata = \"root_files/tutorial/data_bnb_mcc9.1_v08_00_00_25_reco2_C1_beam_good_reco2_5e19.root\"\n",
    "\n",
    "unu   = uproot.open(fnu)[fold][tree]\n",
    "uext  = uproot.open(fext)[fold][tree]\n",
    "udata = uproot.open(fdata)[fold][tree]\n",
    "\n",
    "vardict = get_variables()\n",
    "variables = ['_opfilter_pe_beam','_opfilter_pe_veto','nslice','selected',\\\n",
    "             'shr_energy_tot_cali','n_tracks_contained','shr_energy_tot_cali',\\\n",
    "             'trk_energy_tot','nu_pdg','ccnc','category']\n",
    "#variables = vardict['VARIABLES']+vardict['NUEVARS']+vardict['RCVRYVARS'] #this adds many more variables...\n",
    "variables = list(set(variables))\n",
    "\n",
    "print(\"nu dataframe\")\n",
    "nu   = unu.pandas.df(variables+vardict['WEIGHTS']+vardict['SYSTVARS'], flatten=False)\n",
    "print(\"ext dataframe\")\n",
    "ext  = uext.pandas.df(variables, flatten=False)\n",
    "print(\"data dataframe\")\n",
    "data = udata.pandas.df(variables, flatten=False)"
   ]
  },
  {
   "cell_type": "code",
   "execution_count": null,
   "metadata": {},
   "outputs": [],
   "source": [
    "print(variables)"
   ]
  },
  {
   "cell_type": "code",
   "execution_count": null,
   "metadata": {},
   "outputs": [],
   "source": [
    "uproot_v = [unu,uext,udata]\n",
    "df_v = [nu,ext,data]"
   ]
  },
  {
   "cell_type": "code",
   "execution_count": null,
   "metadata": {},
   "outputs": [],
   "source": [
    "INTERCEPT = 0.0\n",
    "SLOPE = 0.83\n",
    "\n",
    "# define some energy-related variables\n",
    "print(\"vars3\")\n",
    "for i,df in enumerate(df_v):\n",
    "    df[\"reco_e\"] = (df[\"shr_energy_tot_cali\"] + INTERCEPT) / SLOPE + df[\"trk_energy_tot\"]\n",
    "#    df['protonenergy_corr'] = df['protonenergy']+0.000620/df['protonenergy']-0.001792\n",
    "#    df.loc[(df['protonenergy_corr']>9998.), 'protonenergy_corr'] = 0\n",
    "#    df['electron_e'] = (df[\"shr_energy_tot_cali\"] + INTERCEPT) / SLOPE\n",
    "\n",
    "# and a way to filter out data\n",
    "for i,df in enumerate(df_v):\n",
    "    df[\"bnbdata\"] = np.zeros_like(df[\"nslice\"])\n",
    "    df[\"extdata\"] = np.zeros_like(df[\"nslice\"])\n",
    "data[\"bnbdata\"] = np.ones_like(data[\"nslice\"])\n",
    "ext[\"extdata\"] = np.ones_like(ext[\"nslice\"])"
   ]
  },
  {
   "cell_type": "code",
   "execution_count": null,
   "metadata": {},
   "outputs": [],
   "source": [
    "#for i,df in enumerate(df_v):\n",
    "#    up = uproot_v[i]\n",
    "#    print(\"uproot\",i)\n",
    "#    process_uproot(up,df)    \n",
    "#    #print(\"uproot_recoveryvars\",i)\n",
    "#    #process_uproot_recoveryvars(up,df)    \n",
    "\n",
    "#print(\"vars1\")\n",
    "#for i,df in enumerate(df_v):\n",
    "#    df['subcluster'] = df['shrsubclusters0'] + df['shrsubclusters1'] + df['shrsubclusters2']\n",
    "#    df['trkfit'] = df['shr_tkfit_npointsvalid'] / df['shr_tkfit_npoints']\n",
    "#    # and the 2d angle difference\n",
    "#    df['anglediff_Y'] = np.abs(df['secondshower_Y_dir']-df['shrclusdir2'])\n",
    "#    df['anglediff_V'] = np.abs(df['secondshower_V_dir']-df['shrclusdir1'])\n",
    "#    df['anglediff_U'] = np.abs(df['secondshower_U_dir']-df['shrclusdir0'])\n",
    "#    df['cos_shr_theta'] = np.cos(df['shr_theta'])\n",
    "\n",
    "#print(\"vars2\")\n",
    "#for i,df in enumerate(df_v):\n",
    "#    df['shr_tkfit_nhits_tot'] = (df['shr_tkfit_nhits_Y']+df['shr_tkfit_nhits_U']+df['shr_tkfit_nhits_V'])\n",
    "#    df.loc[:,'shr_tkfit_dedx_max'] = df['shr_tkfit_dedx_Y']\n",
    "#    df.loc[(df['shr_tkfit_nhits_U']>df['shr_tkfit_nhits_Y']),'shr_tkfit_dedx_max'] = df['shr_tkfit_dedx_U']\n",
    "#    df.loc[(df['shr_tkfit_nhits_V']>df['shr_tkfit_nhits_Y']) & (df['shr_tkfit_nhits_V']>df['shr_tkfit_nhits_U']),'shr_tkfit_dedx_max'] = df['shr_tkfit_dedx_V']\n",
    "#    df['shr_tkfit_gap10_nhits_tot'] = (df['shr_tkfit_gap10_nhits_Y']+df['shr_tkfit_gap10_nhits_U']+df['shr_tkfit_gap10_nhits_V'])\n",
    "#    df.loc[:,'shr_tkfit_gap10_dedx_max'] = df['shr_tkfit_gap10_dedx_Y']\n",
    "#    df.loc[(df['shr_tkfit_gap10_nhits_U']>df['shr_tkfit_gap10_nhits_Y']),'shr_tkfit_gap10_dedx_max'] = df['shr_tkfit_gap10_dedx_U']\n",
    "#    df.loc[(df['shr_tkfit_gap10_nhits_V']>df['shr_tkfit_gap10_nhits_Y']) & (df['shr_tkfit_gap10_nhits_V']>df['shr_tkfit_gap10_nhits_U']),'shr_tkfit_gap10_dedx_max'] = df['shr_tkfit_gap10_dedx_V']\n",
    "    \n",
    "#print(\"done\")"
   ]
  },
  {
   "cell_type": "code",
   "execution_count": null,
   "metadata": {},
   "outputs": [],
   "source": [
    "# fix weights that are out of scale\n",
    "for i,df in enumerate([nu]):\n",
    "    df.loc[ df['weightSplineTimesTune'] <= 0, 'weightSplineTimesTune' ] = 1.\n",
    "    df.loc[ df['weightSplineTimesTune'] == np.inf, 'weightSplineTimesTune' ] = 1.\n",
    "    df.loc[ df['weightSplineTimesTune'] > 100, 'weightSplineTimesTune' ] = 1.\n",
    "    df.loc[ np.isnan(df['weightSplineTimesTune']) == True, 'weightSplineTimesTune' ] = 1."
   ]
  },
  {
   "cell_type": "code",
   "execution_count": null,
   "metadata": {},
   "outputs": [],
   "source": [
    "import plotter\n",
    "import importlib\n",
    "importlib.reload(plotter)\n",
    "\n",
    "nue = nu.query('abs(nu_pdg) == 12 and ccnc == 0')\n",
    "\n",
    "samples = {'mc': nu, 'nue': nue, 'ext': ext, 'data': data}\n",
    "weights = {'mc': 0.03465648854961832, 'nue': 0.03465648854961832, 'ext': 0.15396097438639594}\n",
    "\n",
    "plotter = plotter.Plotter(samples, weights, pot=4.54e+19)"
   ]
  },
  {
   "cell_type": "code",
   "execution_count": null,
   "metadata": {},
   "outputs": [],
   "source": [
    "DETSYS = {'mc':False,'nue':False,'ccpi0':False,'ncpi0':False,'dirt':False,\\\n",
    "          'ncnopi':False,'nccpi':False,'ncpi0':False,'ccpi0':False}\n",
    "\n",
    "SEL = '( (_opfilter_pe_beam > 0 and _opfilter_pe_veto < 20) or bnbdata == 1 or extdata == 1)'\n",
    "SEL += ' and nslice==1 and selected==1 and shr_energy_tot_cali > 0.07'\n",
    "SEL += ' and n_tracks_contained>0'\n",
    "\n",
    "VARIABLE, BINS, RANGE, XTIT = 'reco_e',14,(0.15, 1.45),r\"Reconstructed Energy [ GeV ]\"\n",
    "\n",
    "fig, ax1, ax2 = plotter.plot_variable(\n",
    "    VARIABLE,   \n",
    "    query=SEL,\n",
    "    kind=\"event_category\",\n",
    "    draw_sys=True,\n",
    "    detsysdict=DETSYS,\n",
    "    ratio=True,\n",
    "    stacksort=3,\n",
    "    title=XTIT,\n",
    "    bins=BINS,\n",
    "    range=RANGE,\n",
    "    chisq=True,\n",
    ")[0:3]\n",
    "\n",
    "ax1.set_title('', loc='left')\n",
    "ax1.set_ylim(0, ax1.get_ylim()[1]*1.6)\n",
    "\n",
    "plt.tight_layout()\n"
   ]
  },
  {
   "cell_type": "code",
   "execution_count": null,
   "metadata": {},
   "outputs": [],
   "source": []
  }
 ],
 "metadata": {
  "kernelspec": {
   "display_name": "Python 3 (ipykernel)",
   "language": "python",
   "name": "python3"
  },
  "language_info": {
   "codemirror_mode": {
    "name": "ipython",
    "version": 3
   },
   "file_extension": ".py",
   "mimetype": "text/x-python",
   "name": "python",
   "nbconvert_exporter": "python",
   "pygments_lexer": "ipython3",
   "version": "3.7.12"
  }
 },
 "nbformat": 4,
 "nbformat_minor": 4
}
