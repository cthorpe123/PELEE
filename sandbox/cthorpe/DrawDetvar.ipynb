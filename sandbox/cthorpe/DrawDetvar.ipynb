{
 "cells": [
  {
   "cell_type": "code",
   "execution_count": 1,
   "metadata": {},
   "outputs": [],
   "source": [
    "import sys\n",
    "sys.path.append(\"../../\")\n",
    "import data_loading as dl\n",
    "from importlib import reload\n",
    "reload(dl)\n",
    "\n",
    "from plotting import run_plotter as rp\n",
    "from plotting import histogram as hist"
   ]
  },
  {
   "cell_type": "code",
   "execution_count": 17,
   "metadata": {},
   "outputs": [
    {
     "name": "stdout",
     "output_type": "stream",
     "text": [
      "Loaded rundict\n",
      "data_path= /uboone/data/users/cthorpe/PELEE/run1/detvar/prodgenie_bnb_intrinsic_nue_overlay_DetVar_CV_reco2_v08_00_00_38_run1_reco2_reco2.root\n",
      "LY Down uncertainties is not used in run 1, loading CV sample as a dummy\n",
      "Loaded rundict\n",
      "data_path= /uboone/data/users/cthorpe/PELEE/run1/detvar/prodgenie_bnb_intrinsic_nue_overlay_DetVar_CV_reco2_v08_00_00_38_run1_reco2_reco2.root\n",
      "Loaded rundict\n",
      "data_path= /uboone/data/users/cthorpe/PELEE/run1/detvar/prodgenie_bnb_intrinsic_nue_overlay_DetVar_LYAttenuation_v08_00_00_38_run1_reco2_reco2.root\n",
      "Loaded rundict\n",
      "data_path= /uboone/data/users/cthorpe/PELEE/run1/detvar/prodgenie_bnb_intrinsic_nue_overlay_DetVar_LYRayleigh_v08_00_00_37_run1_reco2_reco2.root\n",
      "Loaded rundict\n",
      "data_path= /uboone/data/users/cthorpe/PELEE/run1/detvar/prodgenie_bnb_intrinsic_nue_overlay_detvar_sce_reco2_run1_reco2_reco2.root\n",
      "Loaded rundict\n",
      "data_path= /uboone/data/users/cthorpe/PELEE/run1/detvar/prodgenie_bnb_intrinsic_nue_overlay_detvar_recomb2_reco2_run1_reco2_reco2.root\n",
      "Loaded rundict\n",
      "data_path= /uboone/data/users/cthorpe/PELEE/run1/detvar/prodgenie_bnb_intrinsic_nue_overlay_DetVar_wiremod_ScaleX_v08_00_00_42_run1_reco2_reco2.root\n",
      "Loaded rundict\n",
      "data_path= /uboone/data/users/cthorpe/PELEE/run1/detvar/prodgenie_bnb_intrinsic_nue_overlay_DetVar_wiremod_ScaleYZ_v08_00_00_42_run1_reco2_reco2.root\n",
      "Loaded rundict\n",
      "data_path= /uboone/data/users/cthorpe/PELEE/run1/detvar/prodgenie_bnb_intrinsic_nue_overlay_DetVar_WireModAngleXZ_v08_00_00_42_run1_reco2_reco2.root\n",
      "Loaded rundict\n",
      "data_path= /uboone/data/users/cthorpe/PELEE/run1/detvar/prodgenie_bnb_intrinsic_nue_overlay_DetVar_WireModAngleYZ_v08_00_00_42_run1_reco2_reco2.root\n"
     ]
    }
   ],
   "source": [
    "reload(dl)\n",
    "RUN = 1\n",
    "\n",
    "rundata = {}\n",
    "mc_weights = {}\n",
    "\n",
    "for variation in dl.detector_variations: \n",
    "    rundata[variation], mc_weights[variation], _ = dl._load_run_detvar(\n",
    "        RUN,\n",
    "        mc_sets=[\"nue\"],\n",
    "        var=variation,\n",
    "        data_pot=1e20,\n",
    "        use_bdt=True,\n",
    "        loadshowervariables=True\n",
    "    )"
   ]
  },
  {
   "cell_type": "code",
   "execution_count": 24,
   "metadata": {
    "scrolled": false
   },
   "outputs": [
    {
     "name": "stdout",
     "output_type": "stream",
     "text": [
      "nslice == 1 and selected == 1 and shr_energy_tot_cali > 0.07 and ( (_opfilter_pe_beam > 0 and _opfilter_pe_veto < 20) or bnbdata == 1 or extdata == 1) and n_showers_contained == 1 and CosmicIPAll3D > 10. and CosmicDirAll3D > -0.9 and CosmicDirAll3D < 0.9 and shrmoliereavg < 15 and subcluster > 4 and trkfit < 0.65 and secondshower_Y_nhit < 50 and shr_trk_sce_start_y > -100 and shr_trk_sce_start_y < 80 and shr_trk_sce_end_y > -100 and shr_trk_sce_end_y < 100  and shr_trk_len < 300. and (n_tracks_tot == 0 or (n_tracks_tot>0 and tk1sh1_angle_alltk>-0.9)) and bkg_score >0.72 and n_tracks_contained == 0 and (n_tracks_tot == 0 or (n_tracks_tot>0 and tk1sh1_angle_alltk>-0.9))\n"
     ]
    },
    {
     "data": {
      "image/png": "[encoded data removed]",
      "text/plain": [
       "<Figure size 640x480 with 1 Axes>"
      ]
     },
     "metadata": {},
     "output_type": "display_data"
    }
   ],
   "source": [
    "import matplotlib.pyplot as plt\n",
    "import numpy as np\n",
    "import unblinding_far_sideband as ufs\n",
    "\n",
    "preselection = ufs.preselection_categories[\"ZP\"]['query']\n",
    "sel = ufs.selection_categories[\"ZPBDT\"]['query']\n",
    "print(sel)\n",
    "\n",
    "sel_df={}\n",
    "for variation in dl.detector_variations: \n",
    "    sel_df[variation] = rundata[variation][\"nue\"].query(sel)\n",
    "    plt.hist(sel_df[\"reco_e\"], bins=np.linspace(0,2.0,20),histtype=u'step')\n",
    "\n",
    "cv= plt.hist(sel_cv[\"reco_e\"], bins=np.linspace(0,2.0,20),histtype=u'step')\n",
    "lydown = plt.hist(sel_wiremodx[\"reco_e\"], bins=np.linspace(0,2.0, 20),histtype=u'step')\n",
    "plt.show()"
   ]
  },
  {
   "cell_type": "code",
   "execution_count": null,
   "metadata": {},
   "outputs": [],
   "source": [
    "reload(hist)\n",
    "reload(rp)\n",
    "\n",
    "selection = \"NUMU\"\n",
    "preselection = \"NUMU\"\n",
    "\n",
    "plotter_numu = rp.Plotter(rundata_numu, selection, preselection, variable=\"neutrino_energy\", data_pot=data_pot_numu)"
   ]
  },
  {
   "cell_type": "code",
   "execution_count": null,
   "metadata": {},
   "outputs": [],
   "source": [
    "plotter_numu.plot(category_column=\"paper_category\", include_multisim_errors=False, add_ext_error_floor=False, scale_to_pot=None)"
   ]
  },
  {
   "cell_type": "code",
   "execution_count": null,
   "metadata": {},
   "outputs": [],
   "source": [
    "mc_hist = plotter_numu.get_mc_hist(include_multisim_errors=True)"
   ]
  },
  {
   "cell_type": "code",
   "execution_count": null,
   "metadata": {},
   "outputs": [],
   "source": [
    "data_hist = plotter_numu.get_data_hist()"
   ]
  },
  {
   "cell_type": "code",
   "execution_count": null,
   "metadata": {},
   "outputs": [],
   "source": [
    "ax = plotter_numu.plot_hist(data_hist / mc_hist, color=\"k\")\n",
    "ax.axhline(y=1, color=\"k\", linestyle=\"--\")"
   ]
  },
  {
   "cell_type": "code",
   "execution_count": null,
   "metadata": {},
   "outputs": [],
   "source": [
    "reload(dl)\n",
    "RUN = 1\n",
    "rundata, mc_weights, data_pot = dl.load_run(\n",
    "    RUN,\n",
    "    \"bnb\",\n",
    "    truth_filtered_sets=[\"nue\"],\n",
    "    loadpi0variables=True,\n",
    "    loadshowervariables=True,\n",
    "    loadrecoveryvars=True,\n",
    "    loadsystematics=True,\n",
    "    load_lee=True,\n",
    ")"
   ]
  },
  {
   "cell_type": "code",
   "execution_count": null,
   "metadata": {},
   "outputs": [],
   "source": [
    "reload(hist)\n",
    "reload(rp)\n",
    "\n",
    "selection = \"NPL\"\n",
    "preselection = \"NP\"\n",
    "\n",
    "plotter = rp.Plotter(rundata, selection, preselection, variable=\"reco_e\", data_pot=data_pot, sideband_generator=plotter_numu)"
   ]
  },
  {
   "cell_type": "code",
   "execution_count": null,
   "metadata": {},
   "outputs": [],
   "source": [
    "plotter.plot(category_column=\"paper_category\", include_multisim_errors=True, add_ext_error_floor=False, scale_to_pot=None, use_sideband=True)"
   ]
  },
  {
   "cell_type": "code",
   "execution_count": null,
   "metadata": {},
   "outputs": [],
   "source": [
    "plotter.plot(category_column=\"paper_category\", include_multisim_errors=True, add_ext_error_floor=False, scale_to_pot=None, use_sideband=False)"
   ]
  },
  {
   "cell_type": "code",
   "execution_count": null,
   "metadata": {},
   "outputs": [],
   "source": [
    "tot_mc_hist = plotter.get_mc_hist(include_multisim_errors=True)\n",
    "ext_hist = plotter.get_data_hist(type=\"ext\", add_error_floor=False)\n",
    "total_pred_hist = tot_mc_hist + ext_hist\n",
    "total_pred_hist.label = \"total\"\n",
    "total_pred_hist.tex_string = \"Total Pred.\""
   ]
  },
  {
   "cell_type": "code",
   "execution_count": null,
   "metadata": {},
   "outputs": [],
   "source": [
    "# plot a heatmap of the correlation matrix\n",
    "import numpy as np\n",
    "corr_mat = total_pred_hist.corr_matrix\n",
    "fig, ax = plt.subplots(figsize=(5, 4), constrained_layout=True)\n",
    "bin_centers = total_pred_hist.bin_centers\n",
    "X, Y = np.meshgrid(bin_centers, bin_centers)\n",
    "pc = ax.pcolormesh(X, Y, corr_mat.T, cmap=\"RdBu\", vmin=-1, vmax=1)\n",
    "ax.set_xlabel(plotter.xtit)\n",
    "ax.set_ylabel(plotter.xtit)\n",
    "ax.set_title(\"Correlation matrix\")\n",
    "cbar = fig.colorbar(pc, ax=ax)\n",
    "# set label for colorbar\n",
    "cbar.set_label(\"Correlation coefficient\")\n",
    "plt.show()\n"
   ]
  },
  {
   "cell_type": "code",
   "execution_count": null,
   "metadata": {},
   "outputs": [],
   "source": [
    "ax = plotter.plot_hist(total_pred_hist)\n",
    "\n",
    "for i in range(100):\n",
    "    fluct_hist = total_pred_hist.fluctuate()\n",
    "    ax = plotter.plot_hist(fluct_hist, ax=ax, color=\"k\", lw=0.5, alpha=0.4, show_errorband=False)\n",
    "plt.show()"
   ]
  },
  {
   "cell_type": "code",
   "execution_count": null,
   "metadata": {},
   "outputs": [],
   "source": [
    "ax = plotter.plot_hist(total_pred_hist)\n",
    "\n",
    "for i in range(4):\n",
    "    fluct_hist = total_pred_hist.fluctuate_poisson()\n",
    "    ax = plotter.plot_hist(fluct_hist, ax=ax, as_errorbars=True)"
   ]
  },
  {
   "cell_type": "code",
   "execution_count": null,
   "metadata": {},
   "outputs": [],
   "source": [
    "# make a dictionary rundata_h0 that does not include the LEE\n",
    "\n",
    "# rundata is a dictionary of dataframes, make a new dict excluding the \"lee\" key\n",
    "rundata_h0 = {key: rundata[key] for key in rundata.keys() if key != \"lee\"}\n",
    "plotter_h0 = rp.Plotter(rundata_h0, selection, preselection, variable=\"reco_e\")\n",
    "plotter_h0.plot(category_column=\"paper_category\", include_multisim_errors=False, add_ext_error_floor=False)"
   ]
  },
  {
   "cell_type": "code",
   "execution_count": null,
   "metadata": {},
   "outputs": [],
   "source": [
    "def test_statistic(observed_hist, hist_h0, hist_h1):\n",
    "    \"\"\"Compute the test statistic for the given observed data and hypotheses.\"\"\"\n",
    "\n",
    "    n = observed_hist.nominal_values\n",
    "    mu_h0 = hist_h0.nominal_values\n",
    "    mu_h1 = hist_h1.nominal_values\n",
    "\n",
    "    syst_covar = hist_h0.cov_matrix\n",
    "    # we need to mask off bins where the prediction is empty, otherwise\n",
    "    # the covariance matrix will be singular\n",
    "    syst_covar = syst_covar[np.ix_(mu_h0 > 0, mu_h0 > 0)]\n",
    "    mu_h1 = mu_h1[mu_h0 > 0]\n",
    "    n = n[mu_h0 > 0]\n",
    "    mu_h0 = mu_h0[mu_h0 > 0]\n",
    "    \n",
    "    # this covariance matrix approximates the Poisson uncertainty\n",
    "    # The equation listed in the Technote is \n",
    "    #     np.diag(3 / (1 / n + 2 / mu_h0))\n",
    "    # but this leads to a division by zero when n = 0.\n",
    "    # Rearrange the equation to avoid this gives\n",
    "    #     np.diag(3 * n * mu_h0 / (mu_h0 + 2 * n))\n",
    "    stat_covar = np.diag(3 * n * mu_h0 / (mu_h0 + 2 * n))\n",
    "    total_covar = syst_covar + stat_covar\n",
    "    covar_inv = np.linalg.inv(total_covar)\n",
    "    chi2_h0 = np.dot(n - mu_h0, np.dot(covar_inv, n - mu_h0))\n",
    "    chi2_h1 = np.dot(n - mu_h1, np.dot(covar_inv, n - mu_h1))\n",
    "\n",
    "    return chi2_h0 - chi2_h1"
   ]
  },
  {
   "cell_type": "code",
   "execution_count": null,
   "metadata": {},
   "outputs": [],
   "source": [
    "# the prediction for H1\n",
    "tot_mc_hist = plotter.get_mc_hist(include_multisim_errors=True)\n",
    "ext_hist = plotter.get_data_hist(type=\"ext\", add_error_floor=False)\n",
    "total_pred_hist_h1 = tot_mc_hist + ext_hist\n",
    "total_pred_hist_h1.label = \"total_h1\"\n",
    "total_pred_hist_h1.tex_string = \"H1 Pred.\"\n",
    "\n",
    "# the prediction for H0\n",
    "tot_mc_hist_h0 = plotter_h0.get_mc_hist(include_multisim_errors=True)\n",
    "# the EXT hist is the same\n",
    "total_pred_hist_h0 = tot_mc_hist_h0 + ext_hist\n",
    "total_pred_hist_h0.label = \"total_h0\"\n",
    "total_pred_hist_h0.tex_string = \"H0 Pred.\"\n"
   ]
  },
  {
   "cell_type": "code",
   "execution_count": null,
   "metadata": {},
   "outputs": [],
   "source": [
    "# create pseudo-data under H0 and calculate test statistic\n",
    "\n",
    "test_stat_h0 = []\n",
    "test_stat_h1 = []\n",
    "for i in range(10000):\n",
    "    observed_h0 = total_pred_hist_h0.fluctuate_poisson(seed=2*i)\n",
    "    observed_h1 = total_pred_hist_h1.fluctuate_poisson(seed=2*i+1)  # different seed to avoid correlation\n",
    "\n",
    "    test_stat_h0.append(test_statistic(observed_h0, total_pred_hist_h0, total_pred_hist_h1))\n",
    "    test_stat_h1.append(test_statistic(observed_h1, total_pred_hist_h0, total_pred_hist_h1))"
   ]
  },
  {
   "cell_type": "code",
   "execution_count": null,
   "metadata": {},
   "outputs": [],
   "source": [
    "fig, ax = plt.subplots()\n",
    "ax.hist(test_stat_h1, bins=80, label=\"H1\", histtype=\"step\", density=True)\n",
    "ax.hist(test_stat_h0, bins=80, label=\"H0\", histtype=\"step\", density=True)\n",
    "ax.set_xlabel(r\"$\\Delta \\chi^2 = \\chi^2_\\mathrm{H0} - \\chi^2_\\mathrm{H1}$\")\n",
    "ax.set_ylabel(\"Probability density\")\n",
    "ax.legend()\n",
    "plt.show()"
   ]
  },
  {
   "cell_type": "code",
   "execution_count": null,
   "metadata": {},
   "outputs": [],
   "source": []
  }
 ],
 "metadata": {
  "kernelspec": {
   "display_name": "Python 3 (ipykernel)",
   "language": "python",
   "name": "python3"
  },
  "language_info": {
   "codemirror_mode": {
    "name": "ipython",
    "version": 3
   },
   "file_extension": ".py",
   "mimetype": "text/x-python",
   "name": "python",
   "nbconvert_exporter": "python",
   "pygments_lexer": "ipython3",
   "version": "3.7.12"
  }
 },
 "nbformat": 4,
 "nbformat_minor": 2
}
