{
 "cells": [
  {
   "cell_type": "markdown",
   "metadata": {},
   "source": [
    "# Unified Plotting"
   ]
  },
  {
   "cell_type": "code",
   "execution_count": 1,
   "metadata": {},
   "outputs": [],
   "source": [
    "%load_ext autoreload\n",
    "%autoreload 2\n",
    "import sys\n",
    "sys.path.append(\"../../../old_notebooks\")\n",
    "sys.path.append(\"../../../\")"
   ]
  },
  {
   "cell_type": "code",
   "execution_count": 2,
   "metadata": {},
   "outputs": [],
   "source": [
    "pi0scaling = {\"val\": 0, \"suffix\": \"\", \"title\": \"No pi0 Scaling\"} #no scaling\n",
    "#pi0scaling = {\"val\": 1, \"suffix\": \"_pi0flat\", \"title\": \"0.759 pi0 Scaling\"} #flat scaling\n",
    "#pi0scaling = {\"val\": 2, \"suffix\": \"_pi0e040\", \"title\": r\"$\\pi^0$ scaling: [$1 - 0.40 \\times E_\\pi$]\"} #energy-dependent\n"
   ]
  },
  {
   "cell_type": "code",
   "execution_count": 3,
   "metadata": {},
   "outputs": [],
   "source": [
    "from matplotlib import pyplot as plt\n",
    "\n",
    "params = {\n",
    "    'axes.labelsize': 'x-large',\n",
    "    'axes.titlesize': 'x-large',\n",
    "    'xtick.labelsize': 'x-large',\n",
    "    'ytick.labelsize': 'x-large'\n",
    "}\n",
    "plt.rcParams.update(params)\n",
    "\n",
    "from load_data_run123 import *\n",
    "from unblinding_far_sideband import *"
   ]
  },
  {
   "cell_type": "code",
   "execution_count": 4,
   "metadata": {},
   "outputs": [
    {
     "name": "stdout",
     "output_type": "stream",
     "text": [
      "/uboone/app/users/cthorpe/RefactoredPELEE/\n",
      "/uboone/data/users/cthorpe/PELEE/\n"
     ]
    }
   ],
   "source": [
    "import sys\n",
    "import localSettings as ls\n",
    "print(ls.main_path)\n",
    "print(ls.ntuple_path)\n",
    "main_path = ls.main_path\n",
    "sys.path.append(main_path)"
   ]
  },
  {
   "cell_type": "code",
   "execution_count": 5,
   "metadata": {},
   "outputs": [],
   "source": [
    "import scipy.stats"
   ]
  },
  {
   "cell_type": "code",
   "execution_count": 6,
   "metadata": {},
   "outputs": [],
   "source": [
    "#which_sideband = ['np_far'       ,\"farsideband\"] # far-sideband 1eNp datasets\n",
    "#which_sideband = ['0p_far'       ,\"farsideband\"] # far-sideband 1eNp datasets\n",
    "#which_sideband = ['numu',\"numu\"] # numu NTuples [v41]\n",
    "#which_sideband = ['2plus_showers',\"farsideband\"] # far-sideband 2+ shower datasets\n",
    "#which_sideband = ['np_sb_comb',\"farsideband\"] # combined far-sideband 1eNp and 2+ shower datasets\n",
    "#which_sideband = ['opendata'     ,'opendata']    # open datasets (5e19 / 1e19)\n",
    "#which_sideband = ['opendata'     ,'fakeset1']    # set1 fake dataset\n",
    "which_sideband = ['fulldata'     ,'fulldata']    # full data\n",
    "#which_sideband = ['run4opendata','run4opendata']\n",
    "#which_sideband = ['fulldatawrun4open','fulldatawrun4open']\n",
    "data_to_load=[1,2,3]\n",
    "DrawData = False"
   ]
  },
  {
   "cell_type": "code",
   "execution_count": null,
   "metadata": {
    "scrolled": false
   },
   "outputs": [
    {
     "name": "stdout",
     "output_type": "stream",
     "text": [
      "Getting Variables!\n",
      "loading data and mc from runs [1, 2, 3]\n",
      "Loading uproot files\n",
      "Loading run 3 uproots!!\n",
      "Done loading run 3 uproots\n",
      "Loading run 2 uproots!!\n",
      "Done loading run 2 uproots\n",
      "Loading run 1 uproots!!\n",
      "Done loading run 1 uproots\n",
      "Loading Run3 dataframes\n"
     ]
    },
    {
     "name": "stderr",
     "output_type": "stream",
     "text": [
      "/uboone/app/users/cthorpe/Mambaforge/envs/python3LEE/lib/python3.7/site-packages/awkward/array/jagged.py:1043: RuntimeWarning: overflow encountered in power\n",
      "  result = getattr(ufunc, method)(*inputs, **kwargs)\n",
      "../../../old_notebooks/load_data_run123.py:264: RuntimeWarning: invalid value encountered in true_divide\n",
      "  df['proton_pz'] = np.where((mc_E_prot>0),mc_pz_prot/mc_p_prot,-9999.)\n"
     ]
    }
   ],
   "source": [
    "samples = load_data_run123(which_sideband=which_sideband[0],\n",
    "                           return_plotter=False,\n",
    "                           pi0scaling=pi0scaling[\"val\"],\n",
    "                           loadpi0variables=True,\n",
    "                           loadtruthfilters=False,\n",
    "                           loadshowervariables=True,\n",
    "                           loadnumuntuples=True,\n",
    "                           loadnumuvariables=True,\n",
    "                           loadfakedata=0,\n",
    "                           USEBDT=True,\n",
    "                           loadsystematics=True,\n",
    "                           loadrecoveryvars=True,\n",
    "                           runs_to_load=data_to_load)"
   ]
  },
  {
   "cell_type": "code",
   "execution_count": null,
   "metadata": {
    "scrolled": true
   },
   "outputs": [],
   "source": [
    "import plotter\n",
    "import unblinding_far_sideband\n",
    "import importlib\n",
    "importlib.reload(plotter)\n",
    "importlib.reload(unblinding_far_sideband)"
   ]
  },
  {
   "cell_type": "code",
   "execution_count": null,
   "metadata": {
    "scrolled": false
   },
   "outputs": [],
   "source": [
    "plotter_runbyrun = {}\n",
    "for run in [123]:#, 2, 3, 123, 12,4,1234]:\n",
    "    print(run)\n",
    "    this_weights, this_pot = get_weights(run,dataset=which_sideband[1])\n",
    "    plotter_runbyrun[run] = plotter.Plotter(samples, this_weights, pot=this_pot)\n",
    "    if (run==123): print(this_weights)"
   ]
  },
  {
   "cell_type": "code",
   "execution_count": null,
   "metadata": {},
   "outputs": [],
   "source": [
    "TRAINVAR = [\"shr_score\",\"tksh_distance\",\"tksh_angle\",\n",
    "            \"shr_tkfit_dedx_max\",\n",
    "            \"trkfit\",\"trkpid\",\n",
    "            \"subcluster\",\"shrmoliereavg\",\n",
    "            \"trkshrhitdist2\",\"hits_ratio\",\n",
    "            \"secondshower_Y_nhit\",\"secondshower_Y_vtxdist\",\"secondshower_Y_dot\",\"anglediff_Y\",\n",
    "            \"CosmicIPAll3D\",\"CosmicDirAll3D\"]\n",
    "\n",
    "pvaluetypes = ['pvalue','pvaluediag','pvaluestatonly']"
   ]
  },
  {
   "cell_type": "code",
   "execution_count": null,
   "metadata": {},
   "outputs": [],
   "source": [
    "#DETSYS = {'mc':True,'nue':True,'ccpi0':True,'ncpi0':True,'dirt':True,\\\n",
    "#          'ncnopi':True,'nccpi':True,'ncpi0':True,'ccpi0':True}\n",
    "\n",
    "DETSYS = {'mc':False,'nue':False,'ccpi0':False,'ncpi0':False,'dirt':False,\\\n",
    "          'ncnopi':False,'nccpi':False,'ncpi0':False,'ccpi0':False}"
   ]
  },
  {
   "cell_type": "code",
   "execution_count": null,
   "metadata": {
    "scrolled": false
   },
   "outputs": [],
   "source": [
    "from unblinding_far_sideband import *\n",
    "from microfit import variable_definitions as vdef    \n",
    "\n",
    "# choose sideband, preselection, and selection\n",
    "# find defintions in unblinding_far_sideband.py\n",
    "sdb_key = 'None' #'None'\n",
    "pre_key = 'NUMU'\n",
    "sel_key = 'NUMU'\n",
    "run = 123\n",
    "#variables = vdef.vtx_variables\n",
    "variables = vdef.energy_variables\n",
    "\n",
    "sideband = sideband_categories[sdb_key]\n",
    "preselection = preselection_categories[pre_key]\n",
    "sel =  selection_categories[sel_key]\n",
    "\n",
    "DETSYSPATH = ls.ntuple_path+'/detsys/{}_{}_{}/'.format(sideband['dir'], preselection['dir'], sel['dir'])\n",
    "\n",
    "QUERY = \"\"\n",
    "for query in [sideband['query'],preselection['query'],sel['query']]:\n",
    "    if query is None: continue\n",
    "    if QUERY: QUERY += ' and '\n",
    "    QUERY += query\n",
    "#    if run in [1, 2, 3, 12,4]:\n",
    "#        QUERY += f' and run{run}==True'\n",
    "        \n",
    "#formatting can be improved..\n",
    "TITLE = \"\"\n",
    "for text in [f'Run {run}',' - ',sideband['title'],' - ',preselection['title'],'\\n',sel['title'],' - ',pi0scaling[\"title\"]]:\n",
    "    if text is None: continue\n",
    "    TITLE += text\n",
    "\n",
    "        \n",
    "for binning_def in variables:    \n",
    "    \n",
    "    VARIABLE, BINS, RANGE, XTIT = binning_def[0],binning_def[1],binning_def[2],binning_def[3]\n",
    "    \n",
    "    fig, ax1, ax2 = plotter_runbyrun[run].plot_variable(\n",
    "        VARIABLE,   \n",
    "        query=QUERY,\n",
    "        kind=\"event_category\",\n",
    "        #kind=\"paper_category\",\n",
    "        draw_sys=True,\n",
    "        detsysdict=DETSYS,\n",
    "        DETSYSPATH=DETSYSPATH,\n",
    "        COVMATRIX=\"\",#'cov_matrix_Enu_reco_1eNp.txt',\n",
    "        ratio=False,\n",
    "        stacksort=3,\n",
    "        title=XTIT,\n",
    "        bins=BINS,\n",
    "        range=RANGE,\n",
    "        chisq=True,\n",
    "        draw_data=True\n",
    "        #asymErrs=True\n",
    "    )[0:3]\n",
    "\n",
    "    ax1.set_title(TITLE, loc='left')\n",
    "    ax1.set_ylim(0., ax1.get_ylim()[1]*2.3)\n",
    "\n",
    "    plt.tight_layout()\n",
    "\n",
    "    # fix position of chi2 wrt legend\n",
    "    plt.draw()\n",
    "    legleft = (ax1.get_legend().get_window_extent().x0 < 100)\n",
    "    if legleft:\n",
    "        for a in ax1.get_children(): \n",
    "            if len(a.findobj(match=plt.Text))==0: continue\n",
    "            txt = a.findobj(match=plt.Text)[0]\n",
    "            if 'n.d.f.' not in txt.get_text(): continue\n",
    "            #print(txt.get_text())\n",
    "            txt.set_x(0.80)\n",
    "    # END - fix position of chi2 wrt legend\n",
    "\n",
    "    fig.show()"
   ]
  },
  {
   "cell_type": "code",
   "execution_count": null,
   "metadata": {},
   "outputs": [],
   "source": []
  },
  {
   "cell_type": "code",
   "execution_count": null,
   "metadata": {},
   "outputs": [],
   "source": []
  }
 ],
 "metadata": {
  "accelerator": "GPU",
  "colab": {
   "name": "Plotter.ipynb",
   "provenance": [],
   "version": "0.3.2"
  },
  "kernelspec": {
   "display_name": "Python 3 (ipykernel)",
   "language": "python",
   "name": "python3"
  },
  "language_info": {
   "codemirror_mode": {
    "name": "ipython",
    "version": 3
   },
   "file_extension": ".py",
   "mimetype": "text/x-python",
   "name": "python",
   "nbconvert_exporter": "python",
   "pygments_lexer": "ipython3",
   "version": "3.7.12"
  }
 },
 "nbformat": 4,
 "nbformat_minor": 4
}
